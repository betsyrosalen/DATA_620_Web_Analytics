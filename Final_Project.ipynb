{
 "cells": [
  {
   "cell_type": "markdown",
   "metadata": {},
   "source": [
    "# CUNY SPS MSDS – DATA 620 Final Project – Recipe Analysis"
   ]
  },
  {
   "cell_type": "markdown",
   "metadata": {},
   "source": [
    "### Betsy Rosalen and Mikhail Groysman"
   ]
  },
  {
   "cell_type": "markdown",
   "metadata": {},
   "source": [
    "## Project Overview\n"
   ]
  },
  {
   "cell_type": "markdown",
   "metadata": {},
   "source": [
    "### Final Project \n",
    "\n",
    "Your project should incorporate one or both of the two main themes of this course: network analysis and text processing. You need to show all of your work in a coherent workflow, and in a reproducible format, such as an IPython Notebook or an R Markdown document. If you are building a model or models, explain how you evaluate the “goodness” of the chosen model and parameters. \n",
    "\n",
    "### Final Project Presentation \n",
    "\n",
    "We’ll schedule a short presentation for each team, either in our last scheduled meet-up or in additional office hours to be scheduled during the last week of classes.\n",
    "\n",
    "### Policy on Collaboration \n",
    "\n",
    "You may work in a team of up to three people. Each project team member is responsible for understanding and being able to explain all of the submitted project code. Remember that you can take work that you find elsewhere as a base to build on, but you need to acknowledge the source, so that I base your grade on what you contributed, not on what you started with!"
   ]
  },
  {
   "cell_type": "markdown",
   "metadata": {},
   "source": [
    "## Recipe ingredients data"
   ]
  },
  {
   "cell_type": "markdown",
   "metadata": {},
   "source": [
    "We chose a dataset that we found on the [Data Is Plural — Structured Archive](https://docs.google.com/spreadsheets/d/1wZhPLMCHKJvwOkP4juclhjFgqIY8fQFMemwKL2c64vk/edit#gid=0) that conists of 56,498 recipes from various cuisines that were scraped from 3 popular recipe websites.\n",
    "\n",
    "__Description from Data Is Plural__\n",
    "\n",
    "> For their 2011 paper, “Flavor network and the principles of food pairing,” four scientists analyzed 56,498 recipes downloaded from three websites — allrecipes.com, epicurious.com, and menupan.com. To support their findings, the authors published two datasets. One names the cuisine and ingredients for each recipe. The other dataset counts how often any two ingredients appeared in the same recipe. (Parmesan cheese and beef appeared together 93 times; starfruit and Algerian geranium oil just once.) Related: “food2vec – Augmented cooking with machine intelligence,” published last month. [h/t Rob Barry](http://rob-barry.com/).\n",
    "\n",
    "The __original research article__, Flavor network and the principles of food pairing, can be found here: __[Flavor network and the principles of food pairing](http://www.nature.com/articles/srep00196)__  \n",
    "The __additional related article__ cited above can be found here: __[food2vec – Augmented cooking with machine intelligence](https://jaan.io/food2vec-augmented-cooking-machine-intelligence)__  \n",
    "\n",
    "__The data__ is easily downloaded in CSV format from the __[Electronic supplementary material](https://www.nature.com/articles/srep00196#Sec8)__ section of the Flavor network and the principles of food pairing research paper webpage.\n",
    "\n",
    "__The data downloads consist of the following two files:__\n",
    "\n",
    "- srep00196-s2.csv - counts of how many flavour compounds any two ingredients share\n",
    "- srep00196-s3.csv - one record per recipe with the ingredients listed in columns\n",
    "\n",
    "__Structure of the srep00196-s2 dataset:__\n",
    "\n",
    "- The paired ingredients are listed one each in the first two columns and the count of the number of times that pair of ingredients are found in the same recipe in all recipes across all cuisines in the dataset is in the third column. We decided not to use this dataset, since we opted instead to create our own counts grouped by cuisine from the other file. Information about the cuisines for each pairing are not available in this file.  \n",
    "\n",
    "- Additionally, there is some confusion about what this data actually represents since a different source, [Recipes for learning](https://www.visibledata.co.uk/blog/2018/02/18/2018-02-18-recipes-for-learning/), suggested that the third column in fact represents the number of flavor compaunds that the two ingredients share.  As a result we decided not to use this data and to create our own list of common pairs of ingredients from the other file.\n",
    "\n",
    "__Structure of the srep00196-s3 dataset:__\n",
    "\n",
    "- The type of cuisine is listed in the first column with the remaining columns containing one ingredient per column. There are 32 additional columns in the file, so the maximum number of ingredients for any one recipe is 32.\n",
    "    - The cuisine categories include:\n",
    "        - African\n",
    "        - EastAsian\n",
    "        - EasternEuropean\n",
    "        - LatinAmerican\n",
    "        - MiddleEastern\n",
    "        - NorthAmerican\n",
    "        - NorthernEuropean\n",
    "        - SouthAsian\n",
    "        - SoutheastAsian\n",
    "        - SouthernEuropean\n",
    "        - WesternEuropean\n",
    "\n",
    "Significant data manipulation was necessary to reshape and analyze this dataset both as a text and as a network.  "
   ]
  },
  {
   "cell_type": "markdown",
   "metadata": {},
   "source": [
    "## Loading Libraries"
   ]
  },
  {
   "cell_type": "code",
   "execution_count": 1,
   "metadata": {},
   "outputs": [],
   "source": [
    "import pandas as pd\n",
    "import numpy as np\n",
    "\n",
    "import nltk\n",
    "from nltk.corpus.reader import CategorizedPlaintextCorpusReader\n",
    "from nltk.tokenize import word_tokenize\n",
    "\n",
    "import networkx as nx\n",
    "from networkx.algorithms import bipartite as bi\n",
    "\n",
    "from scipy import stats\n",
    "import math\n",
    "import random\n",
    "random.seed(250)\n",
    "\n",
    "import matplotlib.pyplot as plt\n",
    "%matplotlib inline\n",
    "\n",
    "# jupyter setup\n",
    "from IPython.core.interactiveshell import InteractiveShell\n",
    "InteractiveShell.ast_node_interactivity = \"all\"\n",
    "pd.set_option('display.max_rows', 500)\n",
    "plt.rcParams[\"figure.figsize\"] = (15,12)"
   ]
  },
  {
   "cell_type": "markdown",
   "metadata": {},
   "source": [
    "## Loading Data"
   ]
  },
  {
   "cell_type": "code",
   "execution_count": 40,
   "metadata": {},
   "outputs": [
    {
     "data": {
      "text/html": [
       "<div>\n",
       "<style scoped>\n",
       "    .dataframe tbody tr th:only-of-type {\n",
       "        vertical-align: middle;\n",
       "    }\n",
       "\n",
       "    .dataframe tbody tr th {\n",
       "        vertical-align: top;\n",
       "    }\n",
       "\n",
       "    .dataframe thead th {\n",
       "        text-align: right;\n",
       "    }\n",
       "</style>\n",
       "<table border=\"1\" class=\"dataframe\">\n",
       "  <thead>\n",
       "    <tr style=\"text-align: right;\">\n",
       "      <th></th>\n",
       "      <th>Cuisine</th>\n",
       "      <th>ingred1</th>\n",
       "      <th>ingred2</th>\n",
       "      <th>ingred3</th>\n",
       "      <th>ingred4</th>\n",
       "      <th>ingred5</th>\n",
       "      <th>ingred6</th>\n",
       "      <th>ingred7</th>\n",
       "      <th>ingred8</th>\n",
       "      <th>ingred9</th>\n",
       "      <th>...</th>\n",
       "      <th>ingred23</th>\n",
       "      <th>ingred24</th>\n",
       "      <th>ingred25</th>\n",
       "      <th>ingred26</th>\n",
       "      <th>ingred27</th>\n",
       "      <th>ingred28</th>\n",
       "      <th>ingred29</th>\n",
       "      <th>ingred30</th>\n",
       "      <th>ingred31</th>\n",
       "      <th>ingred32</th>\n",
       "    </tr>\n",
       "  </thead>\n",
       "  <tbody>\n",
       "    <tr>\n",
       "      <td>0</td>\n",
       "      <td>African</td>\n",
       "      <td>chicken</td>\n",
       "      <td>cinnamon</td>\n",
       "      <td>soy_sauce</td>\n",
       "      <td>onion</td>\n",
       "      <td>ginger</td>\n",
       "      <td>NaN</td>\n",
       "      <td>NaN</td>\n",
       "      <td>NaN</td>\n",
       "      <td>NaN</td>\n",
       "      <td>...</td>\n",
       "      <td>NaN</td>\n",
       "      <td>NaN</td>\n",
       "      <td>NaN</td>\n",
       "      <td>NaN</td>\n",
       "      <td>NaN</td>\n",
       "      <td>NaN</td>\n",
       "      <td>NaN</td>\n",
       "      <td>NaN</td>\n",
       "      <td>NaN</td>\n",
       "      <td>NaN</td>\n",
       "    </tr>\n",
       "    <tr>\n",
       "      <td>1</td>\n",
       "      <td>African</td>\n",
       "      <td>cane_molasses</td>\n",
       "      <td>ginger</td>\n",
       "      <td>cumin</td>\n",
       "      <td>garlic</td>\n",
       "      <td>tamarind</td>\n",
       "      <td>bread</td>\n",
       "      <td>coriander</td>\n",
       "      <td>vinegar</td>\n",
       "      <td>onion</td>\n",
       "      <td>...</td>\n",
       "      <td>NaN</td>\n",
       "      <td>NaN</td>\n",
       "      <td>NaN</td>\n",
       "      <td>NaN</td>\n",
       "      <td>NaN</td>\n",
       "      <td>NaN</td>\n",
       "      <td>NaN</td>\n",
       "      <td>NaN</td>\n",
       "      <td>NaN</td>\n",
       "      <td>NaN</td>\n",
       "    </tr>\n",
       "    <tr>\n",
       "      <td>2</td>\n",
       "      <td>African</td>\n",
       "      <td>butter</td>\n",
       "      <td>pepper</td>\n",
       "      <td>onion</td>\n",
       "      <td>cardamom</td>\n",
       "      <td>cayenne</td>\n",
       "      <td>ginger</td>\n",
       "      <td>cottage_cheese</td>\n",
       "      <td>garlic</td>\n",
       "      <td>brassica</td>\n",
       "      <td>...</td>\n",
       "      <td>NaN</td>\n",
       "      <td>NaN</td>\n",
       "      <td>NaN</td>\n",
       "      <td>NaN</td>\n",
       "      <td>NaN</td>\n",
       "      <td>NaN</td>\n",
       "      <td>NaN</td>\n",
       "      <td>NaN</td>\n",
       "      <td>NaN</td>\n",
       "      <td>NaN</td>\n",
       "    </tr>\n",
       "    <tr>\n",
       "      <td>3</td>\n",
       "      <td>African</td>\n",
       "      <td>olive_oil</td>\n",
       "      <td>pepper</td>\n",
       "      <td>wheat</td>\n",
       "      <td>beef</td>\n",
       "      <td>onion</td>\n",
       "      <td>cardamom</td>\n",
       "      <td>cumin</td>\n",
       "      <td>garlic</td>\n",
       "      <td>rice</td>\n",
       "      <td>...</td>\n",
       "      <td>NaN</td>\n",
       "      <td>NaN</td>\n",
       "      <td>NaN</td>\n",
       "      <td>NaN</td>\n",
       "      <td>NaN</td>\n",
       "      <td>NaN</td>\n",
       "      <td>NaN</td>\n",
       "      <td>NaN</td>\n",
       "      <td>NaN</td>\n",
       "      <td>NaN</td>\n",
       "    </tr>\n",
       "    <tr>\n",
       "      <td>4</td>\n",
       "      <td>African</td>\n",
       "      <td>honey</td>\n",
       "      <td>wheat</td>\n",
       "      <td>yeast</td>\n",
       "      <td>NaN</td>\n",
       "      <td>NaN</td>\n",
       "      <td>NaN</td>\n",
       "      <td>NaN</td>\n",
       "      <td>NaN</td>\n",
       "      <td>NaN</td>\n",
       "      <td>...</td>\n",
       "      <td>NaN</td>\n",
       "      <td>NaN</td>\n",
       "      <td>NaN</td>\n",
       "      <td>NaN</td>\n",
       "      <td>NaN</td>\n",
       "      <td>NaN</td>\n",
       "      <td>NaN</td>\n",
       "      <td>NaN</td>\n",
       "      <td>NaN</td>\n",
       "      <td>NaN</td>\n",
       "    </tr>\n",
       "  </tbody>\n",
       "</table>\n",
       "<p>5 rows × 33 columns</p>\n",
       "</div>"
      ],
      "text/plain": [
       "   Cuisine        ingred1   ingred2    ingred3   ingred4   ingred5   ingred6  \\\n",
       "0  African        chicken  cinnamon  soy_sauce     onion    ginger       NaN   \n",
       "1  African  cane_molasses    ginger      cumin    garlic  tamarind     bread   \n",
       "2  African         butter    pepper      onion  cardamom   cayenne    ginger   \n",
       "3  African      olive_oil    pepper      wheat      beef     onion  cardamom   \n",
       "4  African          honey     wheat      yeast       NaN       NaN       NaN   \n",
       "\n",
       "          ingred7  ingred8   ingred9  ... ingred23 ingred24 ingred25 ingred26  \\\n",
       "0             NaN      NaN       NaN  ...      NaN      NaN      NaN      NaN   \n",
       "1       coriander  vinegar     onion  ...      NaN      NaN      NaN      NaN   \n",
       "2  cottage_cheese   garlic  brassica  ...      NaN      NaN      NaN      NaN   \n",
       "3           cumin   garlic      rice  ...      NaN      NaN      NaN      NaN   \n",
       "4             NaN      NaN       NaN  ...      NaN      NaN      NaN      NaN   \n",
       "\n",
       "  ingred27 ingred28 ingred29 ingred30 ingred31 ingred32  \n",
       "0      NaN      NaN      NaN      NaN      NaN      NaN  \n",
       "1      NaN      NaN      NaN      NaN      NaN      NaN  \n",
       "2      NaN      NaN      NaN      NaN      NaN      NaN  \n",
       "3      NaN      NaN      NaN      NaN      NaN      NaN  \n",
       "4      NaN      NaN      NaN      NaN      NaN      NaN  \n",
       "\n",
       "[5 rows x 33 columns]"
      ]
     },
     "execution_count": 40,
     "metadata": {},
     "output_type": "execute_result"
    },
    {
     "name": "stdout",
     "output_type": "stream",
     "text": [
      "There are 56498 recipes with a maximum of 32 ingredients each.\n"
     ]
    }
   ],
   "source": [
    "file_name ='https://raw.githubusercontent.com/betsyrosalen/DATA_620_Web_Analytics/master/Final_Project_Data/srep00196-s3.csv'\n",
    "\n",
    "columns = ['Cuisine', 'ingred1','ingred2','ingred3','ingred4','ingred5','ingred6','ingred7','ingred8','ingred9',\n",
    "           'ingred10','ingred11','ingred12','ingred13','ingred14','ingred15','ingred16','ingred17','ingred18',\n",
    "           'ingred19','ingred20','ingred21','ingred22','ingred23','ingred24','ingred25','ingred26','ingred27',\n",
    "           'ingred28','ingred29','ingred30','ingred31','ingred32']\n",
    "\n",
    "recipes = pd.read_csv(file_name, header=None, skiprows=4, names=columns, encoding = 'utf-8',)\n",
    "\n",
    "recipes.head()\n",
    "print(\"There are \"+str(recipes.shape[0])+ \" recipes with a maximum of \"+str(recipes.shape[1]-1)+\" ingredients each.\")"
   ]
  },
  {
   "cell_type": "markdown",
   "metadata": {},
   "source": [
    "## Create a Corpus from the Data"
   ]
  },
  {
   "cell_type": "markdown",
   "metadata": {},
   "source": [
    "First we have to figure out how to get all the ingredients into one string that can be wrtten to a file to create each text in our corpus.  After some trial and error we got the following code to do what we needed."
   ]
  },
  {
   "cell_type": "code",
   "execution_count": 21,
   "metadata": {},
   "outputs": [
    {
     "name": "stdout",
     "output_type": "stream",
     "text": [
      "chicken cinnamon soy_sauce onion ginger \n",
      "cane_molasses ginger cumin garlic tamarind bread coriander vinegar onion beef cayenne parsley wheat_bread yogurt vegetable_oil egg \n",
      "butter pepper onion cardamom cayenne ginger cottage_cheese garlic brassica \n",
      "olive_oil pepper wheat beef onion cardamom cumin garlic rice leek \n",
      "honey wheat yeast \n"
     ]
    }
   ],
   "source": [
    "for index, r in recipes.head().iterrows():\n",
    "    string = \"\"\n",
    "    for col in r[1:32]:\n",
    "        if type(col) == str:\n",
    "            string = string+str(col)+\" \"\n",
    "    print(string)"
   ]
  },
  {
   "cell_type": "markdown",
   "metadata": {},
   "source": [
    "Now we can use a [function we found on StackOverflow](https://stackoverflow.com/questions/49088978/how-to-create-corpus-from-pandas-data-frame-to-operate-with-nltk/49104725) and modify it to create our corpus.  I am putting this code in a markdown cell so that it doesn't run again each time we run the notebook. Copy the code into a code cell or change the cell to a code cell to run it to create your text files if you want to reproduce this analysis."
   ]
  },
  {
   "cell_type": "markdown",
   "metadata": {},
   "source": [
    "#https://stackoverflow.com/questions/49088978/how-to-create-corpus-from-pandas-data-frame-to-operate-with-nltk/49104725\n",
    "\n",
    "```\n",
    "def CreateCorpusFromDataFrame(corpusfolder,df):\n",
    "    for index, r in df.iterrows():\n",
    "        id = 'recipe'+str(index)\n",
    "        title = 'recipe'+str(index)\n",
    "        body = \"\"\n",
    "        for col in r[1:32]:\n",
    "            if type(col) == str:\n",
    "                body = body+str(col)+\" \"\n",
    "        cuisine = r['Cuisine']\n",
    "        fname = str(cuisine)+'_'+str(id)+'.txt'\n",
    "        corpusfile = open(corpusfolder+'/'+fname,'a')\n",
    "        corpusfile.write(str(body)+\" \"+str(title))\n",
    "        corpusfile.close()\n",
    "\n",
    "CreateCorpusFromDataFrame('Final_Project_corpusfolder',recipes)\n",
    "```"
   ]
  },
  {
   "cell_type": "markdown",
   "metadata": {},
   "source": [
    "Finally we can run the following code to create our corpus in NLTK."
   ]
  },
  {
   "cell_type": "code",
   "execution_count": 29,
   "metadata": {},
   "outputs": [],
   "source": [
    "my_corpus=CategorizedPlaintextCorpusReader('Final_Project_corpusfolder/',r'.*', cat_pattern=r'(.*)_.*')"
   ]
  },
  {
   "cell_type": "code",
   "execution_count": 30,
   "metadata": {},
   "outputs": [
    {
     "data": {
      "text/plain": [
       "['.DS_Store',\n",
       " 'African_recipe0.txt',\n",
       " 'African_recipe1.txt',\n",
       " 'African_recipe10.txt',\n",
       " 'African_recipe100.txt',\n",
       " 'African_recipe101.txt',\n",
       " 'African_recipe102.txt',\n",
       " 'African_recipe103.txt',\n",
       " 'African_recipe104.txt',\n",
       " 'African_recipe105.txt',\n",
       " 'African_recipe106.txt',\n",
       " 'African_recipe107.txt',\n",
       " 'African_recipe108.txt',\n",
       " 'African_recipe109.txt',\n",
       " 'African_recipe11.txt',\n",
       " 'African_recipe110.txt',\n",
       " 'African_recipe111.txt',\n",
       " 'African_recipe112.txt',\n",
       " 'African_recipe113.txt',\n",
       " 'African_recipe114.txt',\n",
       " 'African_recipe115.txt',\n",
       " 'African_recipe116.txt',\n",
       " 'African_recipe117.txt',\n",
       " 'African_recipe118.txt',\n",
       " 'African_recipe119.txt',\n",
       " 'African_recipe12.txt',\n",
       " 'African_recipe120.txt',\n",
       " 'African_recipe121.txt',\n",
       " 'African_recipe122.txt',\n",
       " 'African_recipe123.txt',\n",
       " 'African_recipe124.txt',\n",
       " 'African_recipe125.txt',\n",
       " 'African_recipe126.txt',\n",
       " 'African_recipe127.txt',\n",
       " 'African_recipe128.txt',\n",
       " 'African_recipe129.txt',\n",
       " 'African_recipe13.txt',\n",
       " 'African_recipe130.txt',\n",
       " 'African_recipe131.txt',\n",
       " 'African_recipe132.txt',\n",
       " 'African_recipe133.txt',\n",
       " 'African_recipe134.txt',\n",
       " 'African_recipe135.txt',\n",
       " 'African_recipe136.txt',\n",
       " 'African_recipe137.txt',\n",
       " 'African_recipe138.txt',\n",
       " 'African_recipe139.txt',\n",
       " 'African_recipe14.txt',\n",
       " 'African_recipe140.txt',\n",
       " 'African_recipe141.txt',\n",
       " 'African_recipe142.txt',\n",
       " 'African_recipe143.txt',\n",
       " 'African_recipe144.txt',\n",
       " 'African_recipe145.txt',\n",
       " 'African_recipe146.txt',\n",
       " 'African_recipe147.txt',\n",
       " 'African_recipe148.txt',\n",
       " 'African_recipe149.txt',\n",
       " 'African_recipe15.txt',\n",
       " 'African_recipe150.txt',\n",
       " 'African_recipe151.txt',\n",
       " 'African_recipe152.txt',\n",
       " 'African_recipe153.txt',\n",
       " 'African_recipe154.txt',\n",
       " 'African_recipe155.txt',\n",
       " 'African_recipe156.txt',\n",
       " 'African_recipe157.txt',\n",
       " 'African_recipe158.txt',\n",
       " 'African_recipe159.txt',\n",
       " 'African_recipe16.txt',\n",
       " 'African_recipe160.txt',\n",
       " 'African_recipe161.txt',\n",
       " 'African_recipe162.txt',\n",
       " 'African_recipe163.txt',\n",
       " 'African_recipe164.txt',\n",
       " 'African_recipe165.txt',\n",
       " 'African_recipe166.txt',\n",
       " 'African_recipe167.txt',\n",
       " 'African_recipe168.txt',\n",
       " 'African_recipe169.txt',\n",
       " 'African_recipe17.txt',\n",
       " 'African_recipe170.txt',\n",
       " 'African_recipe171.txt',\n",
       " 'African_recipe172.txt',\n",
       " 'African_recipe173.txt',\n",
       " 'African_recipe174.txt',\n",
       " 'African_recipe175.txt',\n",
       " 'African_recipe176.txt',\n",
       " 'African_recipe177.txt',\n",
       " 'African_recipe178.txt',\n",
       " 'African_recipe179.txt',\n",
       " 'African_recipe18.txt',\n",
       " 'African_recipe180.txt',\n",
       " 'African_recipe181.txt',\n",
       " 'African_recipe182.txt',\n",
       " 'African_recipe183.txt',\n",
       " 'African_recipe184.txt',\n",
       " 'African_recipe185.txt',\n",
       " 'African_recipe186.txt',\n",
       " 'African_recipe187.txt',\n",
       " 'African_recipe188.txt',\n",
       " 'African_recipe189.txt',\n",
       " 'African_recipe19.txt',\n",
       " 'African_recipe190.txt',\n",
       " 'African_recipe191.txt',\n",
       " 'African_recipe192.txt',\n",
       " 'African_recipe193.txt',\n",
       " 'African_recipe194.txt',\n",
       " 'African_recipe195.txt',\n",
       " 'African_recipe196.txt',\n",
       " 'African_recipe197.txt',\n",
       " 'African_recipe198.txt',\n",
       " 'African_recipe199.txt',\n",
       " 'African_recipe2.txt',\n",
       " 'African_recipe20.txt',\n",
       " 'African_recipe200.txt',\n",
       " 'African_recipe201.txt',\n",
       " 'African_recipe202.txt',\n",
       " 'African_recipe203.txt',\n",
       " 'African_recipe204.txt',\n",
       " 'African_recipe205.txt',\n",
       " 'African_recipe206.txt',\n",
       " 'African_recipe207.txt',\n",
       " 'African_recipe208.txt',\n",
       " 'African_recipe209.txt',\n",
       " 'African_recipe21.txt',\n",
       " 'African_recipe210.txt',\n",
       " 'African_recipe211.txt',\n",
       " 'African_recipe212.txt',\n",
       " 'African_recipe213.txt',\n",
       " 'African_recipe214.txt',\n",
       " 'African_recipe215.txt',\n",
       " 'African_recipe216.txt',\n",
       " 'African_recipe217.txt',\n",
       " 'African_recipe218.txt',\n",
       " 'African_recipe219.txt',\n",
       " 'African_recipe22.txt',\n",
       " 'African_recipe220.txt',\n",
       " 'African_recipe221.txt',\n",
       " 'African_recipe222.txt',\n",
       " 'African_recipe223.txt',\n",
       " 'African_recipe224.txt',\n",
       " 'African_recipe225.txt',\n",
       " 'African_recipe226.txt',\n",
       " 'African_recipe227.txt',\n",
       " 'African_recipe228.txt',\n",
       " 'African_recipe229.txt',\n",
       " 'African_recipe23.txt',\n",
       " 'African_recipe230.txt',\n",
       " 'African_recipe231.txt',\n",
       " 'African_recipe232.txt',\n",
       " 'African_recipe233.txt',\n",
       " 'African_recipe234.txt',\n",
       " 'African_recipe235.txt',\n",
       " 'African_recipe236.txt',\n",
       " 'African_recipe237.txt',\n",
       " 'African_recipe238.txt',\n",
       " 'African_recipe239.txt',\n",
       " 'African_recipe24.txt',\n",
       " 'African_recipe240.txt',\n",
       " 'African_recipe241.txt',\n",
       " 'African_recipe242.txt',\n",
       " 'African_recipe243.txt',\n",
       " 'African_recipe244.txt',\n",
       " 'African_recipe245.txt',\n",
       " 'African_recipe246.txt',\n",
       " 'African_recipe247.txt',\n",
       " 'African_recipe248.txt',\n",
       " 'African_recipe249.txt',\n",
       " 'African_recipe25.txt',\n",
       " 'African_recipe250.txt',\n",
       " 'African_recipe251.txt',\n",
       " 'African_recipe252.txt',\n",
       " 'African_recipe253.txt',\n",
       " 'African_recipe254.txt',\n",
       " 'African_recipe255.txt',\n",
       " 'African_recipe256.txt',\n",
       " 'African_recipe257.txt',\n",
       " 'African_recipe258.txt',\n",
       " 'African_recipe259.txt',\n",
       " 'African_recipe26.txt',\n",
       " 'African_recipe260.txt',\n",
       " 'African_recipe261.txt',\n",
       " 'African_recipe262.txt',\n",
       " 'African_recipe263.txt',\n",
       " 'African_recipe264.txt',\n",
       " 'African_recipe265.txt',\n",
       " 'African_recipe266.txt',\n",
       " 'African_recipe267.txt',\n",
       " 'African_recipe268.txt',\n",
       " 'African_recipe269.txt',\n",
       " 'African_recipe27.txt',\n",
       " 'African_recipe270.txt',\n",
       " 'African_recipe271.txt',\n",
       " 'African_recipe272.txt',\n",
       " 'African_recipe273.txt',\n",
       " 'African_recipe274.txt',\n",
       " 'African_recipe275.txt',\n",
       " 'African_recipe276.txt',\n",
       " 'African_recipe277.txt',\n",
       " 'African_recipe278.txt',\n",
       " 'African_recipe279.txt',\n",
       " 'African_recipe28.txt',\n",
       " 'African_recipe280.txt',\n",
       " 'African_recipe281.txt',\n",
       " 'African_recipe282.txt',\n",
       " 'African_recipe283.txt',\n",
       " 'African_recipe284.txt',\n",
       " 'African_recipe285.txt',\n",
       " 'African_recipe286.txt',\n",
       " 'African_recipe287.txt',\n",
       " 'African_recipe288.txt',\n",
       " 'African_recipe289.txt',\n",
       " 'African_recipe29.txt',\n",
       " 'African_recipe290.txt',\n",
       " 'African_recipe291.txt',\n",
       " 'African_recipe292.txt',\n",
       " 'African_recipe293.txt',\n",
       " 'African_recipe294.txt',\n",
       " 'African_recipe295.txt',\n",
       " 'African_recipe296.txt',\n",
       " 'African_recipe297.txt',\n",
       " 'African_recipe298.txt',\n",
       " 'African_recipe299.txt',\n",
       " 'African_recipe3.txt',\n",
       " 'African_recipe30.txt',\n",
       " 'African_recipe300.txt',\n",
       " 'African_recipe301.txt',\n",
       " 'African_recipe302.txt',\n",
       " 'African_recipe303.txt',\n",
       " 'African_recipe304.txt',\n",
       " 'African_recipe305.txt',\n",
       " 'African_recipe306.txt',\n",
       " 'African_recipe307.txt',\n",
       " 'African_recipe308.txt',\n",
       " 'African_recipe309.txt',\n",
       " 'African_recipe31.txt',\n",
       " 'African_recipe310.txt',\n",
       " 'African_recipe311.txt',\n",
       " 'African_recipe312.txt',\n",
       " 'African_recipe313.txt',\n",
       " 'African_recipe314.txt',\n",
       " 'African_recipe315.txt',\n",
       " 'African_recipe316.txt',\n",
       " 'African_recipe317.txt',\n",
       " 'African_recipe318.txt',\n",
       " 'African_recipe319.txt',\n",
       " 'African_recipe32.txt',\n",
       " 'African_recipe320.txt',\n",
       " 'African_recipe321.txt',\n",
       " 'African_recipe322.txt',\n",
       " 'African_recipe323.txt',\n",
       " 'African_recipe324.txt',\n",
       " 'African_recipe325.txt',\n",
       " 'African_recipe326.txt',\n",
       " 'African_recipe327.txt',\n",
       " 'African_recipe328.txt',\n",
       " 'African_recipe329.txt',\n",
       " 'African_recipe33.txt',\n",
       " 'African_recipe330.txt',\n",
       " 'African_recipe331.txt',\n",
       " 'African_recipe332.txt',\n",
       " 'African_recipe333.txt',\n",
       " 'African_recipe334.txt',\n",
       " 'African_recipe335.txt',\n",
       " 'African_recipe336.txt',\n",
       " 'African_recipe337.txt',\n",
       " 'African_recipe338.txt',\n",
       " 'African_recipe339.txt',\n",
       " 'African_recipe34.txt',\n",
       " 'African_recipe340.txt',\n",
       " 'African_recipe341.txt',\n",
       " 'African_recipe342.txt',\n",
       " 'African_recipe343.txt',\n",
       " 'African_recipe344.txt',\n",
       " 'African_recipe345.txt',\n",
       " 'African_recipe346.txt',\n",
       " 'African_recipe347.txt',\n",
       " 'African_recipe348.txt',\n",
       " 'African_recipe349.txt',\n",
       " 'African_recipe35.txt',\n",
       " 'African_recipe350.txt',\n",
       " 'African_recipe351.txt',\n",
       " 'African_recipe36.txt',\n",
       " 'African_recipe37.txt',\n",
       " 'African_recipe38.txt',\n",
       " 'African_recipe39.txt',\n",
       " 'African_recipe4.txt',\n",
       " 'African_recipe40.txt',\n",
       " 'African_recipe41.txt',\n",
       " 'African_recipe42.txt',\n",
       " 'African_recipe43.txt',\n",
       " 'African_recipe44.txt',\n",
       " 'African_recipe45.txt',\n",
       " 'African_recipe46.txt',\n",
       " 'African_recipe47.txt',\n",
       " 'African_recipe48.txt',\n",
       " 'African_recipe49.txt',\n",
       " 'African_recipe5.txt',\n",
       " 'African_recipe50.txt',\n",
       " 'African_recipe51.txt',\n",
       " 'African_recipe52.txt',\n",
       " 'African_recipe53.txt',\n",
       " 'African_recipe54.txt',\n",
       " 'African_recipe55.txt',\n",
       " 'African_recipe56.txt',\n",
       " 'African_recipe57.txt',\n",
       " 'African_recipe58.txt',\n",
       " 'African_recipe59.txt',\n",
       " 'African_recipe6.txt',\n",
       " 'African_recipe60.txt',\n",
       " 'African_recipe61.txt',\n",
       " 'African_recipe62.txt',\n",
       " 'African_recipe63.txt',\n",
       " 'African_recipe64.txt',\n",
       " 'African_recipe65.txt',\n",
       " 'African_recipe66.txt',\n",
       " 'African_recipe67.txt',\n",
       " 'African_recipe68.txt',\n",
       " 'African_recipe69.txt',\n",
       " 'African_recipe7.txt',\n",
       " 'African_recipe70.txt',\n",
       " 'African_recipe71.txt',\n",
       " 'African_recipe72.txt',\n",
       " 'African_recipe73.txt',\n",
       " 'African_recipe74.txt',\n",
       " 'African_recipe75.txt',\n",
       " 'African_recipe76.txt',\n",
       " 'African_recipe77.txt',\n",
       " 'African_recipe78.txt',\n",
       " 'African_recipe79.txt',\n",
       " 'African_recipe8.txt',\n",
       " 'African_recipe80.txt',\n",
       " 'African_recipe81.txt',\n",
       " 'African_recipe82.txt',\n",
       " 'African_recipe83.txt',\n",
       " 'African_recipe84.txt',\n",
       " 'African_recipe85.txt',\n",
       " 'African_recipe86.txt',\n",
       " 'African_recipe87.txt',\n",
       " 'African_recipe88.txt',\n",
       " 'African_recipe89.txt',\n",
       " 'African_recipe9.txt',\n",
       " 'African_recipe90.txt',\n",
       " 'African_recipe91.txt',\n",
       " 'African_recipe92.txt',\n",
       " 'African_recipe93.txt',\n",
       " 'African_recipe94.txt',\n",
       " 'African_recipe95.txt',\n",
       " 'African_recipe96.txt',\n",
       " 'African_recipe97.txt',\n",
       " 'African_recipe98.txt',\n",
       " 'African_recipe99.txt',\n",
       " 'EastAsian_recipe1000.txt',\n",
       " 'EastAsian_recipe1001.txt',\n",
       " 'EastAsian_recipe1002.txt',\n",
       " 'EastAsian_recipe1003.txt',\n",
       " 'EastAsian_recipe1004.txt',\n",
       " 'EastAsian_recipe1005.txt',\n",
       " 'EastAsian_recipe1006.txt',\n",
       " 'EastAsian_recipe1007.txt',\n",
       " 'EastAsian_recipe1008.txt',\n",
       " 'EastAsian_recipe1009.txt',\n",
       " 'EastAsian_recipe1010.txt',\n",
       " 'EastAsian_recipe1011.txt',\n",
       " 'EastAsian_recipe1012.txt',\n",
       " 'EastAsian_recipe1013.txt',\n",
       " 'EastAsian_recipe1014.txt',\n",
       " 'EastAsian_recipe1015.txt',\n",
       " 'EastAsian_recipe1016.txt',\n",
       " 'EastAsian_recipe1017.txt',\n",
       " 'EastAsian_recipe1018.txt',\n",
       " 'EastAsian_recipe1019.txt',\n",
       " 'EastAsian_recipe1020.txt',\n",
       " 'EastAsian_recipe1021.txt',\n",
       " 'EastAsian_recipe1022.txt',\n",
       " 'EastAsian_recipe1023.txt',\n",
       " 'EastAsian_recipe1024.txt',\n",
       " 'EastAsian_recipe1025.txt',\n",
       " 'EastAsian_recipe1026.txt',\n",
       " 'EastAsian_recipe1027.txt',\n",
       " 'EastAsian_recipe1028.txt',\n",
       " 'EastAsian_recipe1029.txt',\n",
       " 'EastAsian_recipe1030.txt',\n",
       " 'EastAsian_recipe1031.txt',\n",
       " 'EastAsian_recipe1032.txt',\n",
       " 'EastAsian_recipe1033.txt',\n",
       " 'EastAsian_recipe1034.txt',\n",
       " 'EastAsian_recipe1035.txt',\n",
       " 'EastAsian_recipe1036.txt',\n",
       " 'EastAsian_recipe1037.txt',\n",
       " 'EastAsian_recipe1038.txt',\n",
       " 'EastAsian_recipe1039.txt',\n",
       " 'EastAsian_recipe1040.txt',\n",
       " 'EastAsian_recipe1041.txt',\n",
       " 'EastAsian_recipe1042.txt',\n",
       " 'EastAsian_recipe1043.txt',\n",
       " 'EastAsian_recipe1044.txt',\n",
       " 'EastAsian_recipe1045.txt',\n",
       " 'EastAsian_recipe1046.txt',\n",
       " 'EastAsian_recipe1047.txt',\n",
       " 'EastAsian_recipe1048.txt',\n",
       " 'EastAsian_recipe1049.txt',\n",
       " 'EastAsian_recipe1050.txt',\n",
       " 'EastAsian_recipe1051.txt',\n",
       " 'EastAsian_recipe1052.txt',\n",
       " 'EastAsian_recipe1053.txt',\n",
       " 'EastAsian_recipe1054.txt',\n",
       " 'EastAsian_recipe1055.txt',\n",
       " 'EastAsian_recipe1056.txt',\n",
       " 'EastAsian_recipe1057.txt',\n",
       " 'EastAsian_recipe1058.txt',\n",
       " 'EastAsian_recipe1059.txt',\n",
       " 'EastAsian_recipe1060.txt',\n",
       " 'EastAsian_recipe1061.txt',\n",
       " 'EastAsian_recipe1062.txt',\n",
       " 'EastAsian_recipe1063.txt',\n",
       " 'EastAsian_recipe1064.txt',\n",
       " 'EastAsian_recipe1065.txt',\n",
       " 'EastAsian_recipe1066.txt',\n",
       " 'EastAsian_recipe1067.txt',\n",
       " 'EastAsian_recipe1068.txt',\n",
       " 'EastAsian_recipe1069.txt',\n",
       " 'EastAsian_recipe1070.txt',\n",
       " 'EastAsian_recipe1071.txt',\n",
       " 'EastAsian_recipe1072.txt',\n",
       " 'EastAsian_recipe1073.txt',\n",
       " 'EastAsian_recipe1074.txt',\n",
       " 'EastAsian_recipe1075.txt',\n",
       " 'EastAsian_recipe1076.txt',\n",
       " 'EastAsian_recipe1077.txt',\n",
       " 'EastAsian_recipe1078.txt',\n",
       " 'EastAsian_recipe1079.txt',\n",
       " 'EastAsian_recipe1080.txt',\n",
       " 'EastAsian_recipe1081.txt',\n",
       " 'EastAsian_recipe1082.txt',\n",
       " 'EastAsian_recipe1083.txt',\n",
       " 'EastAsian_recipe1084.txt',\n",
       " 'EastAsian_recipe1085.txt',\n",
       " 'EastAsian_recipe1086.txt',\n",
       " 'EastAsian_recipe1087.txt',\n",
       " 'EastAsian_recipe1088.txt',\n",
       " 'EastAsian_recipe1089.txt',\n",
       " 'EastAsian_recipe1090.txt',\n",
       " 'EastAsian_recipe1091.txt',\n",
       " 'EastAsian_recipe1092.txt',\n",
       " 'EastAsian_recipe1093.txt',\n",
       " 'EastAsian_recipe1094.txt',\n",
       " 'EastAsian_recipe1095.txt',\n",
       " 'EastAsian_recipe1096.txt',\n",
       " 'EastAsian_recipe1097.txt',\n",
       " 'EastAsian_recipe1098.txt',\n",
       " 'EastAsian_recipe1099.txt',\n",
       " 'EastAsian_recipe1100.txt',\n",
       " 'EastAsian_recipe1101.txt',\n",
       " 'EastAsian_recipe1102.txt',\n",
       " 'EastAsian_recipe1103.txt',\n",
       " 'EastAsian_recipe1104.txt',\n",
       " 'EastAsian_recipe1105.txt',\n",
       " 'EastAsian_recipe1106.txt',\n",
       " 'EastAsian_recipe1107.txt',\n",
       " 'EastAsian_recipe1108.txt',\n",
       " 'EastAsian_recipe1109.txt',\n",
       " 'EastAsian_recipe1110.txt',\n",
       " 'EastAsian_recipe1111.txt',\n",
       " 'EastAsian_recipe1112.txt',\n",
       " 'EastAsian_recipe1113.txt',\n",
       " 'EastAsian_recipe1114.txt',\n",
       " 'EastAsian_recipe1115.txt',\n",
       " 'EastAsian_recipe1116.txt',\n",
       " 'EastAsian_recipe1117.txt',\n",
       " 'EastAsian_recipe1118.txt',\n",
       " 'EastAsian_recipe1119.txt',\n",
       " 'EastAsian_recipe1120.txt',\n",
       " 'EastAsian_recipe1121.txt',\n",
       " 'EastAsian_recipe1122.txt',\n",
       " 'EastAsian_recipe1123.txt',\n",
       " 'EastAsian_recipe1124.txt',\n",
       " 'EastAsian_recipe1125.txt',\n",
       " 'EastAsian_recipe1126.txt',\n",
       " 'EastAsian_recipe1127.txt',\n",
       " 'EastAsian_recipe1128.txt',\n",
       " 'EastAsian_recipe1129.txt',\n",
       " 'EastAsian_recipe1130.txt',\n",
       " 'EastAsian_recipe1131.txt',\n",
       " 'EastAsian_recipe1132.txt',\n",
       " 'EastAsian_recipe1133.txt',\n",
       " 'EastAsian_recipe1134.txt',\n",
       " 'EastAsian_recipe1135.txt',\n",
       " 'EastAsian_recipe1136.txt',\n",
       " 'EastAsian_recipe1137.txt',\n",
       " 'EastAsian_recipe1138.txt',\n",
       " 'EastAsian_recipe1139.txt',\n",
       " 'EastAsian_recipe1140.txt',\n",
       " 'EastAsian_recipe1141.txt',\n",
       " 'EastAsian_recipe1142.txt',\n",
       " 'EastAsian_recipe1143.txt',\n",
       " 'EastAsian_recipe1144.txt',\n",
       " 'EastAsian_recipe1145.txt',\n",
       " 'EastAsian_recipe1146.txt',\n",
       " 'EastAsian_recipe1147.txt',\n",
       " 'EastAsian_recipe1148.txt',\n",
       " 'EastAsian_recipe1149.txt',\n",
       " 'EastAsian_recipe1150.txt',\n",
       " 'EastAsian_recipe1151.txt',\n",
       " 'EastAsian_recipe1152.txt',\n",
       " 'EastAsian_recipe1153.txt',\n",
       " 'EastAsian_recipe1154.txt',\n",
       " 'EastAsian_recipe1155.txt',\n",
       " 'EastAsian_recipe1156.txt',\n",
       " 'EastAsian_recipe1157.txt',\n",
       " 'EastAsian_recipe1158.txt',\n",
       " 'EastAsian_recipe1159.txt',\n",
       " 'EastAsian_recipe1160.txt',\n",
       " 'EastAsian_recipe1161.txt',\n",
       " 'EastAsian_recipe1162.txt',\n",
       " 'EastAsian_recipe1163.txt',\n",
       " 'EastAsian_recipe1164.txt',\n",
       " 'EastAsian_recipe1165.txt',\n",
       " 'EastAsian_recipe1166.txt',\n",
       " 'EastAsian_recipe1167.txt',\n",
       " 'EastAsian_recipe1168.txt',\n",
       " 'EastAsian_recipe1169.txt',\n",
       " 'EastAsian_recipe1170.txt',\n",
       " 'EastAsian_recipe1171.txt',\n",
       " 'EastAsian_recipe1172.txt',\n",
       " 'EastAsian_recipe1173.txt',\n",
       " 'EastAsian_recipe1174.txt',\n",
       " 'EastAsian_recipe1175.txt',\n",
       " 'EastAsian_recipe1176.txt',\n",
       " 'EastAsian_recipe1177.txt',\n",
       " 'EastAsian_recipe1178.txt',\n",
       " 'EastAsian_recipe1179.txt',\n",
       " 'EastAsian_recipe1180.txt',\n",
       " 'EastAsian_recipe1181.txt',\n",
       " 'EastAsian_recipe1182.txt',\n",
       " 'EastAsian_recipe1183.txt',\n",
       " 'EastAsian_recipe1184.txt',\n",
       " 'EastAsian_recipe1185.txt',\n",
       " 'EastAsian_recipe1186.txt',\n",
       " 'EastAsian_recipe1187.txt',\n",
       " 'EastAsian_recipe1188.txt',\n",
       " 'EastAsian_recipe1189.txt',\n",
       " 'EastAsian_recipe1190.txt',\n",
       " 'EastAsian_recipe1191.txt',\n",
       " 'EastAsian_recipe1192.txt',\n",
       " 'EastAsian_recipe1193.txt',\n",
       " 'EastAsian_recipe1194.txt',\n",
       " 'EastAsian_recipe1195.txt',\n",
       " 'EastAsian_recipe1196.txt',\n",
       " 'EastAsian_recipe1197.txt',\n",
       " 'EastAsian_recipe1198.txt',\n",
       " 'EastAsian_recipe1199.txt',\n",
       " 'EastAsian_recipe1200.txt',\n",
       " 'EastAsian_recipe1201.txt',\n",
       " 'EastAsian_recipe1202.txt',\n",
       " 'EastAsian_recipe1203.txt',\n",
       " 'EastAsian_recipe1204.txt',\n",
       " 'EastAsian_recipe1205.txt',\n",
       " 'EastAsian_recipe1206.txt',\n",
       " 'EastAsian_recipe1207.txt',\n",
       " 'EastAsian_recipe1208.txt',\n",
       " 'EastAsian_recipe1209.txt',\n",
       " 'EastAsian_recipe1210.txt',\n",
       " 'EastAsian_recipe1211.txt',\n",
       " 'EastAsian_recipe1212.txt',\n",
       " 'EastAsian_recipe1213.txt',\n",
       " 'EastAsian_recipe1214.txt',\n",
       " 'EastAsian_recipe1215.txt',\n",
       " 'EastAsian_recipe1216.txt',\n",
       " 'EastAsian_recipe1217.txt',\n",
       " 'EastAsian_recipe1218.txt',\n",
       " 'EastAsian_recipe1219.txt',\n",
       " 'EastAsian_recipe1220.txt',\n",
       " 'EastAsian_recipe1221.txt',\n",
       " 'EastAsian_recipe1222.txt',\n",
       " 'EastAsian_recipe1223.txt',\n",
       " 'EastAsian_recipe1224.txt',\n",
       " 'EastAsian_recipe1225.txt',\n",
       " 'EastAsian_recipe1226.txt',\n",
       " 'EastAsian_recipe1227.txt',\n",
       " 'EastAsian_recipe1228.txt',\n",
       " 'EastAsian_recipe1229.txt',\n",
       " 'EastAsian_recipe1230.txt',\n",
       " 'EastAsian_recipe1231.txt',\n",
       " 'EastAsian_recipe1232.txt',\n",
       " 'EastAsian_recipe1233.txt',\n",
       " 'EastAsian_recipe1234.txt',\n",
       " 'EastAsian_recipe1235.txt',\n",
       " 'EastAsian_recipe1236.txt',\n",
       " 'EastAsian_recipe1237.txt',\n",
       " 'EastAsian_recipe1238.txt',\n",
       " 'EastAsian_recipe1239.txt',\n",
       " 'EastAsian_recipe1240.txt',\n",
       " 'EastAsian_recipe1241.txt',\n",
       " 'EastAsian_recipe1242.txt',\n",
       " 'EastAsian_recipe1243.txt',\n",
       " 'EastAsian_recipe1244.txt',\n",
       " 'EastAsian_recipe1245.txt',\n",
       " 'EastAsian_recipe1246.txt',\n",
       " 'EastAsian_recipe1247.txt',\n",
       " 'EastAsian_recipe1248.txt',\n",
       " 'EastAsian_recipe1249.txt',\n",
       " 'EastAsian_recipe1250.txt',\n",
       " 'EastAsian_recipe1251.txt',\n",
       " 'EastAsian_recipe1252.txt',\n",
       " 'EastAsian_recipe1253.txt',\n",
       " 'EastAsian_recipe1254.txt',\n",
       " 'EastAsian_recipe1255.txt',\n",
       " 'EastAsian_recipe1256.txt',\n",
       " 'EastAsian_recipe1257.txt',\n",
       " 'EastAsian_recipe1258.txt',\n",
       " 'EastAsian_recipe1259.txt',\n",
       " 'EastAsian_recipe1260.txt',\n",
       " 'EastAsian_recipe1261.txt',\n",
       " 'EastAsian_recipe1262.txt',\n",
       " 'EastAsian_recipe1263.txt',\n",
       " 'EastAsian_recipe1264.txt',\n",
       " 'EastAsian_recipe1265.txt',\n",
       " 'EastAsian_recipe1266.txt',\n",
       " 'EastAsian_recipe1267.txt',\n",
       " 'EastAsian_recipe1268.txt',\n",
       " 'EastAsian_recipe1269.txt',\n",
       " 'EastAsian_recipe1270.txt',\n",
       " 'EastAsian_recipe1271.txt',\n",
       " 'EastAsian_recipe1272.txt',\n",
       " 'EastAsian_recipe1273.txt',\n",
       " 'EastAsian_recipe1274.txt',\n",
       " 'EastAsian_recipe1275.txt',\n",
       " 'EastAsian_recipe1276.txt',\n",
       " 'EastAsian_recipe1277.txt',\n",
       " 'EastAsian_recipe1278.txt',\n",
       " 'EastAsian_recipe1279.txt',\n",
       " 'EastAsian_recipe1280.txt',\n",
       " 'EastAsian_recipe1281.txt',\n",
       " 'EastAsian_recipe1282.txt',\n",
       " 'EastAsian_recipe1283.txt',\n",
       " 'EastAsian_recipe1284.txt',\n",
       " 'EastAsian_recipe1285.txt',\n",
       " 'EastAsian_recipe1286.txt',\n",
       " 'EastAsian_recipe1287.txt',\n",
       " 'EastAsian_recipe1288.txt',\n",
       " 'EastAsian_recipe1289.txt',\n",
       " 'EastAsian_recipe1290.txt',\n",
       " 'EastAsian_recipe1291.txt',\n",
       " 'EastAsian_recipe1292.txt',\n",
       " 'EastAsian_recipe1293.txt',\n",
       " 'EastAsian_recipe1294.txt',\n",
       " 'EastAsian_recipe1295.txt',\n",
       " 'EastAsian_recipe1296.txt',\n",
       " 'EastAsian_recipe1297.txt',\n",
       " 'EastAsian_recipe1298.txt',\n",
       " 'EastAsian_recipe1299.txt',\n",
       " 'EastAsian_recipe1300.txt',\n",
       " 'EastAsian_recipe1301.txt',\n",
       " 'EastAsian_recipe1302.txt',\n",
       " 'EastAsian_recipe1303.txt',\n",
       " 'EastAsian_recipe1304.txt',\n",
       " 'EastAsian_recipe1305.txt',\n",
       " 'EastAsian_recipe1306.txt',\n",
       " 'EastAsian_recipe1307.txt',\n",
       " 'EastAsian_recipe1308.txt',\n",
       " 'EastAsian_recipe1309.txt',\n",
       " 'EastAsian_recipe1310.txt',\n",
       " 'EastAsian_recipe1311.txt',\n",
       " 'EastAsian_recipe1312.txt',\n",
       " 'EastAsian_recipe1313.txt',\n",
       " 'EastAsian_recipe1314.txt',\n",
       " 'EastAsian_recipe1315.txt',\n",
       " 'EastAsian_recipe1316.txt',\n",
       " 'EastAsian_recipe1317.txt',\n",
       " 'EastAsian_recipe1318.txt',\n",
       " 'EastAsian_recipe1319.txt',\n",
       " 'EastAsian_recipe1320.txt',\n",
       " 'EastAsian_recipe1321.txt',\n",
       " 'EastAsian_recipe1322.txt',\n",
       " 'EastAsian_recipe1323.txt',\n",
       " 'EastAsian_recipe1324.txt',\n",
       " 'EastAsian_recipe1325.txt',\n",
       " 'EastAsian_recipe1326.txt',\n",
       " 'EastAsian_recipe1327.txt',\n",
       " 'EastAsian_recipe1328.txt',\n",
       " 'EastAsian_recipe1329.txt',\n",
       " 'EastAsian_recipe1330.txt',\n",
       " 'EastAsian_recipe1331.txt',\n",
       " 'EastAsian_recipe1332.txt',\n",
       " 'EastAsian_recipe1333.txt',\n",
       " 'EastAsian_recipe1334.txt',\n",
       " 'EastAsian_recipe1335.txt',\n",
       " 'EastAsian_recipe1336.txt',\n",
       " 'EastAsian_recipe1337.txt',\n",
       " 'EastAsian_recipe1338.txt',\n",
       " 'EastAsian_recipe1339.txt',\n",
       " 'EastAsian_recipe1340.txt',\n",
       " 'EastAsian_recipe1341.txt',\n",
       " 'EastAsian_recipe1342.txt',\n",
       " 'EastAsian_recipe1343.txt',\n",
       " 'EastAsian_recipe1344.txt',\n",
       " 'EastAsian_recipe1345.txt',\n",
       " 'EastAsian_recipe1346.txt',\n",
       " 'EastAsian_recipe1347.txt',\n",
       " 'EastAsian_recipe1348.txt',\n",
       " 'EastAsian_recipe1349.txt',\n",
       " 'EastAsian_recipe1350.txt',\n",
       " 'EastAsian_recipe1351.txt',\n",
       " 'EastAsian_recipe1352.txt',\n",
       " 'EastAsian_recipe1353.txt',\n",
       " 'EastAsian_recipe1354.txt',\n",
       " 'EastAsian_recipe1355.txt',\n",
       " 'EastAsian_recipe1356.txt',\n",
       " 'EastAsian_recipe1357.txt',\n",
       " 'EastAsian_recipe1358.txt',\n",
       " 'EastAsian_recipe1359.txt',\n",
       " 'EastAsian_recipe1360.txt',\n",
       " 'EastAsian_recipe1361.txt',\n",
       " 'EastAsian_recipe1362.txt',\n",
       " 'EastAsian_recipe1363.txt',\n",
       " 'EastAsian_recipe1364.txt',\n",
       " 'EastAsian_recipe1365.txt',\n",
       " 'EastAsian_recipe1366.txt',\n",
       " 'EastAsian_recipe1367.txt',\n",
       " 'EastAsian_recipe1368.txt',\n",
       " 'EastAsian_recipe1369.txt',\n",
       " 'EastAsian_recipe1370.txt',\n",
       " 'EastAsian_recipe1371.txt',\n",
       " 'EastAsian_recipe1372.txt',\n",
       " 'EastAsian_recipe1373.txt',\n",
       " 'EastAsian_recipe1374.txt',\n",
       " 'EastAsian_recipe1375.txt',\n",
       " 'EastAsian_recipe1376.txt',\n",
       " 'EastAsian_recipe1377.txt',\n",
       " 'EastAsian_recipe1378.txt',\n",
       " 'EastAsian_recipe1379.txt',\n",
       " 'EastAsian_recipe1380.txt',\n",
       " 'EastAsian_recipe1381.txt',\n",
       " 'EastAsian_recipe1382.txt',\n",
       " 'EastAsian_recipe1383.txt',\n",
       " 'EastAsian_recipe1384.txt',\n",
       " 'EastAsian_recipe1385.txt',\n",
       " 'EastAsian_recipe1386.txt',\n",
       " 'EastAsian_recipe1387.txt',\n",
       " 'EastAsian_recipe1388.txt',\n",
       " 'EastAsian_recipe1389.txt',\n",
       " 'EastAsian_recipe1390.txt',\n",
       " 'EastAsian_recipe1391.txt',\n",
       " 'EastAsian_recipe1392.txt',\n",
       " 'EastAsian_recipe1393.txt',\n",
       " 'EastAsian_recipe1394.txt',\n",
       " 'EastAsian_recipe1395.txt',\n",
       " 'EastAsian_recipe1396.txt',\n",
       " 'EastAsian_recipe1397.txt',\n",
       " 'EastAsian_recipe1398.txt',\n",
       " 'EastAsian_recipe1399.txt',\n",
       " 'EastAsian_recipe1400.txt',\n",
       " 'EastAsian_recipe1401.txt',\n",
       " 'EastAsian_recipe1402.txt',\n",
       " 'EastAsian_recipe1403.txt',\n",
       " 'EastAsian_recipe1404.txt',\n",
       " 'EastAsian_recipe1405.txt',\n",
       " 'EastAsian_recipe1406.txt',\n",
       " 'EastAsian_recipe1407.txt',\n",
       " 'EastAsian_recipe1408.txt',\n",
       " 'EastAsian_recipe1409.txt',\n",
       " 'EastAsian_recipe1410.txt',\n",
       " 'EastAsian_recipe1411.txt',\n",
       " 'EastAsian_recipe1412.txt',\n",
       " 'EastAsian_recipe1413.txt',\n",
       " 'EastAsian_recipe1414.txt',\n",
       " 'EastAsian_recipe1415.txt',\n",
       " 'EastAsian_recipe1416.txt',\n",
       " 'EastAsian_recipe1417.txt',\n",
       " 'EastAsian_recipe1418.txt',\n",
       " 'EastAsian_recipe1419.txt',\n",
       " 'EastAsian_recipe1420.txt',\n",
       " 'EastAsian_recipe1421.txt',\n",
       " 'EastAsian_recipe1422.txt',\n",
       " 'EastAsian_recipe1423.txt',\n",
       " 'EastAsian_recipe1424.txt',\n",
       " 'EastAsian_recipe1425.txt',\n",
       " 'EastAsian_recipe1426.txt',\n",
       " 'EastAsian_recipe1427.txt',\n",
       " 'EastAsian_recipe1428.txt',\n",
       " 'EastAsian_recipe1429.txt',\n",
       " 'EastAsian_recipe1430.txt',\n",
       " 'EastAsian_recipe1431.txt',\n",
       " 'EastAsian_recipe1432.txt',\n",
       " 'EastAsian_recipe1433.txt',\n",
       " 'EastAsian_recipe1434.txt',\n",
       " 'EastAsian_recipe1435.txt',\n",
       " 'EastAsian_recipe1436.txt',\n",
       " 'EastAsian_recipe1437.txt',\n",
       " 'EastAsian_recipe1438.txt',\n",
       " 'EastAsian_recipe1439.txt',\n",
       " 'EastAsian_recipe1440.txt',\n",
       " 'EastAsian_recipe1441.txt',\n",
       " 'EastAsian_recipe1442.txt',\n",
       " 'EastAsian_recipe1443.txt',\n",
       " 'EastAsian_recipe1444.txt',\n",
       " 'EastAsian_recipe1445.txt',\n",
       " 'EastAsian_recipe1446.txt',\n",
       " 'EastAsian_recipe1447.txt',\n",
       " 'EastAsian_recipe1448.txt',\n",
       " 'EastAsian_recipe1449.txt',\n",
       " 'EastAsian_recipe1450.txt',\n",
       " 'EastAsian_recipe1451.txt',\n",
       " 'EastAsian_recipe1452.txt',\n",
       " 'EastAsian_recipe1453.txt',\n",
       " 'EastAsian_recipe1454.txt',\n",
       " 'EastAsian_recipe1455.txt',\n",
       " 'EastAsian_recipe1456.txt',\n",
       " 'EastAsian_recipe1457.txt',\n",
       " 'EastAsian_recipe1458.txt',\n",
       " 'EastAsian_recipe1459.txt',\n",
       " 'EastAsian_recipe1460.txt',\n",
       " 'EastAsian_recipe1461.txt',\n",
       " 'EastAsian_recipe1462.txt',\n",
       " 'EastAsian_recipe1463.txt',\n",
       " 'EastAsian_recipe1464.txt',\n",
       " 'EastAsian_recipe1465.txt',\n",
       " 'EastAsian_recipe1466.txt',\n",
       " 'EastAsian_recipe1467.txt',\n",
       " 'EastAsian_recipe1468.txt',\n",
       " 'EastAsian_recipe1469.txt',\n",
       " 'EastAsian_recipe1470.txt',\n",
       " 'EastAsian_recipe1471.txt',\n",
       " 'EastAsian_recipe1472.txt',\n",
       " 'EastAsian_recipe1473.txt',\n",
       " 'EastAsian_recipe1474.txt',\n",
       " 'EastAsian_recipe1475.txt',\n",
       " 'EastAsian_recipe1476.txt',\n",
       " 'EastAsian_recipe1477.txt',\n",
       " 'EastAsian_recipe1478.txt',\n",
       " 'EastAsian_recipe1479.txt',\n",
       " 'EastAsian_recipe1480.txt',\n",
       " 'EastAsian_recipe1481.txt',\n",
       " 'EastAsian_recipe1482.txt',\n",
       " 'EastAsian_recipe1483.txt',\n",
       " 'EastAsian_recipe1484.txt',\n",
       " 'EastAsian_recipe1485.txt',\n",
       " 'EastAsian_recipe1486.txt',\n",
       " 'EastAsian_recipe1487.txt',\n",
       " 'EastAsian_recipe1488.txt',\n",
       " 'EastAsian_recipe1489.txt',\n",
       " 'EastAsian_recipe1490.txt',\n",
       " 'EastAsian_recipe1491.txt',\n",
       " 'EastAsian_recipe1492.txt',\n",
       " 'EastAsian_recipe1493.txt',\n",
       " 'EastAsian_recipe1494.txt',\n",
       " 'EastAsian_recipe1495.txt',\n",
       " 'EastAsian_recipe1496.txt',\n",
       " 'EastAsian_recipe1497.txt',\n",
       " 'EastAsian_recipe1498.txt',\n",
       " 'EastAsian_recipe1499.txt',\n",
       " 'EastAsian_recipe1500.txt',\n",
       " 'EastAsian_recipe1501.txt',\n",
       " 'EastAsian_recipe1502.txt',\n",
       " 'EastAsian_recipe1503.txt',\n",
       " 'EastAsian_recipe1504.txt',\n",
       " 'EastAsian_recipe1505.txt',\n",
       " 'EastAsian_recipe1506.txt',\n",
       " 'EastAsian_recipe1507.txt',\n",
       " 'EastAsian_recipe1508.txt',\n",
       " 'EastAsian_recipe1509.txt',\n",
       " 'EastAsian_recipe1510.txt',\n",
       " 'EastAsian_recipe1511.txt',\n",
       " 'EastAsian_recipe1512.txt',\n",
       " 'EastAsian_recipe1513.txt',\n",
       " 'EastAsian_recipe1514.txt',\n",
       " 'EastAsian_recipe1515.txt',\n",
       " 'EastAsian_recipe1516.txt',\n",
       " 'EastAsian_recipe1517.txt',\n",
       " 'EastAsian_recipe1518.txt',\n",
       " 'EastAsian_recipe1519.txt',\n",
       " 'EastAsian_recipe1520.txt',\n",
       " 'EastAsian_recipe1521.txt',\n",
       " 'EastAsian_recipe1522.txt',\n",
       " 'EastAsian_recipe1523.txt',\n",
       " 'EastAsian_recipe1524.txt',\n",
       " 'EastAsian_recipe1525.txt',\n",
       " 'EastAsian_recipe1526.txt',\n",
       " 'EastAsian_recipe1527.txt',\n",
       " 'EastAsian_recipe1528.txt',\n",
       " 'EastAsian_recipe1529.txt',\n",
       " 'EastAsian_recipe1530.txt',\n",
       " 'EastAsian_recipe1531.txt',\n",
       " 'EastAsian_recipe1532.txt',\n",
       " 'EastAsian_recipe1533.txt',\n",
       " 'EastAsian_recipe1534.txt',\n",
       " 'EastAsian_recipe1535.txt',\n",
       " 'EastAsian_recipe1536.txt',\n",
       " 'EastAsian_recipe1537.txt',\n",
       " 'EastAsian_recipe1538.txt',\n",
       " 'EastAsian_recipe1539.txt',\n",
       " 'EastAsian_recipe1540.txt',\n",
       " 'EastAsian_recipe1541.txt',\n",
       " 'EastAsian_recipe1542.txt',\n",
       " 'EastAsian_recipe1543.txt',\n",
       " 'EastAsian_recipe1544.txt',\n",
       " 'EastAsian_recipe1545.txt',\n",
       " 'EastAsian_recipe1546.txt',\n",
       " 'EastAsian_recipe1547.txt',\n",
       " 'EastAsian_recipe1548.txt',\n",
       " 'EastAsian_recipe1549.txt',\n",
       " 'EastAsian_recipe1550.txt',\n",
       " 'EastAsian_recipe1551.txt',\n",
       " 'EastAsian_recipe1552.txt',\n",
       " 'EastAsian_recipe1553.txt',\n",
       " 'EastAsian_recipe1554.txt',\n",
       " 'EastAsian_recipe1555.txt',\n",
       " 'EastAsian_recipe1556.txt',\n",
       " 'EastAsian_recipe1557.txt',\n",
       " 'EastAsian_recipe1558.txt',\n",
       " 'EastAsian_recipe1559.txt',\n",
       " 'EastAsian_recipe1560.txt',\n",
       " 'EastAsian_recipe1561.txt',\n",
       " 'EastAsian_recipe1562.txt',\n",
       " 'EastAsian_recipe1563.txt',\n",
       " 'EastAsian_recipe1564.txt',\n",
       " 'EastAsian_recipe1565.txt',\n",
       " 'EastAsian_recipe1566.txt',\n",
       " 'EastAsian_recipe1567.txt',\n",
       " 'EastAsian_recipe1568.txt',\n",
       " 'EastAsian_recipe1569.txt',\n",
       " 'EastAsian_recipe1570.txt',\n",
       " 'EastAsian_recipe1571.txt',\n",
       " 'EastAsian_recipe1572.txt',\n",
       " 'EastAsian_recipe1573.txt',\n",
       " 'EastAsian_recipe1574.txt',\n",
       " 'EastAsian_recipe1575.txt',\n",
       " 'EastAsian_recipe1576.txt',\n",
       " 'EastAsian_recipe1577.txt',\n",
       " 'EastAsian_recipe1578.txt',\n",
       " 'EastAsian_recipe1579.txt',\n",
       " 'EastAsian_recipe1580.txt',\n",
       " 'EastAsian_recipe1581.txt',\n",
       " 'EastAsian_recipe1582.txt',\n",
       " 'EastAsian_recipe1583.txt',\n",
       " 'EastAsian_recipe1584.txt',\n",
       " 'EastAsian_recipe1585.txt',\n",
       " 'EastAsian_recipe1586.txt',\n",
       " 'EastAsian_recipe1587.txt',\n",
       " 'EastAsian_recipe1588.txt',\n",
       " 'EastAsian_recipe1589.txt',\n",
       " 'EastAsian_recipe1590.txt',\n",
       " 'EastAsian_recipe1591.txt',\n",
       " 'EastAsian_recipe1592.txt',\n",
       " 'EastAsian_recipe1593.txt',\n",
       " 'EastAsian_recipe1594.txt',\n",
       " 'EastAsian_recipe1595.txt',\n",
       " 'EastAsian_recipe1596.txt',\n",
       " 'EastAsian_recipe1597.txt',\n",
       " 'EastAsian_recipe1598.txt',\n",
       " 'EastAsian_recipe1599.txt',\n",
       " 'EastAsian_recipe1600.txt',\n",
       " 'EastAsian_recipe1601.txt',\n",
       " 'EastAsian_recipe1602.txt',\n",
       " 'EastAsian_recipe1603.txt',\n",
       " 'EastAsian_recipe1604.txt',\n",
       " 'EastAsian_recipe1605.txt',\n",
       " 'EastAsian_recipe1606.txt',\n",
       " 'EastAsian_recipe1607.txt',\n",
       " 'EastAsian_recipe1608.txt',\n",
       " 'EastAsian_recipe1609.txt',\n",
       " 'EastAsian_recipe1610.txt',\n",
       " 'EastAsian_recipe1611.txt',\n",
       " 'EastAsian_recipe1612.txt',\n",
       " 'EastAsian_recipe1613.txt',\n",
       " 'EastAsian_recipe1614.txt',\n",
       " 'EastAsian_recipe1615.txt',\n",
       " 'EastAsian_recipe1616.txt',\n",
       " 'EastAsian_recipe1617.txt',\n",
       " 'EastAsian_recipe1618.txt',\n",
       " 'EastAsian_recipe1619.txt',\n",
       " 'EastAsian_recipe1620.txt',\n",
       " 'EastAsian_recipe1621.txt',\n",
       " 'EastAsian_recipe1622.txt',\n",
       " 'EastAsian_recipe1623.txt',\n",
       " 'EastAsian_recipe1624.txt',\n",
       " 'EastAsian_recipe1625.txt',\n",
       " 'EastAsian_recipe1626.txt',\n",
       " 'EastAsian_recipe1627.txt',\n",
       " 'EastAsian_recipe1628.txt',\n",
       " 'EastAsian_recipe1629.txt',\n",
       " 'EastAsian_recipe1630.txt',\n",
       " 'EastAsian_recipe1631.txt',\n",
       " 'EastAsian_recipe1632.txt',\n",
       " 'EastAsian_recipe1633.txt',\n",
       " 'EastAsian_recipe1634.txt',\n",
       " 'EastAsian_recipe1635.txt',\n",
       " 'EastAsian_recipe1636.txt',\n",
       " 'EastAsian_recipe1637.txt',\n",
       " 'EastAsian_recipe1638.txt',\n",
       " 'EastAsian_recipe1639.txt',\n",
       " 'EastAsian_recipe1640.txt',\n",
       " 'EastAsian_recipe1641.txt',\n",
       " 'EastAsian_recipe1642.txt',\n",
       " 'EastAsian_recipe1643.txt',\n",
       " 'EastAsian_recipe1644.txt',\n",
       " 'EastAsian_recipe1645.txt',\n",
       " 'EastAsian_recipe1646.txt',\n",
       " ...]"
      ]
     },
     "execution_count": 30,
     "metadata": {},
     "output_type": "execute_result"
    }
   ],
   "source": [
    "my_corpus.fileids()"
   ]
  },
  {
   "cell_type": "code",
   "execution_count": 32,
   "metadata": {},
   "outputs": [
    {
     "data": {
      "text/plain": [
       "['.DS',\n",
       " 'African',\n",
       " 'EastAsian',\n",
       " 'EasternEuropean',\n",
       " 'LatinAmerican',\n",
       " 'MiddleEastern',\n",
       " 'NorthAmerican',\n",
       " 'NorthernEuropean',\n",
       " 'SouthAsian',\n",
       " 'SoutheastAsian',\n",
       " 'SouthernEuropean',\n",
       " 'WesternEuropean']"
      ]
     },
     "execution_count": 32,
     "metadata": {},
     "output_type": "execute_result"
    }
   ],
   "source": [
    "my_corpus.categories()"
   ]
  },
  {
   "cell_type": "code",
   "execution_count": 33,
   "metadata": {},
   "outputs": [
    {
     "data": {
      "text/plain": [
       "['chicken', 'cinnamon', 'soy_sauce', 'onion', 'ginger', ...]"
      ]
     },
     "execution_count": 33,
     "metadata": {},
     "output_type": "execute_result"
    }
   ],
   "source": [
    "my_corpus.words(categories='African')"
   ]
  },
  {
   "cell_type": "code",
   "execution_count": 38,
   "metadata": {},
   "outputs": [
    {
     "data": {
      "text/plain": [
       "[['butter', 'onion', 'potato', 'haddock', 'black_pepper', 'parsley', 'celery', 'milk_fat', 'smoke', 'milk', 'cream', 'recipe2864'], ['butter', 'lemon_juice', 'wheat', 'yeast', 'apricot', 'milk_fat', 'egg', 'milk', 'recipe2865'], ...]"
      ]
     },
     "execution_count": 38,
     "metadata": {},
     "output_type": "execute_result"
    }
   ],
   "source": [
    "my_corpus.sents(categories=['EasternEuropean', 'NorthernEuropean', 'SouthernEuropean', 'WesternEuropean'])"
   ]
  },
  {
   "cell_type": "markdown",
   "metadata": {},
   "source": [
    "### Step 3. Exploratory Data Analysis"
   ]
  },
  {
   "cell_type": "code",
   "execution_count": null,
   "metadata": {},
   "outputs": [],
   "source": [
    "print(ING.shape)"
   ]
  },
  {
   "cell_type": "code",
   "execution_count": null,
   "metadata": {},
   "outputs": [],
   "source": [
    "print(COU.shape)"
   ]
  },
  {
   "cell_type": "code",
   "execution_count": null,
   "metadata": {},
   "outputs": [],
   "source": [
    "def EDA_DF(df):\n",
    "    \n",
    "    pd.options.display.float_format = '{:,.2f}'.format\n",
    "    #EDA_DF 1. Getting file domensions.\n",
    "    print(df.shape)\n",
    "\n",
    "    \n",
    "    #EDA_DF 2. Looking at columns\n",
    "    print(df.columns.values)\n",
    "\n",
    "    \n",
    "    #EDA_DF 3. We get column description.\n",
    "    print(df.describe())\n",
    "\n",
    "    #EDA_DF 4. Let's check variables types.\n",
    "    print(df.info())\n",
    "\n",
    "    #EDA_DF 5. Let's see how many vaues are missing\n",
    "    print(df.isnull().sum())\n",
    "\n",
    "    #EDA_DF 6. Let's see first raws of the dataset.\n",
    "    print(df.head())\n",
    " \n",
    "\n",
    "EDA_DF(ING)"
   ]
  },
  {
   "cell_type": "markdown",
   "metadata": {},
   "source": [
    "Number of shared compounds varies from 1 to 227, with average of 9. Most compounds share just one ingredient."
   ]
  },
  {
   "cell_type": "code",
   "execution_count": null,
   "metadata": {},
   "outputs": [],
   "source": [
    "EDA_DF(COU)"
   ]
  },
  {
   "cell_type": "markdown",
   "metadata": {},
   "source": [
    "Number of ingredients in recipies varies from 1 to 32."
   ]
  },
  {
   "cell_type": "markdown",
   "metadata": {},
   "source": [
    "#### 3.1 Flavour Compound Data"
   ]
  },
  {
   "cell_type": "code",
   "execution_count": null,
   "metadata": {},
   "outputs": [],
   "source": [
    "ING.sort_values(by='NumRecipes', ascending=False).head()"
   ]
  },
  {
   "cell_type": "markdown",
   "metadata": {},
   "source": [
    "2 types of beer share the most flavour compounds."
   ]
  },
  {
   "cell_type": "code",
   "execution_count": null,
   "metadata": {},
   "outputs": [],
   "source": [
    "ING['test'] = ING.apply(lambda x: x['Ing1'] in x['Ing2'], axis=1)\n",
    "\n",
    "ING[ING['test']==True].head()"
   ]
  },
  {
   "cell_type": "markdown",
   "metadata": {},
   "source": [
    "Many ingredients have simular names and generally are simular ingredients, such as pork and pork liver and so on."
   ]
  },
  {
   "cell_type": "code",
   "execution_count": null,
   "metadata": {},
   "outputs": [],
   "source": [
    "ING1=pd.melt(ING, id_vars=['NumRecipes'], value_vars=['Ing1', 'Ing2'])\n",
    "\n",
    "ING1.head()"
   ]
  },
  {
   "cell_type": "code",
   "execution_count": null,
   "metadata": {},
   "outputs": [],
   "source": [
    "temp = ING1.value.value_counts()\n",
    "temp.head()"
   ]
  },
  {
   "cell_type": "markdown",
   "metadata": {},
   "source": [
    "Black tea has the most occurances in the dataset - 989. Alltogether we have 1,507 unique ingredients."
   ]
  },
  {
   "cell_type": "code",
   "execution_count": null,
   "metadata": {},
   "outputs": [],
   "source": [
    "ING[(ING['Ing1']=='black_tea') | (ING['Ing2']=='black_tea')].head()"
   ]
  },
  {
   "cell_type": "code",
   "execution_count": null,
   "metadata": {},
   "outputs": [],
   "source": [
    "INGsub=ING[ING['NumRecipes']>134]\n",
    "\n",
    "import networkx as nx\n",
    "G=nx.from_pandas_edgelist(INGsub, 'Ing1', 'Ing2', 'NumRecipes')\n",
    "pos = nx.circular_layout(G)\n",
    "\n",
    "import matplotlib.pyplot as plt \n",
    "\n",
    "plt.rcParams[\"figure.figsize\"] = (15,15) # set plot size\n",
    "\n",
    "#weights = [math.log(edata['attr_dict'][200]) for f, t, edata in G0.edges(data=True)] # set weights\n",
    "\n",
    "nx.draw(G, pos, with_labels=True,  node_size=50, \n",
    "        font_size=8,  edge_color=\"skyblue\")"
   ]
  },
  {
   "cell_type": "code",
   "execution_count": null,
   "metadata": {},
   "outputs": [],
   "source": [
    "tea=ING[((ING['Ing1']=='black_tea') | (ING['Ing2']=='black_tea')) & (ING['NumRecipes']>60)]\n",
    "tea.head()"
   ]
  },
  {
   "cell_type": "code",
   "execution_count": null,
   "metadata": {},
   "outputs": [],
   "source": [
    "G=nx.from_pandas_edgelist(tea, 'Ing1', 'Ing2', 'NumRecipes')\n",
    "pos = nx.circular_layout(G)\n",
    "\n",
    "plt.rcParams[\"figure.figsize\"] = (15,15) # set plot size\n",
    "\n",
    "#weights = [math.log(edata['attr_dict'][200]) for f, t, edata in G0.edges(data=True)] # set weights\n",
    "\n",
    "nx.draw(G, pos, with_labels=True,  node_size=50, \n",
    "        font_size=9,  edge_color=\"skyblue\")"
   ]
  },
  {
   "cell_type": "markdown",
   "metadata": {},
   "source": [
    "To my surprise, black tea shares so many different compounds with so many diverse types of food, such as whiskey or mashed potato. None of them taste as tea to me:)"
   ]
  },
  {
   "cell_type": "code",
   "execution_count": null,
   "metadata": {},
   "outputs": [],
   "source": [
    "ING['sclog']=np.log(ING['NumRecipes'])\n",
    "ING.head()"
   ]
  },
  {
   "cell_type": "code",
   "execution_count": null,
   "metadata": {},
   "outputs": [],
   "source": [
    "plt.rcParams[\"figure.figsize\"] = (14,6) # set plot size\n",
    "def myhist(df,mycolumns):\n",
    "    \n",
    "    from matplotlib.pyplot import figure\n",
    "    figure(num=None, figsize=(20, 6), dpi=80, facecolor='w', edgecolor='k')\n",
    "\n",
    "    for i in mycolumns: \n",
    "        df.hist(column=i, bins=50) \n",
    "        \n",
    "myhist(ING,['NumRecipes'])"
   ]
  },
  {
   "cell_type": "markdown",
   "metadata": {},
   "source": [
    "As we already have seen most ingredients do not share flavour compounds."
   ]
  },
  {
   "cell_type": "code",
   "execution_count": null,
   "metadata": {},
   "outputs": [],
   "source": [
    "plt.rcParams[\"figure.figsize\"] = (12,5) # set plot size\n",
    "ING.boxplot(column='sclog')"
   ]
  },
  {
   "cell_type": "code",
   "execution_count": null,
   "metadata": {},
   "outputs": [],
   "source": [
    "plt.rcParams[\"figure.figsize\"] = (20,7) \n",
    "temp.hist(bins=100)"
   ]
  },
  {
   "cell_type": "code",
   "execution_count": null,
   "metadata": {
    "scrolled": true
   },
   "outputs": [],
   "source": [
    "temp1=np.log(temp)\n",
    "\n",
    "temp1.hist(bins=100)"
   ]
  },
  {
   "cell_type": "markdown",
   "metadata": {},
   "source": [
    "We have some ingredients to appear only once or twice in the dataset, but most appear much more often."
   ]
  },
  {
   "cell_type": "markdown",
   "metadata": {},
   "source": [
    "#### 3.2 Recipes Data"
   ]
  },
  {
   "cell_type": "code",
   "execution_count": null,
   "metadata": {},
   "outputs": [],
   "source": [
    "temp=32-COU.isnull().sum(axis=1)\n",
    "\n",
    "temp.hist(bins=33)"
   ]
  },
  {
   "cell_type": "markdown",
   "metadata": {},
   "source": [
    "Number of ingredients in recipies is right skewed. But generally we have very few recipies with more than 15 ingredients."
   ]
  },
  {
   "cell_type": "code",
   "execution_count": null,
   "metadata": {},
   "outputs": [],
   "source": [
    "tempdf=temp.to_frame()\n",
    "\n",
    "tempdf.head()"
   ]
  },
  {
   "cell_type": "code",
   "execution_count": null,
   "metadata": {},
   "outputs": [],
   "source": [
    "COU1=COU['Cuisine']\n",
    "\n",
    "temp1=tempdf.join(COU, how='outer')\n",
    "\n",
    "temp1.groupby('Cuisine').count()"
   ]
  },
  {
   "cell_type": "markdown",
   "metadata": {},
   "source": [
    "NorthAmerican recipies represent disproportional number of recipies 41,524 out of 56,498; NorthernEuropean are the most underrepresented - only 250."
   ]
  },
  {
   "cell_type": "code",
   "execution_count": null,
   "metadata": {},
   "outputs": [],
   "source": [
    "temp1['Cuisine'].value_counts().plot(kind='bar')"
   ]
  },
  {
   "cell_type": "code",
   "execution_count": null,
   "metadata": {},
   "outputs": [],
   "source": [
    "COU2=pd.melt(COU, id_vars=['Cuisine'], value_vars=['I1', 'I2','I3','I4','I5','I6','I7','I8','I9','I10','I11','I12','I13','I14',\n",
    "                                                  'I15','I16','I17','I18','I19','I20','I21','I22','I23','I24','I25','I26',\n",
    "                                                  'I27','I28','I29','I30','I31','I32'])\n",
    "\n",
    "COU2.head()"
   ]
  },
  {
   "cell_type": "code",
   "execution_count": null,
   "metadata": {},
   "outputs": [],
   "source": [
    "COU2=COU2.rename(columns={\"value\": \"Ing\"})\n",
    "\n",
    "COU2.head()"
   ]
  },
  {
   "cell_type": "code",
   "execution_count": null,
   "metadata": {
    "scrolled": true
   },
   "outputs": [],
   "source": [
    "temp = COU2.Ing.value_counts()\n",
    "temp.head()"
   ]
  },
  {
   "cell_type": "code",
   "execution_count": null,
   "metadata": {},
   "outputs": [],
   "source": [
    "temp.tail()"
   ]
  },
  {
   "cell_type": "markdown",
   "metadata": {},
   "source": [
    "We have 381 unique ingredients. Accross all recipies, egg is the most popular ingredient, wheat is second, and butter is third. Durain, beech, strawberry jam are all precent in just one recipe. "
   ]
  },
  {
   "cell_type": "code",
   "execution_count": null,
   "metadata": {},
   "outputs": [],
   "source": [
    "np.log(temp).hist(bins=50)"
   ]
  },
  {
   "cell_type": "markdown",
   "metadata": {},
   "source": [
    "If we take log of ingredient occurences we get some combination of normal and uniform."
   ]
  },
  {
   "cell_type": "code",
   "execution_count": null,
   "metadata": {},
   "outputs": [],
   "source": [
    "temp1=COU2.groupby(['Cuisine','Ing']).count()\n",
    "\n",
    "temp1.reset_index().head()"
   ]
  },
  {
   "cell_type": "code",
   "execution_count": null,
   "metadata": {},
   "outputs": [],
   "source": [
    "temp1.groupby('Cuisine').count()"
   ]
  },
  {
   "cell_type": "markdown",
   "metadata": {},
   "source": [
    "Our recipies, for Northern America, have 354 different ingredients, while for Northern European, they have only 175 unique ingredients."
   ]
  },
  {
   "cell_type": "code",
   "execution_count": null,
   "metadata": {},
   "outputs": [],
   "source": [
    "pairs = pd.DataFrame({'Cuisine' : [], 'Ing1': [], 'Ing2' : []})\n",
    "for i in range(1,32):\n",
    "    for j in range((i+1),33):\n",
    "        temp=COU.iloc[:,[0,i,j]]\n",
    "        temp.columns=['Cuisine','Ing1','Ing2']\n",
    "        temp=temp.dropna()\n",
    "        pairs=pairs.append(temp,ignore_index=True)\n",
    "        \n",
    "   "
   ]
  },
  {
   "cell_type": "code",
   "execution_count": null,
   "metadata": {},
   "outputs": [],
   "source": [
    "pairs1=pairs.dropna()\n",
    "\n",
    "pairs1.head()"
   ]
  },
  {
   "cell_type": "code",
   "execution_count": null,
   "metadata": {},
   "outputs": [],
   "source": [
    "pairs2=pairs1.reset_index()\n",
    "\n",
    "pairs3=pairs2.groupby(['Cuisine','Ing1','Ing2'], as_index=False).count()\n",
    "\n",
    "pairs3.head()"
   ]
  },
  {
   "cell_type": "code",
   "execution_count": null,
   "metadata": {},
   "outputs": [],
   "source": [
    "pairs3.shape"
   ]
  },
  {
   "cell_type": "code",
   "execution_count": null,
   "metadata": {},
   "outputs": [],
   "source": [
    "pairs3.sort_values(by='index', ascending=False).head(10)"
   ]
  },
  {
   "cell_type": "markdown",
   "metadata": {},
   "source": [
    "Out of all pairs \"wheat\"-\"egg\" came the first."
   ]
  },
  {
   "cell_type": "code",
   "execution_count": null,
   "metadata": {},
   "outputs": [],
   "source": [
    "myhist(pairs3,['index'])"
   ]
  },
  {
   "cell_type": "markdown",
   "metadata": {},
   "source": [
    "Interestingly that most pairs do not have such a high frequency."
   ]
  },
  {
   "cell_type": "code",
   "execution_count": null,
   "metadata": {},
   "outputs": [],
   "source": [
    "pairs3['LogInd']=np.log(pairs3['index'])\n",
    "\n",
    "myhist(pairs3,['LogInd'])"
   ]
  },
  {
   "cell_type": "code",
   "execution_count": null,
   "metadata": {},
   "outputs": [],
   "source": [
    "pairs4=pairs3[(pairs3['index']>600) & (pairs3['Cuisine']=='NorthAmerican')]\n",
    "pairs4.shape"
   ]
  },
  {
   "cell_type": "code",
   "execution_count": null,
   "metadata": {},
   "outputs": [],
   "source": [
    "G=nx.from_pandas_edgelist(pairs4, 'Ing1', 'Ing2', 'index')\n",
    "pos = nx.circular_layout(G)"
   ]
  },
  {
   "cell_type": "code",
   "execution_count": null,
   "metadata": {},
   "outputs": [],
   "source": [
    "plt.rcParams[\"figure.figsize\"] = (15,15) # set plot size\n",
    "\n",
    "#weights = [math.log(edata['attr_dict'][200]) for f, t, edata in G0.edges(data=True)] # set weights\n",
    "\n",
    "nx.draw(G, pos, with_labels=True,  node_size=50, \n",
    "        font_size=11,  edge_color=\"skyblue\")"
   ]
  },
  {
   "cell_type": "markdown",
   "metadata": {},
   "source": [
    "Above is a graph of the most common ingredients of North American cuisine and their intercations."
   ]
  },
  {
   "cell_type": "markdown",
   "metadata": {},
   "source": [
    "### 4. Analysis\n"
   ]
  },
  {
   "cell_type": "markdown",
   "metadata": {},
   "source": [
    "#### 4.1 Number of Ingredients by Cuisine."
   ]
  },
  {
   "cell_type": "code",
   "execution_count": null,
   "metadata": {},
   "outputs": [],
   "source": [
    "temp=32-COU.isnull().sum(axis=1)\n",
    "tempdf=temp.to_frame()\n",
    "temp1=tempdf.join(COU, how='outer')"
   ]
  },
  {
   "cell_type": "code",
   "execution_count": null,
   "metadata": {},
   "outputs": [],
   "source": [
    "temp1.groupby('Cuisine').mean()"
   ]
  },
  {
   "cell_type": "markdown",
   "metadata": {},
   "source": [
    "SoutheastAsian recipies have the most ingredients, while NorthernEuropean ones have the fewest."
   ]
  },
  {
   "cell_type": "code",
   "execution_count": null,
   "metadata": {},
   "outputs": [],
   "source": [
    "plt.rcParams[\"figure.figsize\"] = (14,6) # set plot size\n",
    "temp1.groupby('Cuisine').mean().reset_index().plot.bar(x='Cuisine')"
   ]
  },
  {
   "cell_type": "code",
   "execution_count": null,
   "metadata": {},
   "outputs": [],
   "source": [
    "temp2=temp1.reset_index()\n",
    "\n",
    "\n",
    "plt.rcParams[\"figure.figsize\"] = (15,15) # set plot size\n",
    "temp1[0].hist(by=temp1['Cuisine'],bins=25)"
   ]
  },
  {
   "cell_type": "markdown",
   "metadata": {},
   "source": [
    "Histograms of number of ingredients by cuisine"
   ]
  },
  {
   "cell_type": "markdown",
   "metadata": {},
   "source": [
    "#### 4.2 Venn Diagram\n"
   ]
  },
  {
   "cell_type": "code",
   "execution_count": null,
   "metadata": {},
   "outputs": [],
   "source": [
    "import matplotlib_venn as venn\n",
    "\n",
    "from matplotlib_venn import venn3"
   ]
  },
  {
   "cell_type": "code",
   "execution_count": null,
   "metadata": {},
   "outputs": [],
   "source": [
    "VD=COU2[['Cuisine','Ing']]\n",
    "VD1=VD.dropna()\n",
    "afr=VD1[VD1['Cuisine']=='African']\n",
    "ea=VD1[VD1['Cuisine']=='EastAsian']\n",
    "ee=VD1[VD1['Cuisine']=='EasternEuropean']\n",
    "la=VD1[VD1['Cuisine']=='LatinAmerican']\n",
    "me=VD1[VD1['Cuisine']=='MiddleEastern']\n",
    "na=VD1[VD1['Cuisine']=='NorthAmerican']\n",
    "ne=VD1[VD1['Cuisine']=='NorthernEuropean']\n",
    "sa=VD1[VD1['Cuisine']=='SouthAsian']\n",
    "sea=VD1[VD1['Cuisine']=='SoutheastAsian']\n",
    "se=VD1[VD1['Cuisine']=='SouthernEuropean']\n",
    "we=VD1[VD1['Cuisine']=='WesternEuropean']"
   ]
  },
  {
   "cell_type": "code",
   "execution_count": null,
   "metadata": {},
   "outputs": [],
   "source": [
    "set1 = set(afr['Ing'])\n",
    "set2 = set(ea['Ing'])\n",
    "set3 = set(ee['Ing'])\n",
    "set4 = set(la['Ing'])\n",
    "set5 = set(me['Ing'])\n",
    "set6 = set(na['Ing'])\n",
    "set7 = set(ne['Ing'])\n",
    "set8 = set(sa['Ing'])\n",
    "set9 = set(sea['Ing'])\n",
    "set10 = set(se['Ing'])\n",
    "set11 = set(we['Ing'])"
   ]
  },
  {
   "cell_type": "code",
   "execution_count": null,
   "metadata": {},
   "outputs": [],
   "source": [
    "plt.rcParams[\"figure.figsize\"] = (11,6) # set plot size\n",
    "venn3([set1, set2, set3], ('African', 'EastAsian', 'EasternEuropean'))"
   ]
  },
  {
   "cell_type": "markdown",
   "metadata": {},
   "source": [
    "Interesting, African cuisine has 18 unique ingredients, while East Asian has 50!, and Eastern European has only 15."
   ]
  },
  {
   "cell_type": "markdown",
   "metadata": {},
   "source": [
    "18 unique African ingredients:"
   ]
  },
  {
   "cell_type": "code",
   "execution_count": null,
   "metadata": {},
   "outputs": [],
   "source": [
    "set1.difference(set2).difference(set3)"
   ]
  },
  {
   "cell_type": "markdown",
   "metadata": {},
   "source": [
    "Analysis of 18 ingredients leads us to conclude that data is very incomplete. Peach is used in East Asian cuisine for instance and sunflower oil is extremly popular in Eastern Europe. So it is not clear why these ingredients were not include in the dataset."
   ]
  },
  {
   "cell_type": "markdown",
   "metadata": {},
   "source": [
    "50 unique East Asian ingredients:"
   ]
  },
  {
   "cell_type": "code",
   "execution_count": null,
   "metadata": {
    "scrolled": false
   },
   "outputs": [],
   "source": [
    "set2.difference(set1).difference(set3)"
   ]
  },
  {
   "cell_type": "markdown",
   "metadata": {},
   "source": [
    "As coming from Eastern Europe, I can pinpoint that beef liver, grape, melon, oatmeal, and watermelon are all common ingredients in Eastern Europe, so the reasons for exclusion is not clear."
   ]
  },
  {
   "cell_type": "markdown",
   "metadata": {},
   "source": [
    "15 unique Eastern Europen ingredients:"
   ]
  },
  {
   "cell_type": "code",
   "execution_count": null,
   "metadata": {},
   "outputs": [],
   "source": [
    "set3.difference(set1).difference(set2)"
   ]
  },
  {
   "cell_type": "code",
   "execution_count": null,
   "metadata": {},
   "outputs": [],
   "source": [
    "venn3([set4, set5, set6], ('LatinAmerican', 'MiddleEastern', 'NorthAmerican'))"
   ]
  },
  {
   "cell_type": "markdown",
   "metadata": {},
   "source": [
    "North American cuisine has 69 unique ingredients, that are not part of either Latin American or Middle Eastern cuisine. All 3 cuisines share 200 common ingredients."
   ]
  },
  {
   "cell_type": "code",
   "execution_count": null,
   "metadata": {},
   "outputs": [],
   "source": [
    "venn3([set7, set8, set9], ('NorthernEuropean', 'SouthAsian', 'SoutheastAsian'))"
   ]
  },
  {
   "cell_type": "markdown",
   "metadata": {},
   "source": [
    "These 3 cuisines have a lot unique ingredients. Northern European has 28 ingredients it does not share with other 2. While Southeast Asian has 27 unique ingredients and South Asian 31."
   ]
  },
  {
   "cell_type": "code",
   "execution_count": null,
   "metadata": {},
   "outputs": [],
   "source": [
    "venn3([set10, set11, set2], ('SouthernEuropean', 'WesternEuropean', 'EastAsian'))"
   ]
  },
  {
   "cell_type": "markdown",
   "metadata": {},
   "source": [
    "Surprisingly, these 3 cuisines have huge overlap with each other, even though East Asian does not use ~ 100 ingredients that European cousins do. "
   ]
  },
  {
   "cell_type": "markdown",
   "metadata": {},
   "source": [
    "#### 4.3 Unique Ingredients by Cuisine."
   ]
  },
  {
   "cell_type": "markdown",
   "metadata": {},
   "source": [
    "African cuisne does not have any ingredients that are not part of 10 other cuisines. \n",
    "\n",
    "East Asian has 6 unique ingredients. I am not clear what raw beef means. If it is not cooked then French eat raw beef as well. "
   ]
  },
  {
   "cell_type": "code",
   "execution_count": null,
   "metadata": {},
   "outputs": [],
   "source": [
    "set2.difference(set1).difference(set3).difference(set4).difference(set5).difference(set6).difference(set7).difference(set8).difference(set9).difference(set10).difference(set11)"
   ]
  },
  {
   "cell_type": "markdown",
   "metadata": {},
   "source": [
    "Eastern European, Latin American, Middle Eastern cuisines do not have unique ingredients.\n",
    "\n",
    "North America has 20 unique ingredients. Again, I do not agree with data. Jasmine tea is much more popular in East Asia, than in North America. The same applies to mate, more popular in South America. Again, roasted hazelnut consumed in Europe and Middle East. And carob is consumed widely in Middle East. And as a last straw, sturgeon caviar made to North American list, but not to Eastern European! So on, and so on."
   ]
  },
  {
   "cell_type": "code",
   "execution_count": null,
   "metadata": {},
   "outputs": [],
   "source": [
    "set6.difference(set1).difference(set2).difference(set3).difference(set4).difference(set5).difference(set7).difference(set8).difference(set9).difference(set10).difference(set11)"
   ]
  },
  {
   "cell_type": "markdown",
   "metadata": {},
   "source": [
    "Southeast Asian unique ingredients are:"
   ]
  },
  {
   "cell_type": "code",
   "execution_count": null,
   "metadata": {},
   "outputs": [],
   "source": [
    "set9.difference(set1).difference(set2).difference(set3).difference(set4).difference(set5).difference(set6).difference(set7).difference(set8).difference(set10).difference(set11)"
   ]
  },
  {
   "cell_type": "markdown",
   "metadata": {},
   "source": [
    "Southern European unique ingredients are:"
   ]
  },
  {
   "cell_type": "code",
   "execution_count": null,
   "metadata": {},
   "outputs": [],
   "source": [
    "set10.difference(set1).difference(set2).difference(set3).difference(set4).difference(set5).difference(set6).difference(set7).difference(set8).difference(set9).difference(set11)"
   ]
  },
  {
   "cell_type": "markdown",
   "metadata": {},
   "source": [
    "Western European unique ingredients are (I am not sure that Jamacain people will agree that Jamaican Rum is uniqely Western European):"
   ]
  },
  {
   "cell_type": "code",
   "execution_count": null,
   "metadata": {},
   "outputs": [],
   "source": [
    "set11.difference(set1).difference(set2).difference(set3).difference(set4).difference(set5).difference(set6).difference(set7).difference(set8).difference(set9).difference(set10)"
   ]
  },
  {
   "cell_type": "markdown",
   "metadata": {},
   "source": [
    "#### 4.4 Most Common Ingredients by Cuisine."
   ]
  },
  {
   "cell_type": "code",
   "execution_count": null,
   "metadata": {
    "scrolled": false
   },
   "outputs": [],
   "source": [
    "pd.set_option('display.max_rows', 400)\n",
    "temp1=COU2.groupby(['Cuisine','Ing']).count()\n",
    "temp1.sort_values(['Cuisine','variable'],ascending = False).groupby('Cuisine').head(10)"
   ]
  },
  {
   "cell_type": "markdown",
   "metadata": {},
   "source": [
    "Depending on cuisine, the most common ingredients are different. For instance, for Western European, the most common ingredients are butter, egg, and wheat, while for African are olive oil, onion, and cumin."
   ]
  },
  {
   "cell_type": "markdown",
   "metadata": {},
   "source": [
    "Some observations:"
   ]
  },
  {
   "cell_type": "markdown",
   "metadata": {},
   "source": [
    "- Butter is the most common ingredient in Western Europe, Northern Europe, North America, and Eastern Europe. However, it does not make in top 3 in any other cuisines. In Southern Europe, it is # 10, in Middle East # 6.\n",
    "- Olive oil is # 1 ingredient in Southern Europe and Africa, in Middle East it is the 2nd most common ingredient. In Western Europe it is # 9.\n",
    "- Garlic - number 1 in Southeast Asian, number 2 in Southern Europe and East Asia, number 3 in Latin America. # 8 in Western Europe, # 5 in South Asia, # 6 in North America, # 5 in Middle East, # 8 in Eastern Europe, # 4 in Africa. I think we can say that garlic is loved all around the world, except for Northern Europe.\n",
    "- Cumin - number 1 in South Asia, number 3 in Africa\n",
    "- Wheat - number 1 in Middle East, number 2 in Northern Europe, number 3 in Western Europe, Eastern Europe, and North America\n",
    "- Cayenne - number 1 in Latin America, number 3 in Southeast Asia\n",
    "- Soy Sauce - number 1 in East Asia\n",
    "- Fats - as we already mentioned, the most common fat in Western Europe, Northern Europe, North America, and Eastern Europe is butter. In Southern Europe, Africa, and Middle East, it is olive oil. In Southeast Asia, South Asia, and Latin America, it is generic vegetable oil. In East Asia, it is sesame oil.\n",
    "- Most common protein - in Western Europe, Southern Europe, Northern Europe, North America, Middle East, Eastern Europe it is egg. In Southeast Asia, it is fish. In South Asia, it is yogurt. In Latin America, it is cheese. In East Asia, soybean. In Africa, it is chicken.\n",
    "- Most common carbs - in Western Europe, Southern Europe, Northern Europe, North America, Middle East, Eastern Europe, and Africa it is wheat. In Southeast Asia, South Asia, and East Asia it is rice. In Latin America, it is corn.  \n",
    "- Most common spice - in Western Europe, Northern Europe, North America, Middle East, Eastern Europe, and Africa - onion. In Southern Europe, Southeast Asia, and East Asia, garlic. In South Asia, cumin. In Latin America, cayenne.\n",
    "- Most common vegetable - in Western Europe, Northern Europe, and Eastern Europe, potato. In Southern Europe, South Asia, North America, Middle East, and Latin America, tomato. In Southeast Asia and Africa, bell pepper. In East Asia, carrot.\n",
    "- The most common meat - \n"
   ]
  },
  {
   "cell_type": "markdown",
   "metadata": {},
   "source": [
    "#### 4.5 Most Common Ingredient Pairs by Cuisine"
   ]
  },
  {
   "cell_type": "code",
   "execution_count": null,
   "metadata": {
    "scrolled": true
   },
   "outputs": [],
   "source": [
    "pairs3.sort_values(['Cuisine','index'],ascending = False).groupby('Cuisine').head(6)"
   ]
  },
  {
   "cell_type": "markdown",
   "metadata": {},
   "source": [
    "Observations:\n",
    "\n",
    "- Butter and Wheat - in Western European and Northern European cuisines, mit is the most common combination. In North America and Eastern Europe, it is the second most common. Butter is also commonly cooked with egg. Wheat is also commonly cooked with egg as well.\n",
    "- Olive Oil and Garlic - in Southern Europe, it is the most common combination. In Middle East and Africa, it is the second most common combination. Both olive oil and garlic often cooked with tomatoes. Olive oil is also common,y cooked with cummin and onions.\n",
    "- Garlic and Vegetable Oil - similar to Olive Oil and Garlic above, in Southeast Asia, it is the most common combination.\n",
    "- Cumin and Tumeric - these 2 spices is the most common combination in South Asia. Both of these spices are often cooked with coriander.\n",
    "- Wheat and Egg - as already mentioned, this is a popular combination. Actually, it is # 1 combination in Northern America, Middle East, and Eastern Europe.\n",
    "- Onion and Cayenne - spicy! The most common combination in Latin America. Onion is also commonly cooked with olive oil and tomato.\n",
    "- Cayenne and Scalion - spicy again. The most common combination is East Asia.\n",
    "- Olive Oil and Cumin - the most common combination in Africa.\n",
    "- Fat + Carb Combo - we have seen very common combo, such as Butter and Wheat, to some extend Egg and Wheat, Milk and Wheat, Wheat and Cream can be included\n",
    "- Fat + Spice - a lot of combinations, such as Olive Oil and Garlic, Olive Oil and Onion, Olive Oil and Basil, Olive Oil and Cumin, Vegetable Oil and Garlic, Olive Oil and Parsley, Sesame Oil and Soy Sauce, Sesame Oil and Scallion, Sesame Oil and Garlic\n",
    "- Spice + Spice - extremly popular. Examples are Ginger and Garlic, Coriander and Cumin, Cumin and Tumeric (curry), Coriander and Tumeric, Onion and Cumin, Onion and Tumeric, Cayenne and Cumin, Onion and Cayenne, Onion and Garlic, Cayenne and Garlic, and many more\n",
    "\n",
    "As we already started to see, different cuisines use different ingredients and different approaches to food combinations."
   ]
  },
  {
   "cell_type": "code",
   "execution_count": null,
   "metadata": {},
   "outputs": [],
   "source": []
  }
 ],
 "metadata": {
  "kernelspec": {
   "display_name": "Python 3",
   "language": "python",
   "name": "python3"
  },
  "language_info": {
   "codemirror_mode": {
    "name": "ipython",
    "version": 3
   },
   "file_extension": ".py",
   "mimetype": "text/x-python",
   "name": "python",
   "nbconvert_exporter": "python",
   "pygments_lexer": "ipython3",
   "version": "3.7.4"
  }
 },
 "nbformat": 4,
 "nbformat_minor": 2
}
