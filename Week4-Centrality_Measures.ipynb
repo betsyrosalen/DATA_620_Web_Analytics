{
 "cells": [
  {
   "cell_type": "markdown",
   "metadata": {},
   "source": [
    "### Week 4 - Assignment Centrality Measures"
   ]
  },
  {
   "cell_type": "markdown",
   "metadata": {},
   "source": [
    "__Project Overview:__"
   ]
  },
  {
   "cell_type": "markdown",
   "metadata": {},
   "source": [
    "This week's assignment is to:\n",
    "\n",
    "Centrality measures can be used to predict (positive or negative) outcomes for a node.\n",
    "\n",
    "Your task in this week’s assignment is to identify an interesting set of network data that is available on the web (either through web scraping or web APIs) that could be used for analyzing and comparing centrality measures across nodes.  As an additional constraint, there should be at least one categorical variable available for each node (such as “Male” or “Female”; “Republican”, “Democrat,” or “Undecided”, etc.)\n",
    "\n",
    "In addition to identifying your data source, you should create a high level plan that describes how you would load the data for analysis, and describe a hypothetical outcome that could be predicted from comparing degree centrality across categorical groups. \n",
    "\n",
    "For this week’s assignment, you are not required to actually load or analyze the data.  Please see also Project 1 below."
   ]
  },
  {
   "cell_type": "markdown",
   "metadata": {},
   "source": [
    "__Centrality Measures and a Node__"
   ]
  },
  {
   "cell_type": "markdown",
   "metadata": {},
   "source": [
    "__1. Degree Centrality__ how many direct, ‘one hop’ connections each node has to other nodes within the network.[1]\n",
    "\n",
    "__2. Betweenness Centrality__ This measure shows which nodes act as ‘bridges’ between nodes in a network.[1]\n",
    "\n",
    "__3. Closeness Centrality__ This measure calculates the shortest paths between all nodes, then assigns each node a score based on its sum of shortest paths.[1]\n",
    "\n",
    "__4. EigenCentrality__ By calculating the extended connections of a node, EigenCentrality can identify nodes with influence over the whole network, not just those directly connected to it.[1]\n",
    "\n",
    "__5. PageRank__ This measure uncovers nodes whose influence extends beyond their direct connections into the wider network.[1]\n",
    "\n",
    "[1] https://cambridge-intelligence.com/keylines-faqs-social-network-analysis/\n"
   ]
  },
  {
   "cell_type": "markdown",
   "metadata": {},
   "source": [
    "\n",
    "\n",
    "__Step 1. Identifying Interesting Network Data.__\n"
   ]
  },
  {
   "cell_type": "markdown",
   "metadata": {},
   "source": [
    "After a prolong search, we found a classical network - transportation network of __flight data OpenFlight.__\n",
    "\n",
    "Link to data source: https://openflights.org/\n",
    "\n",
    "__OpenFlight__ describes itself as:\n",
    "\n",
    "_\"OpenFlights is a tool that lets you map your flights around the world, search and filter them in all sorts of interesting ways, calculate statistics automatically, and share your flights and trips with friends and the entire world (if you wish).\"_\n",
    "\n",
    "__OpenFlight__ consists of the following datasets:\n",
    "\n",
    "- Airports\n",
    "- Airlines\n",
    "- Routes\n",
    "- Planes\n",
    "- Schedules\n",
    "\n",
    "We have choosen to use __Routes__ dataset to build our network. Our Node will be __an Airport__. We would need __Airports__ set to come up with a categorical variable.\n",
    "\n",
    "Data elements of __Routes__ set are:\n",
    "\n",
    "- Airline\n",
    "- Airline ID\n",
    "- Source Airport\n",
    "- Source Airport ID\n",
    "- Destination Airport\n",
    "- Destination Airport ID\n",
    "- Codeshare\n",
    "- Stops\n",
    "- Equipment\n",
    "\n",
    "Data elements of __Airports__ set are:\n",
    "\n",
    "- Airport ID\n",
    "- Name\n",
    "- City\n",
    "- Country\n",
    "- IATA\n",
    "- ICAO\n",
    "- Latitude\n",
    "- Longtitude\n",
    "- Altitude\n",
    "- Timezone\n",
    "- DST\n",
    "- Tz database time zone\n",
    "- Type\n",
    "- Source\n",
    "\n",
    "Data is saved as .DAT files. They are UTF-8 encoded.\n",
    "\n"
   ]
  },
  {
   "cell_type": "markdown",
   "metadata": {},
   "source": [
    "__Step 2. Choosing Categorical Variable.__"
   ]
  },
  {
   "cell_type": "markdown",
   "metadata": {},
   "source": [
    "We have decided that a good categorical variable for our network would be __NorthSouthFlag.__ We will use Latitude variable to create the flag. Negative latitude is South, and positive latitude is North."
   ]
  },
  {
   "cell_type": "markdown",
   "metadata": {},
   "source": [
    "__Step 3. Plan on How to Load Our Data.__"
   ]
  },
  {
   "cell_type": "markdown",
   "metadata": {},
   "source": [
    "- The website allows us to load the data file, which we can then move to our GitHub account. \n",
    "- From Github, we can read data in Python, link two datasets to pull __NorthSouthFlag__.\n",
    "- We then will transform __Routes__ into network type data using NetworkX.\n",
    "- Once our data converted to network type, we can treat our data as any other network."
   ]
  },
  {
   "cell_type": "markdown",
   "metadata": {},
   "source": [
    "__Step 4. Hypothetical Outcome of Comparing Degree Centrality between North and South.__"
   ]
  },
  {
   "cell_type": "markdown",
   "metadata": {},
   "source": [
    "We believe that Northern airports (where high developed Northern American, European, and East Asian countries are located) are more centralized, interconnected, and have more dirrect flights, so they will score higher in Degree Centrality, Betweenness and Closeness."
   ]
  }
 ],
 "metadata": {
  "kernelspec": {
   "display_name": "Python 3",
   "language": "python",
   "name": "python3"
  },
  "language_info": {
   "codemirror_mode": {
    "name": "ipython",
    "version": 3
   },
   "file_extension": ".py",
   "mimetype": "text/x-python",
   "name": "python",
   "nbconvert_exporter": "python",
   "pygments_lexer": "ipython3",
   "version": "3.7.3"
  }
 },
 "nbformat": 4,
 "nbformat_minor": 2
}
