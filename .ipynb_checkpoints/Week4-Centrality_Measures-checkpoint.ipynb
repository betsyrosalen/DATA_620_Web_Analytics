{
 "cells": [
  {
   "cell_type": "markdown",
   "metadata": {},
   "source": [
    "# Week 4 - Centrality Measures"
   ]
  },
  {
   "cell_type": "markdown",
   "metadata": {},
   "source": [
    "## Project Overview"
   ]
  },
  {
   "cell_type": "markdown",
   "metadata": {},
   "source": [
    "Centrality measures can be used to predict (positive or negative) outcomes for a node.\n",
    "\n",
    "Your task in this week’s assignment is to identify an interesting set of network data that is available on the web (either through web scraping or web APIs) that could be used for analyzing and comparing centrality measures across nodes.  As an additional constraint, there should be at least one categorical variable available for each node (such as “Male” or “Female”; “Republican”, “Democrat,” or “Undecided”, etc.)\n",
    "\n",
    "In addition to identifying your data source, you should create a high level plan that describes how you would load the data for analysis, and describe a hypothetical outcome that could be predicted from comparing degree centrality across categorical groups. \n",
    "\n",
    "For this week’s assignment, you are not required to actually load or analyze the data."
   ]
  },
  {
   "cell_type": "markdown",
   "metadata": {},
   "source": [
    "## Identifying Interesting Network Data"
   ]
  },
  {
   "cell_type": "markdown",
   "metadata": {},
   "source": [
    "We chose a classical transportation network of __flight data from [OpenFlights.org](https://openflights.org/data.html)__.\n",
    "\n",
    "__OpenFlights describes itself as:__\n",
    "\n",
    "_\"OpenFlights is a tool that lets you map your flights around the world, search and filter them in all sorts of interesting ways, calculate statistics automatically, and share your flights and trips with friends and the entire world (if you wish).\"_\n",
    "\n",
    "__OpenFlights consists of the following datasets:__\n",
    "\n",
    "- Airports\n",
    "- Airlines\n",
    "- Routes\n",
    "- Planes\n",
    "- Schedules\n",
    "\n",
    "We have choosen to use the __Routes__ and __Airports__ datasets to build our network. \n",
    "\n",
    "__Variables in the Routes dataset:__\n",
    "\n",
    "- Airline\n",
    "- Airline ID\n",
    "- Source Airport\n",
    "- Source Airport ID\n",
    "- Destination Airport\n",
    "- Destination Airport ID\n",
    "- Codeshare\n",
    "- Stops\n",
    "- Equipment\n",
    "\n",
    "__Variables in the Airports dataset:__\n",
    "\n",
    "- Airport ID\n",
    "- Name\n",
    "- City\n",
    "- Country\n",
    "- IATA\n",
    "- ICAO\n",
    "- Latitude\n",
    "- Longtitude\n",
    "- Altitude\n",
    "- Timezone\n",
    "- DST\n",
    "- Tz database time zone\n",
    "- Type\n",
    "- Source\n",
    "\n",
    "Our nodes will be taken from the __Source Airport__ and __Destination Airport__ variables in the __Routes__ dataset. Each record with a source and destination airport represents an edge between nodes and the __Stops__ variable could be used as an optional edge weight.\n",
    "\n",
    "Data is saved as .DAT files. They are UTF-8 encoded."
   ]
  },
  {
   "cell_type": "markdown",
   "metadata": {},
   "source": [
    "## Choosing a Categorical Variable"
   ]
  },
  {
   "cell_type": "markdown",
   "metadata": {},
   "source": [
    "We have decided to create a categorical variable __N_S_Hemisphere__ from the __Latitude__ variable in the __Airports__ dataset.  An airport node with a Negative latitude will be coded __S for \"South\"__, and an airport node with a positive latitude will be coded __N for \"North\"__."
   ]
  },
  {
   "cell_type": "markdown",
   "metadata": {},
   "source": [
    "## Centrality Measures"
   ]
  },
  {
   "cell_type": "markdown",
   "metadata": {},
   "source": [
    "1. __Degree Centrality__ -- how many direct, ‘one hop’ connections each node has to other nodes within the network [1]\n",
    "\n",
    "2. __Betweenness Centrality__ -- which nodes act as ‘bridges’ between nodes in a network [1]\n",
    "\n",
    "3. __Closeness Centrality__ -- calculates the shortest paths between all nodes, then assigns each node a score based on its sum of shortest paths [1]\n",
    "\n",
    "4. __EigenCentrality__ -- by calculating the extended connections of a node, EigenCentrality can identify nodes with influence over the whole network, not just those directly connected to it [1]\n",
    "\n",
    "5. __PageRank__ -- uncovers nodes whose influence extends beyond their direct connections into the wider network [1]\n",
    "\n",
    "\n",
    "[1] https://cambridge-intelligence.com/keylines-faqs-social-network-analysis/\n"
   ]
  },
  {
   "cell_type": "markdown",
   "metadata": {},
   "source": [
    "## Loading the Data"
   ]
  },
  {
   "cell_type": "markdown",
   "metadata": {},
   "source": [
    "- OpenFlights.org allows us to download the .dat files (which seem to be formatted as comma seperated values) which we can save to our GitHub account. \n",
    "- From Github, we can read the data with Python into a pandas dataframe, importing only the variables needed for our analysis then join the two datasets to create the __N_S_Hemisphere__ categorical variable.\n",
    "- We can use python to write our reformatted and joined data file to a .edges file that can then be imported using NetworkX to create our network data.\n",
    "- Once our data is imported as a network, we can use NetworkX to analyze and visualize the network."
   ]
  },
  {
   "cell_type": "markdown",
   "metadata": {},
   "source": [
    "## Hypothetical Outcome"
   ]
  },
  {
   "cell_type": "markdown",
   "metadata": {},
   "source": [
    "We believe that Northern airports (where highly developed Northern American, European, and East Asian countries are located) are more centralized, interconnected, and have more direct flights, so they will have a greater number of airports that score higher in Degree Centrality, Betweenness and Closeness."
   ]
  }
 ],
 "metadata": {
  "kernelspec": {
   "display_name": "Python 3",
   "language": "python",
   "name": "python3"
  },
  "language_info": {
   "codemirror_mode": {
    "name": "ipython",
    "version": 3
   },
   "file_extension": ".py",
   "mimetype": "text/x-python",
   "name": "python",
   "nbconvert_exporter": "python",
   "pygments_lexer": "ipython3",
   "version": "3.7.4"
  }
 },
 "nbformat": 4,
 "nbformat_minor": 2
}
