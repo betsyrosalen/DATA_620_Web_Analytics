{
 "cells": [
  {
   "cell_type": "markdown",
   "metadata": {},
   "source": [
    "# Assignment Week 8 - – High Frequency Words"
   ]
  },
  {
   "cell_type": "markdown",
   "metadata": {},
   "source": [
    "### Betsy Rosalen and Mikhail Groysman"
   ]
  },
  {
   "cell_type": "markdown",
   "metadata": {},
   "source": [
    "## Project Overview"
   ]
  },
  {
   "cell_type": "markdown",
   "metadata": {},
   "source": [
    "Please answer the following questions in an IPython Notebook, posted to GitHub.\n",
    "1. Choose a corpus of interest.\n",
    "2. How many total unique words are in the corpus? (Please feel free to define unique words in any interesting,\n",
    "defensible way).\n",
    "3. Taking the most common words, how many unique words represent half of the total words in the corpus?\n",
    "4. Identify the 200 highest frequency words in this corpus.\n",
    "5. Create a graph that shows the relative frequency of these 200 words.\n",
    "6. Does the observed relative frequency of these words follow Zipf’s law? Explain.\n",
    "7. In what ways do you think the frequency of the words in this corpus differ from “all words in all corpora.”"
   ]
  },
  {
   "cell_type": "markdown",
   "metadata": {},
   "source": [
    "## 1. Choosing a corpus of interest."
   ]
  },
  {
   "cell_type": "markdown",
   "metadata": {},
   "source": [
    "We went an easy way, selecting one of the corpus from the freely available Gutenburg library that can be downloaded from the NLTK package. Our corpus is Persuasion written by Jane Austen."
   ]
  },
  {
   "cell_type": "code",
   "execution_count": 1,
   "metadata": {},
   "outputs": [
    {
     "name": "stderr",
     "output_type": "stream",
     "text": [
      "[nltk_data] Downloading package gutenberg to\n",
      "[nltk_data]     /Users/betsyrosalen/nltk_data...\n",
      "[nltk_data]   Package gutenberg is already up-to-date!\n"
     ]
    },
    {
     "data": {
      "text/plain": [
       "True"
      ]
     },
     "execution_count": 1,
     "metadata": {},
     "output_type": "execute_result"
    }
   ],
   "source": [
    "import pandas as pd\n",
    "import nltk\n",
    "nltk.download('gutenberg')"
   ]
  },
  {
   "cell_type": "code",
   "execution_count": 2,
   "metadata": {},
   "outputs": [
    {
     "data": {
      "text/plain": [
       "['austen-emma.txt',\n",
       " 'austen-persuasion.txt',\n",
       " 'austen-sense.txt',\n",
       " 'bible-kjv.txt',\n",
       " 'blake-poems.txt',\n",
       " 'bryant-stories.txt',\n",
       " 'burgess-busterbrown.txt',\n",
       " 'carroll-alice.txt',\n",
       " 'chesterton-ball.txt',\n",
       " 'chesterton-brown.txt',\n",
       " 'chesterton-thursday.txt',\n",
       " 'edgeworth-parents.txt',\n",
       " 'melville-moby_dick.txt',\n",
       " 'milton-paradise.txt',\n",
       " 'shakespeare-caesar.txt',\n",
       " 'shakespeare-hamlet.txt',\n",
       " 'shakespeare-macbeth.txt',\n",
       " 'whitman-leaves.txt']"
      ]
     },
     "execution_count": 2,
     "metadata": {},
     "output_type": "execute_result"
    }
   ],
   "source": [
    "nltk.corpus.gutenberg.fileids()"
   ]
  },
  {
   "cell_type": "code",
   "execution_count": 3,
   "metadata": {},
   "outputs": [],
   "source": [
    "austen = nltk.Text(nltk.corpus.gutenberg.words('austen-persuasion.txt'))"
   ]
  },
  {
   "cell_type": "markdown",
   "metadata": {},
   "source": [
    "## 2. Total Unique Words."
   ]
  },
  {
   "cell_type": "markdown",
   "metadata": {},
   "source": [
    "###### How many total unique words are in the corpus? (Please feel free to define unique words in any interesting, defensible way)."
   ]
  },
  {
   "cell_type": "markdown",
   "metadata": {},
   "source": [
    "We can count all 'words' by taking the lenth of our corpus..."
   ]
  },
  {
   "cell_type": "code",
   "execution_count": 4,
   "metadata": {},
   "outputs": [
    {
     "data": {
      "text/plain": [
       "98171"
      ]
     },
     "execution_count": 4,
     "metadata": {},
     "output_type": "execute_result"
    }
   ],
   "source": [
    "AW=len(austen)\n",
    "AW"
   ]
  },
  {
   "cell_type": "markdown",
   "metadata": {},
   "source": [
    "But this counts every word even if it is a duplicate.  We can remove duplicates by wrapping our corpus in the set function in python.  Let's do that and then sort the results to see what we get... "
   ]
  },
  {
   "cell_type": "code",
   "execution_count": 29,
   "metadata": {},
   "outputs": [
    {
     "name": "stdout",
     "output_type": "stream",
     "text": [
      "!   !\"   !'   !--   \"   &   '   '.   (   )   ),   ).   );   ,   ,\"   ,\"--   ,\"--\"   ,'   ,)   ,)--   ,--   ,--`   -   --   --!   --\"   --(   ---   ---.   --;   .   .\"   .'   .'\"   .)   .,   .--   .--,   .--,\"   1   10   11   12   13   14   15   16   17   1760   1784   1785   1787   1789   1791   18   1800   1803   1806   1810   1814   1818   19   1st   2   20   21   22   23   24   29th   3   4   5   6   7   8   9   :   :\"   :--   :--\"   ;   ;\"   ;'   ;)   ;--   ;--\"   ?   ?\"   ?'   ?'\"   ?)   ?),   A   About   Abydos   Accordingly   Admiral   Admiralty   After\n"
     ]
    }
   ],
   "source": [
    "print(*sorted(set(austen))[:100], sep = \"   \")"
   ]
  },
  {
   "cell_type": "markdown",
   "metadata": {},
   "source": [
    "The first almost 100 words are not even words!"
   ]
  },
  {
   "cell_type": "markdown",
   "metadata": {},
   "source": [
    "##### 'Unique' words"
   ]
  },
  {
   "cell_type": "markdown",
   "metadata": {},
   "source": [
    "Looking at the sample of our words above we can see that it includes punctuation and numbers as well as words.  We also know that python will see capital letters as distinct from lowercase letters, so we need to convert all words to lowercase and remove punctuation and numbers to get only the unique words."
   ]
  },
  {
   "cell_type": "markdown",
   "metadata": {},
   "source": [
    "We modified some code from the textbook to exclude punctuation and numbers and remove capitalization. "
   ]
  },
  {
   "cell_type": "code",
   "execution_count": 50,
   "metadata": {},
   "outputs": [
    {
     "name": "stdout",
     "output_type": "stream",
     "text": [
      "persuasion   by   jane   austen   chapter   sir   walter   elliot   of   kellynch   hall   in   somersetshire   was   a   man   who   for   his   own   amusement   never   took   up   any   book   but   the   baronetage   there   he   found   occupation   for   an   idle   hour   and   consolation   in   a   distressed   one   there   his   faculties   were   roused   into   admiration   and   respect   by   contemplating   the   limited   remnant   of   the   earliest   patents   there   any   unwelcome   sensations   arising   from   domestic   affairs   changed   naturally   into   pity   and   contempt   as   he   turned   over   the   almost   endless   creations   of   the   last   century   and   there   if   every   other   leaf   were   powerless   he   could   read   his   own\n"
     ]
    }
   ],
   "source": [
    "# create list of all words including duplicates, but excluding punctuation, numbers and capitalization\n",
    "AWwoNP = [word.lower() for word in austen if word.isalpha()]\n",
    "\n",
    "# print\n",
    "print(*AWwoNP[:100], sep = \"   \")"
   ]
  },
  {
   "cell_type": "code",
   "execution_count": 51,
   "metadata": {},
   "outputs": [
    {
     "data": {
      "text/plain": [
       "5739"
      ]
     },
     "execution_count": 51,
     "metadata": {},
     "output_type": "execute_result"
    }
   ],
   "source": [
    "# take the length of the set of those words to find the number of unique words\n",
    "len(set(AWwoNP))"
   ]
  },
  {
   "cell_type": "markdown",
   "metadata": {},
   "source": [
    "By taking the length of the set of words after we removed punctuation, numbers and capitalization we find that we have __5,739 'unique' words__ in our corpus."
   ]
  },
  {
   "cell_type": "markdown",
   "metadata": {},
   "source": [
    "## 3. How many unique words represent half of all words."
   ]
  },
  {
   "cell_type": "markdown",
   "metadata": {},
   "source": [
    "###### Taking the most common words, how many unique words represent half of the total words in the corpus?"
   ]
  },
  {
   "cell_type": "markdown",
   "metadata": {},
   "source": [
    "We can create a frequency distribution of the list of all words excluding numbers, punctuation and capitalization to get a count for each unique word in the corpus. Using that frequency distribution we can write a function to add the frequency counts of the most frequent words one by one (in order from most frequent to least) until their total count reaches at least half the total word count for the entire corpus and keep a running tally of how many word frequencies were added together to get the number of words that represent half of the total words."
   ]
  },
  {
   "cell_type": "code",
   "execution_count": 157,
   "metadata": {},
   "outputs": [
    {
     "data": {
      "text/plain": [
       "FreqDist({'the': 3329, 'to': 2808, 'and': 2801, 'of': 2570, 'a': 1595, 'in': 1389, 'was': 1337, 'her': 1204, 'had': 1186, 'she': 1146, ...})"
      ]
     },
     "execution_count": 157,
     "metadata": {},
     "output_type": "execute_result"
    }
   ],
   "source": [
    "fdist = nltk.FreqDist(AWwoNP)\n",
    "fdist"
   ]
  },
  {
   "cell_type": "code",
   "execution_count": 116,
   "metadata": {},
   "outputs": [
    {
     "name": "stdout",
     "output_type": "stream",
     "text": [
      "58\n"
     ]
    }
   ],
   "source": [
    "tcount=0\n",
    "wcount=0\n",
    "for word, count in fdist.most_common():\n",
    "    tcount=tcount+count\n",
    "    wcount=wcount+1\n",
    "    if tcount>(tw/2):\n",
    "        print(wcount)\n",
    "        break"
   ]
  },
  {
   "cell_type": "markdown",
   "metadata": {},
   "source": [
    "The following __58 unique words represent half of the total words in the corpus.__"
   ]
  },
  {
   "cell_type": "code",
   "execution_count": 117,
   "metadata": {},
   "outputs": [
    {
     "name": "stdout",
     "output_type": "stream",
     "text": [
      "the, to, and, of, a, in, was, her, had, she, i, it, he, be, not, that, as, for, but, his, with, you, have, at, all, anne, been, s, him, could, very, they, were, by, which, is, on, so, no, would, captain, from, their, mrs, elliot, there, or, more, them, mr, this, an, than, one, must, when, my, being\n"
     ]
    }
   ],
   "source": [
    "print(*[w for w,n in fdist.most_common()[:58]], sep = \", \")"
   ]
  },
  {
   "cell_type": "markdown",
   "metadata": {},
   "source": [
    "We can double check this by plotting a cumulative frequency plot for the first 58 words and comparing the cumulative count to half the total word count _tw_."
   ]
  },
  {
   "cell_type": "code",
   "execution_count": 118,
   "metadata": {},
   "outputs": [
    {
     "data": {
      "text/plain": [
       "42060.5"
      ]
     },
     "execution_count": 118,
     "metadata": {},
     "output_type": "execute_result"
    }
   ],
   "source": [
    "tw/2"
   ]
  },
  {
   "cell_type": "markdown",
   "metadata": {},
   "source": [
    "The cumulative word count for the first 58 words in the plot below matches pretty well to the expected value of 42,060."
   ]
  },
  {
   "cell_type": "code",
   "execution_count": 119,
   "metadata": {},
   "outputs": [
    {
     "data": {
      "image/png": "[encoded data removed]",
      "text/plain": [
       "<Figure size 1080x504 with 1 Axes>"
      ]
     },
     "metadata": {
      "needs_background": "light"
     },
     "output_type": "display_data"
    },
    {
     "data": {
      "text/plain": [
       "<matplotlib.axes._subplots.AxesSubplot at 0x1a1ebbdcd0>"
      ]
     },
     "execution_count": 119,
     "metadata": {},
     "output_type": "execute_result"
    }
   ],
   "source": [
    "plt.figure(figsize=(15,7))\n",
    "fdist.plot(58, cumulative = True)"
   ]
  },
  {
   "cell_type": "markdown",
   "metadata": {},
   "source": [
    "## 4. 200 most frequent words."
   ]
  },
  {
   "cell_type": "markdown",
   "metadata": {},
   "source": [
    "###### Identify the 200 highest frequency words in this corpus."
   ]
  },
  {
   "cell_type": "code",
   "execution_count": 120,
   "metadata": {
    "scrolled": false
   },
   "outputs": [
    {
     "data": {
      "text/html": [
       "<div>\n",
       "<style scoped>\n",
       "    .dataframe tbody tr th:only-of-type {\n",
       "        vertical-align: middle;\n",
       "    }\n",
       "\n",
       "    .dataframe tbody tr th {\n",
       "        vertical-align: top;\n",
       "    }\n",
       "\n",
       "    .dataframe thead th {\n",
       "        text-align: right;\n",
       "    }\n",
       "</style>\n",
       "<table border=\"1\" class=\"dataframe\">\n",
       "  <thead>\n",
       "    <tr style=\"text-align: right;\">\n",
       "      <th></th>\n",
       "      <th>word</th>\n",
       "      <th>count</th>\n",
       "      <th>word</th>\n",
       "      <th>count</th>\n",
       "      <th>word</th>\n",
       "      <th>count</th>\n",
       "      <th>word</th>\n",
       "      <th>count</th>\n",
       "      <th>word</th>\n",
       "      <th>count</th>\n",
       "      <th>word</th>\n",
       "      <th>count</th>\n",
       "      <th>word</th>\n",
       "      <th>count</th>\n",
       "      <th>word</th>\n",
       "      <th>count</th>\n",
       "    </tr>\n",
       "  </thead>\n",
       "  <tbody>\n",
       "    <tr>\n",
       "      <td>0</td>\n",
       "      <td>the</td>\n",
       "      <td>3329</td>\n",
       "      <td>anne</td>\n",
       "      <td>497</td>\n",
       "      <td>this</td>\n",
       "      <td>250</td>\n",
       "      <td>might</td>\n",
       "      <td>166</td>\n",
       "      <td>how</td>\n",
       "      <td>125</td>\n",
       "      <td>out</td>\n",
       "      <td>95</td>\n",
       "      <td>family</td>\n",
       "      <td>80</td>\n",
       "      <td>back</td>\n",
       "      <td>69</td>\n",
       "    </tr>\n",
       "    <tr>\n",
       "      <td>1</td>\n",
       "      <td>to</td>\n",
       "      <td>2808</td>\n",
       "      <td>been</td>\n",
       "      <td>496</td>\n",
       "      <td>an</td>\n",
       "      <td>245</td>\n",
       "      <td>own</td>\n",
       "      <td>163</td>\n",
       "      <td>miss</td>\n",
       "      <td>125</td>\n",
       "      <td>house</td>\n",
       "      <td>94</td>\n",
       "      <td>felt</td>\n",
       "      <td>80</td>\n",
       "      <td>off</td>\n",
       "      <td>69</td>\n",
       "    </tr>\n",
       "    <tr>\n",
       "      <td>2</td>\n",
       "      <td>and</td>\n",
       "      <td>2801</td>\n",
       "      <td>s</td>\n",
       "      <td>485</td>\n",
       "      <td>than</td>\n",
       "      <td>243</td>\n",
       "      <td>well</td>\n",
       "      <td>163</td>\n",
       "      <td>your</td>\n",
       "      <td>124</td>\n",
       "      <td>say</td>\n",
       "      <td>93</td>\n",
       "      <td>give</td>\n",
       "      <td>79</td>\n",
       "      <td>admiral</td>\n",
       "      <td>69</td>\n",
       "    </tr>\n",
       "    <tr>\n",
       "      <td>3</td>\n",
       "      <td>of</td>\n",
       "      <td>2570</td>\n",
       "      <td>him</td>\n",
       "      <td>467</td>\n",
       "      <td>one</td>\n",
       "      <td>238</td>\n",
       "      <td>did</td>\n",
       "      <td>162</td>\n",
       "      <td>most</td>\n",
       "      <td>123</td>\n",
       "      <td>seemed</td>\n",
       "      <td>93</td>\n",
       "      <td>away</td>\n",
       "      <td>78</td>\n",
       "      <td>came</td>\n",
       "      <td>68</td>\n",
       "    </tr>\n",
       "    <tr>\n",
       "      <td>4</td>\n",
       "      <td>a</td>\n",
       "      <td>1595</td>\n",
       "      <td>could</td>\n",
       "      <td>451</td>\n",
       "      <td>must</td>\n",
       "      <td>228</td>\n",
       "      <td>herself</td>\n",
       "      <td>159</td>\n",
       "      <td>see</td>\n",
       "      <td>123</td>\n",
       "      <td>having</td>\n",
       "      <td>92</td>\n",
       "      <td>way</td>\n",
       "      <td>78</td>\n",
       "      <td>smith</td>\n",
       "      <td>68</td>\n",
       "    </tr>\n",
       "    <tr>\n",
       "      <td>5</td>\n",
       "      <td>in</td>\n",
       "      <td>1389</td>\n",
       "      <td>very</td>\n",
       "      <td>434</td>\n",
       "      <td>when</td>\n",
       "      <td>228</td>\n",
       "      <td>now</td>\n",
       "      <td>158</td>\n",
       "      <td>soon</td>\n",
       "      <td>122</td>\n",
       "      <td>up</td>\n",
       "      <td>91</td>\n",
       "      <td>ever</td>\n",
       "      <td>78</td>\n",
       "      <td>woman</td>\n",
       "      <td>67</td>\n",
       "    </tr>\n",
       "    <tr>\n",
       "      <td>6</td>\n",
       "      <td>was</td>\n",
       "      <td>1337</td>\n",
       "      <td>they</td>\n",
       "      <td>433</td>\n",
       "      <td>my</td>\n",
       "      <td>223</td>\n",
       "      <td>never</td>\n",
       "      <td>155</td>\n",
       "      <td>though</td>\n",
       "      <td>117</td>\n",
       "      <td>thought</td>\n",
       "      <td>90</td>\n",
       "      <td>uppercross</td>\n",
       "      <td>77</td>\n",
       "      <td>lyme</td>\n",
       "      <td>67</td>\n",
       "    </tr>\n",
       "    <tr>\n",
       "      <td>7</td>\n",
       "      <td>her</td>\n",
       "      <td>1204</td>\n",
       "      <td>were</td>\n",
       "      <td>426</td>\n",
       "      <td>being</td>\n",
       "      <td>220</td>\n",
       "      <td>we</td>\n",
       "      <td>155</td>\n",
       "      <td>father</td>\n",
       "      <td>117</td>\n",
       "      <td>elizabeth</td>\n",
       "      <td>89</td>\n",
       "      <td>day</td>\n",
       "      <td>77</td>\n",
       "      <td>just</td>\n",
       "      <td>66</td>\n",
       "    </tr>\n",
       "    <tr>\n",
       "      <td>8</td>\n",
       "      <td>had</td>\n",
       "      <td>1186</td>\n",
       "      <td>by</td>\n",
       "      <td>418</td>\n",
       "      <td>only</td>\n",
       "      <td>219</td>\n",
       "      <td>time</td>\n",
       "      <td>152</td>\n",
       "      <td>before</td>\n",
       "      <td>116</td>\n",
       "      <td>however</td>\n",
       "      <td>89</td>\n",
       "      <td>come</td>\n",
       "      <td>75</td>\n",
       "      <td>another</td>\n",
       "      <td>66</td>\n",
       "    </tr>\n",
       "    <tr>\n",
       "      <td>9</td>\n",
       "      <td>she</td>\n",
       "      <td>1146</td>\n",
       "      <td>which</td>\n",
       "      <td>416</td>\n",
       "      <td>wentworth</td>\n",
       "      <td>218</td>\n",
       "      <td>sir</td>\n",
       "      <td>149</td>\n",
       "      <td>two</td>\n",
       "      <td>114</td>\n",
       "      <td>last</td>\n",
       "      <td>88</td>\n",
       "      <td>feelings</td>\n",
       "      <td>75</td>\n",
       "      <td>clay</td>\n",
       "      <td>66</td>\n",
       "    </tr>\n",
       "    <tr>\n",
       "      <td>10</td>\n",
       "      <td>i</td>\n",
       "      <td>1124</td>\n",
       "      <td>is</td>\n",
       "      <td>398</td>\n",
       "      <td>lady</td>\n",
       "      <td>216</td>\n",
       "      <td>think</td>\n",
       "      <td>149</td>\n",
       "      <td>first</td>\n",
       "      <td>113</td>\n",
       "      <td>make</td>\n",
       "      <td>88</td>\n",
       "      <td>harville</td>\n",
       "      <td>75</td>\n",
       "      <td>present</td>\n",
       "      <td>65</td>\n",
       "    </tr>\n",
       "    <tr>\n",
       "      <td>11</td>\n",
       "      <td>it</td>\n",
       "      <td>1038</td>\n",
       "      <td>on</td>\n",
       "      <td>396</td>\n",
       "      <td>such</td>\n",
       "      <td>211</td>\n",
       "      <td>russell</td>\n",
       "      <td>148</td>\n",
       "      <td>quite</td>\n",
       "      <td>112</td>\n",
       "      <td>go</td>\n",
       "      <td>88</td>\n",
       "      <td>still</td>\n",
       "      <td>74</td>\n",
       "      <td>our</td>\n",
       "      <td>65</td>\n",
       "    </tr>\n",
       "    <tr>\n",
       "      <td>12</td>\n",
       "      <td>he</td>\n",
       "      <td>961</td>\n",
       "      <td>so</td>\n",
       "      <td>359</td>\n",
       "      <td>do</td>\n",
       "      <td>210</td>\n",
       "      <td>are</td>\n",
       "      <td>146</td>\n",
       "      <td>louisa</td>\n",
       "      <td>111</td>\n",
       "      <td>place</td>\n",
       "      <td>87</td>\n",
       "      <td>done</td>\n",
       "      <td>74</td>\n",
       "      <td>going</td>\n",
       "      <td>65</td>\n",
       "    </tr>\n",
       "    <tr>\n",
       "      <td>13</td>\n",
       "      <td>be</td>\n",
       "      <td>950</td>\n",
       "      <td>no</td>\n",
       "      <td>356</td>\n",
       "      <td>much</td>\n",
       "      <td>205</td>\n",
       "      <td>other</td>\n",
       "      <td>143</td>\n",
       "      <td>always</td>\n",
       "      <td>110</td>\n",
       "      <td>may</td>\n",
       "      <td>87</td>\n",
       "      <td>henrietta</td>\n",
       "      <td>74</td>\n",
       "      <td>heard</td>\n",
       "      <td>65</td>\n",
       "    </tr>\n",
       "    <tr>\n",
       "      <td>14</td>\n",
       "      <td>not</td>\n",
       "      <td>934</td>\n",
       "      <td>would</td>\n",
       "      <td>355</td>\n",
       "      <td>if</td>\n",
       "      <td>202</td>\n",
       "      <td>walter</td>\n",
       "      <td>141</td>\n",
       "      <td>without</td>\n",
       "      <td>108</td>\n",
       "      <td>better</td>\n",
       "      <td>87</td>\n",
       "      <td>kellynch</td>\n",
       "      <td>73</td>\n",
       "      <td>mind</td>\n",
       "      <td>64</td>\n",
       "    </tr>\n",
       "    <tr>\n",
       "      <td>15</td>\n",
       "      <td>that</td>\n",
       "      <td>882</td>\n",
       "      <td>captain</td>\n",
       "      <td>303</td>\n",
       "      <td>any</td>\n",
       "      <td>199</td>\n",
       "      <td>nothing</td>\n",
       "      <td>139</td>\n",
       "      <td>can</td>\n",
       "      <td>107</td>\n",
       "      <td>many</td>\n",
       "      <td>85</td>\n",
       "      <td>sure</td>\n",
       "      <td>73</td>\n",
       "      <td>happy</td>\n",
       "      <td>64</td>\n",
       "    </tr>\n",
       "    <tr>\n",
       "      <td>16</td>\n",
       "      <td>as</td>\n",
       "      <td>809</td>\n",
       "      <td>from</td>\n",
       "      <td>295</td>\n",
       "      <td>what</td>\n",
       "      <td>197</td>\n",
       "      <td>mary</td>\n",
       "      <td>138</td>\n",
       "      <td>every</td>\n",
       "      <td>102</td>\n",
       "      <td>over</td>\n",
       "      <td>84</td>\n",
       "      <td>its</td>\n",
       "      <td>72</td>\n",
       "      <td>something</td>\n",
       "      <td>64</td>\n",
       "    </tr>\n",
       "    <tr>\n",
       "      <td>17</td>\n",
       "      <td>for</td>\n",
       "      <td>707</td>\n",
       "      <td>their</td>\n",
       "      <td>293</td>\n",
       "      <td>who</td>\n",
       "      <td>190</td>\n",
       "      <td>am</td>\n",
       "      <td>137</td>\n",
       "      <td>bath</td>\n",
       "      <td>101</td>\n",
       "      <td>same</td>\n",
       "      <td>84</td>\n",
       "      <td>those</td>\n",
       "      <td>72</td>\n",
       "      <td>indeed</td>\n",
       "      <td>63</td>\n",
       "    </tr>\n",
       "    <tr>\n",
       "      <td>18</td>\n",
       "      <td>but</td>\n",
       "      <td>664</td>\n",
       "      <td>mrs</td>\n",
       "      <td>291</td>\n",
       "      <td>should</td>\n",
       "      <td>188</td>\n",
       "      <td>some</td>\n",
       "      <td>136</td>\n",
       "      <td>has</td>\n",
       "      <td>100</td>\n",
       "      <td>young</td>\n",
       "      <td>84</td>\n",
       "      <td>upon</td>\n",
       "      <td>72</td>\n",
       "      <td>here</td>\n",
       "      <td>63</td>\n",
       "    </tr>\n",
       "    <tr>\n",
       "      <td>19</td>\n",
       "      <td>his</td>\n",
       "      <td>659</td>\n",
       "      <td>elliot</td>\n",
       "      <td>289</td>\n",
       "      <td>me</td>\n",
       "      <td>188</td>\n",
       "      <td>man</td>\n",
       "      <td>134</td>\n",
       "      <td>into</td>\n",
       "      <td>98</td>\n",
       "      <td>found</td>\n",
       "      <td>83</td>\n",
       "      <td>enough</td>\n",
       "      <td>71</td>\n",
       "      <td>few</td>\n",
       "      <td>62</td>\n",
       "    </tr>\n",
       "    <tr>\n",
       "      <td>20</td>\n",
       "      <td>with</td>\n",
       "      <td>654</td>\n",
       "      <td>there</td>\n",
       "      <td>286</td>\n",
       "      <td>good</td>\n",
       "      <td>187</td>\n",
       "      <td>again</td>\n",
       "      <td>132</td>\n",
       "      <td>about</td>\n",
       "      <td>97</td>\n",
       "      <td>friend</td>\n",
       "      <td>83</td>\n",
       "      <td>even</td>\n",
       "      <td>71</td>\n",
       "      <td>party</td>\n",
       "      <td>62</td>\n",
       "    </tr>\n",
       "    <tr>\n",
       "      <td>21</td>\n",
       "      <td>you</td>\n",
       "      <td>628</td>\n",
       "      <td>or</td>\n",
       "      <td>274</td>\n",
       "      <td>little</td>\n",
       "      <td>176</td>\n",
       "      <td>musgrove</td>\n",
       "      <td>130</td>\n",
       "      <td>after</td>\n",
       "      <td>96</td>\n",
       "      <td>home</td>\n",
       "      <td>83</td>\n",
       "      <td>moment</td>\n",
       "      <td>71</td>\n",
       "      <td>acquaintance</td>\n",
       "      <td>61</td>\n",
       "    </tr>\n",
       "    <tr>\n",
       "      <td>22</td>\n",
       "      <td>have</td>\n",
       "      <td>589</td>\n",
       "      <td>more</td>\n",
       "      <td>273</td>\n",
       "      <td>said</td>\n",
       "      <td>173</td>\n",
       "      <td>great</td>\n",
       "      <td>130</td>\n",
       "      <td>made</td>\n",
       "      <td>96</td>\n",
       "      <td>sister</td>\n",
       "      <td>82</td>\n",
       "      <td>then</td>\n",
       "      <td>70</td>\n",
       "      <td>down</td>\n",
       "      <td>61</td>\n",
       "    </tr>\n",
       "    <tr>\n",
       "      <td>23</td>\n",
       "      <td>at</td>\n",
       "      <td>533</td>\n",
       "      <td>them</td>\n",
       "      <td>270</td>\n",
       "      <td>will</td>\n",
       "      <td>167</td>\n",
       "      <td>too</td>\n",
       "      <td>128</td>\n",
       "      <td>himself</td>\n",
       "      <td>95</td>\n",
       "      <td>room</td>\n",
       "      <td>82</td>\n",
       "      <td>benwick</td>\n",
       "      <td>70</td>\n",
       "      <td>knew</td>\n",
       "      <td>61</td>\n",
       "    </tr>\n",
       "    <tr>\n",
       "      <td>24</td>\n",
       "      <td>all</td>\n",
       "      <td>530</td>\n",
       "      <td>mr</td>\n",
       "      <td>256</td>\n",
       "      <td>charles</td>\n",
       "      <td>166</td>\n",
       "      <td>know</td>\n",
       "      <td>127</td>\n",
       "      <td>long</td>\n",
       "      <td>95</td>\n",
       "      <td>like</td>\n",
       "      <td>81</td>\n",
       "      <td>while</td>\n",
       "      <td>69</td>\n",
       "      <td>almost</td>\n",
       "      <td>60</td>\n",
       "    </tr>\n",
       "  </tbody>\n",
       "</table>\n",
       "</div>"
      ],
      "text/plain": [
       "    word  count     word  count       word  count      word  count     word  \\\n",
       "0    the   3329     anne    497       this    250     might    166      how   \n",
       "1     to   2808     been    496         an    245       own    163     miss   \n",
       "2    and   2801        s    485       than    243      well    163     your   \n",
       "3     of   2570      him    467        one    238       did    162     most   \n",
       "4      a   1595    could    451       must    228   herself    159      see   \n",
       "5     in   1389     very    434       when    228       now    158     soon   \n",
       "6    was   1337     they    433         my    223     never    155   though   \n",
       "7    her   1204     were    426      being    220        we    155   father   \n",
       "8    had   1186       by    418       only    219      time    152   before   \n",
       "9    she   1146    which    416  wentworth    218       sir    149      two   \n",
       "10     i   1124       is    398       lady    216     think    149    first   \n",
       "11    it   1038       on    396       such    211   russell    148    quite   \n",
       "12    he    961       so    359         do    210       are    146   louisa   \n",
       "13    be    950       no    356       much    205     other    143   always   \n",
       "14   not    934    would    355         if    202    walter    141  without   \n",
       "15  that    882  captain    303        any    199   nothing    139      can   \n",
       "16    as    809     from    295       what    197      mary    138    every   \n",
       "17   for    707    their    293        who    190        am    137     bath   \n",
       "18   but    664      mrs    291     should    188      some    136      has   \n",
       "19   his    659   elliot    289         me    188       man    134     into   \n",
       "20  with    654    there    286       good    187     again    132    about   \n",
       "21   you    628       or    274     little    176  musgrove    130    after   \n",
       "22  have    589     more    273       said    173     great    130     made   \n",
       "23    at    533     them    270       will    167       too    128  himself   \n",
       "24   all    530       mr    256    charles    166      know    127     long   \n",
       "\n",
       "    count       word  count        word  count          word  count  \n",
       "0     125        out     95      family     80          back     69  \n",
       "1     125      house     94        felt     80           off     69  \n",
       "2     124        say     93        give     79       admiral     69  \n",
       "3     123     seemed     93        away     78          came     68  \n",
       "4     123     having     92         way     78         smith     68  \n",
       "5     122         up     91        ever     78         woman     67  \n",
       "6     117    thought     90  uppercross     77          lyme     67  \n",
       "7     117  elizabeth     89         day     77          just     66  \n",
       "8     116    however     89        come     75       another     66  \n",
       "9     114       last     88    feelings     75          clay     66  \n",
       "10    113       make     88    harville     75       present     65  \n",
       "11    112         go     88       still     74           our     65  \n",
       "12    111      place     87        done     74         going     65  \n",
       "13    110        may     87   henrietta     74         heard     65  \n",
       "14    108     better     87    kellynch     73          mind     64  \n",
       "15    107       many     85        sure     73         happy     64  \n",
       "16    102       over     84         its     72     something     64  \n",
       "17    101       same     84       those     72        indeed     63  \n",
       "18    100      young     84        upon     72          here     63  \n",
       "19     98      found     83      enough     71           few     62  \n",
       "20     97     friend     83        even     71         party     62  \n",
       "21     96       home     83      moment     71  acquaintance     61  \n",
       "22     96     sister     82        then     70          down     61  \n",
       "23     95       room     82     benwick     70          knew     61  \n",
       "24     95       like     81       while     69        almost     60  "
      ]
     },
     "execution_count": 120,
     "metadata": {},
     "output_type": "execute_result"
    }
   ],
   "source": [
    "wlist = []\n",
    "for i in range(0, 200, 25):\n",
    "    df = pd.DataFrame(fdist.most_common()[i:(i+25)])\n",
    "    df.columns=['word', 'count']\n",
    "    wlist.append(df)\n",
    "\n",
    "pd.concat(wlist, axis=1)"
   ]
  },
  {
   "cell_type": "markdown",
   "metadata": {},
   "source": [
    "## 5. Relative frequency of these 200 words."
   ]
  },
  {
   "cell_type": "markdown",
   "metadata": {},
   "source": [
    "###### Create a graph that shows the relative frequency of these 200 words."
   ]
  },
  {
   "cell_type": "markdown",
   "metadata": {},
   "source": [
    "Unfortunately, the default NLTK plot for frequency distributions does not actually plot the _relative_ frequency but plots the actual counts..."
   ]
  },
  {
   "cell_type": "code",
   "execution_count": 127,
   "metadata": {
    "scrolled": false
   },
   "outputs": [
    {
     "data": {
      "image/png": "[encoded data removed]",
      "text/plain": [
       "<Figure size 1224x360 with 1 Axes>"
      ]
     },
     "metadata": {
      "needs_background": "light"
     },
     "output_type": "display_data"
    },
    {
     "data": {
      "text/plain": [
       "<matplotlib.axes._subplots.AxesSubplot at 0x1a1fd3e410>"
      ]
     },
     "execution_count": 127,
     "metadata": {},
     "output_type": "execute_result"
    }
   ],
   "source": [
    "plt.figure(figsize=(17,5))\n",
    "fdist.plot(200, )"
   ]
  },
  {
   "cell_type": "markdown",
   "metadata": {},
   "source": [
    "So we wrote a function to plot the relative frequencies..."
   ]
  },
  {
   "cell_type": "code",
   "execution_count": 135,
   "metadata": {},
   "outputs": [],
   "source": [
    "my_dict = {}\n",
    "wcount=0\n",
    "for word, count in fdist.most_common():       \n",
    "    wcount=wcount+1\n",
    "    my_dict[word]=count/tw\n",
    "    if wcount>199:\n",
    "        break"
   ]
  },
  {
   "cell_type": "code",
   "execution_count": 136,
   "metadata": {},
   "outputs": [
    {
     "data": {
      "text/plain": [
       "<BarContainer object of 200 artists>"
      ]
     },
     "execution_count": 136,
     "metadata": {},
     "output_type": "execute_result"
    },
    {
     "data": {
      "image/png": "[encoded data removed]",
      "text/plain": [
       "<Figure size 1224x360 with 1 Axes>"
      ]
     },
     "metadata": {
      "needs_background": "light"
     },
     "output_type": "display_data"
    }
   ],
   "source": [
    "import matplotlib.pyplot as plt\n",
    "plt.figure(figsize=(17,5))\n",
    "plt.xticks(rotation=90)\n",
    "plt.rc('xtick',labelsize=4)\n",
    "plt.bar(my_dict.keys(), my_dict.values(), width=.5, color='cornflowerblue')"
   ]
  },
  {
   "cell_type": "markdown",
   "metadata": {},
   "source": [
    "## 6. Zipf's law"
   ]
  },
  {
   "cell_type": "markdown",
   "metadata": {},
   "source": [
    "###### Does the observed relative frequency of these words follow Zipf’s law? Explain."
   ]
  },
  {
   "cell_type": "markdown",
   "metadata": {},
   "source": [
    "From Wikipedia:\n",
    "\n",
    "Zipf's law was originally formulated in terms of quantitative linguistics , stating that given some corpus of natural language utterances, the frequency of any word is inversely proportional to its rank in the frequency table. Thus the most frequent word will occur approximately twice as often as the second most frequent word, three times as often as the third most frequent word, etc.: the rank-frequency distribution is an inverse relation. For example, in the Brown Corpus of American English text, the word the is the most frequently occurring word, and by itself accounts for nearly 7% of all word occurrences (69,971 out of slightly over 1 million). True to Zipf's Law, the second-place word of accounts for slightly over 3.5% of words (36,411 occurrences), followed by and (28,852). Only 135 vocabulary items are needed to account for half the Brown Corpus.[1]\n",
    "\n",
    "[1] (https://en.wikipedia.org/wiki/Zipf%27s_law)"
   ]
  },
  {
   "cell_type": "markdown",
   "metadata": {},
   "source": [
    "Let's see if the actual counts of each word are equal to the expected counts of each word according to Zipf's Law.  First we can write a function to calculate the expected counts then we can concatenate that in a dataframe with the actual counts and the difference and percent difference for each word."
   ]
  },
  {
   "cell_type": "code",
   "execution_count": 205,
   "metadata": {
    "scrolled": false
   },
   "outputs": [
    {
     "data": {
      "text/html": [
       "<div>\n",
       "<style scoped>\n",
       "    .dataframe tbody tr th:only-of-type {\n",
       "        vertical-align: middle;\n",
       "    }\n",
       "\n",
       "    .dataframe tbody tr th {\n",
       "        vertical-align: top;\n",
       "    }\n",
       "\n",
       "    .dataframe thead th {\n",
       "        text-align: right;\n",
       "    }\n",
       "</style>\n",
       "<table border=\"1\" class=\"dataframe\">\n",
       "  <thead>\n",
       "    <tr style=\"text-align: right;\">\n",
       "      <th></th>\n",
       "      <th>Word</th>\n",
       "      <th>Actual count</th>\n",
       "      <th>Zipf's Expected Count</th>\n",
       "      <th>Difference</th>\n",
       "      <th>Percent Difference</th>\n",
       "    </tr>\n",
       "  </thead>\n",
       "  <tbody>\n",
       "    <tr>\n",
       "      <td>0</td>\n",
       "      <td>the</td>\n",
       "      <td>3329</td>\n",
       "      <td>3329</td>\n",
       "      <td>0</td>\n",
       "      <td>0</td>\n",
       "    </tr>\n",
       "    <tr>\n",
       "      <td>1</td>\n",
       "      <td>to</td>\n",
       "      <td>2808</td>\n",
       "      <td>1664</td>\n",
       "      <td>1144</td>\n",
       "      <td>69</td>\n",
       "    </tr>\n",
       "    <tr>\n",
       "      <td>2</td>\n",
       "      <td>and</td>\n",
       "      <td>2801</td>\n",
       "      <td>1110</td>\n",
       "      <td>1691</td>\n",
       "      <td>152</td>\n",
       "    </tr>\n",
       "    <tr>\n",
       "      <td>3</td>\n",
       "      <td>of</td>\n",
       "      <td>2570</td>\n",
       "      <td>832</td>\n",
       "      <td>1738</td>\n",
       "      <td>209</td>\n",
       "    </tr>\n",
       "    <tr>\n",
       "      <td>4</td>\n",
       "      <td>a</td>\n",
       "      <td>1595</td>\n",
       "      <td>666</td>\n",
       "      <td>929</td>\n",
       "      <td>139</td>\n",
       "    </tr>\n",
       "    <tr>\n",
       "      <td>5</td>\n",
       "      <td>in</td>\n",
       "      <td>1389</td>\n",
       "      <td>555</td>\n",
       "      <td>834</td>\n",
       "      <td>150</td>\n",
       "    </tr>\n",
       "    <tr>\n",
       "      <td>6</td>\n",
       "      <td>was</td>\n",
       "      <td>1337</td>\n",
       "      <td>476</td>\n",
       "      <td>861</td>\n",
       "      <td>181</td>\n",
       "    </tr>\n",
       "    <tr>\n",
       "      <td>7</td>\n",
       "      <td>her</td>\n",
       "      <td>1204</td>\n",
       "      <td>416</td>\n",
       "      <td>788</td>\n",
       "      <td>189</td>\n",
       "    </tr>\n",
       "    <tr>\n",
       "      <td>8</td>\n",
       "      <td>had</td>\n",
       "      <td>1186</td>\n",
       "      <td>370</td>\n",
       "      <td>816</td>\n",
       "      <td>221</td>\n",
       "    </tr>\n",
       "    <tr>\n",
       "      <td>9</td>\n",
       "      <td>she</td>\n",
       "      <td>1146</td>\n",
       "      <td>333</td>\n",
       "      <td>813</td>\n",
       "      <td>244</td>\n",
       "    </tr>\n",
       "    <tr>\n",
       "      <td>10</td>\n",
       "      <td>i</td>\n",
       "      <td>1124</td>\n",
       "      <td>303</td>\n",
       "      <td>821</td>\n",
       "      <td>271</td>\n",
       "    </tr>\n",
       "    <tr>\n",
       "      <td>11</td>\n",
       "      <td>it</td>\n",
       "      <td>1038</td>\n",
       "      <td>277</td>\n",
       "      <td>761</td>\n",
       "      <td>275</td>\n",
       "    </tr>\n",
       "    <tr>\n",
       "      <td>12</td>\n",
       "      <td>he</td>\n",
       "      <td>961</td>\n",
       "      <td>256</td>\n",
       "      <td>705</td>\n",
       "      <td>275</td>\n",
       "    </tr>\n",
       "    <tr>\n",
       "      <td>13</td>\n",
       "      <td>be</td>\n",
       "      <td>950</td>\n",
       "      <td>238</td>\n",
       "      <td>712</td>\n",
       "      <td>299</td>\n",
       "    </tr>\n",
       "    <tr>\n",
       "      <td>14</td>\n",
       "      <td>not</td>\n",
       "      <td>934</td>\n",
       "      <td>222</td>\n",
       "      <td>712</td>\n",
       "      <td>321</td>\n",
       "    </tr>\n",
       "    <tr>\n",
       "      <td>15</td>\n",
       "      <td>that</td>\n",
       "      <td>882</td>\n",
       "      <td>208</td>\n",
       "      <td>674</td>\n",
       "      <td>324</td>\n",
       "    </tr>\n",
       "    <tr>\n",
       "      <td>16</td>\n",
       "      <td>as</td>\n",
       "      <td>809</td>\n",
       "      <td>196</td>\n",
       "      <td>613</td>\n",
       "      <td>313</td>\n",
       "    </tr>\n",
       "    <tr>\n",
       "      <td>17</td>\n",
       "      <td>for</td>\n",
       "      <td>707</td>\n",
       "      <td>185</td>\n",
       "      <td>522</td>\n",
       "      <td>282</td>\n",
       "    </tr>\n",
       "    <tr>\n",
       "      <td>18</td>\n",
       "      <td>but</td>\n",
       "      <td>664</td>\n",
       "      <td>175</td>\n",
       "      <td>489</td>\n",
       "      <td>279</td>\n",
       "    </tr>\n",
       "    <tr>\n",
       "      <td>19</td>\n",
       "      <td>his</td>\n",
       "      <td>659</td>\n",
       "      <td>166</td>\n",
       "      <td>493</td>\n",
       "      <td>297</td>\n",
       "    </tr>\n",
       "    <tr>\n",
       "      <td>20</td>\n",
       "      <td>with</td>\n",
       "      <td>654</td>\n",
       "      <td>159</td>\n",
       "      <td>495</td>\n",
       "      <td>311</td>\n",
       "    </tr>\n",
       "    <tr>\n",
       "      <td>21</td>\n",
       "      <td>you</td>\n",
       "      <td>628</td>\n",
       "      <td>151</td>\n",
       "      <td>477</td>\n",
       "      <td>316</td>\n",
       "    </tr>\n",
       "    <tr>\n",
       "      <td>22</td>\n",
       "      <td>have</td>\n",
       "      <td>589</td>\n",
       "      <td>145</td>\n",
       "      <td>444</td>\n",
       "      <td>306</td>\n",
       "    </tr>\n",
       "    <tr>\n",
       "      <td>23</td>\n",
       "      <td>at</td>\n",
       "      <td>533</td>\n",
       "      <td>139</td>\n",
       "      <td>394</td>\n",
       "      <td>283</td>\n",
       "    </tr>\n",
       "    <tr>\n",
       "      <td>24</td>\n",
       "      <td>all</td>\n",
       "      <td>530</td>\n",
       "      <td>133</td>\n",
       "      <td>397</td>\n",
       "      <td>298</td>\n",
       "    </tr>\n",
       "    <tr>\n",
       "      <td>25</td>\n",
       "      <td>anne</td>\n",
       "      <td>497</td>\n",
       "      <td>128</td>\n",
       "      <td>369</td>\n",
       "      <td>288</td>\n",
       "    </tr>\n",
       "    <tr>\n",
       "      <td>26</td>\n",
       "      <td>been</td>\n",
       "      <td>496</td>\n",
       "      <td>123</td>\n",
       "      <td>373</td>\n",
       "      <td>303</td>\n",
       "    </tr>\n",
       "    <tr>\n",
       "      <td>27</td>\n",
       "      <td>s</td>\n",
       "      <td>485</td>\n",
       "      <td>119</td>\n",
       "      <td>366</td>\n",
       "      <td>308</td>\n",
       "    </tr>\n",
       "    <tr>\n",
       "      <td>28</td>\n",
       "      <td>him</td>\n",
       "      <td>467</td>\n",
       "      <td>115</td>\n",
       "      <td>352</td>\n",
       "      <td>306</td>\n",
       "    </tr>\n",
       "    <tr>\n",
       "      <td>29</td>\n",
       "      <td>could</td>\n",
       "      <td>451</td>\n",
       "      <td>111</td>\n",
       "      <td>340</td>\n",
       "      <td>306</td>\n",
       "    </tr>\n",
       "  </tbody>\n",
       "</table>\n",
       "</div>"
      ],
      "text/plain": [
       "     Word  Actual count  Zipf's Expected Count  Difference  Percent Difference\n",
       "0     the          3329                   3329           0                   0\n",
       "1      to          2808                   1664        1144                  69\n",
       "2     and          2801                   1110        1691                 152\n",
       "3      of          2570                    832        1738                 209\n",
       "4       a          1595                    666         929                 139\n",
       "5      in          1389                    555         834                 150\n",
       "6     was          1337                    476         861                 181\n",
       "7     her          1204                    416         788                 189\n",
       "8     had          1186                    370         816                 221\n",
       "9     she          1146                    333         813                 244\n",
       "10      i          1124                    303         821                 271\n",
       "11     it          1038                    277         761                 275\n",
       "12     he           961                    256         705                 275\n",
       "13     be           950                    238         712                 299\n",
       "14    not           934                    222         712                 321\n",
       "15   that           882                    208         674                 324\n",
       "16     as           809                    196         613                 313\n",
       "17    for           707                    185         522                 282\n",
       "18    but           664                    175         489                 279\n",
       "19    his           659                    166         493                 297\n",
       "20   with           654                    159         495                 311\n",
       "21    you           628                    151         477                 316\n",
       "22   have           589                    145         444                 306\n",
       "23     at           533                    139         394                 283\n",
       "24    all           530                    133         397                 298\n",
       "25   anne           497                    128         369                 288\n",
       "26   been           496                    123         373                 303\n",
       "27      s           485                    119         366                 308\n",
       "28    him           467                    115         352                 306\n",
       "29  could           451                    111         340                 306"
      ]
     },
     "execution_count": 205,
     "metadata": {},
     "output_type": "execute_result"
    }
   ],
   "source": [
    "mostf = fdist.most_common()[0][1]\n",
    "expected_counts = []\n",
    "rank = 0\n",
    "for i in range(len(fdist)):\n",
    "    rank += 1\n",
    "    expected_counts.append(round(mostf * (1/rank)))\n",
    "\n",
    "expected_counts\n",
    "\n",
    "zipfs_df = pd.DataFrame(fdist.most_common())\n",
    "zipfs_df.columns=['Word', 'Actual count']\n",
    "#pd.concat(zipfs_df, axis=1)\n",
    "zipfs_df[\"Zipf's Expected Count\"] = expected_counts\n",
    "zipfs_df['Difference'] = zipfs_df['Actual count'] - zipfs_df[\"Zipf's Expected Count\"]\n",
    "zipfs_df['Percent Difference'] = round(((zipfs_df['Actual count'] / zipfs_df[\"Zipf's Expected Count\"])\n",
    "                                        - 1) *100).astype(int)\n",
    "zipfs_df.head(30)"
   ]
  },
  {
   "cell_type": "markdown",
   "metadata": {},
   "source": [
    "We can see in the data above that the actual counts are consistenetly far above the expected counts and by the 13th word the actual counts rise to about 300% above the expected count and remain consistently there for at least the first 30 words.  Let's jump to the 500th word to see if the counts are still consistently higher.\n",
    "\n",
    "At around 500 words into the frequency distribution the actual counts are still around 200% higher than would be expected with Zipf's Law."
   ]
  },
  {
   "cell_type": "code",
   "execution_count": 206,
   "metadata": {},
   "outputs": [
    {
     "data": {
      "text/html": [
       "<div>\n",
       "<style scoped>\n",
       "    .dataframe tbody tr th:only-of-type {\n",
       "        vertical-align: middle;\n",
       "    }\n",
       "\n",
       "    .dataframe tbody tr th {\n",
       "        vertical-align: top;\n",
       "    }\n",
       "\n",
       "    .dataframe thead th {\n",
       "        text-align: right;\n",
       "    }\n",
       "</style>\n",
       "<table border=\"1\" class=\"dataframe\">\n",
       "  <thead>\n",
       "    <tr style=\"text-align: right;\">\n",
       "      <th></th>\n",
       "      <th>Word</th>\n",
       "      <th>Actual count</th>\n",
       "      <th>Zipf's Expected Count</th>\n",
       "      <th>Difference</th>\n",
       "      <th>Percent Difference</th>\n",
       "    </tr>\n",
       "  </thead>\n",
       "  <tbody>\n",
       "    <tr>\n",
       "      <td>505</td>\n",
       "      <td>air</td>\n",
       "      <td>20</td>\n",
       "      <td>7</td>\n",
       "      <td>13</td>\n",
       "      <td>186</td>\n",
       "    </tr>\n",
       "    <tr>\n",
       "      <td>506</td>\n",
       "      <td>call</td>\n",
       "      <td>20</td>\n",
       "      <td>7</td>\n",
       "      <td>13</td>\n",
       "      <td>186</td>\n",
       "    </tr>\n",
       "    <tr>\n",
       "      <td>507</td>\n",
       "      <td>pleased</td>\n",
       "      <td>20</td>\n",
       "      <td>7</td>\n",
       "      <td>13</td>\n",
       "      <td>186</td>\n",
       "    </tr>\n",
       "    <tr>\n",
       "      <td>508</td>\n",
       "      <td>why</td>\n",
       "      <td>20</td>\n",
       "      <td>7</td>\n",
       "      <td>13</td>\n",
       "      <td>186</td>\n",
       "    </tr>\n",
       "    <tr>\n",
       "      <td>509</td>\n",
       "      <td>appeared</td>\n",
       "      <td>20</td>\n",
       "      <td>7</td>\n",
       "      <td>13</td>\n",
       "      <td>186</td>\n",
       "    </tr>\n",
       "    <tr>\n",
       "      <td>510</td>\n",
       "      <td>concert</td>\n",
       "      <td>20</td>\n",
       "      <td>7</td>\n",
       "      <td>13</td>\n",
       "      <td>186</td>\n",
       "    </tr>\n",
       "    <tr>\n",
       "      <td>511</td>\n",
       "      <td>took</td>\n",
       "      <td>19</td>\n",
       "      <td>7</td>\n",
       "      <td>12</td>\n",
       "      <td>171</td>\n",
       "    </tr>\n",
       "    <tr>\n",
       "      <td>512</td>\n",
       "      <td>handsome</td>\n",
       "      <td>19</td>\n",
       "      <td>6</td>\n",
       "      <td>13</td>\n",
       "      <td>217</td>\n",
       "    </tr>\n",
       "    <tr>\n",
       "      <td>513</td>\n",
       "      <td>delighted</td>\n",
       "      <td>19</td>\n",
       "      <td>6</td>\n",
       "      <td>13</td>\n",
       "      <td>217</td>\n",
       "    </tr>\n",
       "    <tr>\n",
       "      <td>514</td>\n",
       "      <td>conduct</td>\n",
       "      <td>19</td>\n",
       "      <td>6</td>\n",
       "      <td>13</td>\n",
       "      <td>217</td>\n",
       "    </tr>\n",
       "  </tbody>\n",
       "</table>\n",
       "</div>"
      ],
      "text/plain": [
       "          Word  Actual count  Zipf's Expected Count  Difference  \\\n",
       "505        air            20                      7          13   \n",
       "506       call            20                      7          13   \n",
       "507    pleased            20                      7          13   \n",
       "508        why            20                      7          13   \n",
       "509   appeared            20                      7          13   \n",
       "510    concert            20                      7          13   \n",
       "511       took            19                      7          12   \n",
       "512   handsome            19                      6          13   \n",
       "513  delighted            19                      6          13   \n",
       "514    conduct            19                      6          13   \n",
       "\n",
       "     Percent Difference  \n",
       "505                 186  \n",
       "506                 186  \n",
       "507                 186  \n",
       "508                 186  \n",
       "509                 186  \n",
       "510                 186  \n",
       "511                 171  \n",
       "512                 217  \n",
       "513                 217  \n",
       "514                 217  "
      ]
     },
     "execution_count": 206,
     "metadata": {},
     "output_type": "execute_result"
    }
   ],
   "source": [
    "zipfs_df[505:515]"
   ]
  },
  {
   "cell_type": "markdown",
   "metadata": {},
   "source": [
    "At about half way through the frequency distribution the counts are still about 100% higher than would be expected."
   ]
  },
  {
   "cell_type": "code",
   "execution_count": 207,
   "metadata": {},
   "outputs": [
    {
     "data": {
      "text/html": [
       "<div>\n",
       "<style scoped>\n",
       "    .dataframe tbody tr th:only-of-type {\n",
       "        vertical-align: middle;\n",
       "    }\n",
       "\n",
       "    .dataframe tbody tr th {\n",
       "        vertical-align: top;\n",
       "    }\n",
       "\n",
       "    .dataframe thead th {\n",
       "        text-align: right;\n",
       "    }\n",
       "</style>\n",
       "<table border=\"1\" class=\"dataframe\">\n",
       "  <thead>\n",
       "    <tr style=\"text-align: right;\">\n",
       "      <th></th>\n",
       "      <th>Word</th>\n",
       "      <th>Actual count</th>\n",
       "      <th>Zipf's Expected Count</th>\n",
       "      <th>Difference</th>\n",
       "      <th>Percent Difference</th>\n",
       "    </tr>\n",
       "  </thead>\n",
       "  <tbody>\n",
       "    <tr>\n",
       "      <td>2500</td>\n",
       "      <td>sensibly</td>\n",
       "      <td>2</td>\n",
       "      <td>1</td>\n",
       "      <td>1</td>\n",
       "      <td>100</td>\n",
       "    </tr>\n",
       "    <tr>\n",
       "      <td>2501</td>\n",
       "      <td>discredit</td>\n",
       "      <td>2</td>\n",
       "      <td>1</td>\n",
       "      <td>1</td>\n",
       "      <td>100</td>\n",
       "    </tr>\n",
       "    <tr>\n",
       "      <td>2502</td>\n",
       "      <td>lesser</td>\n",
       "      <td>2</td>\n",
       "      <td>1</td>\n",
       "      <td>1</td>\n",
       "      <td>100</td>\n",
       "    </tr>\n",
       "    <tr>\n",
       "      <td>2503</td>\n",
       "      <td>occasions</td>\n",
       "      <td>2</td>\n",
       "      <td>1</td>\n",
       "      <td>1</td>\n",
       "      <td>100</td>\n",
       "    </tr>\n",
       "    <tr>\n",
       "      <td>2504</td>\n",
       "      <td>unequal</td>\n",
       "      <td>2</td>\n",
       "      <td>1</td>\n",
       "      <td>1</td>\n",
       "      <td>100</td>\n",
       "    </tr>\n",
       "  </tbody>\n",
       "</table>\n",
       "</div>"
      ],
      "text/plain": [
       "           Word  Actual count  Zipf's Expected Count  Difference  \\\n",
       "2500   sensibly             2                      1           1   \n",
       "2501  discredit             2                      1           1   \n",
       "2502     lesser             2                      1           1   \n",
       "2503  occasions             2                      1           1   \n",
       "2504    unequal             2                      1           1   \n",
       "\n",
       "      Percent Difference  \n",
       "2500                 100  \n",
       "2501                 100  \n",
       "2502                 100  \n",
       "2503                 100  \n",
       "2504                 100  "
      ]
     },
     "execution_count": 207,
     "metadata": {},
     "output_type": "execute_result"
    }
   ],
   "source": [
    "zipfs_df[2500:2505]"
   ]
  },
  {
   "cell_type": "markdown",
   "metadata": {},
   "source": [
    "Not until the tail of the distribution do the actual and expected counts match."
   ]
  },
  {
   "cell_type": "code",
   "execution_count": 208,
   "metadata": {},
   "outputs": [
    {
     "data": {
      "text/html": [
       "<div>\n",
       "<style scoped>\n",
       "    .dataframe tbody tr th:only-of-type {\n",
       "        vertical-align: middle;\n",
       "    }\n",
       "\n",
       "    .dataframe tbody tr th {\n",
       "        vertical-align: top;\n",
       "    }\n",
       "\n",
       "    .dataframe thead th {\n",
       "        text-align: right;\n",
       "    }\n",
       "</style>\n",
       "<table border=\"1\" class=\"dataframe\">\n",
       "  <thead>\n",
       "    <tr style=\"text-align: right;\">\n",
       "      <th></th>\n",
       "      <th>Word</th>\n",
       "      <th>Actual count</th>\n",
       "      <th>Zipf's Expected Count</th>\n",
       "      <th>Difference</th>\n",
       "      <th>Percent Difference</th>\n",
       "    </tr>\n",
       "  </thead>\n",
       "  <tbody>\n",
       "    <tr>\n",
       "      <td>5734</td>\n",
       "      <td>defiance</td>\n",
       "      <td>1</td>\n",
       "      <td>1</td>\n",
       "      <td>0</td>\n",
       "      <td>0</td>\n",
       "    </tr>\n",
       "    <tr>\n",
       "      <td>5735</td>\n",
       "      <td>accessions</td>\n",
       "      <td>1</td>\n",
       "      <td>1</td>\n",
       "      <td>0</td>\n",
       "      <td>0</td>\n",
       "    </tr>\n",
       "    <tr>\n",
       "      <td>5736</td>\n",
       "      <td>sunshine</td>\n",
       "      <td>1</td>\n",
       "      <td>1</td>\n",
       "      <td>0</td>\n",
       "      <td>0</td>\n",
       "    </tr>\n",
       "    <tr>\n",
       "      <td>5737</td>\n",
       "      <td>national</td>\n",
       "      <td>1</td>\n",
       "      <td>1</td>\n",
       "      <td>0</td>\n",
       "      <td>0</td>\n",
       "    </tr>\n",
       "    <tr>\n",
       "      <td>5738</td>\n",
       "      <td>finis</td>\n",
       "      <td>1</td>\n",
       "      <td>1</td>\n",
       "      <td>0</td>\n",
       "      <td>0</td>\n",
       "    </tr>\n",
       "  </tbody>\n",
       "</table>\n",
       "</div>"
      ],
      "text/plain": [
       "            Word  Actual count  Zipf's Expected Count  Difference  \\\n",
       "5734    defiance             1                      1           0   \n",
       "5735  accessions             1                      1           0   \n",
       "5736    sunshine             1                      1           0   \n",
       "5737    national             1                      1           0   \n",
       "5738       finis             1                      1           0   \n",
       "\n",
       "      Percent Difference  \n",
       "5734                   0  \n",
       "5735                   0  \n",
       "5736                   0  \n",
       "5737                   0  \n",
       "5738                   0  "
      ]
     },
     "execution_count": 208,
     "metadata": {},
     "output_type": "execute_result"
    }
   ],
   "source": [
    "zipfs_df.tail(5)"
   ]
  },
  {
   "cell_type": "markdown",
   "metadata": {},
   "source": [
    "Let's plot the expected counts and actual counts to visualize the entire distribution."
   ]
  },
  {
   "cell_type": "code",
   "execution_count": 209,
   "metadata": {},
   "outputs": [
    {
     "data": {
      "image/png": "[encoded data removed]",
      "text/plain": [
       "<Figure size 1224x360 with 1 Axes>"
      ]
     },
     "metadata": {
      "needs_background": "light"
     },
     "output_type": "display_data"
    }
   ],
   "source": [
    "plt.figure(figsize=(17,5))\n",
    "\n",
    "# gca stands for 'get current axis'\n",
    "ax = plt.gca()\n",
    "\n",
    "zipfs_df.plot(kind='line',y=\"Zipf's Expected Count\",x='Word',ax=ax)\n",
    "zipfs_df.plot(kind='line',y='Actual count',x='Word', color='red', ax=ax)\n",
    "\n",
    "plt.show()"
   ]
  },
  {
   "cell_type": "markdown",
   "metadata": {},
   "source": [
    "Looking at the plot above it looks like the observed relative frequency of these words does follow Zipf’s law in a broad sense, in that the shape of the plots are similar, however, when we zoom in on the first 150 words as is shown in the second plot below, you can see that there's actually quite a bit of difference in the relative frequencies. "
   ]
  },
  {
   "cell_type": "code",
   "execution_count": 211,
   "metadata": {},
   "outputs": [
    {
     "data": {
      "image/png": "[encoded data removed]",
      "text/plain": [
       "<Figure size 1224x360 with 1 Axes>"
      ]
     },
     "metadata": {
      "needs_background": "light"
     },
     "output_type": "display_data"
    }
   ],
   "source": [
    "plt.figure(figsize=(17,5))\n",
    "\n",
    "# gca stands for 'get current axis'\n",
    "ax = plt.gca()\n",
    "\n",
    "zipfs_df[:150].plot(kind='line',y=\"Zipf's Expected Count\",x='Word',ax=ax)\n",
    "zipfs_df[:150].plot(kind='line',y='Actual count',x='Word', color='red', ax=ax)\n",
    "\n",
    "plt.show()"
   ]
  },
  {
   "cell_type": "markdown",
   "metadata": {},
   "source": [
    "## 7. Compare with 'all words in all corpora' "
   ]
  },
  {
   "cell_type": "markdown",
   "metadata": {},
   "source": [
    "###### In what ways do you think the frequency of the words in this corpus differ from “all words in all corpora.”"
   ]
  },
  {
   "cell_type": "code",
   "execution_count": null,
   "metadata": {},
   "outputs": [],
   "source": []
  },
  {
   "cell_type": "code",
   "execution_count": null,
   "metadata": {},
   "outputs": [],
   "source": []
  }
 ],
 "metadata": {
  "kernelspec": {
   "display_name": "Python 3",
   "language": "python",
   "name": "python3"
  },
  "language_info": {
   "codemirror_mode": {
    "name": "ipython",
    "version": 3
   },
   "file_extension": ".py",
   "mimetype": "text/x-python",
   "name": "python",
   "nbconvert_exporter": "python",
   "pygments_lexer": "ipython3",
   "version": "3.7.4"
  }
 },
 "nbformat": 4,
 "nbformat_minor": 2
}
