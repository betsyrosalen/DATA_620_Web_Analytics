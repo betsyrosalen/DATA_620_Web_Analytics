{
 "cells": [
  {
   "cell_type": "markdown",
   "metadata": {},
   "source": [
    "# Assignment Week 8 - – High Frequency Words"
   ]
  },
  {
   "cell_type": "markdown",
   "metadata": {},
   "source": [
    "### Betsy Rosalen and Mikhail Groysman"
   ]
  },
  {
   "cell_type": "markdown",
   "metadata": {},
   "source": [
    "## Project Overview"
   ]
  },
  {
   "cell_type": "markdown",
   "metadata": {},
   "source": [
    "Please answer the following questions in an IPython Notebook, posted to GitHub.\n",
    "1. Choose a corpus of interest.\n",
    "2. How many total unique words are in the corpus? (Please feel free to define unique words in any interesting,\n",
    "defensible way).\n",
    "3. Taking the most common words, how many unique words represent half of the total words in the corpus?\n",
    "4. Identify the 200 highest frequency words in this corpus.\n",
    "5. Create a graph that shows the relative frequency of these 200 words.\n",
    "6. Does the observed relative frequency of these words follow Zipf’s law? Explain.\n",
    "7. In what ways do you think the frequency of the words in this corpus differ from “all words in all corpora.”"
   ]
  },
  {
   "cell_type": "markdown",
   "metadata": {},
   "source": [
    "## 1. Choosing a corpus of interest."
   ]
  },
  {
   "cell_type": "markdown",
   "metadata": {},
   "source": [
    "We went an easy way, selecting one of the corpus from freely available library Gutenburg. Our corpus is Austen Persuasion."
   ]
  },
  {
   "cell_type": "code",
   "execution_count": 24,
   "metadata": {},
   "outputs": [],
   "source": [
    "import nltk"
   ]
  },
  {
   "cell_type": "code",
   "execution_count": 25,
   "metadata": {},
   "outputs": [
    {
     "data": {
      "text/plain": [
       "['austen-emma.txt',\n",
       " 'austen-persuasion.txt',\n",
       " 'austen-sense.txt',\n",
       " 'bible-kjv.txt',\n",
       " 'blake-poems.txt',\n",
       " 'bryant-stories.txt',\n",
       " 'burgess-busterbrown.txt',\n",
       " 'carroll-alice.txt',\n",
       " 'chesterton-ball.txt',\n",
       " 'chesterton-brown.txt',\n",
       " 'chesterton-thursday.txt',\n",
       " 'edgeworth-parents.txt',\n",
       " 'melville-moby_dick.txt',\n",
       " 'milton-paradise.txt',\n",
       " 'shakespeare-caesar.txt',\n",
       " 'shakespeare-hamlet.txt',\n",
       " 'shakespeare-macbeth.txt',\n",
       " 'whitman-leaves.txt']"
      ]
     },
     "execution_count": 25,
     "metadata": {},
     "output_type": "execute_result"
    }
   ],
   "source": [
    "nltk.corpus.gutenberg.fileids()"
   ]
  },
  {
   "cell_type": "code",
   "execution_count": 26,
   "metadata": {},
   "outputs": [],
   "source": [
    "austen = nltk.Text(nltk.corpus.gutenberg.words('austen-persuasion.txt'))\n"
   ]
  },
  {
   "cell_type": "markdown",
   "metadata": {},
   "source": [
    "## 2. Total Unique Words."
   ]
  },
  {
   "cell_type": "markdown",
   "metadata": {},
   "source": [
    "All words:"
   ]
  },
  {
   "cell_type": "code",
   "execution_count": 30,
   "metadata": {},
   "outputs": [
    {
     "data": {
      "text/plain": [
       "98171"
      ]
     },
     "execution_count": 30,
     "metadata": {},
     "output_type": "execute_result"
    }
   ],
   "source": [
    "AW=len(austen)\n",
    "AW"
   ]
  },
  {
   "cell_type": "markdown",
   "metadata": {},
   "source": [
    "Unique words:"
   ]
  },
  {
   "cell_type": "code",
   "execution_count": 19,
   "metadata": {},
   "outputs": [
    {
     "data": {
      "text/plain": [
       "6132"
      ]
     },
     "execution_count": 19,
     "metadata": {},
     "output_type": "execute_result"
    }
   ],
   "source": [
    "len(set(austen))"
   ]
  },
  {
   "cell_type": "markdown",
   "metadata": {},
   "source": [
    "Let's see distribution of our words:"
   ]
  },
  {
   "cell_type": "code",
   "execution_count": 27,
   "metadata": {},
   "outputs": [
    {
     "data": {
      "text/plain": [
       "FreqDist({',': 6750, 'the': 3120, 'to': 2775, '.': 2741, 'and': 2739, 'of': 2564, 'a': 1529, 'in': 1346, 'was': 1330, ';': 1290, ...})"
      ]
     },
     "execution_count": 27,
     "metadata": {},
     "output_type": "execute_result"
    }
   ],
   "source": [
    "nltk.FreqDist(austen)"
   ]
  },
  {
   "cell_type": "markdown",
   "metadata": {},
   "source": [
    "Excluding punctuation and numbers. This code comes from the book."
   ]
  },
  {
   "cell_type": "code",
   "execution_count": 28,
   "metadata": {},
   "outputs": [
    {
     "data": {
      "text/plain": [
       "5739"
      ]
     },
     "execution_count": 28,
     "metadata": {},
     "output_type": "execute_result"
    }
   ],
   "source": [
    "len(set(word.lower() for word in austen if word.isalpha()))"
   ]
  },
  {
   "cell_type": "markdown",
   "metadata": {},
   "source": [
    "__Answer: 5,739__"
   ]
  },
  {
   "cell_type": "markdown",
   "metadata": {},
   "source": [
    "## 3. How many unique words represent half of all words."
   ]
  },
  {
   "cell_type": "markdown",
   "metadata": {},
   "source": [
    "All words excluding numbers and punctuation."
   ]
  },
  {
   "cell_type": "code",
   "execution_count": 58,
   "metadata": {},
   "outputs": [],
   "source": [
    "AWwoNP=[word.lower() for word in austen if word.isalpha()]\n",
    "tw=len(AWwoNP)"
   ]
  },
  {
   "cell_type": "markdown",
   "metadata": {},
   "source": [
    "Getting frequency distributions of words:"
   ]
  },
  {
   "cell_type": "code",
   "execution_count": 62,
   "metadata": {},
   "outputs": [
    {
     "data": {
      "text/plain": [
       "[('the', 3329), ('to', 2808), ('and', 2801), ('of', 2570), ('a', 1595)]"
      ]
     },
     "execution_count": 62,
     "metadata": {},
     "output_type": "execute_result"
    }
   ],
   "source": [
    "fdist = nltk.FreqDist(AWwoNP).most_common()\n",
    "fdist[:5]"
   ]
  },
  {
   "cell_type": "markdown",
   "metadata": {},
   "source": [
    "tcount=0\n",
    "wcount=0\n",
    "for word, count in fdist:\n",
    "    tcount=tcount+count\n",
    "    wcount=wcount+1\n",
    "    if tcount>(tw/2):\n",
    "        print(wcount)\n",
    "        break"
   ]
  },
  {
   "cell_type": "markdown",
   "metadata": {},
   "source": [
    "__Answer is 58__"
   ]
  },
  {
   "cell_type": "markdown",
   "metadata": {},
   "source": [
    "## 4. 200 most frequent words."
   ]
  },
  {
   "cell_type": "code",
   "execution_count": 63,
   "metadata": {},
   "outputs": [
    {
     "data": {
      "text/plain": [
       "[('the', 3329),\n",
       " ('to', 2808),\n",
       " ('and', 2801),\n",
       " ('of', 2570),\n",
       " ('a', 1595),\n",
       " ('in', 1389),\n",
       " ('was', 1337),\n",
       " ('her', 1204),\n",
       " ('had', 1186),\n",
       " ('she', 1146),\n",
       " ('i', 1124),\n",
       " ('it', 1038),\n",
       " ('he', 961),\n",
       " ('be', 950),\n",
       " ('not', 934),\n",
       " ('that', 882),\n",
       " ('as', 809),\n",
       " ('for', 707),\n",
       " ('but', 664),\n",
       " ('his', 659),\n",
       " ('with', 654),\n",
       " ('you', 628),\n",
       " ('have', 589),\n",
       " ('at', 533),\n",
       " ('all', 530),\n",
       " ('anne', 497),\n",
       " ('been', 496),\n",
       " ('s', 485),\n",
       " ('him', 467),\n",
       " ('could', 451),\n",
       " ('very', 434),\n",
       " ('they', 433),\n",
       " ('were', 426),\n",
       " ('by', 418),\n",
       " ('which', 416),\n",
       " ('is', 398),\n",
       " ('on', 396),\n",
       " ('so', 359),\n",
       " ('no', 356),\n",
       " ('would', 355),\n",
       " ('captain', 303),\n",
       " ('from', 295),\n",
       " ('their', 293),\n",
       " ('mrs', 291),\n",
       " ('elliot', 289),\n",
       " ('there', 286),\n",
       " ('or', 274),\n",
       " ('more', 273),\n",
       " ('them', 270),\n",
       " ('mr', 256),\n",
       " ('this', 250),\n",
       " ('an', 245),\n",
       " ('than', 243),\n",
       " ('one', 238),\n",
       " ('must', 228),\n",
       " ('when', 228),\n",
       " ('my', 223),\n",
       " ('being', 220),\n",
       " ('only', 219),\n",
       " ('wentworth', 218),\n",
       " ('lady', 216),\n",
       " ('such', 211),\n",
       " ('do', 210),\n",
       " ('much', 205),\n",
       " ('if', 202),\n",
       " ('any', 199),\n",
       " ('what', 197),\n",
       " ('who', 190),\n",
       " ('should', 188),\n",
       " ('me', 188),\n",
       " ('good', 187),\n",
       " ('little', 176),\n",
       " ('said', 173),\n",
       " ('will', 167),\n",
       " ('charles', 166),\n",
       " ('might', 166),\n",
       " ('own', 163),\n",
       " ('well', 163),\n",
       " ('did', 162),\n",
       " ('herself', 159),\n",
       " ('now', 158),\n",
       " ('never', 155),\n",
       " ('we', 155),\n",
       " ('time', 152),\n",
       " ('sir', 149),\n",
       " ('think', 149),\n",
       " ('russell', 148),\n",
       " ('are', 146),\n",
       " ('other', 143),\n",
       " ('walter', 141),\n",
       " ('nothing', 139),\n",
       " ('mary', 138),\n",
       " ('am', 137),\n",
       " ('some', 136),\n",
       " ('man', 134),\n",
       " ('again', 132),\n",
       " ('musgrove', 130),\n",
       " ('great', 130),\n",
       " ('too', 128),\n",
       " ('know', 127),\n",
       " ('how', 125),\n",
       " ('miss', 125),\n",
       " ('your', 124),\n",
       " ('most', 123),\n",
       " ('see', 123),\n",
       " ('soon', 122),\n",
       " ('though', 117),\n",
       " ('father', 117),\n",
       " ('before', 116),\n",
       " ('two', 114),\n",
       " ('first', 113),\n",
       " ('quite', 112),\n",
       " ('louisa', 111),\n",
       " ('always', 110),\n",
       " ('without', 108),\n",
       " ('can', 107),\n",
       " ('every', 102),\n",
       " ('bath', 101),\n",
       " ('has', 100),\n",
       " ('into', 98),\n",
       " ('about', 97),\n",
       " ('after', 96),\n",
       " ('made', 96),\n",
       " ('himself', 95),\n",
       " ('long', 95),\n",
       " ('out', 95),\n",
       " ('house', 94),\n",
       " ('say', 93),\n",
       " ('seemed', 93),\n",
       " ('having', 92),\n",
       " ('up', 91),\n",
       " ('thought', 90),\n",
       " ('elizabeth', 89),\n",
       " ('however', 89),\n",
       " ('last', 88),\n",
       " ('make', 88),\n",
       " ('go', 88),\n",
       " ('place', 87),\n",
       " ('may', 87),\n",
       " ('better', 87),\n",
       " ('many', 85),\n",
       " ('over', 84),\n",
       " ('same', 84),\n",
       " ('young', 84),\n",
       " ('found', 83),\n",
       " ('friend', 83),\n",
       " ('home', 83),\n",
       " ('sister', 82),\n",
       " ('room', 82),\n",
       " ('like', 81),\n",
       " ('family', 80),\n",
       " ('felt', 80),\n",
       " ('give', 79),\n",
       " ('away', 78),\n",
       " ('way', 78),\n",
       " ('ever', 78),\n",
       " ('uppercross', 77),\n",
       " ('day', 77),\n",
       " ('come', 75),\n",
       " ('feelings', 75),\n",
       " ('harville', 75),\n",
       " ('still', 74),\n",
       " ('done', 74),\n",
       " ('henrietta', 74),\n",
       " ('kellynch', 73),\n",
       " ('sure', 73),\n",
       " ('its', 72),\n",
       " ('those', 72),\n",
       " ('upon', 72),\n",
       " ('enough', 71),\n",
       " ('even', 71),\n",
       " ('moment', 71),\n",
       " ('then', 70),\n",
       " ('benwick', 70),\n",
       " ('while', 69),\n",
       " ('back', 69),\n",
       " ('off', 69),\n",
       " ('admiral', 69),\n",
       " ('came', 68),\n",
       " ('smith', 68),\n",
       " ('woman', 67),\n",
       " ('lyme', 67),\n",
       " ('just', 66),\n",
       " ('another', 66),\n",
       " ('clay', 66),\n",
       " ('present', 65),\n",
       " ('our', 65),\n",
       " ('going', 65),\n",
       " ('heard', 65),\n",
       " ('mind', 64),\n",
       " ('happy', 64),\n",
       " ('something', 64),\n",
       " ('indeed', 63),\n",
       " ('here', 63),\n",
       " ('few', 62),\n",
       " ('party', 62),\n",
       " ('acquaintance', 61),\n",
       " ('down', 61),\n",
       " ('knew', 61),\n",
       " ('almost', 60)]"
      ]
     },
     "execution_count": 63,
     "metadata": {},
     "output_type": "execute_result"
    }
   ],
   "source": [
    "fdist[:200]"
   ]
  },
  {
   "cell_type": "markdown",
   "metadata": {},
   "source": [
    "## 5. Relative frequency of these 200 words."
   ]
  },
  {
   "cell_type": "code",
   "execution_count": 76,
   "metadata": {},
   "outputs": [],
   "source": [
    "my_dict = {}\n",
    "wcount=0\n",
    "for word, count in fdist:       \n",
    "    wcount=wcount+1\n",
    "    my_dict[word]=count/tw\n",
    "    if wcount>199:\n",
    "        break"
   ]
  },
  {
   "cell_type": "code",
   "execution_count": 85,
   "metadata": {},
   "outputs": [
    {
     "data": {
      "text/plain": [
       "<BarContainer object of 200 artists>"
      ]
     },
     "execution_count": 85,
     "metadata": {},
     "output_type": "execute_result"
    },
    {
     "data": {
      "image/png": "[encoded data removed]",
      "text/plain": [
       "<Figure size 1080x360 with 1 Axes>"
      ]
     },
     "metadata": {
      "needs_background": "light"
     },
     "output_type": "display_data"
    }
   ],
   "source": [
    "import matplotlib.pyplot as plt\n",
    "plt.figure(figsize=(15,5))\n",
    "plt.xticks(rotation=90)\n",
    "plt.rc('xtick',labelsize=4)\n",
    "plt.bar(my_dict.keys(), my_dict.values(), width=.4, color='g')"
   ]
  },
  {
   "cell_type": "markdown",
   "metadata": {},
   "source": [
    "## 6. Zipf's law"
   ]
  },
  {
   "cell_type": "markdown",
   "metadata": {},
   "source": [
    "From Wikipedia:\n",
    "\n",
    "Zipf's law was originally formulated in terms of quantitative linguistics , stating that given some corpus of natural language utterances, the frequency of any word is inversely proportional to its rank in the frequency table. Thus the most frequent word will occur approximately twice as often as the second most frequent word, three times as often as the third most frequent word, etc.: the rank-frequency distribution is an inverse relation. For example, in the Brown Corpus of American English text, the word the is the most frequently occurring word, and by itself accounts for nearly 7% of all word occurrences (69,971 out of slightly over 1 million). True to Zipf's Law, the second-place word of accounts for slightly over 3.5% of words (36,411 occurrences), followed by and (28,852). Only 135 vocabulary items are needed to account for half the Brown Corpus.[1]\n",
    "\n",
    "[1](https://en.wikipedia.org/wiki/Zipf%27s_law)"
   ]
  },
  {
   "cell_type": "markdown",
   "metadata": {},
   "source": [
    "Let's see hpw much our value are off from Zipf's distribution:"
   ]
  },
  {
   "cell_type": "code",
   "execution_count": 97,
   "metadata": {},
   "outputs": [
    {
     "name": "stdout",
     "output_type": "stream",
     "text": [
      "2 1.1855413105413106\n",
      "3 1.1885041056765442\n",
      "4 1.295330739299611\n",
      "5 2.0871473354231975\n",
      "6 2.396688264938805\n",
      "7 2.4899027673896783\n",
      "8 2.764950166112957\n",
      "9 2.8069139966273187\n",
      "10 2.904886561954625\n",
      "11 2.961743772241993\n",
      "12 3.2071290944123314\n",
      "13 3.4640998959417275\n",
      "14 3.5042105263157897\n",
      "15 3.56423982869379\n",
      "16 3.77437641723356\n",
      "17 4.11495673671199\n",
      "18 4.708628005657709\n",
      "19 5.01355421686747\n",
      "20 5.051593323216996\n",
      "21 5.090214067278287\n",
      "22 5.300955414012739\n",
      "23 5.65195246179966\n",
      "24 6.24577861163227\n",
      "25 6.281132075471698\n",
      "26 6.698189134808853\n",
      "27 6.711693548387097\n",
      "28 6.8639175257731955\n",
      "29 7.12847965738758\n",
      "30 7.381374722838138\n",
      "31 7.670506912442396\n",
      "32 7.688221709006928\n",
      "33 7.814553990610329\n",
      "34 7.964114832535885\n",
      "35 8.002403846153847\n",
      "36 8.364321608040202\n",
      "37 8.406565656565656\n",
      "38 9.272980501392757\n",
      "39 9.351123595505618\n",
      "40 9.377464788732395\n",
      "41 10.986798679867986\n",
      "42 11.284745762711864\n",
      "43 11.361774744027304\n",
      "44 11.439862542955327\n",
      "45 11.519031141868512\n",
      "46 11.63986013986014\n",
      "47 12.14963503649635\n",
      "48 12.194139194139193\n",
      "49 12.329629629629629\n",
      "50 13.00390625\n",
      "51 13.316\n",
      "52 13.587755102040816\n",
      "53 13.699588477366255\n",
      "54 13.987394957983193\n",
      "55 14.600877192982455\n",
      "56 14.600877192982455\n",
      "57 14.928251121076233\n",
      "58 15.131818181818181\n",
      "59 15.200913242009133\n",
      "60 15.270642201834862\n",
      "61 15.412037037037036\n",
      "62 15.777251184834123\n",
      "63 15.852380952380953\n",
      "64 16.2390243902439\n",
      "65 16.480198019801982\n",
      "66 16.728643216080403\n",
      "67 16.898477157360407\n",
      "68 17.521052631578947\n",
      "69 17.70744680851064\n",
      "70 17.70744680851064\n",
      "71 17.802139037433154\n",
      "72 18.914772727272727\n",
      "73 19.24277456647399\n",
      "74 19.934131736526947\n",
      "75 20.05421686746988\n",
      "76 20.05421686746988\n",
      "77 20.42331288343558\n",
      "78 20.42331288343558\n",
      "79 20.549382716049383\n",
      "80 20.937106918238992\n",
      "81 21.069620253164558\n",
      "82 21.47741935483871\n",
      "83 21.47741935483871\n",
      "84 21.901315789473685\n",
      "85 22.34228187919463\n",
      "86 22.34228187919463\n",
      "87 22.493243243243242\n",
      "88 22.801369863013697\n",
      "89 23.27972027972028\n",
      "90 23.609929078014183\n",
      "91 23.949640287769785\n",
      "92 24.1231884057971\n",
      "93 24.2992700729927\n",
      "94 24.477941176470587\n",
      "95 24.84328358208955\n",
      "96 25.21969696969697\n",
      "97 25.607692307692307\n",
      "98 25.607692307692307\n",
      "99 26.0078125\n",
      "100 26.212598425196852\n",
      "101 26.632\n",
      "102 26.632\n",
      "103 26.846774193548388\n",
      "104 27.065040650406505\n",
      "105 27.065040650406505\n",
      "106 27.28688524590164\n",
      "107 28.45299145299145\n",
      "108 28.45299145299145\n",
      "109 28.698275862068964\n",
      "110 29.20175438596491\n",
      "111 29.460176991150444\n",
      "112 29.723214285714285\n",
      "113 29.99099099099099\n",
      "114 30.263636363636362\n",
      "115 30.824074074074073\n",
      "116 31.11214953271028\n",
      "117 32.63725490196079\n",
      "118 32.960396039603964\n",
      "119 33.29\n",
      "120 33.96938775510204\n",
      "121 34.31958762886598\n",
      "122 34.677083333333336\n",
      "123 34.677083333333336\n",
      "124 35.04210526315789\n",
      "125 35.04210526315789\n",
      "126 35.04210526315789\n",
      "127 35.41489361702128\n",
      "128 35.795698924731184\n",
      "129 35.795698924731184\n",
      "130 36.18478260869565\n",
      "131 36.582417582417584\n",
      "132 36.98888888888889\n",
      "133 37.40449438202247\n",
      "134 37.40449438202247\n",
      "135 37.82954545454545\n",
      "136 37.82954545454545\n",
      "137 37.82954545454545\n",
      "138 38.264367816091955\n",
      "139 38.264367816091955\n",
      "140 38.264367816091955\n",
      "141 39.16470588235294\n",
      "142 39.63095238095238\n",
      "143 39.63095238095238\n",
      "144 39.63095238095238\n",
      "145 40.10843373493976\n",
      "146 40.10843373493976\n",
      "147 40.10843373493976\n",
      "148 40.59756097560975\n",
      "149 40.59756097560975\n",
      "150 41.098765432098766\n",
      "151 41.6125\n",
      "152 41.6125\n",
      "153 42.139240506329116\n",
      "154 42.67948717948718\n",
      "155 42.67948717948718\n",
      "156 42.67948717948718\n",
      "157 43.23376623376623\n",
      "158 43.23376623376623\n",
      "159 44.38666666666666\n",
      "160 44.38666666666666\n",
      "161 44.38666666666666\n",
      "162 44.986486486486484\n",
      "163 44.986486486486484\n",
      "164 44.986486486486484\n",
      "165 45.602739726027394\n",
      "166 45.602739726027394\n",
      "167 46.236111111111114\n",
      "168 46.236111111111114\n",
      "169 46.236111111111114\n",
      "170 46.88732394366197\n",
      "171 46.88732394366197\n",
      "172 46.88732394366197\n",
      "173 47.55714285714286\n",
      "174 47.55714285714286\n",
      "175 48.2463768115942\n",
      "176 48.2463768115942\n",
      "177 48.2463768115942\n",
      "178 48.2463768115942\n",
      "179 48.955882352941174\n",
      "180 48.955882352941174\n",
      "181 49.6865671641791\n",
      "182 49.6865671641791\n",
      "183 50.43939393939394\n",
      "184 50.43939393939394\n",
      "185 50.43939393939394\n",
      "186 51.215384615384615\n",
      "187 51.215384615384615\n",
      "188 51.215384615384615\n",
      "189 51.215384615384615\n",
      "190 52.015625\n",
      "191 52.015625\n",
      "192 52.015625\n",
      "193 52.84126984126984\n",
      "194 52.84126984126984\n",
      "195 53.693548387096776\n",
      "196 53.693548387096776\n",
      "197 54.57377049180328\n",
      "198 54.57377049180328\n",
      "199 54.57377049180328\n",
      "200 55.483333333333334\n"
     ]
    }
   ],
   "source": [
    "wcount=0\n",
    "for word, count in fdist: \n",
    "    if wcount==0:\n",
    "        fval=count\n",
    "    else:\n",
    "        #print(fval,word,count,fval/(wcount+1))\n",
    "        print(wcount+1,fval/count)\n",
    "    wcount=wcount+1\n",
    "    if wcount>199:\n",
    "        break\n"
   ]
  },
  {
   "cell_type": "markdown",
   "metadata": {},
   "source": [
    "It does not follow original Zipf's law exactly. If it did then we would have 2 2, 3 3, 4 4, etc. But our distribution has Zipf's quality. It decreases exponentially, not linearly."
   ]
  },
  {
   "cell_type": "markdown",
   "metadata": {},
   "source": [
    "Let try to calculate S of our Zipf function using code from stackoverflow.[2]\n",
    "\n",
    "[2](https://stackoverflow.com/questions/43671188/zipf-distribution-how-do-i-measure-zipf-distribution)"
   ]
  },
  {
   "cell_type": "code",
   "execution_count": 121,
   "metadata": {},
   "outputs": [],
   "source": [
    "import re\n",
    "from operator import itemgetter\n",
    "import matplotlib.pyplot as plt\n",
    "from scipy import special\n",
    "import numpy as np"
   ]
  },
  {
   "cell_type": "code",
   "execution_count": 106,
   "metadata": {},
   "outputs": [],
   "source": [
    "\n",
    "frequency = {key:value for key,value in my_dict.items()}"
   ]
  },
  {
   "cell_type": "code",
   "execution_count": 144,
   "metadata": {},
   "outputs": [
    {
     "data": {
      "text/plain": [
       "array(['the', 'to', 'and', 'of', 'a', 'in', 'was', 'her', 'had', 'she',\n",
       "       'i', 'it', 'he', 'be', 'not', 'that', 'as', 'for', 'but', 'his',\n",
       "       'with', 'you', 'have', 'at', 'all', 'anne', 'been', 's', 'him',\n",
       "       'could', 'very', 'they', 'were', 'by', 'which', 'is', 'on', 'so',\n",
       "       'no', 'would', 'captain', 'from', 'their', 'mrs', 'elliot',\n",
       "       'there', 'or', 'more', 'them', 'mr', 'this', 'an', 'than', 'one',\n",
       "       'must', 'when', 'my', 'being', 'only', 'wentworth', 'lady', 'such',\n",
       "       'do', 'much', 'if', 'any', 'what', 'who', 'should', 'me', 'good',\n",
       "       'little', 'said', 'will', 'charles', 'might', 'own', 'well', 'did',\n",
       "       'herself', 'now', 'never', 'we', 'time', 'sir', 'think', 'russell',\n",
       "       'are', 'other', 'walter', 'nothing', 'mary', 'am', 'some', 'man',\n",
       "       'again', 'musgrove', 'great', 'too', 'know', 'how', 'miss', 'your',\n",
       "       'most', 'see', 'soon', 'though', 'father', 'before', 'two',\n",
       "       'first', 'quite', 'louisa', 'always', 'without', 'can', 'every',\n",
       "       'bath', 'has', 'into', 'about', 'after', 'made', 'himself', 'long',\n",
       "       'out', 'house', 'say', 'seemed', 'having', 'up', 'thought',\n",
       "       'elizabeth', 'however', 'last', 'make', 'go', 'place', 'may',\n",
       "       'better', 'many', 'over', 'same', 'young', 'found', 'friend',\n",
       "       'home', 'sister', 'room', 'like', 'family', 'felt', 'give', 'away',\n",
       "       'way', 'ever', 'uppercross', 'day', 'come', 'feelings', 'harville',\n",
       "       'still', 'done', 'henrietta', 'kellynch', 'sure', 'its', 'those',\n",
       "       'upon', 'enough', 'even', 'moment', 'then', 'benwick', 'while',\n",
       "       'back', 'off', 'admiral', 'came', 'smith', 'woman', 'lyme', 'just',\n",
       "       'another', 'clay', 'present', 'our', 'going', 'heard', 'mind',\n",
       "       'happy', 'something', 'indeed', 'here', 'few', 'party',\n",
       "       'acquaintance', 'down', 'knew', 'almost'], dtype='<U12')"
      ]
     },
     "execution_count": 144,
     "metadata": {},
     "output_type": "execute_result"
    }
   ],
   "source": [
    "s = list(frequency.keys())\n",
    "s1 = np.array(s)\n",
    "s1"
   ]
  },
  {
   "cell_type": "code",
   "execution_count": 142,
   "metadata": {},
   "outputs": [],
   "source": [
    "a=2\n",
    "plt.rc('xtick',labelsize=8)\n"
   ]
  },
  {
   "cell_type": "code",
   "execution_count": 143,
   "metadata": {},
   "outputs": [
    {
     "ename": "TypeError",
     "evalue": "'<' not supported between instances of 'numpy.ndarray' and 'int'",
     "output_type": "error",
     "traceback": [
      "\u001b[1;31m---------------------------------------------------------------------------\u001b[0m",
      "\u001b[1;31mTypeError\u001b[0m                                 Traceback (most recent call last)",
      "\u001b[1;32m<ipython-input-143-4c309b3b4322>\u001b[0m in \u001b[0;36m<module>\u001b[1;34m\u001b[0m\n\u001b[1;32m----> 1\u001b[1;33m \u001b[0mcount\u001b[0m\u001b[1;33m,\u001b[0m \u001b[0mbins\u001b[0m\u001b[1;33m,\u001b[0m \u001b[0mignored\u001b[0m \u001b[1;33m=\u001b[0m \u001b[0mplt\u001b[0m\u001b[1;33m.\u001b[0m\u001b[0mhist\u001b[0m\u001b[1;33m(\u001b[0m\u001b[0ms1\u001b[0m\u001b[1;33m[\u001b[0m\u001b[0ms1\u001b[0m\u001b[1;33m<\u001b[0m\u001b[1;36m50\u001b[0m\u001b[1;33m]\u001b[0m\u001b[1;33m,\u001b[0m \u001b[1;36m50\u001b[0m\u001b[1;33m,\u001b[0m \u001b[0mcumulative\u001b[0m\u001b[1;33m=\u001b[0m\u001b[1;32mTrue\u001b[0m\u001b[1;33m)\u001b[0m\u001b[1;33m\u001b[0m\u001b[1;33m\u001b[0m\u001b[0m\n\u001b[0m",
      "\u001b[1;31mTypeError\u001b[0m: '<' not supported between instances of 'numpy.ndarray' and 'int'"
     ]
    }
   ],
   "source": [
    "count, bins, ignored = plt.hist(s1[s1<50], 50, cumulative=True)"
   ]
  },
  {
   "cell_type": "code",
   "execution_count": 128,
   "metadata": {},
   "outputs": [
    {
     "data": {
      "text/plain": [
       "array([1.5505461 , 0.38763652, 0.1722829 , 0.09690913, 0.06202184,\n",
       "       0.04307072, 0.0316438 , 0.02422728, 0.01914254, 0.01550546,\n",
       "       0.01281443, 0.01076768, 0.00917483, 0.00791095, 0.00689132,\n",
       "       0.00605682, 0.00536521, 0.00478564, 0.00429514, 0.00387637,\n",
       "       0.00351598, 0.00320361, 0.00293109, 0.00269192])"
      ]
     },
     "execution_count": 128,
     "metadata": {},
     "output_type": "execute_result"
    },
    {
     "data": {
      "image/png": "[encoded data removed]",
      "text/plain": [
       "<Figure size 432x288 with 1 Axes>"
      ]
     },
     "metadata": {
      "needs_background": "light"
     },
     "output_type": "display_data"
    }
   ],
   "source": [
    "x = np.arange(1., 25.)\n",
    "y = x**(-a) / special.zetac(a)\n",
    "x\n",
    "y"
   ]
  },
  {
   "cell_type": "code",
   "execution_count": 126,
   "metadata": {},
   "outputs": [
    {
     "data": {
      "image/png": "[encoded data removed]",
      "text/plain": [
       "<Figure size 432x288 with 1 Axes>"
      ]
     },
     "metadata": {
      "needs_background": "light"
     },
     "output_type": "display_data"
    }
   ],
   "source": [
    "plt.plot(x, y/max(y), linewidth=2, color='r')\n",
    "plt.show()"
   ]
  },
  {
   "cell_type": "code",
   "execution_count": null,
   "metadata": {},
   "outputs": [],
   "source": []
  },
  {
   "cell_type": "code",
   "execution_count": null,
   "metadata": {},
   "outputs": [],
   "source": []
  }
 ],
 "metadata": {
  "kernelspec": {
   "display_name": "Python 3",
   "language": "python",
   "name": "python3"
  },
  "language_info": {
   "codemirror_mode": {
    "name": "ipython",
    "version": 3
   },
   "file_extension": ".py",
   "mimetype": "text/x-python",
   "name": "python",
   "nbconvert_exporter": "python",
   "pygments_lexer": "ipython3",
   "version": "3.7.3"
  }
 },
 "nbformat": 4,
 "nbformat_minor": 2
}
