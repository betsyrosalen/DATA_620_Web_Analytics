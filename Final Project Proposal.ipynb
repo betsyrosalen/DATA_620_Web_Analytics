{
 "cells": [
  {
   "cell_type": "markdown",
   "metadata": {},
   "source": [
    "# Final Project Proposal"
   ]
  },
  {
   "cell_type": "markdown",
   "metadata": {},
   "source": [
    "### Betsy Rosalen and Mikhail Groysman"
   ]
  },
  {
   "cell_type": "markdown",
   "metadata": {},
   "source": [
    "## Project Overview"
   ]
  },
  {
   "cell_type": "markdown",
   "metadata": {},
   "source": [
    "### Final Project Proposal \n",
    "\n",
    "Your proposal should describe at a high level what you’re seeking to accomplish, and your motivation for performing this analysis. A guiding question or hypothesis to test is one good way to start. If you are going to work in a small group (encouraged!), you should also list your partners’ names. \n",
    "\n",
    "You should briefly describe your data sources; plan for doing the work, and up-front concerns. If you are working in a group, please describe the roles and responsibilities of each group member. \n",
    "We’ll treat this proposal as a planning document, not a blueprint containing “firm, fixed requirements.” \n",
    "\n",
    "### Final Project \n",
    "\n",
    "Your project should incorporate one or both of the two main themes of this course: network analysis and text processing. You need to show all of your work in a coherent workflow, and in a reproducible format, such as an IPython Notebook or an R Markdown document. If you are building a model or models, explain how you evaluate the “goodness” of the chosen model and parameters. \n",
    "\n",
    "### Final Project Presentation \n",
    "\n",
    "We’ll schedule a short presentation for each team, either in our last scheduled meet-up or in additional office hours to be scheduled during the last week of classes.\n",
    "\n",
    "### Policy on Collaboration \n",
    "\n",
    "You may work in a team of up to three people. Each project team member is responsible for understanding and being able to explain all of the submitted project code. Remember that you can take work that you find elsewhere as a base to build on, but you need to acknowledge the source, so that I base your grade on what you contributed, not on what you started with!"
   ]
  },
  {
   "cell_type": "markdown",
   "metadata": {},
   "source": [
    "## Recipe ingredients data"
   ]
  },
  {
   "cell_type": "markdown",
   "metadata": {},
   "source": [
    "We chose a dataset that we found on the [Data Is Plural — Structured Archive](https://docs.google.com/spreadsheets/d/1wZhPLMCHKJvwOkP4juclhjFgqIY8fQFMemwKL2c64vk/edit#gid=0) that consists of 56,498 recipes from various cuisines that were scraped from 3 popular recipe websites.\n",
    "\n",
    "__Description from Data Is Plural__\n",
    "\n",
    "> For their 2011 paper, “Flavor network and the principles of food pairing,” four scientists analyzed 56,498 recipes downloaded from three websites — allrecipes.com, epicurious.com, and menupan.com. To support their findings, the authors published two datasets. One names the cuisine and ingredients for each recipe. The other dataset counts how often any two ingredients appeared in the same recipe. (Parmesan cheese and beef appeared together 93 times; starfruit and Algerian geranium oil just once.) Related: “food2vec – Augmented cooking with machine intelligence,” published last month. [h/t Rob Barry](http://rob-barry.com/).\n",
    "\n",
    "The __original research article__, Flavor network and the principles of food pairing, can be found here: __[Flavor network and the principles of food pairing](http://www.nature.com/articles/srep00196)__  \n",
    "The __additional related article__ cited above can be found here: __[food2vec – Augmented cooking with machine intelligence](https://jaan.io/food2vec-augmented-cooking-machine-intelligence)__  \n",
    "\n",
    "__The data__ is easily downloaded in CSV format from the __[Electronic supplementary material](https://www.nature.com/articles/srep00196#Sec8)__ section of the Flavor network and the principles of food pairing research paper webpage.\n",
    "\n",
    "__The data downloads consist of the following two files:__\n",
    "\n",
    "- srep00196-s2.csv - counts of how often any two ingredients appeared in the same recipe\n",
    "- srep00196-s3.csv - one record per recipe with the ingredients listed in columns\n",
    "\n",
    "__Structure of the srep00196-s2 dataset:__\n",
    "\n",
    "- The paired ingredients are listed one each in the first two columns and the count of appearances in all recipes across all cuisines in the third column.  We may or may not use this dataset, since we may opt instead to create our own counts grouped by cuisine from the other file. The cuisines for each pairing are not available.\n",
    "\n",
    "__Structure of the srep00196-s3 dataset:__\n",
    "\n",
    "- The type of cuisine is listed in the first column with the remaining columns containing one ingredient per column. \n",
    "    - The cuisine categories include:\n",
    "        - African\n",
    "        - EastAsian\n",
    "        - EasternEuropean\n",
    "        - LatinAmerican\n",
    "        - MiddleEastern\n",
    "        - NorthAmerican\n",
    "        - NorthernEuropean\n",
    "        - SouthAsian\n",
    "        - SoutheastAsian\n",
    "        - SouthernEuropean\n",
    "        - WesternEuropean\n",
    "\n",
    "Significant data manipulation will be necessary to analyze this dataset both as a text and as a network.  "
   ]
  },
  {
   "cell_type": "markdown",
   "metadata": {},
   "source": [
    "## Proposed Analysis"
   ]
  },
  {
   "cell_type": "markdown",
   "metadata": {},
   "source": [
    "We are interested in examining the similarities and differences between world cuisines in order to understand how human eating behavior is alike or dissimilar across cultures and continents.  Or hypothesis is that there are statistically significant differences between cultures in terms of the average number of ingredients, and specific ingredients that are most common across cultures, continents and cuisines.  Some initial ideas for analysis include:\n",
    "\n",
    "1. analyze as a bipartite network with cuisines and ingredients acting as the two nodes to show differences and commonalities between cuisines.  Edges between cuisine nodes and ingredient nodes would represent ingredients found in recipes from both cuisines and be weighted by the number of occurrences.\n",
    "2. look at every unique pair of ingredients in each recipe and get counts by cuisine to see which ingredients most commonly go together for each cuisine and similarities and differences between common pairings by cuisine\n",
    "3. text analysis to find the most common ingredients for each cuisine and compare across cuisines.\n",
    "4. statistical analysis of the average number of ingredients per recipe by cuisine."
   ]
  },
  {
   "cell_type": "markdown",
   "metadata": {},
   "source": [
    "## Concerns"
   ]
  },
  {
   "cell_type": "markdown",
   "metadata": {},
   "source": [
    "The most difficult aspect of the project that we can foresee is the data manipulation that will be needed to transform the data into different formats for the various analyses proposed.  \n",
    "\n",
    "Additionally, the broad categories of the cuisine types may be too broad to capture regional cuisines that are significantly different than their near neighbors.  For example, all of South and Central America are lumped together in one \"LatinAmerican\" category (that may also include other regions).  The cuisines of Argentina and Mexico may be just as dissimilar from each other as they are from Italian or French cuisine, and the same goes for the four European categories, three Asian categories, African, MiddleEastern, and North American categories.  There is so much variation among the cuisines within each of these regions that differences amoung cuisines be masked by aggregating data from all of these more local cuisines into such broad categories.  "
   ]
  }
 ],
 "metadata": {
  "kernelspec": {
   "display_name": "Python 3",
   "language": "python",
   "name": "python3"
  },
  "language_info": {
   "codemirror_mode": {
    "name": "ipython",
    "version": 3
   },
   "file_extension": ".py",
   "mimetype": "text/x-python",
   "name": "python",
   "nbconvert_exporter": "python",
   "pygments_lexer": "ipython3",
   "version": "3.7.4"
  }
 },
 "nbformat": 4,
 "nbformat_minor": 2
}
