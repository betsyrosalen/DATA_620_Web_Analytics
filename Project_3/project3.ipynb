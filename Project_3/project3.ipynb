{
 "cells": [
  {
   "cell_type": "markdown",
   "metadata": {
    "collapsed": true,
    "pycharm": {
     "name": "#%% md\n"
    }
   },
   "source": [
    "# Data 620 - Project 3\n",
    "Baron Curtin, Heather Geiger, Mikhail Groysman, Betsy Rosalen \n",
    "\n",
    "Using any of the three classifiers described in chapter 6 of Natural Language Processing with Python,\n",
    "and any features you can think of, build the best name gender classifier you can.\n",
    "\n",
    "Begin by splitting the Names Corpus into three subsets: 500 words for the test set, 500 words for the devtest set, and the remaining 6900 words for the training set. Then, starting with the example name gender\n",
    "classifier, make incremental improvements. Use the dev-test set to check your progress. Once you are\n",
    "satisfied with your classifier, check its final performance on the test set.\n",
    "\n",
    "How does the performance on the test set compare to the performance on the dev-test set? Is this what\n",
    "you'd expect? "
   ]
  },
  {
   "cell_type": "code",
   "execution_count": 197,
   "metadata": {
    "pycharm": {
     "is_executing": false,
     "name": "#%%\n"
    }
   },
   "outputs": [],
   "source": [
    "# library imports\n",
    "import random\n",
    "import re\n",
    "import string\n",
    "import nltk\n",
    "from collections import Counter\n",
    "from nltk import download\n",
    "from nltk.corpus import names\n",
    "from nltk.util import ngrams\n",
    "from nltk.tokenize.sonority_sequencing import SyllableTokenizer\n",
    "from nltk import NaiveBayesClassifier\n",
    "from nltk import DecisionTreeClassifier\n",
    "from nltk import classify\n",
    "import matplotlib.pyplot as plt\n",
    "import seaborn as sns\n",
    "\n",
    "import pandas as pd\n",
    "import numpy as np\n",
    "\n",
    "# jupyter setup\n",
    "from IPython.core.interactiveshell import InteractiveShell\n",
    "InteractiveShell.ast_node_interactivity = \"all\"\n",
    "\n",
    "%matplotlib inline"
   ]
  },
  {
   "cell_type": "markdown",
   "metadata": {
    "pycharm": {
     "name": "#%% md\n"
    }
   },
   "source": [
    "## Data Loading/Preparation\n",
    "In the following cells, we will be loading the corpus into memory, labelling all of the names, and then randomizing the\n",
    "list of names for later use. Randomizing the names will ensure that our training/test sets will contain both genders from \n",
    "which we should be able to create numerous features from."
   ]
  },
  {
   "cell_type": "code",
   "execution_count": 198,
   "metadata": {
    "pycharm": {
     "is_executing": false,
     "name": "#%%\n"
    }
   },
   "outputs": [
    {
     "name": "stderr",
     "output_type": "stream",
     "text": [
      "[nltk_data] Downloading package names to\n",
      "[nltk_data]     /Users/betsyrosalen/nltk_data...\n",
      "[nltk_data]   Package names is already up-to-date!\n"
     ]
    },
    {
     "data": {
      "text/plain": [
       "True"
      ]
     },
     "execution_count": 198,
     "metadata": {},
     "output_type": "execute_result"
    },
    {
     "data": {
      "text/plain": [
       "[]"
      ]
     },
     "execution_count": 198,
     "metadata": {},
     "output_type": "execute_result"
    },
    {
     "data": {
      "text/plain": [
       "[]"
      ]
     },
     "execution_count": 198,
     "metadata": {},
     "output_type": "execute_result"
    }
   ],
   "source": [
    "# read in names from the files\n",
    "# label each name with corresponding gender\n",
    "# names to be lowercase for easy recognition \n",
    "download('names')\n",
    "males = [(name.lower().strip(), 'male') for name in names.words('male.txt')]\n",
    "females = [(name.lower().strip(), 'female') for name in names.words('female.txt')]\n",
    "\n",
    "#Remove unisex names from each list.\n",
    "#Did not run this previously, but I think it is reasonable to do so.\n",
    "#Otherwise accuracy unfairly penalized if a unisex name is listed as one gender in training and another in test.\n",
    "#Will be marked as wrong even if the model is otherwise perfect.\n",
    "\n",
    "unisex = list(set(males) & set(females))\n",
    "[males.remove(name) for name in unisex]\n",
    "[females.remove(name) for name in unisex]\n",
    "\n",
    "# combine lists of names\n",
    "all_names = males + females\n",
    "\n",
    "# randomize the list\n",
    "random.seed(5)\n",
    "random.shuffle(all_names)"
   ]
  },
  {
   "cell_type": "markdown",
   "metadata": {},
   "source": [
    "## Feature Creation\n",
    "Features are the most important part of what goes into a machine learning model. For that reason, it is critically important\n",
    "to try to come up with features that make the most sense in identifying gender differences in names. To make creation and analysis easier,\n",
    "we will put our data in a Pandas dataframe."
   ]
  },
  {
   "cell_type": "code",
   "execution_count": 199,
   "metadata": {
    "pycharm": {
     "is_executing": false,
     "name": "#%%\n"
    }
   },
   "outputs": [
    {
     "data": {
      "text/html": [
       "<div>\n",
       "<style scoped>\n",
       "    .dataframe tbody tr th:only-of-type {\n",
       "        vertical-align: middle;\n",
       "    }\n",
       "\n",
       "    .dataframe tbody tr th {\n",
       "        vertical-align: top;\n",
       "    }\n",
       "\n",
       "    .dataframe thead th {\n",
       "        text-align: right;\n",
       "    }\n",
       "</style>\n",
       "<table border=\"1\" class=\"dataframe\">\n",
       "  <thead>\n",
       "    <tr style=\"text-align: right;\">\n",
       "      <th></th>\n",
       "      <th>name</th>\n",
       "      <th>gender</th>\n",
       "    </tr>\n",
       "  </thead>\n",
       "  <tbody>\n",
       "    <tr>\n",
       "      <td>0</td>\n",
       "      <td>dasi</td>\n",
       "      <td>female</td>\n",
       "    </tr>\n",
       "    <tr>\n",
       "      <td>1</td>\n",
       "      <td>marius</td>\n",
       "      <td>male</td>\n",
       "    </tr>\n",
       "    <tr>\n",
       "      <td>2</td>\n",
       "      <td>marlene</td>\n",
       "      <td>female</td>\n",
       "    </tr>\n",
       "    <tr>\n",
       "      <td>3</td>\n",
       "      <td>margaret</td>\n",
       "      <td>female</td>\n",
       "    </tr>\n",
       "    <tr>\n",
       "      <td>4</td>\n",
       "      <td>nickie</td>\n",
       "      <td>male</td>\n",
       "    </tr>\n",
       "  </tbody>\n",
       "</table>\n",
       "</div>"
      ],
      "text/plain": [
       "       name  gender\n",
       "0      dasi  female\n",
       "1    marius    male\n",
       "2   marlene  female\n",
       "3  margaret  female\n",
       "4    nickie    male"
      ]
     },
     "execution_count": 199,
     "metadata": {},
     "output_type": "execute_result"
    }
   ],
   "source": [
    "# create dataframe\n",
    "data = pd.DataFrame.from_dict(dict(all_names), orient='index', columns=['gender']).reset_index()\n",
    "data.columns = ['name', 'gender']\n",
    "data.head()"
   ]
  },
  {
   "cell_type": "code",
   "execution_count": 200,
   "metadata": {
    "pycharm": {
     "is_executing": false,
     "name": "#%%\n"
    }
   },
   "outputs": [
    {
     "data": {
      "text/html": [
       "<div>\n",
       "<style scoped>\n",
       "    .dataframe tbody tr th:only-of-type {\n",
       "        vertical-align: middle;\n",
       "    }\n",
       "\n",
       "    .dataframe tbody tr th {\n",
       "        vertical-align: top;\n",
       "    }\n",
       "\n",
       "    .dataframe thead th {\n",
       "        text-align: right;\n",
       "    }\n",
       "</style>\n",
       "<table border=\"1\" class=\"dataframe\">\n",
       "  <thead>\n",
       "    <tr style=\"text-align: right;\">\n",
       "      <th></th>\n",
       "      <th>name</th>\n",
       "      <th>gender</th>\n",
       "      <th>length</th>\n",
       "      <th>first_letter</th>\n",
       "      <th>last_letter</th>\n",
       "      <th>vowel_last_letter</th>\n",
       "      <th>vowel_first_letter</th>\n",
       "      <th>vowels</th>\n",
       "      <th>consonants</th>\n",
       "      <th>vowel_count</th>\n",
       "      <th>consonant_count</th>\n",
       "      <th>bigrams</th>\n",
       "      <th>trigrams</th>\n",
       "      <th>syllables</th>\n",
       "    </tr>\n",
       "  </thead>\n",
       "  <tbody>\n",
       "    <tr>\n",
       "      <td>0</td>\n",
       "      <td>dasi</td>\n",
       "      <td>female</td>\n",
       "      <td>4</td>\n",
       "      <td>d</td>\n",
       "      <td>i</td>\n",
       "      <td>True</td>\n",
       "      <td>False</td>\n",
       "      <td>ai</td>\n",
       "      <td>ds</td>\n",
       "      <td>2</td>\n",
       "      <td>2</td>\n",
       "      <td>[(d, a), (a, s), (s, i)]</td>\n",
       "      <td>[(d, a, s), (a, s, i)]</td>\n",
       "      <td>2</td>\n",
       "    </tr>\n",
       "    <tr>\n",
       "      <td>1</td>\n",
       "      <td>marius</td>\n",
       "      <td>male</td>\n",
       "      <td>6</td>\n",
       "      <td>m</td>\n",
       "      <td>s</td>\n",
       "      <td>False</td>\n",
       "      <td>False</td>\n",
       "      <td>aiu</td>\n",
       "      <td>mrs</td>\n",
       "      <td>3</td>\n",
       "      <td>3</td>\n",
       "      <td>[(m, a), (a, r), (r, i), (i, u), (u, s)]</td>\n",
       "      <td>[(m, a, r), (a, r, i), (r, i, u), (i, u, s)]</td>\n",
       "      <td>2</td>\n",
       "    </tr>\n",
       "    <tr>\n",
       "      <td>2</td>\n",
       "      <td>marlene</td>\n",
       "      <td>female</td>\n",
       "      <td>7</td>\n",
       "      <td>m</td>\n",
       "      <td>e</td>\n",
       "      <td>True</td>\n",
       "      <td>False</td>\n",
       "      <td>aee</td>\n",
       "      <td>mrln</td>\n",
       "      <td>3</td>\n",
       "      <td>4</td>\n",
       "      <td>[(m, a), (a, r), (r, l), (l, e), (e, n), (n, e)]</td>\n",
       "      <td>[(m, a, r), (a, r, l), (r, l, e), (l, e, n), (...</td>\n",
       "      <td>3</td>\n",
       "    </tr>\n",
       "    <tr>\n",
       "      <td>3</td>\n",
       "      <td>margaret</td>\n",
       "      <td>female</td>\n",
       "      <td>8</td>\n",
       "      <td>m</td>\n",
       "      <td>t</td>\n",
       "      <td>False</td>\n",
       "      <td>False</td>\n",
       "      <td>aae</td>\n",
       "      <td>mrgrt</td>\n",
       "      <td>3</td>\n",
       "      <td>5</td>\n",
       "      <td>[(m, a), (a, r), (r, g), (g, a), (a, r), (r, e...</td>\n",
       "      <td>[(m, a, r), (a, r, g), (r, g, a), (g, a, r), (...</td>\n",
       "      <td>3</td>\n",
       "    </tr>\n",
       "    <tr>\n",
       "      <td>4</td>\n",
       "      <td>nickie</td>\n",
       "      <td>male</td>\n",
       "      <td>6</td>\n",
       "      <td>n</td>\n",
       "      <td>e</td>\n",
       "      <td>True</td>\n",
       "      <td>False</td>\n",
       "      <td>iie</td>\n",
       "      <td>nck</td>\n",
       "      <td>3</td>\n",
       "      <td>3</td>\n",
       "      <td>[(n, i), (i, c), (c, k), (k, i), (i, e)]</td>\n",
       "      <td>[(n, i, c), (i, c, k), (c, k, i), (k, i, e)]</td>\n",
       "      <td>2</td>\n",
       "    </tr>\n",
       "  </tbody>\n",
       "</table>\n",
       "</div>"
      ],
      "text/plain": [
       "       name  gender  length first_letter last_letter  vowel_last_letter  \\\n",
       "0      dasi  female       4            d           i               True   \n",
       "1    marius    male       6            m           s              False   \n",
       "2   marlene  female       7            m           e               True   \n",
       "3  margaret  female       8            m           t              False   \n",
       "4    nickie    male       6            n           e               True   \n",
       "\n",
       "   vowel_first_letter vowels consonants  vowel_count  consonant_count  \\\n",
       "0               False     ai         ds            2                2   \n",
       "1               False    aiu        mrs            3                3   \n",
       "2               False    aee       mrln            3                4   \n",
       "3               False    aae      mrgrt            3                5   \n",
       "4               False    iie        nck            3                3   \n",
       "\n",
       "                                             bigrams  \\\n",
       "0                           [(d, a), (a, s), (s, i)]   \n",
       "1           [(m, a), (a, r), (r, i), (i, u), (u, s)]   \n",
       "2   [(m, a), (a, r), (r, l), (l, e), (e, n), (n, e)]   \n",
       "3  [(m, a), (a, r), (r, g), (g, a), (a, r), (r, e...   \n",
       "4           [(n, i), (i, c), (c, k), (k, i), (i, e)]   \n",
       "\n",
       "                                            trigrams  syllables  \n",
       "0                             [(d, a, s), (a, s, i)]          2  \n",
       "1       [(m, a, r), (a, r, i), (r, i, u), (i, u, s)]          2  \n",
       "2  [(m, a, r), (a, r, l), (r, l, e), (l, e, n), (...          3  \n",
       "3  [(m, a, r), (a, r, g), (r, g, a), (g, a, r), (...          3  \n",
       "4       [(n, i, c), (i, c, k), (c, k, i), (k, i, e)]          2  "
      ]
     },
     "execution_count": 200,
     "metadata": {},
     "output_type": "execute_result"
    }
   ],
   "source": [
    "# instatiate syllable tokenize\n",
    "SSP = SyllableTokenizer()\n",
    "\n",
    "# create various feature columns for exploration\n",
    "data['length'] = data['name'].str.len()\n",
    "data['first_letter'] = data['name'].str[0]\n",
    "data['last_letter'] = data['name'].str[-1]\n",
    "data['vowel_last_letter'] = data['last_letter'].isin([*'aeiou'])\n",
    "data['vowel_first_letter'] = data['first_letter'].isin([*'aeiou'])\n",
    "data['vowels'] = data['name'].str.replace(r'[^aeiou]', '')\n",
    "data['consonants'] = data['name'].str.replace(r'[aeiou]', '')\n",
    "data['vowel_count'] = data['vowels'].str.len()\n",
    "data['consonant_count'] = data['consonants'].str.len()\n",
    "data['bigrams'] = data['name'].apply(lambda x: list(ngrams(x, 2)))\n",
    "data['trigrams'] = data['name'].apply(lambda x: list(ngrams(x, 3)))\n",
    "data['syllables'] = data['name'].apply(lambda x: len(SSP.tokenize(x)))\n",
    "\n",
    "# preview data\n",
    "data.head()"
   ]
  },
  {
   "cell_type": "code",
   "execution_count": 201,
   "metadata": {
    "pycharm": {
     "is_executing": false,
     "name": "#%%\n"
    }
   },
   "outputs": [
    {
     "data": {
      "text/html": [
       "<div>\n",
       "<style scoped>\n",
       "    .dataframe tbody tr th:only-of-type {\n",
       "        vertical-align: middle;\n",
       "    }\n",
       "\n",
       "    .dataframe tbody tr th {\n",
       "        vertical-align: top;\n",
       "    }\n",
       "\n",
       "    .dataframe thead th {\n",
       "        text-align: right;\n",
       "    }\n",
       "</style>\n",
       "<table border=\"1\" class=\"dataframe\">\n",
       "  <thead>\n",
       "    <tr style=\"text-align: right;\">\n",
       "      <th></th>\n",
       "      <th>bigrams</th>\n",
       "      <th>trigrams</th>\n",
       "      <th>bigrams_counter</th>\n",
       "      <th>trigrams_counter</th>\n",
       "    </tr>\n",
       "    <tr>\n",
       "      <th>gender</th>\n",
       "      <th></th>\n",
       "      <th></th>\n",
       "      <th></th>\n",
       "      <th></th>\n",
       "    </tr>\n",
       "  </thead>\n",
       "  <tbody>\n",
       "    <tr>\n",
       "      <td>female</td>\n",
       "      <td>[(d, a), (a, s), (s, i), (m, a), (a, r), (r, l...</td>\n",
       "      <td>[(d, a, s), (a, s, i), (m, a, r), (a, r, l), (...</td>\n",
       "      <td>{('d', 'a'): 256, ('a', 's'): 72, ('s', 'i'): ...</td>\n",
       "      <td>{('d', 'a', 's'): 4, ('a', 's', 'i'): 16, ('m'...</td>\n",
       "    </tr>\n",
       "    <tr>\n",
       "      <td>male</td>\n",
       "      <td>[(m, a), (a, r), (r, i), (i, u), (u, s), (n, i...</td>\n",
       "      <td>[(m, a, r), (a, r, i), (r, i, u), (i, u, s), (...</td>\n",
       "      <td>{('m', 'a'): 147, ('a', 'r'): 345, ('r', 'i'):...</td>\n",
       "      <td>{('m', 'a', 'r'): 49, ('a', 'r', 'i'): 24, ('r...</td>\n",
       "    </tr>\n",
       "  </tbody>\n",
       "</table>\n",
       "</div>"
      ],
      "text/plain": [
       "                                                  bigrams  \\\n",
       "gender                                                      \n",
       "female  [(d, a), (a, s), (s, i), (m, a), (a, r), (r, l...   \n",
       "male    [(m, a), (a, r), (r, i), (i, u), (u, s), (n, i...   \n",
       "\n",
       "                                                 trigrams  \\\n",
       "gender                                                      \n",
       "female  [(d, a, s), (a, s, i), (m, a, r), (a, r, l), (...   \n",
       "male    [(m, a, r), (a, r, i), (r, i, u), (i, u, s), (...   \n",
       "\n",
       "                                          bigrams_counter  \\\n",
       "gender                                                      \n",
       "female  {('d', 'a'): 256, ('a', 's'): 72, ('s', 'i'): ...   \n",
       "male    {('m', 'a'): 147, ('a', 'r'): 345, ('r', 'i'):...   \n",
       "\n",
       "                                         trigrams_counter  \n",
       "gender                                                     \n",
       "female  {('d', 'a', 's'): 4, ('a', 's', 'i'): 16, ('m'...  \n",
       "male    {('m', 'a', 'r'): 49, ('a', 'r', 'i'): 24, ('r...  "
      ]
     },
     "execution_count": 201,
     "metadata": {},
     "output_type": "execute_result"
    }
   ],
   "source": [
    "# lets analyze our bigrams and trigrams columns to get the most common ngrams by gender\n",
    "ngrams_gender = data.groupby('gender')[['bigrams', 'trigrams']].sum()\n",
    "ngrams_gender['bigrams_counter'] = ngrams_gender['bigrams'].apply(lambda x: Counter(x))\n",
    "ngrams_gender['trigrams_counter'] = ngrams_gender['trigrams'].apply(lambda x: Counter(x))\n",
    "ngrams_gender"
   ]
  },
  {
   "cell_type": "markdown",
   "metadata": {
    "pycharm": {
     "name": "#%% md\n"
    }
   },
   "source": [
    "Using the counter class and the bigrams and trigrams, we can eliminate the need for the most common bigram/trigram and instead\n",
    "just use the list of bigrams and trigrams as features. The most common bigram was only in ~13% of the female names and ~12%\n",
    "of the male names."
   ]
  },
  {
   "cell_type": "markdown",
   "metadata": {},
   "source": [
    "## Data Exploration\n",
    "Lets get a better feel for how our data is composed. In this exploration step, we will confirm whether any of the features\n",
    "we created will become good predictors of gender. Exploration will occur both visually as well as computationally."
   ]
  },
  {
   "cell_type": "code",
   "execution_count": 202,
   "metadata": {
    "pycharm": {
     "is_executing": false,
     "name": "#%%\n"
    }
   },
   "outputs": [
    {
     "data": {
      "text/html": [
       "<div>\n",
       "<style scoped>\n",
       "    .dataframe tbody tr th:only-of-type {\n",
       "        vertical-align: middle;\n",
       "    }\n",
       "\n",
       "    .dataframe tbody tr th {\n",
       "        vertical-align: top;\n",
       "    }\n",
       "\n",
       "    .dataframe thead th {\n",
       "        text-align: right;\n",
       "    }\n",
       "</style>\n",
       "<table border=\"1\" class=\"dataframe\">\n",
       "  <thead>\n",
       "    <tr style=\"text-align: right;\">\n",
       "      <th></th>\n",
       "      <th>length</th>\n",
       "      <th>vowel_last_letter</th>\n",
       "      <th>vowel_first_letter</th>\n",
       "      <th>vowel_count</th>\n",
       "      <th>consonant_count</th>\n",
       "      <th>syllables</th>\n",
       "    </tr>\n",
       "    <tr>\n",
       "      <th>gender</th>\n",
       "      <th></th>\n",
       "      <th></th>\n",
       "      <th></th>\n",
       "      <th></th>\n",
       "      <th></th>\n",
       "      <th></th>\n",
       "    </tr>\n",
       "  </thead>\n",
       "  <tbody>\n",
       "    <tr>\n",
       "      <td>female</td>\n",
       "      <td>6.158750</td>\n",
       "      <td>0.726250</td>\n",
       "      <td>0.174167</td>\n",
       "      <td>2.679792</td>\n",
       "      <td>3.478958</td>\n",
       "      <td>2.479375</td>\n",
       "    </tr>\n",
       "    <tr>\n",
       "      <td>male</td>\n",
       "      <td>5.927207</td>\n",
       "      <td>0.235315</td>\n",
       "      <td>0.155676</td>\n",
       "      <td>2.199640</td>\n",
       "      <td>3.727568</td>\n",
       "      <td>2.044685</td>\n",
       "    </tr>\n",
       "  </tbody>\n",
       "</table>\n",
       "</div>"
      ],
      "text/plain": [
       "          length  vowel_last_letter  vowel_first_letter  vowel_count  \\\n",
       "gender                                                                 \n",
       "female  6.158750           0.726250            0.174167     2.679792   \n",
       "male    5.927207           0.235315            0.155676     2.199640   \n",
       "\n",
       "        consonant_count  syllables  \n",
       "gender                              \n",
       "female         3.478958   2.479375  \n",
       "male           3.727568   2.044685  "
      ]
     },
     "execution_count": 202,
     "metadata": {},
     "output_type": "execute_result"
    }
   ],
   "source": [
    "# use our created variables to generate some summary statistics\n",
    "data.groupby('gender').mean()"
   ]
  },
  {
   "cell_type": "code",
   "execution_count": 203,
   "metadata": {
    "pycharm": {
     "is_executing": false,
     "name": "#%%\n"
    }
   },
   "outputs": [],
   "source": [
    "# separate features from label\n",
    "X = data.drop(columns=['name', 'gender'])\n",
    "y = data['gender']"
   ]
  },
  {
   "cell_type": "markdown",
   "metadata": {
    "pycharm": {
     "name": "#%% md\n"
    }
   },
   "source": [
    "Based on the above chart, we see that females have a higher name length on average, higher vowel counts, and the last letter is 72% of the time a vowel.\n",
    "These appear to be good predictors. We need to visual confirm what we see numerically"
   ]
  },
  {
   "cell_type": "code",
   "execution_count": 204,
   "metadata": {
    "pycharm": {
     "is_executing": false,
     "name": "#%%\n"
    }
   },
   "outputs": [
    {
     "data": {
      "image/png": "[encoded data removed]",
      "text/plain": [
       "<Figure size 1152x360 with 2 Axes>"
      ]
     },
     "metadata": {
      "needs_background": "light"
     },
     "output_type": "display_data"
    }
   ],
   "source": [
    "# categorical/numerical columns\n",
    "categorical_cols = X.loc[:, [col for col in X.columns if 'gram' not in col]].select_dtypes(include='object').columns\n",
    "numerical_cols = X.select_dtypes(include=np.number).columns\n",
    "\n",
    "fig, ax = plt.subplots(1, 2, figsize=(16, 5))\n",
    "\n",
    "for var, subplot in zip(categorical_cols[:2], ax.flatten()):\n",
    "    sns.countplot(x=var, data=data, ax=subplot)\n",
    "    # rotate labels for easy viewing\n",
    "    for label in subplot.get_xticklabels():\n",
    "        label.set_rotation(90)\n",
    "        \n",
    "plt.show();"
   ]
  },
  {
   "cell_type": "markdown",
   "metadata": {
    "pycharm": {
     "name": "#%% md\n"
    }
   },
   "source": [
    "The distributions above don't tell us much. We need to condition on gender."
   ]
  },
  {
   "cell_type": "code",
   "execution_count": 205,
   "metadata": {
    "pycharm": {
     "is_executing": false,
     "name": "#%%\n"
    }
   },
   "outputs": [
    {
     "data": {
      "image/png": "[encoded data removed]",
      "text/plain": [
       "<Figure size 864x432 with 4 Axes>"
      ]
     },
     "metadata": {
      "needs_background": "light"
     },
     "output_type": "display_data"
    }
   ],
   "source": [
    "data_melted = pd.melt(data[['gender','first_letter','last_letter']],id_vars=['gender'])\n",
    "\n",
    "sns.catplot(x = 'value',col='gender',row='variable',kind='count',data=data_melted,\n",
    "            order = list(string.ascii_lowercase), sharey = False, height=3, aspect=2)\n",
    "\n",
    "plt.show();"
   ]
  },
  {
   "cell_type": "markdown",
   "metadata": {
    "pycharm": {
     "name": "#%% md\n"
    }
   },
   "source": [
    "It would appear that both the first and the last letter could be pretty good predictors for gender."
   ]
  },
  {
   "cell_type": "code",
   "execution_count": 206,
   "metadata": {
    "pycharm": {
     "is_executing": false,
     "name": "#%%\n"
    }
   },
   "outputs": [
    {
     "data": {
      "image/png": "[encoded data removed]",
      "text/plain": [
       "<Figure size 1152x576 with 4 Axes>"
      ]
     },
     "metadata": {
      "needs_background": "light"
     },
     "output_type": "display_data"
    }
   ],
   "source": [
    "# numerical columns to gender exploration\n",
    "fig, ax = plt.subplots(1, 4, figsize=(16, 8))\n",
    "\n",
    "for var, subplot in zip(numerical_cols, ax.flatten()):\n",
    "    sns.boxplot(x='gender', y=var, data=data, ax=subplot)\n",
    "    \n",
    "plt.show();"
   ]
  },
  {
   "cell_type": "markdown",
   "metadata": {
    "pycharm": {
     "name": "#%% md\n"
    }
   },
   "source": [
    "From the boxplots above, it seems we can safely rule out vowel count, consonant count, and length as strong predictors of gender.  Syllables, however, seems like it may be a good predictor.\n",
    "\n",
    "However, we decided to try a conditional count plot for each of these variables like we did for first and last letter in case boxplots are not the best way to look at these variables, as they are integers with a fairly narrow range."
   ]
  },
  {
   "cell_type": "code",
   "execution_count": 207,
   "metadata": {},
   "outputs": [
    {
     "data": {
      "image/png": "[encoded data removed]",
      "text/plain": [
       "<Figure size 864x864 with 8 Axes>"
      ]
     },
     "metadata": {
      "needs_background": "light"
     },
     "output_type": "display_data"
    }
   ],
   "source": [
    "data_melted = pd.melt(data[['gender','length','vowel_count','consonant_count','syllables']],id_vars=['gender'])\n",
    "\n",
    "sns.catplot(x = 'value',col='gender',row='variable',kind='count',data=data_melted,\n",
    "            sharey = False, sharex=False, height=3, aspect=2)\n",
    "\n",
    "plt.show();"
   ]
  },
  {
   "cell_type": "markdown",
   "metadata": {},
   "source": [
    "Looks like the conclusion still mostly holds that we can exclude length, vowel count, and consonant count."
   ]
  },
  {
   "cell_type": "markdown",
   "metadata": {},
   "source": [
    "## Decision Tree"
   ]
  },
  {
   "cell_type": "markdown",
   "metadata": {
    "pycharm": {
     "name": "#%% md\n"
    }
   },
   "source": [
    "### Feature Generation Function\n",
    "\n",
    "This function will be applied to our lists of names to create the features that we identified as potential predictors above in our initial model \"kitchen sink\" approach.  As we refine the model we will also refine this function to include only the features that seem most relevant to our classifier.  Vowel count, consonant count, and length have already been removed since they were found above to have no predictive value.  "
   ]
  },
  {
   "cell_type": "code",
   "execution_count": 208,
   "metadata": {
    "pycharm": {
     "is_executing": false,
     "name": "#%%\n"
    }
   },
   "outputs": [],
   "source": [
    "# feature generator\n",
    "def gender_features(name):\n",
    "    \n",
    "    # last letter, first letter, vowel last/first letter\n",
    "    first_letter = name[0]\n",
    "    vowel_first_letter = first_letter in 'aeiou'\n",
    "    last_letter = name[-1]\n",
    "    vowel_last_letter = last_letter in 'aeiou'\n",
    "    \n",
    "    # vowels/consonants\n",
    "    vowels = \"\".join(sorted(list(set(re.sub(r'[^aeiou]', '', name)))))\n",
    "    consonants = \"\".join(sorted(list(set(re.sub(r'[aeiou]', '', name)))))\n",
    "    \n",
    "    # bigrams/trigrams\n",
    "    bigrams = (ngrams(name, 2))\n",
    "    trigrams = (ngrams(name, 3))\n",
    "    \n",
    "    # syllables\n",
    "    syllables = len(SSP.tokenize(name))\n",
    "    \n",
    "    return {\n",
    "        'first_letter': first_letter,\n",
    "        'vowel_first_letter': vowel_first_letter,\n",
    "        'last_letter': last_letter,\n",
    "        'vowel_last_letter': vowel_last_letter,\n",
    "        'vowels': vowels,\n",
    "        'consonants': consonants,\n",
    "        'bigrams': bigrams,\n",
    "        'trigrams': trigrams,\n",
    "        'syllables': syllables\n",
    "    }"
   ]
  },
  {
   "cell_type": "markdown",
   "metadata": {
    "pycharm": {
     "name": "#%% md\n"
    }
   },
   "source": [
    "### Data Preparation\n",
    "We need to split the lists into training, test, and validation sets and apply our feature generation function."
   ]
  },
  {
   "cell_type": "code",
   "execution_count": 209,
   "metadata": {
    "pycharm": {
     "is_executing": false,
     "name": "#%%\n"
    }
   },
   "outputs": [
    {
     "name": "stderr",
     "output_type": "stream",
     "text": [
      "/Users/betsyrosalen/anaconda3/lib/python3.7/site-packages/nltk/tokenize/sonority_sequencing.py:102: UserWarning: Character not defined in sonority_hierarchy, assigning as vowel: ' '\n",
      "  \" assigning as vowel: '{}'\".format(c))\n"
     ]
    }
   ],
   "source": [
    "# create each set of data\n",
    "dev_set_names = all_names[:1000]\n",
    "test_names = all_names[1000:]\n",
    "\n",
    "# split the development set into initial training and test sets\n",
    "train_names = dev_set_names[:500]\n",
    "devtest_names = dev_set_names[500:]\n",
    "\n",
    "# apply feature generation function\n",
    "test_set = [(gender_features(name), gender) for name, gender in test_names]\n",
    "train_set = [(gender_features(name), gender) for name, gender in train_names]\n",
    "devtest_set = [(gender_features(name), gender) for name, gender in devtest_names]"
   ]
  },
  {
   "cell_type": "markdown",
   "metadata": {},
   "source": [
    "### First decision tree model - 'Kitchen sink' approach"
   ]
  },
  {
   "cell_type": "markdown",
   "metadata": {},
   "source": [
    "We start by fitting a decision tree model to our full list of potential features.  The \"kitchen sink\" approach described in the textbook will give us a baseline model which we will then atempt to refine for greater accuracy."
   ]
  },
  {
   "cell_type": "code",
   "execution_count": 210,
   "metadata": {},
   "outputs": [],
   "source": [
    "classifier = DecisionTreeClassifier.train(test_set)"
   ]
  },
  {
   "cell_type": "code",
   "execution_count": 211,
   "metadata": {},
   "outputs": [
    {
     "name": "stdout",
     "output_type": "stream",
     "text": [
      "Accuracy: 0.62\n"
     ]
    }
   ],
   "source": [
    "print('Accuracy: %4.2f' % classify.accuracy(classifier, devtest_set))"
   ]
  },
  {
   "cell_type": "markdown",
   "metadata": {},
   "source": [
    "Our accuracy was not too bad for a first attempt, but we wanted to do better so took a look at the errors to see if there were any obvious patterns."
   ]
  },
  {
   "cell_type": "code",
   "execution_count": 212,
   "metadata": {
    "scrolled": true
   },
   "outputs": [
    {
     "name": "stdout",
     "output_type": "stream",
     "text": [
      "correct=male     guess=female   name=abby                          \n",
      "correct=male     guess=female   name=alessandro                    \n",
      "correct=male     guess=female   name=andy                          \n",
      "correct=male     guess=female   name=anson                         \n",
      "correct=male     guess=female   name=armand                        \n",
      "correct=male     guess=female   name=arnie                         \n",
      "correct=male     guess=female   name=arnoldo                       \n",
      "correct=male     guess=female   name=ashby                         \n",
      "correct=male     guess=female   name=aube                          \n",
      "correct=male     guess=female   name=augie                         \n",
      "correct=male     guess=female   name=avi                           \n",
      "correct=male     guess=female   name=barnett                       \n",
      "correct=male     guess=female   name=bartholomeo                   \n",
      "correct=male     guess=female   name=bartie                        \n",
      "correct=male     guess=female   name=bartolomeo                    \n",
      "correct=male     guess=female   name=barton                        \n",
      "correct=male     guess=female   name=bharat                        \n",
      "correct=male     guess=female   name=briggs                        \n",
      "correct=male     guess=female   name=cal                           \n",
      "correct=male     guess=female   name=carmine                       \n",
      "correct=male     guess=female   name=casper                        \n",
      "correct=male     guess=female   name=cesar                         \n",
      "correct=male     guess=female   name=chaddy                        \n",
      "correct=male     guess=female   name=chan                          \n",
      "correct=male     guess=female   name=chen                          \n",
      "correct=male     guess=female   name=chester                       \n",
      "correct=male     guess=female   name=clarance                      \n",
      "correct=male     guess=female   name=cobbie                        \n",
      "correct=male     guess=female   name=conan                         \n",
      "correct=male     guess=female   name=cornellis                     \n",
      "correct=male     guess=female   name=courtney                      \n",
      "correct=male     guess=female   name=craig                         \n",
      "correct=male     guess=female   name=cy                            \n",
      "correct=male     guess=female   name=damien                        \n",
      "correct=male     guess=female   name=darian                        \n",
      "correct=male     guess=female   name=delbert                       \n",
      "correct=male     guess=female   name=derron                        \n",
      "correct=male     guess=female   name=desmond                       \n",
      "correct=male     guess=female   name=devin                         \n",
      "correct=male     guess=female   name=douglis                       \n",
      "correct=male     guess=female   name=easton                        \n",
      "correct=male     guess=female   name=edgardo                       \n",
      "correct=male     guess=female   name=elihu                         \n",
      "correct=male     guess=female   name=eliot                         \n",
      "correct=male     guess=female   name=enrico                        \n",
      "correct=male     guess=female   name=erik                          \n",
      "correct=male     guess=female   name=ervin                         \n",
      "correct=male     guess=female   name=everett                       \n",
      "correct=male     guess=female   name=fleming                       \n",
      "correct=male     guess=female   name=fonsie                        \n",
      "correct=male     guess=female   name=forrester                     \n",
      "correct=male     guess=female   name=frank                         \n",
      "correct=male     guess=female   name=frans                         \n",
      "correct=male     guess=female   name=fraser                        \n",
      "correct=male     guess=female   name=gallagher                     \n",
      "correct=male     guess=female   name=gardiner                      \n",
      "correct=male     guess=female   name=garey                         \n",
      "correct=male     guess=female   name=garfield                      \n",
      "correct=male     guess=female   name=garv                          \n",
      "correct=male     guess=female   name=georgy                        \n",
      "correct=male     guess=female   name=gerri                         \n",
      "correct=male     guess=female   name=gifford                       \n",
      "correct=male     guess=female   name=gill                          \n",
      "correct=male     guess=female   name=gregor                        \n",
      "correct=male     guess=female   name=guillaume                     \n",
      "correct=male     guess=female   name=gunner                        \n",
      "correct=male     guess=female   name=gustavo                       \n",
      "correct=male     guess=female   name=guthrie                       \n",
      "correct=male     guess=female   name=hallam                        \n",
      "correct=male     guess=female   name=hammad                        \n",
      "correct=male     guess=female   name=harlin                        \n",
      "correct=male     guess=female   name=harold                        \n",
      "correct=male     guess=female   name=haskel                        \n",
      "correct=male     guess=female   name=haskell                       \n",
      "correct=male     guess=female   name=hersh                         \n",
      "correct=male     guess=female   name=hillel                        \n",
      "correct=male     guess=female   name=hiralal                       \n",
      "correct=male     guess=female   name=humphrey                      \n",
      "correct=male     guess=female   name=israel                        \n",
      "correct=male     guess=female   name=jamie                         \n",
      "correct=male     guess=female   name=jason                         \n",
      "correct=male     guess=female   name=jens                          \n",
      "correct=male     guess=female   name=jeramie                       \n",
      "correct=male     guess=female   name=jessey                        \n",
      "correct=male     guess=female   name=joachim                       \n",
      "correct=male     guess=female   name=johan                         \n",
      "correct=male     guess=female   name=julian                        \n",
      "correct=male     guess=female   name=keil                          \n",
      "correct=male     guess=female   name=kenyon                        \n",
      "correct=male     guess=female   name=kimball                       \n",
      "correct=male     guess=female   name=kincaid                       \n",
      "correct=male     guess=female   name=konstantin                    \n",
      "correct=male     guess=female   name=kostas                        \n",
      "correct=male     guess=female   name=lanny                         \n",
      "correct=male     guess=female   name=laurance                      \n",
      "correct=male     guess=female   name=len                           \n",
      "correct=male     guess=female   name=leo                           \n",
      "correct=male     guess=female   name=leonid                        \n",
      "correct=male     guess=female   name=levy                          \n",
      "correct=male     guess=female   name=lyle                          \n",
      "correct=male     guess=female   name=marc                          \n",
      "correct=male     guess=female   name=marlin                        \n",
      "correct=male     guess=female   name=marshall                      \n",
      "correct=male     guess=female   name=marven                        \n",
      "correct=male     guess=female   name=maurits                       \n",
      "correct=male     guess=female   name=maxfield                      \n",
      "correct=male     guess=female   name=meredith                      \n",
      "correct=male     guess=female   name=merle                         \n",
      "correct=male     guess=female   name=mitchael                      \n",
      "correct=male     guess=female   name=mohamed                       \n",
      "correct=male     guess=female   name=mugsy                         \n",
      "correct=male     guess=female   name=murdoch                       \n",
      "correct=male     guess=female   name=murray                        \n",
      "correct=male     guess=female   name=nealon                        \n",
      "correct=male     guess=female   name=niall                         \n",
      "correct=male     guess=female   name=nils                          \n",
      "correct=male     guess=female   name=odysseus                      \n",
      "correct=male     guess=female   name=othello                       \n",
      "correct=male     guess=female   name=pascal                        \n",
      "correct=male     guess=female   name=patrick                       \n",
      "correct=male     guess=female   name=patsy                         \n",
      "correct=male     guess=female   name=peyter                        \n",
      "correct=male     guess=female   name=phil                          \n",
      "correct=male     guess=female   name=philip                        \n",
      "correct=male     guess=female   name=pierce                        \n",
      "correct=male     guess=female   name=pryce                         \n",
      "correct=male     guess=female   name=puff                          \n",
      "correct=male     guess=female   name=quincey                       \n",
      "correct=male     guess=female   name=raj                           \n",
      "correct=male     guess=female   name=raynor                        \n",
      "correct=male     guess=female   name=reggie                        \n",
      "correct=male     guess=female   name=reilly                        \n",
      "correct=male     guess=female   name=remington                     \n",
      "correct=male     guess=female   name=rikki                         \n",
      "correct=male     guess=female   name=robbie                        \n",
      "correct=male     guess=female   name=robert                        \n",
      "correct=male     guess=female   name=roderic                       \n",
      "correct=male     guess=female   name=rodger                        \n",
      "correct=male     guess=female   name=rolph                         \n",
      "correct=male     guess=female   name=rowland                       \n",
      "correct=male     guess=female   name=salvador                      \n",
      "correct=male     guess=female   name=sansone                       \n",
      "correct=male     guess=female   name=sayer                         \n",
      "correct=male     guess=female   name=shamus                        \n",
      "correct=male     guess=female   name=shaw                          \n",
      "correct=male     guess=female   name=sholom                        \n",
      "correct=male     guess=female   name=simmonds                      \n",
      "correct=male     guess=female   name=skippie                       \n",
      "correct=male     guess=female   name=smith                         \n",
      "correct=male     guess=female   name=spencer                       \n",
      "correct=male     guess=female   name=stanleigh                     \n",
      "correct=male     guess=female   name=stanton                       \n",
      "correct=male     guess=female   name=stephanus                     \n",
      "correct=male     guess=female   name=stern                         \n",
      "correct=male     guess=female   name=sturgis                       \n",
      "correct=male     guess=female   name=sullivan                      \n",
      "correct=male     guess=female   name=taddeo                        \n",
      "correct=male     guess=female   name=terrence                      \n",
      "correct=male     guess=female   name=thaddeus                      \n",
      "correct=male     guess=female   name=theophyllus                   \n",
      "correct=male     guess=female   name=thornie                       \n",
      "correct=male     guess=female   name=titos                         \n",
      "correct=male     guess=female   name=tobin                         \n",
      "correct=male     guess=female   name=towny                         \n",
      "correct=male     guess=female   name=trever                        \n",
      "correct=male     guess=female   name=tudor                         \n",
      "correct=male     guess=female   name=tye                           \n",
      "correct=male     guess=female   name=upton                         \n",
      "correct=male     guess=female   name=urbanus                       \n",
      "correct=male     guess=female   name=vinnie                        \n",
      "correct=male     guess=female   name=virge                         \n",
      "correct=male     guess=female   name=wadsworth                     \n",
      "correct=male     guess=female   name=wain                          \n",
      "correct=male     guess=female   name=walton                        \n",
      "correct=male     guess=female   name=ward                          \n",
      "correct=male     guess=female   name=ware                          \n",
      "correct=male     guess=female   name=wat                           \n",
      "correct=male     guess=female   name=waverley                      \n",
      "correct=male     guess=female   name=welbie                        \n",
      "correct=male     guess=female   name=wilhelm                       \n",
      "correct=male     guess=female   name=willem                        \n",
      "correct=male     guess=female   name=wilmar                        \n",
      "correct=male     guess=female   name=winthrop                      \n",
      "correct=male     guess=female   name=woodman                       \n",
      "correct=male     guess=female   name=xenos                         \n",
      "correct=male     guess=female   name=xever                         \n",
      "correct=male     guess=female   name=yankee                        \n",
      "correct=male     guess=female   name=yuri                          \n",
      "correct=male     guess=female   name=zorro                         \n"
     ]
    }
   ],
   "source": [
    "def error_list(devtest_names, feature_extractor):\n",
    "    errors = []\n",
    "    for (name, tag) in devtest_names:\n",
    "        guess = classifier.classify(feature_extractor(name))\n",
    "        if guess != tag:\n",
    "            errors.append((tag, guess, name))\n",
    "    for (tag, guess, features) in sorted(errors):\n",
    "        print('correct=%-8s guess=%-8s name=%-30s' % (tag, guess, features))\n",
    "    return errors\n",
    "\n",
    "errors = error_list(devtest_names, gender_features)"
   ]
  },
  {
   "cell_type": "markdown",
   "metadata": {},
   "source": [
    "Looking at the errors didn't reveal any obvious patterns but the textbook indicated that the last two letters were a good indicator in addition to just the last letter.  So we added that to our features and removed the bigrams and trigrams since no two lists will be the same and individual bigrams or trigrams are unlikely to be a good indicator since our earlier analysis indicated that there were no particularly common bigrams or trigrams."
   ]
  },
  {
   "cell_type": "markdown",
   "metadata": {},
   "source": [
    "### Refine decision tree features - Second model"
   ]
  },
  {
   "cell_type": "markdown",
   "metadata": {},
   "source": [
    "We refined our feature extractor function by removing bigrams and trigrams and added a new feature, last_two, to indicate the last two letters of the name."
   ]
  },
  {
   "cell_type": "code",
   "execution_count": 213,
   "metadata": {
    "pycharm": {
     "is_executing": false,
     "name": "#%%\n"
    }
   },
   "outputs": [],
   "source": [
    "# feature generator 2\n",
    "def gender_features2(name):\n",
    "    # last letter, first letter, vowel last/first letter\n",
    "    first_letter = name[0]\n",
    "    vowel_first_letter = first_letter in 'aeiou'\n",
    "    last_letter = name[-1]\n",
    "    vowel_last_letter = last_letter in 'aeiou'\n",
    "    \n",
    "    # last two letters\n",
    "    last_two = name[-2:]\n",
    "    \n",
    "    # vowel/consonants + counts\n",
    "    vowels = \"\".join(sorted(list(set(re.sub(r'[^aeiou]', '', name)))))\n",
    "    consonants = \"\".join(sorted(list(set(re.sub(r'[aeiou]', '', name)))))\n",
    "    \n",
    "    # syllables\n",
    "    syllables = len(SSP.tokenize(name))\n",
    "    \n",
    "    return {\n",
    "        'first_letter': first_letter,\n",
    "        'vowel_first_letter': vowel_first_letter,\n",
    "        'last_letter': last_letter,\n",
    "        'vowel_last_letter': vowel_last_letter,\n",
    "        'last_two': last_two,\n",
    "        'vowels': vowels,\n",
    "        'consonants': consonants,\n",
    "        'syllables': syllables\n",
    "    }"
   ]
  },
  {
   "cell_type": "markdown",
   "metadata": {},
   "source": [
    "According to the textbook, \"Each time the error analysis procedure is repeated, we should select a different dev-test/training split, to ensure that the classifier does not start to reflect idiosyncrasies in the dev-test set.\" So we reshuffled our training data to get a new split for the train and devtest sets."
   ]
  },
  {
   "cell_type": "code",
   "execution_count": 214,
   "metadata": {},
   "outputs": [],
   "source": [
    "# shuffle the dev_set_names to get a new split\n",
    "random.seed(25)\n",
    "random.shuffle(dev_set_names)\n",
    "\n",
    "# split the development set into training and test sets\n",
    "train_names = dev_set_names[:500]\n",
    "devtest_names = dev_set_names[500:]\n",
    "\n",
    "# apply feature generation function\n",
    "test_set = [(gender_features2(name), gender) for name, gender in test_names]\n",
    "train_set = [(gender_features2(name), gender) for name, gender in train_names]\n",
    "devtest_set = [(gender_features2(name), gender) for name, gender in devtest_names]"
   ]
  },
  {
   "cell_type": "markdown",
   "metadata": {},
   "source": [
    "We refit the model using our refined list of potential features.  "
   ]
  },
  {
   "cell_type": "code",
   "execution_count": 215,
   "metadata": {},
   "outputs": [],
   "source": [
    "classifier2 = DecisionTreeClassifier.train(train_set)"
   ]
  },
  {
   "cell_type": "code",
   "execution_count": 216,
   "metadata": {},
   "outputs": [
    {
     "data": {
      "text/plain": [
       "'Accuracy: 0.55'"
      ]
     },
     "execution_count": 216,
     "metadata": {},
     "output_type": "execute_result"
    }
   ],
   "source": [
    "'Accuracy: %4.2f' % classify.accuracy(classifier2, devtest_set)"
   ]
  },
  {
   "cell_type": "markdown",
   "metadata": {},
   "source": [
    "Unfortunately our accuracy score went down!  We examined the errors again to see if anything new became evident."
   ]
  },
  {
   "cell_type": "code",
   "execution_count": 217,
   "metadata": {
    "scrolled": true
   },
   "outputs": [
    {
     "name": "stdout",
     "output_type": "stream",
     "text": [
      "correct=male     guess=female   name=abby                          \n",
      "correct=male     guess=female   name=aleck                         \n",
      "correct=male     guess=female   name=andres                        \n",
      "correct=male     guess=female   name=andy                          \n",
      "correct=male     guess=female   name=anson                         \n",
      "correct=male     guess=female   name=aristotle                     \n",
      "correct=male     guess=female   name=armand                        \n",
      "correct=male     guess=female   name=arnoldo                       \n",
      "correct=male     guess=female   name=ashby                         \n",
      "correct=male     guess=female   name=aubert                        \n",
      "correct=male     guess=female   name=augie                         \n",
      "correct=male     guess=female   name=avi                           \n",
      "correct=male     guess=female   name=barnaby                       \n",
      "correct=male     guess=female   name=barnett                       \n",
      "correct=male     guess=female   name=bartholomeo                   \n",
      "correct=male     guess=female   name=bartolomeo                    \n",
      "correct=male     guess=female   name=barton                        \n",
      "correct=male     guess=female   name=benson                        \n",
      "correct=male     guess=female   name=boyce                         \n",
      "correct=male     guess=female   name=cain                          \n",
      "correct=male     guess=female   name=cal                           \n",
      "correct=male     guess=female   name=casper                        \n",
      "correct=male     guess=female   name=chan                          \n",
      "correct=male     guess=female   name=chester                       \n",
      "correct=male     guess=female   name=corby                         \n",
      "correct=male     guess=female   name=costa                         \n",
      "correct=male     guess=female   name=craig                         \n",
      "correct=male     guess=female   name=curt                          \n",
      "correct=male     guess=female   name=cy                            \n",
      "correct=male     guess=female   name=damon                         \n",
      "correct=male     guess=female   name=darcy                         \n",
      "correct=male     guess=female   name=darian                        \n",
      "correct=male     guess=female   name=derk                          \n",
      "correct=male     guess=female   name=desmond                       \n",
      "correct=male     guess=female   name=dimitris                      \n",
      "correct=male     guess=female   name=douglis                       \n",
      "correct=male     guess=female   name=ed                            \n",
      "correct=male     guess=female   name=edmund                        \n",
      "correct=male     guess=female   name=eliot                         \n",
      "correct=male     guess=female   name=emmery                        \n",
      "correct=male     guess=female   name=everett                       \n",
      "correct=male     guess=female   name=ezra                          \n",
      "correct=male     guess=female   name=flem                          \n",
      "correct=male     guess=female   name=fletch                        \n",
      "correct=male     guess=female   name=forrester                     \n",
      "correct=male     guess=female   name=frank                         \n",
      "correct=male     guess=female   name=fraser                        \n",
      "correct=male     guess=female   name=gardiner                      \n",
      "correct=male     guess=female   name=garey                         \n",
      "correct=male     guess=female   name=garfield                      \n",
      "correct=male     guess=female   name=garrot                        \n",
      "correct=male     guess=female   name=garv                          \n",
      "correct=male     guess=female   name=georgy                        \n",
      "correct=male     guess=female   name=gerhardt                      \n",
      "correct=male     guess=female   name=gerri                         \n",
      "correct=male     guess=female   name=gilles                        \n",
      "correct=male     guess=female   name=ginger                        \n",
      "correct=male     guess=female   name=godart                        \n",
      "correct=male     guess=female   name=godfrey                       \n",
      "correct=male     guess=female   name=gregor                        \n",
      "correct=male     guess=female   name=guillaume                     \n",
      "correct=male     guess=female   name=gunter                        \n",
      "correct=male     guess=female   name=gustave                       \n",
      "correct=male     guess=female   name=guthrie                       \n",
      "correct=male     guess=female   name=haleigh                       \n",
      "correct=male     guess=female   name=hammad                        \n",
      "correct=male     guess=female   name=harmon                        \n",
      "correct=male     guess=female   name=haskell                       \n",
      "correct=male     guess=female   name=hassan                        \n",
      "correct=male     guess=female   name=hermann                       \n",
      "correct=male     guess=female   name=hiram                         \n",
      "correct=male     guess=female   name=humphrey                      \n",
      "correct=male     guess=female   name=huntington                    \n",
      "correct=male     guess=female   name=igor                          \n",
      "correct=male     guess=female   name=israel                        \n",
      "correct=male     guess=female   name=jamie                         \n",
      "correct=male     guess=female   name=jean-pierre                   \n",
      "correct=male     guess=female   name=jens                          \n",
      "correct=male     guess=female   name=joachim                       \n",
      "correct=male     guess=female   name=joao                          \n",
      "correct=male     guess=female   name=jordan                        \n",
      "correct=male     guess=female   name=juergen                       \n",
      "correct=male     guess=female   name=julian                        \n",
      "correct=male     guess=female   name=kimball                       \n",
      "correct=male     guess=female   name=kimmo                         \n",
      "correct=male     guess=female   name=klaus                         \n",
      "correct=male     guess=female   name=konstantin                    \n",
      "correct=male     guess=female   name=lanny                         \n",
      "correct=male     guess=female   name=laurance                      \n",
      "correct=male     guess=female   name=lawton                        \n",
      "correct=male     guess=female   name=leonid                        \n",
      "correct=male     guess=female   name=levin                         \n",
      "correct=male     guess=female   name=logan                         \n",
      "correct=male     guess=female   name=lorrie                        \n",
      "correct=male     guess=female   name=lovell                        \n",
      "correct=male     guess=female   name=lyle                          \n",
      "correct=male     guess=female   name=marietta                      \n",
      "correct=male     guess=female   name=marven                        \n",
      "correct=male     guess=female   name=maximilian                    \n",
      "correct=male     guess=female   name=mayer                         \n",
      "correct=male     guess=female   name=meredith                      \n",
      "correct=male     guess=female   name=mike                          \n",
      "correct=male     guess=female   name=moises                        \n",
      "correct=male     guess=female   name=mort                          \n",
      "correct=male     guess=female   name=muffin                        \n",
      "correct=male     guess=female   name=murdock                       \n",
      "correct=male     guess=female   name=neale                         \n",
      "correct=male     guess=female   name=neron                         \n",
      "correct=male     guess=female   name=nester                        \n",
      "correct=male     guess=female   name=niall                         \n",
      "correct=male     guess=female   name=nilson                        \n",
      "correct=male     guess=female   name=obadias                       \n",
      "correct=male     guess=female   name=oran                          \n",
      "correct=male     guess=female   name=padraig                       \n",
      "correct=male     guess=female   name=park                          \n",
      "correct=male     guess=female   name=patrick                       \n",
      "correct=male     guess=female   name=peyton                        \n",
      "correct=male     guess=female   name=philip                        \n",
      "correct=male     guess=female   name=phillip                       \n",
      "correct=male     guess=female   name=phillipp                      \n",
      "correct=male     guess=female   name=pierce                        \n",
      "correct=male     guess=female   name=pip                           \n",
      "correct=male     guess=female   name=price                         \n",
      "correct=male     guess=female   name=pryce                         \n",
      "correct=male     guess=female   name=puff                          \n",
      "correct=male     guess=female   name=quincey                       \n",
      "correct=male     guess=female   name=randie                        \n",
      "correct=male     guess=female   name=reggie                        \n",
      "correct=male     guess=female   name=remington                     \n",
      "correct=male     guess=female   name=rikki                         \n",
      "correct=male     guess=female   name=ritchie                       \n",
      "correct=male     guess=female   name=robbie                        \n",
      "correct=male     guess=female   name=robert                        \n",
      "correct=male     guess=female   name=rod                           \n",
      "correct=male     guess=female   name=roderic                       \n",
      "correct=male     guess=female   name=rodger                        \n",
      "correct=male     guess=female   name=rolph                         \n",
      "correct=male     guess=female   name=rowland                       \n",
      "correct=male     guess=female   name=royce                         \n",
      "correct=male     guess=female   name=rufus                         \n",
      "correct=male     guess=female   name=salvador                      \n",
      "correct=male     guess=female   name=sandor                        \n",
      "correct=male     guess=female   name=sansone                       \n",
      "correct=male     guess=female   name=sauncho                       \n",
      "correct=male     guess=female   name=scotti                        \n",
      "correct=male     guess=female   name=sergent                       \n",
      "correct=male     guess=female   name=shamus                        \n",
      "correct=male     guess=female   name=shaughn                       \n",
      "correct=male     guess=female   name=sherlock                      \n",
      "correct=male     guess=female   name=sherwood                      \n",
      "correct=male     guess=female   name=sholom                        \n",
      "correct=male     guess=female   name=skippie                       \n",
      "correct=male     guess=female   name=skippy                        \n",
      "correct=male     guess=female   name=sky                           \n",
      "correct=male     guess=female   name=smith                         \n",
      "correct=male     guess=female   name=spencer                       \n",
      "correct=male     guess=female   name=spiro                         \n",
      "correct=male     guess=female   name=spiros                        \n",
      "correct=male     guess=female   name=stanton                       \n",
      "correct=male     guess=female   name=stephanus                     \n",
      "correct=male     guess=female   name=stevie                        \n",
      "correct=male     guess=female   name=taddeo                        \n",
      "correct=male     guess=female   name=talbot                        \n",
      "correct=male     guess=female   name=terrell                       \n",
      "correct=male     guess=female   name=thomas                        \n",
      "correct=male     guess=female   name=thornie                       \n",
      "correct=male     guess=female   name=tobin                         \n",
      "correct=male     guess=female   name=tomlin                        \n",
      "correct=male     guess=female   name=torrance                      \n",
      "correct=male     guess=female   name=upton                         \n",
      "correct=male     guess=female   name=venkat                        \n",
      "correct=male     guess=female   name=vern                          \n",
      "correct=male     guess=female   name=vibhu                         \n",
      "correct=male     guess=female   name=vincent                       \n",
      "correct=male     guess=female   name=vinny                         \n",
      "correct=male     guess=female   name=virge                         \n",
      "correct=male     guess=female   name=waldemar                      \n",
      "correct=male     guess=female   name=wallie                        \n",
      "correct=male     guess=female   name=walton                        \n",
      "correct=male     guess=female   name=wang                          \n",
      "correct=male     guess=female   name=ward                          \n",
      "correct=male     guess=female   name=wat                           \n",
      "correct=male     guess=female   name=webb                          \n",
      "correct=male     guess=female   name=wilhelm                       \n",
      "correct=male     guess=female   name=willem                        \n",
      "correct=male     guess=female   name=winn                          \n",
      "correct=male     guess=female   name=wynton                        \n",
      "correct=male     guess=female   name=xenos                         \n",
      "correct=male     guess=female   name=xever                         \n",
      "correct=male     guess=female   name=zorro                         \n"
     ]
    }
   ],
   "source": [
    "errors = error_list(devtest_names, gender_features2)"
   ]
  },
  {
   "cell_type": "markdown",
   "metadata": {},
   "source": [
    "There are a lot of female names that end in vowels misclassified as male names in our new error list.  Having both the last letter and the last two letters as features may not be working to our benefit. We also printed the pseudocode to see what features were most relevant to our tree structure."
   ]
  },
  {
   "cell_type": "code",
   "execution_count": 218,
   "metadata": {},
   "outputs": [
    {
     "name": "stdout",
     "output_type": "stream",
     "text": [
      "if consonants == '-jn': return 'female'\n",
      "if consonants == '-mnr': return 'female'\n",
      "if consonants == 'b': return 'male'\n",
      "if consonants == 'bc': return 'male'\n",
      "if consonants == 'bckr': return 'female'\n",
      "if consonants == 'bcky': return 'female'\n",
      "if consonants == 'bclr': return 'female'\n",
      "if consonants == 'bcy': return 'female'\n",
      "if consonants == 'bdgr': return 'female'\n",
      "if consonants == 'bdgrt': return 'female'\n",
      "if consonants == 'bdhlnr': return 'female'\n",
      "if consonants == 'bdlrt': return 'male'\n",
      "if consonants == 'bdnrt': return 'male'\n",
      "if consonants == 'bdnt': return 'female'\n",
      "if consonants == 'bdr': return 'female'\n",
      "if consonants == 'bg': return 'female'\n",
      "if consonants == 'bgl': return 'female'\n",
      "if consonants == 'bglr': return 'female'\n",
      "if consonants == 'bglrt': return 'male'\n",
      "if consonants == 'bgrs': return 'male'\n",
      "if consonants == 'bhlmtw': return 'male'\n",
      "if consonants == 'bhltz': return 'female'\n",
      "if consonants == 'bhrt': return 'male'\n",
      "if consonants == 'bj': return 'male'\n",
      "if consonants == 'bl': return 'female'\n",
      "if consonants == 'blmr': return 'female'\n",
      "if consonants == 'blr': return 'female'\n",
      "if consonants == 'blrt': return 'male'\n",
      "if consonants == 'blrvy': return 'female'\n",
      "if consonants == 'bls': return 'female'\n",
      "if consonants == 'blst': return 'female'\n",
      "if consonants == 'blw': return 'male'\n",
      "if consonants == 'bmrs': return 'female'\n",
      "if consonants == 'bn': return 'female'\n",
      "if consonants == 'bnr': \n",
      "  if last_two == 'ie': return 'male'\n",
      "  if last_two == 'in': return 'female'\n",
      "  if last_two == 'na': return 'female'\n",
      "if consonants == 'bnrs': return 'male'\n",
      "if consonants == 'bnry': \n",
      "  if last_two == 'on': return 'male'\n",
      "  if last_two == 'yn': return 'female'\n",
      "if consonants == 'bnt': return 'male'\n",
      "if consonants == 'br': \n",
      "  if last_two == 'be': return 'female'\n",
      "  if last_two == 'ri': return 'male'\n",
      "if consonants == 'brt': return 'male'\n",
      "if consonants == 'bt': return 'male'\n",
      "if consonants == 'bty': return 'female'\n",
      "if consonants == 'cdfhr': return 'male'\n",
      "if consonants == 'cdfr': return 'male'\n",
      "if consonants == 'cdhmnr': return 'female'\n",
      "if consonants == 'cdhmr': return 'male'\n",
      "if consonants == 'cdhy': return 'male'\n",
      "if consonants == 'cdkn': \n",
      "  if vowel_last_letter == False: return 'male'\n",
      "  if vowel_last_letter == True: return 'female'\n",
      "if consonants == 'cdln': return 'female'\n",
      "if consonants == 'cdnrs': return 'female'\n",
      "if consonants == 'cdnrsy': return 'female'\n",
      "if consonants == 'cgmnr': return 'female'\n",
      "if consonants == 'cgry': return 'female'\n",
      "if consonants == 'chl': return 'female'\n",
      "if consonants == 'chlmt': return 'male'\n",
      "if consonants == 'chlnry': return 'female'\n",
      "if consonants == 'chlrs': return 'male'\n",
      "if consonants == 'chn': return 'male'\n",
      "if consonants == 'chnrst': return 'female'\n",
      "if consonants == 'chnrt': return 'female'\n",
      "if consonants == 'chr': \n",
      "  if vowel_last_letter == False: return 'male'\n",
      "  if vowel_last_letter == True: return 'female'\n",
      "if consonants == 'chrs': return 'male'\n",
      "if consonants == 'chrst': return 'female'\n",
      "if consonants == 'cj': return 'female'\n",
      "if consonants == 'cjk': return 'female'\n",
      "if consonants == 'cjlnr': return 'female'\n",
      "if consonants == 'cjnt': return 'female'\n",
      "if consonants == 'cjy': return 'female'\n",
      "if consonants == 'ck': return 'female'\n",
      "if consonants == 'ckly': return 'female'\n",
      "if consonants == 'ckn': return 'female'\n",
      "if consonants == 'ckr': return 'male'\n",
      "if consonants == 'clm': return 'female'\n",
      "if consonants == 'cln': return 'male'\n",
      "if consonants == 'clnr': \n",
      "  if last_two == 'ce': return 'male'\n",
      "  if last_two == 'ne': return 'female'\n",
      "if consonants == 'clnrs': return 'male'\n",
      "if consonants == 'clnt': return 'female'\n",
      "if consonants == 'clps': return 'male'\n",
      "if consonants == 'clr': return 'female'\n",
      "if consonants == 'clrs': return 'female'\n",
      "if consonants == 'clt': return 'female'\n",
      "if consonants == 'clv': return 'male'\n",
      "if consonants == 'cly': return 'female'\n",
      "if consonants == 'cmnr': return 'male'\n",
      "if consonants == 'cmr': return 'male'\n",
      "if consonants == 'cn': return 'male'\n",
      "if consonants == 'cnr': return 'male'\n",
      "if consonants == 'cnrt': \n",
      "  if last_two == 'ce': return 'male'\n",
      "  if last_two == 'na': return 'female'\n",
      "if consonants == 'cnrty': return 'male'\n",
      "if consonants == 'crs': return 'male'\n",
      "if consonants == 'crt': return 'female'\n",
      "if consonants == 'crty': return 'female'\n",
      "if consonants == 'cry': \n",
      "  if last_two == 'ey': return 'female'\n",
      "  if last_two == 'ry': return 'male'\n",
      "if consonants == 'cs': return 'female'\n",
      "if consonants == 'cst': return 'female'\n",
      "if consonants == 'd': return 'female'\n",
      "if consonants == 'df': return 'female'\n",
      "if consonants == 'dfgr': return 'male'\n",
      "if consonants == 'dfl': return 'female'\n",
      "if consonants == 'dflmx': return 'male'\n",
      "if consonants == 'dflr': return 'female'\n",
      "if consonants == 'dfr': return 'female'\n",
      "if consonants == 'dfy': return 'female'\n",
      "if consonants == 'dgl': return 'female'\n",
      "if consonants == 'dgln': return 'female'\n",
      "if consonants == 'dgr': return 'male'\n",
      "if consonants == 'dhlm': return 'female'\n",
      "if consonants == 'dhlnpr': return 'male'\n",
      "if consonants == 'dhlr': return 'male'\n",
      "if consonants == 'dhm': return 'male'\n",
      "if consonants == 'dhmnw': return 'male'\n",
      "if consonants == 'dhnrswy': return 'male'\n",
      "if consonants == 'dhns': return 'female'\n",
      "if consonants == 'dhrstw': return 'male'\n",
      "if consonants == 'dhrt': return 'female'\n",
      "if consonants == 'dhrv': return 'male'\n",
      "if consonants == 'dhst': return 'male'\n",
      "if consonants == 'dhy': return 'female'\n",
      "if consonants == 'djnr': return 'female'\n",
      "if consonants == 'djry': return 'male'\n",
      "if consonants == 'dkln': return 'female'\n",
      "if consonants == 'dkry': return 'male'\n",
      "if consonants == 'dl': \n",
      "  if vowel_last_letter == False: return 'male'\n",
      "  if vowel_last_letter == True: return 'female'\n",
      "if consonants == 'dlm': return 'female'\n",
      "if consonants == 'dlmns': return 'female'\n",
      "if consonants == 'dlnr': return 'male'\n",
      "if consonants == 'dlnrs': return 'male'\n",
      "if consonants == 'dlr': return 'female'\n",
      "if consonants == 'dlry': return 'female'\n",
      "if consonants == 'dm': return 'male'\n",
      "if consonants == 'dmn': \n",
      "  if vowel_last_letter == False: return 'male'\n",
      "  if vowel_last_letter == True: return 'female'\n",
      "if consonants == 'dmnrs': return 'female'\n",
      "if consonants == 'dmns': return 'male'\n",
      "if consonants == 'dmnw': return 'male'\n",
      "if consonants == 'dmny': return 'female'\n",
      "if consonants == 'dn': \n",
      "  if vowel_last_letter == False: return 'male'\n",
      "  if vowel_last_letter == True: return 'female'\n",
      "if consonants == 'dnr': \n",
      "  if vowel_last_letter == False: return 'male'\n",
      "  if vowel_last_letter == True: return 'female'\n",
      "if consonants == 'dns': return 'female'\n",
      "if consonants == 'dnsy': return 'male'\n",
      "if consonants == 'dnv': return 'female'\n",
      "if consonants == 'dnvy': return 'female'\n",
      "if consonants == 'dnw': return 'female'\n",
      "if consonants == 'dny': return 'female'\n",
      "if consonants == 'dpry': return 'female'\n",
      "if consonants == 'dr': return 'female'\n",
      "if consonants == 'drt': return 'male'\n",
      "if consonants == 'dry': return 'female'\n",
      "if consonants == 'ds': return 'female'\n",
      "if consonants == 'dsy': return 'male'\n",
      "if consonants == 'dv': return 'female'\n",
      "if consonants == 'fglmn': return 'male'\n",
      "if consonants == 'fgry': return 'male'\n",
      "if consonants == 'fl': return 'female'\n",
      "if consonants == 'flns': return 'male'\n",
      "if consonants == 'flrt': return 'female'\n",
      "if consonants == 'flry': return 'female'\n",
      "if consonants == 'fn': return 'female'\n",
      "if consonants == 'fnr': return 'female'\n",
      "if consonants == 'fnrs': return 'male'\n",
      "if consonants == 'fnrt': return 'female'\n",
      "if consonants == 'fns': return 'male'\n",
      "if consonants == 'fnst': return 'male'\n",
      "if consonants == 'fr': \n",
      "  if last_two == 'fe': return 'male'\n",
      "  if last_two == 'ra': return 'female'\n",
      "if consonants == 'fx': return 'male'\n",
      "if consonants == 'fy': return 'female'\n",
      "if consonants == 'ghlnst': return 'male'\n",
      "if consonants == 'ghlnt': return 'male'\n",
      "if consonants == 'ghlr': return 'male'\n",
      "if consonants == 'ghnrs': return 'male'\n",
      "if consonants == 'ghnst': return 'male'\n",
      "if consonants == 'gl': return 'male'\n",
      "if consonants == 'gln': return 'female'\n",
      "if consonants == 'glnt': return 'female'\n",
      "if consonants == 'glr': return 'female'\n",
      "if consonants == 'gls': return 'female'\n",
      "if consonants == 'gmn': return 'female'\n",
      "if consonants == 'gmnr': return 'female'\n",
      "if consonants == 'gmrt': return 'female'\n",
      "if consonants == 'gmsy': return 'male'\n",
      "if consonants == 'gn': return 'male'\n",
      "if consonants == 'gnr': return 'male'\n",
      "if consonants == 'gnrv': return 'female'\n",
      "if consonants == 'gnry': return 'female'\n",
      "if consonants == 'gnt': return 'female'\n",
      "if consonants == 'gny': return 'female'\n",
      "if consonants == 'gp': return 'female'\n",
      "if consonants == 'grst': return 'male'\n",
      "if consonants == 'grt': \n",
      "  if vowel_last_letter == False: return 'male'\n",
      "  if vowel_last_letter == True: return 'female'\n",
      "if consonants == 'grv': return 'female'\n",
      "if consonants == 'gs': return 'male'\n",
      "if consonants == 'gstv': return 'male'\n",
      "if consonants == 'gt': return 'female'\n",
      "if consonants == 'hjl': return 'female'\n",
      "if consonants == 'hjn': return 'male'\n",
      "if consonants == 'hjnt': return 'male'\n",
      "if consonants == 'hkls': return 'male'\n",
      "if consonants == 'hl': return 'male'\n",
      "if consonants == 'hlm': return 'male'\n",
      "if consonants == 'hlmn': return 'male'\n",
      "if consonants == 'hlmrs': return 'male'\n",
      "if consonants == 'hln': return 'female'\n",
      "if consonants == 'hlnr': return 'male'\n",
      "if consonants == 'hlnt': return 'female'\n",
      "if consonants == 'hlp': \n",
      "  if vowel_last_letter == False: return 'male'\n",
      "  if vowel_last_letter == True: return 'female'\n",
      "if consonants == 'hlpsty': return 'male'\n",
      "if consonants == 'hlpsy': return 'female'\n",
      "if consonants == 'hlr': return 'male'\n",
      "if consonants == 'hls': return 'female'\n",
      "if consonants == 'hlsy': return 'female'\n",
      "if consonants == 'hlt': return 'male'\n",
      "if consonants == 'hmnr': return 'female'\n",
      "if consonants == 'hmrs': return 'male'\n",
      "if consonants == 'hmst': \n",
      "  if last_two == 'it': return 'female'\n",
      "  if last_two == 'us': return 'male'\n",
      "if consonants == 'hnprtw': return 'male'\n",
      "if consonants == 'hnps': return 'male'\n",
      "if consonants == 'hnpst': return 'female'\n",
      "if consonants == 'hnr': return 'female'\n",
      "if consonants == 'hns': return 'female'\n",
      "if consonants == 'hnst': return 'female'\n",
      "if consonants == 'hnsw': return 'female'\n",
      "if consonants == 'hp': return 'female'\n",
      "if consonants == 'hprt': return 'male'\n",
      "if consonants == 'hpst': return 'female'\n",
      "if consonants == 'hrs': \n",
      "  if vowel_last_letter == False: return 'male'\n",
      "  if vowel_last_letter == True: return 'female'\n",
      "if consonants == 'hrst': return 'female'\n",
      "if consonants == 'hsw': return 'male'\n",
      "if consonants == 'hty': return 'female'\n",
      "if consonants == 'jk': return 'female'\n",
      "if consonants == 'jln': return 'female'\n",
      "if consonants == 'jlnsy': return 'female'\n",
      "if consonants == 'jlny': return 'female'\n",
      "if consonants == 'jmnr': return 'male'\n",
      "if consonants == 'jmr': return 'male'\n",
      "if consonants == 'jmy': return 'male'\n",
      "if consonants == 'jn': return 'female'\n",
      "if consonants == 'jns': \n",
      "  if vowel_last_letter == False: return 'male'\n",
      "  if vowel_last_letter == True: return 'female'\n",
      "if consonants == 'jnt': return 'female'\n",
      "if consonants == 'jr': return 'male'\n",
      "if consonants == 'jsy': return 'male'\n",
      "if consonants == 'kl': \n",
      "  if last_two == 'al': return 'female'\n",
      "  if last_two == 'il': return 'male'\n",
      "  if last_two == 'ka': return 'female'\n",
      "  if last_two == 'ke': return 'female'\n",
      "if consonants == 'klnt': return 'female'\n",
      "if consonants == 'klnv': return 'male'\n",
      "if consonants == 'klr': return 'female'\n",
      "if consonants == 'kly': return 'female'\n",
      "if consonants == 'kmrs': return 'female'\n",
      "if consonants == 'kn': \n",
      "  if last_two == 'na': return 'female'\n",
      "  if last_two == 'ne': return 'male'\n",
      "if consonants == 'knr': return 'female'\n",
      "if consonants == 'knrst': return 'female'\n",
      "if consonants == 'knrsty': return 'female'\n",
      "if consonants == 'knrt': return 'female'\n",
      "if consonants == 'knt': \n",
      "  if vowel_last_letter == False: return 'male'\n",
      "  if vowel_last_letter == True: return 'female'\n",
      "if consonants == 'kny': return 'male'\n",
      "if consonants == 'kp': return 'female'\n",
      "if consonants == 'kps': return 'male'\n",
      "if consonants == 'kr': \n",
      "  if last_two == 'ie': return 'female'\n",
      "  if last_two == 'ik': return 'male'\n",
      "  if last_two == 'ke': return 'male'\n",
      "  if last_two == 'ri': return 'female'\n",
      "if consonants == 'krs': return 'female'\n",
      "if consonants == 'krt': return 'female'\n",
      "if consonants == 'ks': return 'female'\n",
      "if consonants == 'kst': return 'male'\n",
      "if consonants == 'kty': return 'female'\n",
      "if consonants == 'kv': return 'female'\n",
      "if consonants == 'l': \n",
      "  if last_two == 'ea': return 'female'\n",
      "  if last_two == 'eo': return 'male'\n",
      "  if last_two == 'ia': return 'female'\n",
      "  if last_two == 'le': return 'female'\n",
      "if consonants == 'lmnr': \n",
      "  if vowel_last_letter == False: return 'male'\n",
      "  if vowel_last_letter == True: return 'female'\n",
      "if consonants == 'lmns': return 'male'\n",
      "if consonants == 'lmnst': return 'female'\n",
      "if consonants == 'lmny': return 'female'\n",
      "if consonants == 'lmr': \n",
      "  if last_two == 'ee': return 'female'\n",
      "  if last_two == 'il': return 'male'\n",
      "  if last_two == 'la': return 'female'\n",
      "  if last_two == 'le': return 'male'\n",
      "if consonants == 'lmrw': return 'male'\n",
      "if consonants == 'lmry': return 'female'\n",
      "if consonants == 'lms': return 'female'\n",
      "if consonants == 'lmt': return 'female'\n",
      "if consonants == 'ln': \n",
      "  if last_two == 'an': return 'female'\n",
      "  if last_two == 'en': return 'male'\n",
      "  if last_two == 'ie': return 'male'\n",
      "  if last_two == 'na': return 'female'\n",
      "  if last_two == 'ne': return 'female'\n",
      "  if last_two == 'on': return 'male'\n",
      "if consonants == 'lnprt': return 'female'\n",
      "if consonants == 'lnrs': \n",
      "  if vowel_last_letter == False: return 'male'\n",
      "  if vowel_last_letter == True: return 'female'\n",
      "if consonants == 'lnrsy': return 'female'\n",
      "if consonants == 'lnry': return 'female'\n",
      "if consonants == 'lns': \n",
      "  if vowel_last_letter == False: return 'male'\n",
      "  if vowel_last_letter == True: return 'female'\n",
      "if consonants == 'lnst': return 'female'\n",
      "if consonants == 'lnsv': return 'male'\n",
      "if consonants == 'lnsw': return 'male'\n",
      "if consonants == 'lnt': return 'female'\n",
      "if consonants == 'lnty': return 'female'\n",
      "if consonants == 'lnv': return 'female'\n",
      "if consonants == 'lnwy': return 'male'\n",
      "if consonants == 'lny': return 'female'\n",
      "if consonants == 'lp': return 'male'\n",
      "if consonants == 'lr': \n",
      "  if vowels == 'aei': return 'female'\n",
      "  if vowels == 'aeiu': return 'male'\n",
      "  if vowels == 'aiu': return 'female'\n",
      "  if vowels == 'eio': return 'female'\n",
      "  if vowels == 'eo': return 'female'\n",
      "if consonants == 'lrs': return 'female'\n",
      "if consonants == 'lrst': return 'female'\n",
      "if consonants == 'lrv': return 'female'\n",
      "if consonants == 'lrvwy': return 'male'\n",
      "if consonants == 'lrvy': return 'female'\n",
      "if consonants == 'lry': return 'male'\n",
      "if consonants == 'lrz': \n",
      "  if vowel_last_letter == False: return 'male'\n",
      "  if vowel_last_letter == True: return 'female'\n",
      "if consonants == 'ls': return 'female'\n",
      "if consonants == 'lsy': return 'female'\n",
      "if consonants == 'lt': return 'female'\n",
      "if consonants == 'lv': return 'female'\n",
      "if consonants == 'lvy': return 'male'\n",
      "if consonants == 'lvz': return 'female'\n",
      "if consonants == 'lw': \n",
      "  if vowels == 'aei': return 'female'\n",
      "  if vowels == 'ei': return 'male'\n",
      "if consonants == 'lx': return 'male'\n",
      "if consonants == 'ly': return 'male'\n",
      "if consonants == 'lz': return 'female'\n",
      "if consonants == 'm': return 'female'\n",
      "if consonants == 'mn': return 'female'\n",
      "if consonants == 'mnpt': return 'male'\n",
      "if consonants == 'mnr': return 'female'\n",
      "if consonants == 'mnrw': return 'male'\n",
      "if consonants == 'mp': return 'female'\n",
      "if consonants == 'mr': return 'female'\n",
      "if consonants == 'mrs': \n",
      "  if vowel_last_letter == False: return 'male'\n",
      "  if vowel_last_letter == True: return 'female'\n",
      "if consonants == 'mrst': return 'male'\n",
      "if consonants == 'mrt': return 'female'\n",
      "if consonants == 'mry': \n",
      "  if last_two == 'ay': return 'male'\n",
      "  if last_two == 'my': return 'female'\n",
      "if consonants == 'ms': return 'female'\n",
      "if consonants == 'mst': return 'female'\n",
      "if consonants == 'mt': \n",
      "  if last_two == 'eo': return 'male'\n",
      "  if last_two == 'im': return 'male'\n",
      "  if last_two == 'mi': return 'female'\n",
      "if consonants == 'mx': return 'female'\n",
      "if consonants == 'my': return 'female'\n",
      "if consonants == 'n': return 'female'\n",
      "if consonants == 'npsy': return 'female'\n",
      "if consonants == 'npy': return 'female'\n",
      "if consonants == 'nr': \n",
      "  if last_two == 'ie': return 'male'\n",
      "  if last_two == 'ne': return 'female'\n",
      "  if last_two == 'on': return 'female'\n",
      "if consonants == 'nrs': return 'female'\n",
      "if consonants == 'nrst': \n",
      "  if vowel_last_letter == False: return 'male'\n",
      "  if vowel_last_letter == True: return 'female'\n",
      "if consonants == 'nrt': return 'female'\n",
      "if consonants == 'nrv': \n",
      "  if vowel_last_letter == False: return 'male'\n",
      "  if vowel_last_letter == True: return 'female'\n",
      "if consonants == 'nrw': return 'male'\n",
      "if consonants == 'nry': \n",
      "  if vowel_last_letter == False: return 'male'\n",
      "  if vowel_last_letter == True: return 'female'\n",
      "if consonants == 'ns': return 'female'\n",
      "if consonants == 'nst': return 'male'\n",
      "if consonants == 'nsty': return 'male'\n",
      "if consonants == 'nsy': return 'female'\n",
      "if consonants == 'nt': \n",
      "  if last_two == 'ia': return 'female'\n",
      "  if last_two == 'ie': return 'female'\n",
      "  if last_two == 'io': return 'male'\n",
      "  if last_two == 'na': return 'female'\n",
      "  if last_two == 'ta': return 'female'\n",
      "if consonants == 'ntwy': return 'male'\n",
      "if consonants == 'nty': return 'male'\n",
      "if consonants == 'nv': return 'male'\n",
      "if consonants == 'nw': return 'male'\n",
      "if consonants == 'nz': return 'female'\n",
      "if consonants == 'p': return 'female'\n",
      "if consonants == 'prt': return 'male'\n",
      "if consonants == 'prty': return 'male'\n",
      "if consonants == 'psty': return 'male'\n",
      "if consonants == 'r': return 'female'\n",
      "if consonants == 'rs': return 'female'\n",
      "if consonants == 'rst': return 'female'\n",
      "if consonants == 'rsy': \n",
      "  if vowel_last_letter == False: return 'male'\n",
      "  if vowel_last_letter == True: return 'female'\n",
      "if consonants == 'rt': return 'female'\n",
      "if consonants == 'rtv': return 'male'\n",
      "if consonants == 'rty': return 'female'\n",
      "if consonants == 'rw': return 'male'\n",
      "if consonants == 'ry': return 'male'\n",
      "if consonants == 'rz': return 'female'\n",
      "if consonants == 'st': return 'male'\n",
      "if consonants == 'sty': return 'female'\n",
      "if consonants == 'ty': \n",
      "  if vowel_last_letter == False: return 'female'\n",
      "  if vowel_last_letter == True: return 'male'\n",
      "if consonants == 'v': return 'female'\n",
      "if consonants == 'z': return 'female'\n",
      "\n"
     ]
    }
   ],
   "source": [
    "print(classifier2.pseudocode(depth=4))"
   ]
  },
  {
   "cell_type": "markdown",
   "metadata": {},
   "source": [
    "Looking at the the pseudocode, we could see that the consonants feature was the most influential feature in our dataset, but since there are so few names that will have matching lists of consonants this would be overfitting and probably not result in a good accuracy score when applied to new data.  "
   ]
  },
  {
   "cell_type": "markdown",
   "metadata": {},
   "source": [
    "### Refine decision tree features - Third model"
   ]
  },
  {
   "cell_type": "markdown",
   "metadata": {},
   "source": [
    "From our analysis above we decided to remove last_letter and consonants from our features.  Through iterative trial and error we also decided to remove vowels and syllables.  Our final feature extractor includes only the first_letter, vowel_first_letter, vowel_last_letter, and last_two features."
   ]
  },
  {
   "cell_type": "code",
   "execution_count": 219,
   "metadata": {
    "pycharm": {
     "is_executing": false,
     "name": "#%%\n"
    }
   },
   "outputs": [],
   "source": [
    "# feature generator 3\n",
    "def gender_features3(name):\n",
    "    # last letter, first letter, vowel last/first letter\n",
    "    first_letter = name[0]\n",
    "    vowel_first_letter = first_letter in 'aeiou'\n",
    "    last_letter = name[-1]\n",
    "    vowel_last_letter = last_letter in 'aeiou'\n",
    "    \n",
    "    # last two letters\n",
    "    last_two = name[-2:]\n",
    "    \n",
    "    return {\n",
    "        'first_letter': first_letter,\n",
    "        'vowel_first_letter': vowel_first_letter,\n",
    "        'vowel_last_letter': vowel_last_letter,\n",
    "        'last_two': last_two\n",
    "    }"
   ]
  },
  {
   "cell_type": "markdown",
   "metadata": {},
   "source": [
    "We needed to reshuffle and re-split the data again."
   ]
  },
  {
   "cell_type": "code",
   "execution_count": 220,
   "metadata": {},
   "outputs": [],
   "source": [
    "# shuffle the dev_set_names to get a new split\n",
    "random.seed(50)\n",
    "random.shuffle(dev_set_names)\n",
    "\n",
    "# split the development set into training and test sets\n",
    "train_names = dev_set_names[:500]\n",
    "devtest_names = dev_set_names[500:]\n",
    "\n",
    "# apply feature generation function\n",
    "test_set = [(gender_features3(name), gender) for name, gender in test_names]\n",
    "train_set = [(gender_features3(name), gender) for name, gender in train_names]\n",
    "devtest_set = [(gender_features3(name), gender) for name, gender in devtest_names]"
   ]
  },
  {
   "cell_type": "markdown",
   "metadata": {},
   "source": [
    "We refit the model again using our further refined list of potential features.  "
   ]
  },
  {
   "cell_type": "code",
   "execution_count": 221,
   "metadata": {},
   "outputs": [],
   "source": [
    "classifier3 = DecisionTreeClassifier.train(train_set)"
   ]
  },
  {
   "cell_type": "code",
   "execution_count": 222,
   "metadata": {},
   "outputs": [
    {
     "data": {
      "text/plain": [
       "'Accuracy: 0.73'"
      ]
     },
     "execution_count": 222,
     "metadata": {},
     "output_type": "execute_result"
    }
   ],
   "source": [
    "'Accuracy: %4.2f' % classify.accuracy(classifier3, devtest_set)"
   ]
  },
  {
   "cell_type": "markdown",
   "metadata": {},
   "source": [
    "Our final model resulted in a much improved accuracy in the range of 0.69 to 0.73 depending on the random seeed selected.  "
   ]
  },
  {
   "cell_type": "code",
   "execution_count": 223,
   "metadata": {
    "scrolled": true
   },
   "outputs": [
    {
     "name": "stdout",
     "output_type": "stream",
     "text": [
      "correct=male     guess=female   name=adger                         \n",
      "correct=male     guess=female   name=aleck                         \n",
      "correct=male     guess=female   name=alessandro                    \n",
      "correct=male     guess=female   name=alexei                        \n",
      "correct=male     guess=female   name=andy                          \n",
      "correct=male     guess=female   name=anson                         \n",
      "correct=male     guess=female   name=antonio                       \n",
      "correct=male     guess=female   name=aristotle                     \n",
      "correct=male     guess=female   name=arnoldo                       \n",
      "correct=male     guess=female   name=aubert                        \n",
      "correct=male     guess=female   name=augie                         \n",
      "correct=male     guess=female   name=barnaby                       \n",
      "correct=male     guess=female   name=barnett                       \n",
      "correct=male     guess=female   name=bartel                        \n",
      "correct=male     guess=female   name=bartie                        \n",
      "correct=male     guess=female   name=barton                        \n",
      "correct=male     guess=female   name=batholomew                    \n",
      "correct=male     guess=female   name=bertrand                      \n",
      "correct=male     guess=female   name=cal                           \n",
      "correct=male     guess=female   name=carmine                       \n",
      "correct=male     guess=female   name=cary                          \n",
      "correct=male     guess=female   name=cesar                         \n",
      "correct=male     guess=female   name=chaddy                        \n",
      "correct=male     guess=female   name=chaunce                       \n",
      "correct=male     guess=female   name=chen                          \n",
      "correct=male     guess=female   name=clarance                      \n",
      "correct=male     guess=female   name=colin                         \n",
      "correct=male     guess=female   name=conan                         \n",
      "correct=male     guess=female   name=corby                         \n",
      "correct=male     guess=female   name=costa                         \n",
      "correct=male     guess=female   name=craig                         \n",
      "correct=male     guess=female   name=cy                            \n",
      "correct=male     guess=female   name=damien                        \n",
      "correct=male     guess=female   name=darian                        \n",
      "correct=male     guess=female   name=derk                          \n",
      "correct=male     guess=female   name=derron                        \n",
      "correct=male     guess=female   name=desmond                       \n",
      "correct=male     guess=female   name=devin                         \n",
      "correct=male     guess=female   name=dimitris                      \n",
      "correct=male     guess=female   name=douglis                       \n",
      "correct=male     guess=female   name=dryke                         \n",
      "correct=male     guess=female   name=ed                            \n",
      "correct=male     guess=female   name=elihu                         \n",
      "correct=male     guess=female   name=eliot                         \n",
      "correct=male     guess=female   name=ely                           \n",
      "correct=male     guess=female   name=emmery                        \n",
      "correct=male     guess=female   name=erik                          \n",
      "correct=male     guess=female   name=eugen                         \n",
      "correct=male     guess=female   name=everett                       \n",
      "correct=male     guess=female   name=ezra                          \n",
      "correct=male     guess=female   name=federico                      \n",
      "correct=male     guess=female   name=fleming                       \n",
      "correct=male     guess=female   name=frans                         \n",
      "correct=male     guess=female   name=frederich                     \n",
      "correct=male     guess=female   name=garey                         \n",
      "correct=male     guess=female   name=garrett                       \n",
      "correct=male     guess=female   name=gerri                         \n",
      "correct=male     guess=female   name=gifford                       \n",
      "correct=male     guess=female   name=gill                          \n",
      "correct=male     guess=female   name=godart                        \n",
      "correct=male     guess=female   name=goose                         \n",
      "correct=male     guess=female   name=gregor                        \n",
      "correct=male     guess=female   name=guillaume                     \n",
      "correct=male     guess=female   name=gustavo                       \n",
      "correct=male     guess=female   name=guthrie                       \n",
      "correct=male     guess=female   name=haleigh                       \n",
      "correct=male     guess=female   name=hammad                        \n",
      "correct=male     guess=female   name=harlin                        \n",
      "correct=male     guess=female   name=harmon                        \n",
      "correct=male     guess=female   name=harold                        \n",
      "correct=male     guess=female   name=harvard                       \n",
      "correct=male     guess=female   name=haskel                        \n",
      "correct=male     guess=female   name=hersch                        \n",
      "correct=male     guess=female   name=hillel                        \n",
      "correct=male     guess=female   name=hiralal                       \n",
      "correct=male     guess=female   name=huntington                    \n",
      "correct=male     guess=female   name=jean-pierre                   \n",
      "correct=male     guess=female   name=jeb                           \n",
      "correct=male     guess=female   name=jens                          \n",
      "correct=male     guess=female   name=jeramie                       \n",
      "correct=male     guess=female   name=jermaine                      \n",
      "correct=male     guess=female   name=joachim                       \n",
      "correct=male     guess=female   name=joao                          \n",
      "correct=male     guess=female   name=johan                         \n",
      "correct=male     guess=female   name=jordan                        \n",
      "correct=male     guess=female   name=juergen                       \n",
      "correct=male     guess=female   name=julian                        \n",
      "correct=male     guess=female   name=kalvin                        \n",
      "correct=male     guess=female   name=kenyon                        \n",
      "correct=male     guess=female   name=kincaid                       \n",
      "correct=male     guess=female   name=konstantin                    \n",
      "correct=male     guess=female   name=kostas                        \n",
      "correct=male     guess=female   name=laurance                      \n",
      "correct=male     guess=female   name=laurie                        \n",
      "correct=male     guess=female   name=lazar                         \n",
      "correct=male     guess=female   name=levin                         \n",
      "correct=male     guess=female   name=levy                          \n",
      "correct=male     guess=female   name=logan                         \n",
      "correct=male     guess=female   name=lovell                        \n",
      "correct=male     guess=female   name=marc                          \n",
      "correct=male     guess=female   name=marsh                         \n",
      "correct=male     guess=female   name=marshall                      \n",
      "correct=male     guess=female   name=marwin                        \n",
      "correct=male     guess=female   name=matteo                        \n",
      "correct=male     guess=female   name=matthus                       \n",
      "correct=male     guess=female   name=maxfield                      \n",
      "correct=male     guess=female   name=maximilian                    \n",
      "correct=male     guess=female   name=merwin                        \n",
      "correct=male     guess=female   name=mike                          \n",
      "correct=male     guess=female   name=mitchael                      \n",
      "correct=male     guess=female   name=mohamed                       \n",
      "correct=male     guess=female   name=murdock                       \n",
      "correct=male     guess=female   name=neale                         \n",
      "correct=male     guess=female   name=neron                         \n",
      "correct=male     guess=female   name=niall                         \n",
      "correct=male     guess=female   name=nils                          \n",
      "correct=male     guess=female   name=nilson                        \n",
      "correct=male     guess=female   name=oran                          \n",
      "correct=male     guess=female   name=padraig                       \n",
      "correct=male     guess=female   name=park                          \n",
      "correct=male     guess=female   name=philip                        \n",
      "correct=male     guess=female   name=phillip                       \n",
      "correct=male     guess=female   name=phillipp                      \n",
      "correct=male     guess=female   name=phineas                       \n",
      "correct=male     guess=female   name=pieter                        \n",
      "correct=male     guess=female   name=pip                           \n",
      "correct=male     guess=female   name=puff                          \n",
      "correct=male     guess=female   name=randie                        \n",
      "correct=male     guess=female   name=raynor                        \n",
      "correct=male     guess=female   name=reggie                        \n",
      "correct=male     guess=female   name=reilly                        \n",
      "correct=male     guess=female   name=remington                     \n",
      "correct=male     guess=female   name=rich                          \n",
      "correct=male     guess=female   name=roarke                        \n",
      "correct=male     guess=female   name=rock                          \n",
      "correct=male     guess=female   name=roderic                       \n",
      "correct=male     guess=female   name=rodger                        \n",
      "correct=male     guess=female   name=roland                        \n",
      "correct=male     guess=female   name=royce                         \n",
      "correct=male     guess=female   name=salomone                      \n",
      "correct=male     guess=female   name=scotti                        \n",
      "correct=male     guess=female   name=shamus                        \n",
      "correct=male     guess=female   name=shaughn                       \n",
      "correct=male     guess=female   name=sherlock                      \n",
      "correct=male     guess=female   name=sherwood                      \n",
      "correct=male     guess=female   name=sholom                        \n",
      "correct=male     guess=female   name=sidney                        \n",
      "correct=male     guess=female   name=skippie                       \n",
      "correct=male     guess=female   name=smith                         \n",
      "correct=male     guess=female   name=spencer                       \n",
      "correct=male     guess=female   name=spiros                        \n",
      "correct=male     guess=female   name=stanton                       \n",
      "correct=male     guess=female   name=sturgis                       \n",
      "correct=male     guess=female   name=taddeo                        \n",
      "correct=male     guess=female   name=talbot                        \n",
      "correct=male     guess=female   name=tanny                         \n",
      "correct=male     guess=female   name=terrell                       \n",
      "correct=male     guess=female   name=theophyllus                   \n",
      "correct=male     guess=female   name=tim                           \n",
      "correct=male     guess=female   name=tomlin                        \n",
      "correct=male     guess=female   name=trever                        \n",
      "correct=male     guess=female   name=upton                         \n",
      "correct=male     guess=female   name=urbanus                       \n",
      "correct=male     guess=female   name=vaclav                        \n",
      "correct=male     guess=female   name=venkat                        \n",
      "correct=male     guess=female   name=vincent                       \n",
      "correct=male     guess=female   name=vinnie                        \n",
      "correct=male     guess=female   name=vinny                         \n",
      "correct=male     guess=female   name=wain                          \n",
      "correct=male     guess=female   name=wat                           \n",
      "correct=male     guess=female   name=waverley                      \n",
      "correct=male     guess=female   name=webb                          \n",
      "correct=male     guess=female   name=welbie                        \n",
      "correct=male     guess=female   name=weylin                        \n",
      "correct=male     guess=female   name=wilmar                        \n",
      "correct=male     guess=female   name=woodman                       \n",
      "correct=male     guess=female   name=wynton                        \n",
      "correct=male     guess=female   name=xever                         \n",
      "correct=male     guess=female   name=yuri                          \n"
     ]
    }
   ],
   "source": [
    "errors = error_list(devtest_names, gender_features3)"
   ]
  },
  {
   "cell_type": "markdown",
   "metadata": {},
   "source": [
    "Error analysis shows another potential feature.  There are many female names ending in elle.  Creating a boolean for this may improve our results.  "
   ]
  },
  {
   "cell_type": "code",
   "execution_count": 224,
   "metadata": {
    "scrolled": true
   },
   "outputs": [
    {
     "name": "stdout",
     "output_type": "stream",
     "text": [
      "if last_two == 'ae': return 'female'\n",
      "if last_two == 'ah': return 'female'\n",
      "if last_two == 'aj': return 'male'\n",
      "if last_two == 'al': \n",
      "  if first_letter == 'h': return 'male'\n",
      "  if first_letter == 'i': return 'female'\n",
      "  if first_letter == 'k': return 'female'\n",
      "  if first_letter == 'p': return 'male'\n",
      "  if first_letter == 'v': return 'female'\n",
      "if last_two == 'am': \n",
      "  if first_letter == 'h': return 'male'\n",
      "  if first_letter == 'p': return 'male'\n",
      "  if first_letter == 's': return 'female'\n",
      "  if first_letter == 'w': return 'male'\n",
      "if last_two == 'an': \n",
      "  if first_letter == 'c': return 'male'\n",
      "  if first_letter == 'd': return 'female'\n",
      "  if first_letter == 'h': return 'male'\n",
      "  if first_letter == 'j': return 'male'\n",
      "  if first_letter == 'l': return 'female'\n",
      "  if first_letter == 'm': return 'female'\n",
      "  if first_letter == 's': return 'male'\n",
      "if last_two == 'ar': return 'male'\n",
      "if last_two == 'as': return 'male'\n",
      "if last_two == 'at': \n",
      "  if first_letter == 'b': return 'male'\n",
      "  if first_letter == 'c': return 'female'\n",
      "if last_two == 'au': return 'female'\n",
      "if last_two == 'aw': return 'male'\n",
      "if last_two == 'ay': return 'male'\n",
      "if last_two == 'ba': return 'female'\n",
      "if last_two == 'be': return 'male'\n",
      "if last_two == 'bi': return 'female'\n",
      "if last_two == 'by': \n",
      "  if first_letter == 'a': return 'male'\n",
      "  if first_letter == 'l': return 'female'\n",
      "if last_two == 'ca': return 'female'\n",
      "if last_two == 'ce': \n",
      "  if first_letter == 'b': return 'male'\n",
      "  if first_letter == 'c': return 'female'\n",
      "  if first_letter == 'e': return 'female'\n",
      "  if first_letter == 'j': return 'female'\n",
      "  if first_letter == 'k': return 'female'\n",
      "  if first_letter == 'l': return 'male'\n",
      "  if first_letter == 'p': return 'male'\n",
      "  if first_letter == 't': return 'male'\n",
      "if last_two == 'ch': return 'male'\n",
      "if last_two == 'ci': return 'female'\n",
      "if last_two == 'ck': return 'male'\n",
      "if last_two == 'co': return 'male'\n",
      "if last_two == 'cy': \n",
      "  if first_letter == 'd': return 'male'\n",
      "  if first_letter == 't': return 'female'\n",
      "if last_two == 'da': return 'female'\n",
      "if last_two == 'di': return 'female'\n",
      "if last_two == 'do': return 'male'\n",
      "if last_two == 'ds': return 'male'\n",
      "if last_two == 'dt': return 'male'\n",
      "if last_two == 'dy': \n",
      "  if first_letter == 'e': return 'female'\n",
      "  if first_letter == 'j': return 'male'\n",
      "  if first_letter == 'p': return 'female'\n",
      "if last_two == 'ea': return 'female'\n",
      "if last_two == 'ed': return 'male'\n",
      "if last_two == 'ee': \n",
      "  if first_letter == 'a': return 'female'\n",
      "  if first_letter == 'd': return 'female'\n",
      "  if first_letter == 'e': return 'female'\n",
      "  if first_letter == 'm': return 'female'\n",
      "  if first_letter == 'n': return 'female'\n",
      "  if first_letter == 'y': return 'male'\n",
      "if last_two == 'eh': return 'female'\n",
      "if last_two == 'el': \n",
      "  if first_letter == 'c': return 'female'\n",
      "  if first_letter == 'i': return 'male'\n",
      "  if first_letter == 'm': return 'female'\n",
      "  if first_letter == 'o': return 'female'\n",
      "  if first_letter == 's': return 'female'\n",
      "if last_two == 'em': \n",
      "  if first_letter == 'e': return 'female'\n",
      "  if first_letter == 'f': return 'male'\n",
      "  if first_letter == 'w': return 'male'\n",
      "if last_two == 'en': \n",
      "  if first_letter == 'a': return 'female'\n",
      "  if first_letter == 'g': return 'female'\n",
      "  if first_letter == 'h': return 'male'\n",
      "  if first_letter == 'j': return 'female'\n",
      "  if first_letter == 'k': return 'female'\n",
      "  if first_letter == 'l': return 'male'\n",
      "  if first_letter == 'm': return 'male'\n",
      "  if first_letter == 's': return 'male'\n",
      "if last_two == 'eo': return 'male'\n",
      "if last_two == 'er': \n",
      "  if first_letter == 'c': return 'male'\n",
      "  if first_letter == 'e': return 'female'\n",
      "  if first_letter == 'f': return 'male'\n",
      "  if first_letter == 'g': return 'male'\n",
      "  if first_letter == 'h': return 'female'\n",
      "  if first_letter == 'm': return 'male'\n",
      "  if first_letter == 'n': return 'male'\n",
      "  if first_letter == 'p': return 'male'\n",
      "  if first_letter == 's': return 'male'\n",
      "if last_two == 'es': return 'male'\n",
      "if last_two == 'et': return 'female'\n",
      "if last_two == 'ey': \n",
      "  if first_letter == 'c': return 'female'\n",
      "  if first_letter == 'e': return 'female'\n",
      "  if first_letter == 'g': return 'male'\n",
      "  if first_letter == 'h': return 'male'\n",
      "  if first_letter == 'j': return 'male'\n",
      "  if first_letter == 'k': return 'female'\n",
      "  if first_letter == 'l': return 'female'\n",
      "  if first_letter == 'q': return 'male'\n",
      "  if first_letter == 't': return 'female'\n",
      "if last_two == 'ez': return 'female'\n",
      "if last_two == 'fe': return 'male'\n",
      "if last_two == 'ge': \n",
      "  if first_letter == 'a': return 'female'\n",
      "  if first_letter == 'm': return 'female'\n",
      "  if first_letter == 'v': return 'male'\n",
      "if last_two == 'gh': return 'male'\n",
      "if last_two == 'gi': return 'female'\n",
      "if last_two == 'gs': return 'male'\n",
      "if last_two == 'gy': return 'male'\n",
      "if last_two == 'ha': \n",
      "  if first_letter == 'e': return 'female'\n",
      "  if first_letter == 'l': return 'female'\n",
      "  if first_letter == 'p': return 'male'\n",
      "  if first_letter == 's': return 'female'\n",
      "  if first_letter == 't': return 'female'\n",
      "if last_two == 'he': return 'female'\n",
      "if last_two == 'ho': return 'male'\n",
      "if last_two == 'hu': return 'male'\n",
      "if last_two == 'ia': return 'female'\n",
      "if last_two == 'ic': return 'male'\n",
      "if last_two == 'id': \n",
      "  if first_letter == 'l': return 'male'\n",
      "  if first_letter == 's': return 'female'\n",
      "if last_two == 'ie': \n",
      "  if first_letter == 'a': return 'female'\n",
      "  if first_letter == 'b': return 'male'\n",
      "  if first_letter == 'c': return 'female'\n",
      "  if first_letter == 'd': return 'female'\n",
      "  if first_letter == 'f': return 'male'\n",
      "  if first_letter == 'g': return 'female'\n",
      "  if first_letter == 'j': return 'male'\n",
      "  if first_letter == 'k': return 'female'\n",
      "  if first_letter == 'l': return 'female'\n",
      "  if first_letter == 'm': return 'male'\n",
      "  if first_letter == 'n': return 'female'\n",
      "  if first_letter == 'p': return 'female'\n",
      "  if first_letter == 'r': return 'female'\n",
      "  if first_letter == 's': return 'female'\n",
      "  if first_letter == 't': return 'male'\n",
      "  if first_letter == 'v': return 'female'\n",
      "  if first_letter == 'w': return 'male'\n",
      "if last_two == 'il': return 'male'\n",
      "if last_two == 'in': \n",
      "  if first_letter == 'c': return 'female'\n",
      "  if first_letter == 'e': return 'male'\n",
      "  if first_letter == 'i': return 'male'\n",
      "  if first_letter == 'k': return 'female'\n",
      "  if first_letter == 'm': return 'male'\n",
      "  if first_letter == 't': return 'male'\n",
      "if last_two == 'ip': return 'male'\n",
      "if last_two == 'is': \n",
      "  if first_letter == 'a': return 'female'\n",
      "  if first_letter == 'c': return 'male'\n",
      "  if first_letter == 'd': return 'female'\n",
      "  if first_letter == 'p': return 'female'\n",
      "if last_two == 'ix': return 'female'\n",
      "if last_two == 'ja': return 'female'\n",
      "if last_two == 'ka': return 'female'\n",
      "if last_two == 'ki': \n",
      "  if first_letter == 'n': return 'female'\n",
      "  if first_letter == 'r': return 'male'\n",
      "if last_two == 'ko': return 'female'\n",
      "if last_two == 'ks': return 'female'\n",
      "if last_two == 'ky': return 'male'\n",
      "if last_two == 'la': return 'female'\n",
      "if last_two == 'ld': return 'male'\n",
      "if last_two == 'le': return 'female'\n",
      "if last_two == 'li': return 'female'\n",
      "if last_two == 'll': \n",
      "  if first_letter == 'h': return 'male'\n",
      "  if first_letter == 'k': return 'male'\n",
      "  if first_letter == 's': return 'female'\n",
      "  if first_letter == 'u': return 'male'\n",
      "if last_two == 'lm': return 'male'\n",
      "if last_two == 'lo': return 'male'\n",
      "if last_two == 'ly': return 'female'\n",
      "if last_two == 'ma': return 'female'\n",
      "if last_two == 'me': return 'female'\n",
      "if last_two == 'mi': return 'female'\n",
      "if last_two == 'mo': return 'male'\n",
      "if last_two == 'my': \n",
      "  if first_letter == 'j': return 'male'\n",
      "  if first_letter == 'k': return 'female'\n",
      "  if first_letter == 'r': return 'female'\n",
      "if last_two == 'na': return 'female'\n",
      "if last_two == 'nd': return 'male'\n",
      "if last_two == 'ne': \n",
      "  if first_letter == 'a': return 'female'\n",
      "  if first_letter == 'c': return 'female'\n",
      "  if first_letter == 'd': return 'female'\n",
      "  if first_letter == 'e': return 'female'\n",
      "  if first_letter == 'g': return 'female'\n",
      "  if first_letter == 'h': return 'female'\n",
      "  if first_letter == 'j': return 'female'\n",
      "  if first_letter == 'k': return 'female'\n",
      "  if first_letter == 'l': return 'female'\n",
      "  if first_letter == 'm': return 'female'\n",
      "  if first_letter == 'r': return 'female'\n",
      "  if first_letter == 's': return 'male'\n",
      "  if first_letter == 't': return 'female'\n",
      "if last_two == 'ng': return 'male'\n",
      "if last_two == 'ni': return 'female'\n",
      "if last_two == 'nk': return 'male'\n",
      "if last_two == 'nn': \n",
      "  if first_letter == 'c': return 'female'\n",
      "  if first_letter == 'h': return 'male'\n",
      "  if first_letter == 'm': return 'female'\n",
      "  if first_letter == 'w': return 'male'\n",
      "if last_two == 'ns': return 'male'\n",
      "if last_two == 'nt': \n",
      "  if first_letter == 'm': return 'female'\n",
      "  if first_letter == 's': return 'male'\n",
      "if last_two == 'ny': \n",
      "  if first_letter == 'd': return 'female'\n",
      "  if first_letter == 'l': return 'male'\n",
      "  if first_letter == 'p': return 'female'\n",
      "  if first_letter == 't': return 'male'\n",
      "if last_two == 'od': return 'male'\n",
      "if last_two == 'on': \n",
      "  if first_letter == 'b': return 'male'\n",
      "  if first_letter == 'c': return 'female'\n",
      "  if first_letter == 'd': return 'male'\n",
      "  if first_letter == 'e': return 'male'\n",
      "  if first_letter == 'g': return 'male'\n",
      "  if first_letter == 'j': return 'male'\n",
      "  if first_letter == 'k': return 'male'\n",
      "  if first_letter == 'l': return 'male'\n",
      "  if first_letter == 'm': return 'female'\n",
      "  if first_letter == 'n': return 'male'\n",
      "  if first_letter == 'p': return 'male'\n",
      "  if first_letter == 't': return 'male'\n",
      "  if first_letter == 'w': return 'male'\n",
      "if last_two == 'op': return 'male'\n",
      "if last_two == 'or': \n",
      "  if first_letter == 'e': return 'female'\n",
      "  if first_letter == 'i': return 'male'\n",
      "  if first_letter == 's': return 'male'\n",
      "  if first_letter == 't': return 'male'\n",
      "if last_two == 'os': return 'male'\n",
      "if last_two == 'ot': return 'male'\n",
      "if last_two == 'ox': return 'male'\n",
      "if last_two == 'ph': return 'male'\n",
      "if last_two == 'pi': return 'female'\n",
      "if last_two == 'py': \n",
      "  if first_letter == 'p': return 'female'\n",
      "  if first_letter == 's': return 'male'\n",
      "if last_two == 'ra': return 'female'\n",
      "if last_two == 'rd': return 'male'\n",
      "if last_two == 're': return 'male'\n",
      "if last_two == 'ri': \n",
      "  if first_letter == 'b': return 'male'\n",
      "  if first_letter == 'f': return 'female'\n",
      "  if first_letter == 'm': return 'female'\n",
      "if last_two == 'rn': return 'male'\n",
      "if last_two == 'ro': \n",
      "  if first_letter == 'c': return 'female'\n",
      "  if first_letter == 's': return 'male'\n",
      "  if first_letter == 'z': return 'male'\n",
      "if last_two == 'rt': return 'male'\n",
      "if last_two == 'rv': return 'male'\n",
      "if last_two == 'ry': \n",
      "  if first_letter == 'd': return 'female'\n",
      "  if first_letter == 'f': return 'female'\n",
      "  if first_letter == 'g': return 'male'\n",
      "  if first_letter == 'm': return 'female'\n",
      "  if first_letter == 'v': return 'female'\n",
      "if last_two == 'sa': return 'female'\n",
      "if last_two == 'se': return 'female'\n",
      "if last_two == 'sh': \n",
      "  if first_letter == 'h': return 'male'\n",
      "  if first_letter == 't': return 'female'\n",
      "if last_two == 'si': return 'female'\n",
      "if last_two == 'so': return 'male'\n",
      "if last_two == 'ss': return 'female'\n",
      "if last_two == 'sy': \n",
      "  if first_letter == 'k': return 'female'\n",
      "  if first_letter == 'm': return 'male'\n",
      "  if first_letter == 'p': return 'male'\n",
      "  if first_letter == 't': return 'female'\n",
      "if last_two == 'ta': \n",
      "  if first_letter == 'a': return 'female'\n",
      "  if first_letter == 'e': return 'female'\n",
      "  if first_letter == 'g': return 'female'\n",
      "  if first_letter == 'h': return 'female'\n",
      "  if first_letter == 'i': return 'female'\n",
      "  if first_letter == 'k': return 'female'\n",
      "  if first_letter == 'l': return 'female'\n",
      "  if first_letter == 'm': return 'male'\n",
      "  if first_letter == 'n': return 'female'\n",
      "if last_two == 'te': return 'female'\n",
      "if last_two == 'th': return 'male'\n",
      "if last_two == 'ti': return 'female'\n",
      "if last_two == 'to': return 'male'\n",
      "if last_two == 'ts': return 'male'\n",
      "if last_two == 'tt': return 'female'\n",
      "if last_two == 'ty': return 'female'\n",
      "if last_two == 'ue': return 'female'\n",
      "if last_two == 'us': return 'male'\n",
      "if last_two == 'va': return 'female'\n",
      "if last_two == 've': return 'male'\n",
      "if last_two == 'vi': return 'male'\n",
      "if last_two == 'xi': return 'female'\n",
      "if last_two == 'ya': return 'female'\n",
      "if last_two == 'ye': return 'male'\n",
      "if last_two == 'yl': return 'female'\n",
      "if last_two == 'yn': return 'female'\n",
      "if last_two == 'za': return 'female'\n",
      "\n"
     ]
    }
   ],
   "source": [
    "print(classifier3.pseudocode(depth=4))"
   ]
  },
  {
   "cell_type": "markdown",
   "metadata": {},
   "source": [
    "Looking at the pseudocode, we see that we still never go past two levels of nested if statements, but now the last_two is the most relevant feature with the first letter as the most frequent feature in the second depth level of the tree.  "
   ]
  },
  {
   "cell_type": "markdown",
   "metadata": {},
   "source": [
    "### Refine decision tree features - Fourth model"
   ]
  },
  {
   "cell_type": "markdown",
   "metadata": {},
   "source": [
    "We tried changing last_two to last_three.  First we revised our feature generator."
   ]
  },
  {
   "cell_type": "code",
   "execution_count": 225,
   "metadata": {
    "pycharm": {
     "is_executing": false,
     "name": "#%%\n"
    }
   },
   "outputs": [],
   "source": [
    "# feature generator\n",
    "def gender_features4(name):\n",
    "    # last letter, first letter, vowel last/first letter\n",
    "    first_letter = name[0]\n",
    "    vowel_first_letter = first_letter in 'aeiou'\n",
    "    last_letter = name[-1]\n",
    "    vowel_last_letter = last_letter in 'aeiou'\n",
    "    \n",
    "    # last three letters\n",
    "    last_three = name[-3:]\n",
    "       \n",
    "    return {\n",
    "        'first_letter': first_letter,\n",
    "        'vowel_first_letter': vowel_first_letter,\n",
    "        'vowel_last_letter': vowel_last_letter,\n",
    "        'last_three': last_three\n",
    "    }"
   ]
  },
  {
   "cell_type": "markdown",
   "metadata": {},
   "source": [
    "Then we reshuffled and re-split our development set."
   ]
  },
  {
   "cell_type": "code",
   "execution_count": 226,
   "metadata": {},
   "outputs": [],
   "source": [
    "# shuffle the dev_set_names to get a new split\n",
    "random.seed(75)\n",
    "random.shuffle(dev_set_names)\n",
    "\n",
    "# split the development set into training and test sets\n",
    "train_names = dev_set_names[:500]\n",
    "devtest_names = dev_set_names[500:]\n",
    "\n",
    "# apply feature generation function\n",
    "test_set = [(gender_features4(name), gender) for name, gender in test_names]\n",
    "train_set = [(gender_features4(name), gender) for name, gender in train_names]\n",
    "devtest_set = [(gender_features4(name), gender) for name, gender in devtest_names]"
   ]
  },
  {
   "cell_type": "markdown",
   "metadata": {},
   "source": [
    "Then we refit our model to the new datasets."
   ]
  },
  {
   "cell_type": "code",
   "execution_count": 227,
   "metadata": {},
   "outputs": [],
   "source": [
    "classifier4 = DecisionTreeClassifier.train(train_set)"
   ]
  },
  {
   "cell_type": "code",
   "execution_count": 228,
   "metadata": {},
   "outputs": [
    {
     "data": {
      "text/plain": [
       "'Accuracy: 0.65'"
      ]
     },
     "execution_count": 228,
     "metadata": {},
     "output_type": "execute_result"
    }
   ],
   "source": [
    "'Accuracy: %4.2f' % classify.accuracy(classifier4, devtest_set)"
   ]
  },
  {
   "cell_type": "markdown",
   "metadata": {},
   "source": [
    "Changing the last_two feature to last_three reduced the accuracy of our model significantly, so our prevvious model still seems to be our best.    "
   ]
  },
  {
   "cell_type": "code",
   "execution_count": 229,
   "metadata": {
    "scrolled": true
   },
   "outputs": [
    {
     "name": "stdout",
     "output_type": "stream",
     "text": [
      "if last_three == 'aby': return 'male'\n",
      "if last_three == 'aid': return 'male'\n",
      "if last_three == 'ail': return 'female'\n",
      "if last_three == 'ain': return 'male'\n",
      "if last_three == 'aja': return 'female'\n",
      "if last_three == 'all': return 'male'\n",
      "if last_three == 'ami': return 'female'\n",
      "if last_three == 'ana': return 'female'\n",
      "if last_three == 'and': \n",
      "  if first_letter == 'a': return 'male'\n",
      "  if first_letter == 'b': return 'male'\n",
      "  if first_letter == 'f': return 'female'\n",
      "  if first_letter == 'r': return 'male'\n",
      "if last_three == 'ane': return 'female'\n",
      "if last_three == 'ang': return 'male'\n",
      "if last_three == 'ank': return 'female'\n",
      "if last_three == 'ann': \n",
      "  if first_letter == 'h': return 'male'\n",
      "  if first_letter == 'j': return 'female'\n",
      "if last_three == 'ard': return 'male'\n",
      "if last_three == 'are': return 'male'\n",
      "if last_three == 'aro': return 'female'\n",
      "if last_three == 'arv': return 'male'\n",
      "if last_three == 'ary': return 'male'\n",
      "if last_three == 'ata': return 'female'\n",
      "if last_three == 'aun': return 'female'\n",
      "if last_three == 'ave': return 'male'\n",
      "if last_three == 'avi': return 'male'\n",
      "if last_three == 'awn': return 'female'\n",
      "if last_three == 'axi': return 'female'\n",
      "if last_three == 'bel': return 'female'\n",
      "if last_three == 'bet': return 'female'\n",
      "if last_three == 'bhu': return 'male'\n",
      "if last_three == 'bie': \n",
      "  if first_letter == 'c': return 'male'\n",
      "  if first_letter == 'r': return 'female'\n",
      "if last_three == 'bin': return 'male'\n",
      "if last_three == 'byn': return 'female'\n",
      "if last_three == 'cal': return 'male'\n",
      "if last_three == 'cat': return 'female'\n",
      "if last_three == 'cey': return 'female'\n",
      "if last_three == 'cha': return 'female'\n",
      "if last_three == 'che': return 'female'\n",
      "if last_three == 'cia': return 'female'\n",
      "if last_three == 'cie': return 'female'\n",
      "if last_three == 'cki': return 'female'\n",
      "if last_three == 'cky': return 'female'\n",
      "if last_three == 'cyb': return 'female'\n",
      "if last_three == 'dan': return 'male'\n",
      "if last_three == 'day': return 'female'\n",
      "if last_three == 'dea': return 'female'\n",
      "if last_three == 'dee': return 'female'\n",
      "if last_three == 'del': return 'female'\n",
      "if last_three == 'dge': return 'female'\n",
      "if last_three == 'die': return 'female'\n",
      "if last_three == 'dor': return 'male'\n",
      "if last_three == 'dra': return 'female'\n",
      "if last_three == 'dro': return 'male'\n",
      "if last_three == 'dry': return 'female'\n",
      "if last_three == 'ean': return 'female'\n",
      "if last_three == 'eau': return 'female'\n",
      "if last_three == 'ed': return 'male'\n",
      "if last_three == 'eda': return 'female'\n",
      "if last_three == 'edy': return 'female'\n",
      "if last_three == 'een': return 'female'\n",
      "if last_three == 'eil': return 'male'\n",
      "if last_three == 'ela': return 'female'\n",
      "if last_three == 'eld': return 'male'\n",
      "if last_three == 'ell': return 'male'\n",
      "if last_three == 'ely': return 'female'\n",
      "if last_three == 'em': return 'female'\n",
      "if last_three == 'ena': return 'female'\n",
      "if last_three == 'ene': return 'female'\n",
      "if last_three == 'enn': return 'female'\n",
      "if last_three == 'ens': return 'male'\n",
      "if last_three == 'ent': return 'male'\n",
      "if last_three == 'epi': return 'female'\n",
      "if last_three == 'era': return 'female'\n",
      "if last_three == 'erk': return 'male'\n",
      "if last_three == 'ern': return 'female'\n",
      "if last_three == 'ert': \n",
      "  if first_letter == 'a': return 'male'\n",
      "  if first_letter == 'n': return 'female'\n",
      "  if first_letter == 'r': return 'male'\n",
      "if last_three == 'ery': \n",
      "  if first_letter == 'e': return 'male'\n",
      "  if first_letter == 'v': return 'female'\n",
      "if last_three == 'ese': return 'female'\n",
      "if last_three == 'eta': return 'female'\n",
      "if last_three == 'ett': return 'male'\n",
      "if last_three == 'eus': return 'male'\n",
      "if last_three == 'eve': return 'female'\n",
      "if last_three == 'evy': return 'male'\n",
      "if last_three == 'fen': return 'male'\n",
      "if last_three == 'ffy': return 'female'\n",
      "if last_three == 'flo': return 'female'\n",
      "if last_three == 'fry': return 'male'\n",
      "if last_three == 'gae': return 'female'\n",
      "if last_three == 'gan': return 'male'\n",
      "if last_three == 'gen': \n",
      "  if first_letter == 'g': return 'female'\n",
      "  if first_letter == 'j': return 'male'\n",
      "if last_three == 'gid': return 'female'\n",
      "if last_three == 'gie': \n",
      "  if first_letter == 'a': return 'male'\n",
      "  if first_letter == 'p': return 'female'\n",
      "  if first_letter == 'r': return 'male'\n",
      "if last_three == 'gor': return 'male'\n",
      "if last_three == 'gui': return 'female'\n",
      "if last_three == 'ham': return 'male'\n",
      "if last_three == 'han': \n",
      "  if first_letter == 'c': return 'male'\n",
      "  if first_letter == 'j': return 'male'\n",
      "  if first_letter == 'm': return 'female'\n",
      "if last_three == 'hby': return 'male'\n",
      "if last_three == 'hee': return 'female'\n",
      "if last_three == 'her': return 'female'\n",
      "if last_three == 'hie': return 'male'\n",
      "if last_three == 'hil': return 'male'\n",
      "if last_three == 'him': return 'male'\n",
      "if last_three == 'hon': return 'male'\n",
      "if last_three == 'hus': return 'male'\n",
      "if last_three == 'ial': return 'female'\n",
      "if last_three == 'ian': return 'male'\n",
      "if last_three == 'ias': return 'male'\n",
      "if last_three == 'ica': return 'female'\n",
      "if last_three == 'ice': \n",
      "  if first_letter == 'e': return 'female'\n",
      "  if first_letter == 'p': return 'male'\n",
      "if last_three == 'ich': return 'male'\n",
      "if last_three == 'ico': return 'male'\n",
      "if last_three == 'ida': return 'female'\n",
      "if last_three == 'idi': return 'female'\n",
      "if last_three == 'ien': return 'male'\n",
      "if last_three == 'igh': return 'male'\n",
      "if last_three == 'ihu': return 'male'\n",
      "if last_three == 'ika': return 'female'\n",
      "if last_three == 'iko': return 'female'\n",
      "if last_three == 'ila': return 'female'\n",
      "if last_three == 'imi': return 'female'\n",
      "if last_three == 'ina': return 'female'\n",
      "if last_three == 'ine': return 'female'\n",
      "if last_three == 'ion': return 'female'\n",
      "if last_three == 'iot': return 'male'\n",
      "if last_three == 'ipp': return 'male'\n",
      "if last_three == 'ira': return 'female'\n",
      "if last_three == 'ire': return 'female'\n",
      "if last_three == 'isa': return 'female'\n",
      "if last_three == 'ise': return 'female'\n",
      "if last_three == 'isi': return 'female'\n",
      "if last_three == 'ita': return 'female'\n",
      "if last_three == 'ith': return 'male'\n",
      "if last_three == 'ito': return 'male'\n",
      "if last_three == 'ius': return 'male'\n",
      "if last_three == 'jen': return 'female'\n",
      "if last_three == 'kah': return 'female'\n",
      "if last_three == 'kel': return 'male'\n",
      "if last_three == 'ki': return 'female'\n",
      "if last_three == 'kip': \n",
      "  if first_letter == 'k': return 'female'\n",
      "  if first_letter == 's': return 'male'\n",
      "if last_three == 'kki': \n",
      "  if first_letter == 'b': return 'female'\n",
      "  if first_letter == 'r': return 'male'\n",
      "if last_three == 'lal': return 'male'\n",
      "if last_three == 'lda': return 'female'\n",
      "if last_three == 'ldo': return 'male'\n",
      "if last_three == 'lea': return 'female'\n",
      "if last_three == 'lee': return 'female'\n",
      "if last_three == 'lem': return 'male'\n",
      "if last_three == 'les': return 'male'\n",
      "if last_three == 'lga': return 'female'\n",
      "if last_three == 'lia': return 'female'\n",
      "if last_three == 'lie': return 'female'\n",
      "if last_three == 'lin': return 'male'\n",
      "if last_three == 'lip': return 'male'\n",
      "if last_three == 'liz': return 'female'\n",
      "if last_three == 'lke': return 'female'\n",
      "if last_three == 'lla': return 'female'\n",
      "if last_three == 'lle': return 'female'\n",
      "if last_three == 'lli': return 'female'\n",
      "if last_three == 'llo': return 'male'\n",
      "if last_three == 'lly': return 'male'\n",
      "if last_three == 'lma': return 'female'\n",
      "if last_three == 'lom': return 'male'\n",
      "if last_three == 'lon': return 'female'\n",
      "if last_three == 'lph': return 'male'\n",
      "if last_three == 'lus': return 'male'\n",
      "if last_three == 'lyn': return 'female'\n",
      "if last_three == 'lys': return 'female'\n",
      "if last_three == 'man': return 'male'\n",
      "if last_three == 'mar': return 'male'\n",
      "if last_three == 'mas': return 'male'\n",
      "if last_three == 'med': return 'male'\n",
      "if last_three == 'mel': return 'female'\n",
      "if last_three == 'meo': return 'male'\n",
      "if last_three == 'mew': return 'male'\n",
      "if last_three == 'mie': return 'female'\n",
      "if last_three == 'min': return 'female'\n",
      "if last_three == 'mmo': return 'male'\n",
      "if last_three == 'mmy': return 'male'\n",
      "if last_three == 'mon': \n",
      "  if first_letter == 'd': return 'male'\n",
      "  if first_letter == 'r': return 'female'\n",
      "if last_three == 'mra': return 'female'\n",
      "if last_three == 'mus': return 'male'\n",
      "if last_three == 'nan': return 'male'\n",
      "if last_three == 'nce': return 'male'\n",
      "if last_three == 'nda': return 'female'\n",
      "if last_three == 'nde': return 'female'\n",
      "if last_three == 'ndi': return 'female'\n",
      "if last_three == 'nds': return 'male'\n",
      "if last_three == 'ner': return 'male'\n",
      "if last_three == 'nez': return 'female'\n",
      "if last_three == 'nge': return 'female'\n",
      "if last_three == 'nia': return 'female'\n",
      "if last_three == 'nid': return 'male'\n",
      "if last_three == 'nie': \n",
      "  if first_letter == 'b': return 'male'\n",
      "  if first_letter == 'd': return 'female'\n",
      "  if first_letter == 'f': return 'female'\n",
      "  if first_letter == 'l': return 'male'\n",
      "  if first_letter == 'r': return 'female'\n",
      "  if first_letter == 's': return 'female'\n",
      "  if first_letter == 't': return 'female'\n",
      "  if first_letter == 'v': return 'male'\n",
      "if last_three == 'nja': return 'female'\n",
      "if last_three == 'nna': return 'female'\n",
      "if last_three == 'nne': return 'female'\n",
      "if last_three == 'nni': return 'female'\n",
      "if last_three == 'nny': \n",
      "  if first_letter == 'd': return 'female'\n",
      "  if first_letter == 'g': return 'female'\n",
      "  if first_letter == 't': return 'male'\n",
      "  if first_letter == 'w': return 'female'\n",
      "if last_three == 'non': return 'female'\n",
      "if last_three == 'nor': \n",
      "  if first_letter == 'e': return 'female'\n",
      "  if first_letter == 'r': return 'male'\n",
      "if last_three == 'nos': return 'male'\n",
      "if last_three == 'nso': return 'male'\n",
      "if last_three == 'nsy': return 'female'\n",
      "if last_three == 'nta': return 'female'\n",
      "if last_three == 'nya': return 'female'\n",
      "if last_three == 'oao': return 'male'\n",
      "if last_three == 'oby': return 'female'\n",
      "if last_three == 'ock': return 'male'\n",
      "if last_three == 'oks': return 'female'\n",
      "if last_three == 'old': return 'male'\n",
      "if last_three == 'ole': return 'female'\n",
      "if last_three == 'ome': return 'female'\n",
      "if last_three == 'omi': return 'female'\n",
      "if last_three == 'ona': return 'female'\n",
      "if last_three == 'ond': return 'male'\n",
      "if last_three == 'one': \n",
      "  if first_letter == 'l': return 'female'\n",
      "  if first_letter == 's': return 'male'\n",
      "if last_three == 'ope': return 'female'\n",
      "if last_three == 'ord': return 'male'\n",
      "if last_three == 'ori': return 'female'\n",
      "if last_three == 'ort': return 'male'\n",
      "if last_three == 'ory': return 'female'\n",
      "if last_three == 'ott': return 'female'\n",
      "if last_three == 'ova': return 'female'\n",
      "if last_three == 'oya': return 'female'\n",
      "if last_three == 'pam': return 'female'\n",
      "if last_three == 'pha': return 'female'\n",
      "if last_three == 'pia': return 'female'\n",
      "if last_three == 'ppy': return 'female'\n",
      "if last_three == 'rah': return 'female'\n",
      "if last_three == 'ran': return 'male'\n",
      "if last_three == 'ray': return 'male'\n",
      "if last_three == 'rbe': return 'female'\n",
      "if last_three == 'rby': return 'male'\n",
      "if last_three == 'rce': return 'male'\n",
      "if last_three == 'rcy': return 'male'\n",
      "if last_three == 'rdo': return 'male'\n",
      "if last_three == 'rea': return 'female'\n",
      "if last_three == 'ree': return 'female'\n",
      "if last_three == 'rel': return 'female'\n",
      "if last_three == 'rew': return 'female'\n",
      "if last_three == 'rey': return 'male'\n",
      "if last_three == 'rge': return 'male'\n",
      "if last_three == 'rgy': return 'male'\n",
      "if last_three == 'ria': return 'female'\n",
      "if last_three == 'rie': \n",
      "  if first_letter == 'f': return 'female'\n",
      "  if first_letter == 'g': return 'male'\n",
      "  if first_letter == 'k': return 'female'\n",
      "  if first_letter == 'l': return 'female'\n",
      "  if first_letter == 's': return 'female'\n",
      "if last_three == 'rik': return 'male'\n",
      "if last_three == 'ril': return 'female'\n",
      "if last_three == 'ris': return 'male'\n",
      "if last_three == 'rit': return 'female'\n",
      "if last_three == 'rix': return 'female'\n",
      "if last_three == 'rly': return 'female'\n",
      "if last_three == 'rna': return 'female'\n",
      "if last_three == 'rod': return 'male'\n",
      "if last_three == 'ron': \n",
      "  if first_letter == 'c': return 'female'\n",
      "  if first_letter == 'd': return 'male'\n",
      "  if first_letter == 'n': return 'male'\n",
      "if last_three == 'rop': return 'male'\n",
      "if last_three == 'ros': return 'male'\n",
      "if last_three == 'rot': return 'male'\n",
      "if last_three == 'rre': return 'male'\n",
      "if last_three == 'rri': return 'female'\n",
      "if last_three == 'rro': return 'male'\n",
      "if last_three == 'rsa': return 'female'\n",
      "if last_three == 'rsh': return 'male'\n",
      "if last_three == 'rta': return 'female'\n",
      "if last_three == 'rte': return 'female'\n",
      "if last_three == 'rth': return 'male'\n",
      "if last_three == 'rue': return 'female'\n",
      "if last_three == 'rye': return 'female'\n",
      "if last_three == 'ryn': return 'female'\n",
      "if last_three == 'sam': return 'female'\n",
      "if last_three == 'sey': return 'male'\n",
      "if last_three == 'sha': return 'female'\n",
      "if last_three == 'sia': return 'female'\n",
      "if last_three == 'sie': return 'female'\n",
      "if last_three == 'ska': return 'female'\n",
      "if last_three == 'sma': return 'female'\n",
      "if last_three == 'son': return 'male'\n",
      "if last_three == 'ssa': return 'female'\n",
      "if last_three == 'ssi': return 'female'\n",
      "if last_three == 'sta': return 'female'\n",
      "if last_three == 'ste': return 'female'\n",
      "if last_three == 'sty': return 'female'\n",
      "if last_three == 'sya': return 'female'\n",
      "if last_three == 'tee': return 'female'\n",
      "if last_three == 'tel': return 'male'\n",
      "if last_three == 'ten': return 'female'\n",
      "if last_three == 'ter': return 'male'\n",
      "if last_three == 'the': return 'female'\n",
      "if last_three == 'thy': return 'female'\n",
      "if last_three == 'tie': return 'male'\n",
      "if last_three == 'tim': return 'male'\n",
      "if last_three == 'tin': \n",
      "  if first_letter == 'k': return 'male'\n",
      "  if first_letter == 'n': return 'female'\n",
      "if last_three == 'tle': return 'male'\n",
      "if last_three == 'ton': return 'male'\n",
      "if last_three == 'tra': return 'female'\n",
      "if last_three == 'tta': \n",
      "  if first_letter == 'a': return 'female'\n",
      "  if first_letter == 'c': return 'female'\n",
      "  if first_letter == 'e': return 'female'\n",
      "  if first_letter == 'm': return 'male'\n",
      "if last_three == 'tte': return 'female'\n",
      "if last_three == 'tty': return 'female'\n",
      "if last_three == 'ube': return 'male'\n",
      "if last_three == 'ude': return 'female'\n",
      "if last_three == 'uff': return 'male'\n",
      "if last_three == 'uka': return 'female'\n",
      "if last_three == 'ula': return 'female'\n",
      "if last_three == 'una': return 'female'\n",
      "if last_three == 'val': return 'female'\n",
      "if last_three == 'ven': return 'male'\n",
      "if last_three == 'via': return 'female'\n",
      "if last_three == 'vin': return 'male'\n",
      "if last_three == 'vra': return 'female'\n",
      "if last_three == 'win': return 'male'\n",
      "if last_three == 'yce': \n",
      "  if first_letter == 'b': return 'male'\n",
      "  if first_letter == 'j': return 'female'\n",
      "  if first_letter == 'p': return 'male'\n",
      "if last_three == 'yer': return 'male'\n",
      "if last_three == 'yna': return 'female'\n",
      "if last_three == 'yne': return 'female'\n",
      "if last_three == 'ynn': return 'female'\n",
      "if last_three == 'yon': return 'male'\n",
      "if last_three == 'yre': return 'female'\n",
      "if last_three == 'yth': return 'female'\n",
      "if last_three == 'zar': return 'male'\n",
      "if last_three == 'zra': return 'male'\n",
      "\n"
     ]
    }
   ],
   "source": [
    "print(classifier4.pseudocode(depth=4))"
   ]
  },
  {
   "cell_type": "markdown",
   "metadata": {},
   "source": [
    "Looking at the pseudocode, we see that we still never go past two levels of nested if statements, but now the last_three is the most relevant feature with the tree often never going beyond that depth indicating again that we are overfitting.  "
   ]
  },
  {
   "cell_type": "markdown",
   "metadata": {},
   "source": [
    "### Classify test data "
   ]
  },
  {
   "cell_type": "code",
   "execution_count": 230,
   "metadata": {},
   "outputs": [
    {
     "data": {
      "text/plain": [
       "'Accuracy: 0.63'"
      ]
     },
     "execution_count": 230,
     "metadata": {},
     "output_type": "execute_result"
    }
   ],
   "source": [
    "'Accuracy: %4.2f' % classify.accuracy(classifier, test_set)"
   ]
  },
  {
   "cell_type": "code",
   "execution_count": 231,
   "metadata": {},
   "outputs": [
    {
     "data": {
      "text/plain": [
       "'Accuracy: 0.37'"
      ]
     },
     "execution_count": 231,
     "metadata": {},
     "output_type": "execute_result"
    }
   ],
   "source": [
    "'Accuracy: %4.2f' % classify.accuracy(classifier2, test_set)"
   ]
  },
  {
   "cell_type": "code",
   "execution_count": 232,
   "metadata": {},
   "outputs": [
    {
     "data": {
      "text/plain": [
       "'Accuracy: 0.37'"
      ]
     },
     "execution_count": 232,
     "metadata": {},
     "output_type": "execute_result"
    }
   ],
   "source": [
    "'Accuracy: %4.2f' % classify.accuracy(classifier3, test_set)"
   ]
  },
  {
   "cell_type": "code",
   "execution_count": 233,
   "metadata": {},
   "outputs": [
    {
     "data": {
      "text/plain": [
       "'Accuracy: 0.67'"
      ]
     },
     "execution_count": 233,
     "metadata": {},
     "output_type": "execute_result"
    }
   ],
   "source": [
    "'Accuracy: %4.2f' % classify.accuracy(classifier4, test_set)"
   ]
  },
  {
   "cell_type": "markdown",
   "metadata": {},
   "source": [
    "Surprisingly the last model which uses the last three letters of the name as the main and often sole predictor is the most accurate on the test data.  The third model that we thought was our best is actually the worst performer.  \n",
    "\n",
    "Looking back at the pseudocode it became clear that the third model relied too heavily on the first letter at depth level 2 and since the data didn't have enough examples, there were many letters missing from the tree leaves.  So there are many dead ends in our model and when faced with new data the model wouldn't know how to classify them.  \n",
    "\n",
    "By comparison the fourth model relied almost exclusively on the last three letters, and apparently there are patterns in the ending trigram that are repeated often enough that it is a very good predictor."
   ]
  },
  {
   "cell_type": "markdown",
   "metadata": {},
   "source": [
    "## Maximum Entropy "
   ]
  },
  {
   "cell_type": "markdown",
   "metadata": {},
   "source": [
    "### Feature generation"
   ]
  },
  {
   "cell_type": "markdown",
   "metadata": {},
   "source": [
    "#### Feature generation function"
   ]
  },
  {
   "cell_type": "markdown",
   "metadata": {},
   "source": [
    "This function will be applied to our lists of names to create the features that we identified as potential predictors above in our initial model \"kitchen sink\" approach. As we refine the model we will also refine this function to include only the features that seem most relevant to our classifier. Vowel count, consonant count, and length have already been removed since they were found above to have no predictive value."
   ]
  },
  {
   "cell_type": "code",
   "execution_count": 234,
   "metadata": {},
   "outputs": [],
   "source": [
    "def gender_features(name):\n",
    "    \n",
    "    # last letter, first letter, vowel last/first letter\n",
    "    first_letter = name[0]\n",
    "    vowel_first_letter = first_letter in 'aeiou'\n",
    "    last_letter = name[-1]\n",
    "    vowel_last_letter = last_letter in 'aeiou'\n",
    "    \n",
    "    # vowels/consonants\n",
    "    vowels = \"\".join(sorted(list(set(re.sub(r'[^aeiou]', '', name)))))\n",
    "    consonants = \"\".join(sorted(list(set(re.sub(r'[aeiou]', '', name)))))\n",
    "    \n",
    "    # bigrams/trigrams\n",
    "    bigrams = (ngrams(name, 2))\n",
    "    trigrams = (ngrams(name, 3))\n",
    "    \n",
    "    # syllables\n",
    "    syllables = len(SSP.tokenize(name))\n",
    "    \n",
    "    return {\n",
    "        'first_letter': first_letter,\n",
    "        'vowel_first_letter': vowel_first_letter,\n",
    "        'last_letter': last_letter,\n",
    "        'vowel_last_letter': vowel_last_letter,\n",
    "        'vowels': vowels,\n",
    "        'consonants': consonants,\n",
    "        'bigrams': bigrams,\n",
    "        'trigrams': trigrams,\n",
    "        'syllables': syllables\n",
    "    }"
   ]
  },
  {
   "cell_type": "markdown",
   "metadata": {},
   "source": [
    "#### Training/test split and apply feature generation function."
   ]
  },
  {
   "cell_type": "code",
   "execution_count": 235,
   "metadata": {},
   "outputs": [],
   "source": [
    "# create each set of data\n",
    "final_test = all_names[:500]\n",
    "num_remaining = len(all_names) - 500\n",
    "training_and_dev_test = all_names[-num_remaining:]\n",
    "\n",
    "#Separate the training and dev test data.\n",
    "#We will call these \"dev_test1\" and \"training1\".\n",
    "\n",
    "dev_test1 = training_and_dev_test[:500]\n",
    "training1 = training_and_dev_test[500:]\n",
    "\n",
    "#Shuffle to create four additional training vs. dev-test splits.\n",
    "\n",
    "random.shuffle(training_and_dev_test)\n",
    "dev_test2 = training_and_dev_test[:500]\n",
    "training2 = training_and_dev_test[500:]\n",
    "\n",
    "random.shuffle(training_and_dev_test)\n",
    "dev_test3 = training_and_dev_test[:500]\n",
    "training3 = training_and_dev_test[500:]\n",
    "\n",
    "random.shuffle(training_and_dev_test)\n",
    "dev_test4 = training_and_dev_test[:500]\n",
    "training4 = training_and_dev_test[500:]\n",
    "\n",
    "random.shuffle(training_and_dev_test)\n",
    "dev_test5 = training_and_dev_test[:500]\n",
    "training5 = training_and_dev_test[500:]\n",
    "\n",
    "# apply feature generation function\n",
    "dev_test_features1 = [(gender_features(name), gender) for name, gender in dev_test1]\n",
    "training_features1 = [(gender_features(name), gender) for name, gender in training1]\n",
    "\n",
    "dev_test_features2 = [(gender_features(name), gender) for name, gender in dev_test2]\n",
    "training_features2 = [(gender_features(name), gender) for name, gender in training2]\n",
    "\n",
    "dev_test_features3 = [(gender_features(name), gender) for name, gender in dev_test3]\n",
    "training_features3 = [(gender_features(name), gender) for name, gender in training3]\n",
    "\n",
    "dev_test_features4 = [(gender_features(name), gender) for name, gender in dev_test4]\n",
    "training_features4 = [(gender_features(name), gender) for name, gender in training4]\n",
    "\n",
    "dev_test_features5 = [(gender_features(name), gender) for name, gender in dev_test5]\n",
    "training_features5 = [(gender_features(name), gender) for name, gender in training5]"
   ]
  },
  {
   "cell_type": "markdown",
   "metadata": {},
   "source": [
    "### Apply model"
   ]
  },
  {
   "cell_type": "markdown",
   "metadata": {},
   "source": [
    "#### Initial model"
   ]
  },
  {
   "cell_type": "markdown",
   "metadata": {},
   "source": [
    "Now that we have all our features and have run training/test split, we are ready to apply the model.\n",
    "\n",
    "In this notebook, we will be using the maximum entropy model.\n",
    "\n",
    "Run using a few different training/test splits to get a range of accuracy values."
   ]
  },
  {
   "cell_type": "code",
   "execution_count": 236,
   "metadata": {},
   "outputs": [
    {
     "name": "stdout",
     "output_type": "stream",
     "text": [
      "  ==> Training (100 iterations)\n",
      "  ==> Training (100 iterations)\n",
      "  ==> Training (100 iterations)\n",
      "  ==> Training (100 iterations)\n",
      "  ==> Training (100 iterations)\n"
     ]
    }
   ],
   "source": [
    "classifier1v1 = nltk.MaxentClassifier.train(training_features1,trace=1)\n",
    "classifier2v1 = nltk.MaxentClassifier.train(training_features2,trace=1)\n",
    "classifier3v1 = nltk.MaxentClassifier.train(training_features3,trace=1)\n",
    "classifier4v1 = nltk.MaxentClassifier.train(training_features4,trace=1)\n",
    "classifier5v1 = nltk.MaxentClassifier.train(training_features5,trace=1)"
   ]
  },
  {
   "cell_type": "markdown",
   "metadata": {},
   "source": [
    "Check the accuracy of this model on our dev test data."
   ]
  },
  {
   "cell_type": "code",
   "execution_count": 237,
   "metadata": {},
   "outputs": [
    {
     "data": {
      "text/plain": [
       "0.798"
      ]
     },
     "execution_count": 237,
     "metadata": {},
     "output_type": "execute_result"
    },
    {
     "data": {
      "text/plain": [
       "0.77"
      ]
     },
     "execution_count": 237,
     "metadata": {},
     "output_type": "execute_result"
    },
    {
     "data": {
      "text/plain": [
       "0.778"
      ]
     },
     "execution_count": 237,
     "metadata": {},
     "output_type": "execute_result"
    },
    {
     "data": {
      "text/plain": [
       "0.778"
      ]
     },
     "execution_count": 237,
     "metadata": {},
     "output_type": "execute_result"
    },
    {
     "data": {
      "text/plain": [
       "0.808"
      ]
     },
     "execution_count": 237,
     "metadata": {},
     "output_type": "execute_result"
    }
   ],
   "source": [
    "nltk.classify.accuracy(classifier1v1, dev_test_features1)\n",
    "nltk.classify.accuracy(classifier2v1, dev_test_features2)\n",
    "nltk.classify.accuracy(classifier3v1, dev_test_features3)\n",
    "nltk.classify.accuracy(classifier4v1, dev_test_features4)\n",
    "nltk.classify.accuracy(classifier5v1, dev_test_features5)"
   ]
  },
  {
   "cell_type": "markdown",
   "metadata": {},
   "source": [
    "Accuracy ranges from ~77-81%.\n",
    "\n",
    "This is a good start, but we can probably improve the accuracy even further. Let's try and do that in the next section."
   ]
  },
  {
   "cell_type": "markdown",
   "metadata": {},
   "source": [
    "### Refining the model"
   ]
  },
  {
   "cell_type": "markdown",
   "metadata": {},
   "source": [
    "One way to possibly improve accuracy is to either add new features, or remove existing features that are not actually predictive."
   ]
  },
  {
   "cell_type": "markdown",
   "metadata": {},
   "source": [
    "A good place to start in deciding which features to add or remove is by examining the errors, similar to what was done in the textbook."
   ]
  },
  {
   "cell_type": "code",
   "execution_count": 238,
   "metadata": {},
   "outputs": [],
   "source": [
    "errors = []\n",
    "\n",
    "for (name,tag) in dev_test1:\n",
    "    guess = classifier1v1.classify(gender_features(name))\n",
    "    if guess != tag:\n",
    "        errors.append((tag,guess,name))"
   ]
  },
  {
   "cell_type": "code",
   "execution_count": 239,
   "metadata": {},
   "outputs": [
    {
     "name": "stdout",
     "output_type": "stream",
     "text": [
      "correct=female   guess=male     name=alisun                        \n",
      "correct=female   guess=male     name=allis                         \n",
      "correct=female   guess=male     name=ardeen                        \n",
      "correct=female   guess=male     name=audrey                        \n",
      "correct=female   guess=male     name=becky                         \n",
      "correct=female   guess=male     name=bel                           \n",
      "correct=female   guess=male     name=brit                          \n",
      "correct=female   guess=male     name=brynn                         \n",
      "correct=female   guess=male     name=cass                          \n",
      "correct=female   guess=male     name=charo                         \n",
      "correct=female   guess=male     name=cyb                           \n",
      "correct=female   guess=male     name=darleen                       \n",
      "correct=female   guess=male     name=darryl                        \n",
      "correct=female   guess=male     name=deb                           \n",
      "correct=female   guess=male     name=dionis                        \n",
      "correct=female   guess=male     name=drew                          \n",
      "correct=female   guess=male     name=em                            \n",
      "correct=female   guess=male     name=esme                          \n",
      "correct=female   guess=male     name=frank                         \n",
      "correct=female   guess=male     name=gaynor                        \n",
      "correct=female   guess=male     name=gen                           \n",
      "correct=female   guess=male     name=glenn                         \n",
      "correct=female   guess=male     name=greer                         \n",
      "correct=female   guess=male     name=harriott                      \n",
      "correct=female   guess=male     name=hedy                          \n",
      "correct=female   guess=male     name=hester                        \n",
      "correct=female   guess=male     name=hetty                         \n",
      "correct=female   guess=male     name=inez                          \n",
      "correct=female   guess=male     name=jaleh                         \n",
      "correct=female   guess=male     name=nariko                        \n",
      "correct=female   guess=male     name=nert                          \n",
      "correct=female   guess=male     name=olly                          \n",
      "correct=female   guess=male     name=prudy                         \n",
      "correct=female   guess=male     name=riannon                       \n",
      "correct=female   guess=male     name=robin                         \n",
      "correct=female   guess=male     name=robyn                         \n",
      "correct=female   guess=male     name=tessy                         \n",
      "correct=female   guess=male     name=wynny                         \n",
      "correct=male     guess=female   name=abby                          \n",
      "correct=male     guess=female   name=alessandro                    \n",
      "correct=male     guess=female   name=andy                          \n",
      "correct=male     guess=female   name=anson                         \n",
      "correct=male     guess=female   name=arnie                         \n",
      "correct=male     guess=female   name=ashby                         \n",
      "correct=male     guess=female   name=aube                          \n",
      "correct=male     guess=female   name=augie                         \n",
      "correct=male     guess=female   name=avi                           \n",
      "correct=male     guess=female   name=bartie                        \n",
      "correct=male     guess=female   name=cal                           \n",
      "correct=male     guess=female   name=carmine                       \n",
      "correct=male     guess=female   name=chaddy                        \n",
      "correct=male     guess=female   name=clarance                      \n",
      "correct=male     guess=female   name=cobbie                        \n",
      "correct=male     guess=female   name=conan                         \n",
      "correct=male     guess=female   name=courtney                      \n",
      "correct=male     guess=female   name=cy                            \n",
      "correct=male     guess=female   name=damien                        \n",
      "correct=male     guess=female   name=elihu                         \n",
      "correct=male     guess=female   name=enrico                        \n",
      "correct=male     guess=female   name=fonsie                        \n",
      "correct=male     guess=female   name=gerri                         \n",
      "correct=male     guess=female   name=guillaume                     \n",
      "correct=male     guess=female   name=guthrie                       \n",
      "correct=male     guess=female   name=hersh                         \n",
      "correct=male     guess=female   name=hillel                        \n",
      "correct=male     guess=female   name=hiralal                       \n",
      "correct=male     guess=female   name=israel                        \n",
      "correct=male     guess=female   name=jamie                         \n",
      "correct=male     guess=female   name=jeramie                       \n",
      "correct=male     guess=female   name=jessey                        \n",
      "correct=male     guess=female   name=julian                        \n",
      "correct=male     guess=female   name=kimball                       \n",
      "correct=male     guess=female   name=konstantin                    \n",
      "correct=male     guess=female   name=lanny                         \n",
      "correct=male     guess=female   name=laurance                      \n",
      "correct=male     guess=female   name=len                           \n",
      "correct=male     guess=female   name=levy                          \n",
      "correct=male     guess=female   name=lyle                          \n",
      "correct=male     guess=female   name=marlin                        \n",
      "correct=male     guess=female   name=maurits                       \n",
      "correct=male     guess=female   name=meredith                      \n",
      "correct=male     guess=female   name=merle                         \n",
      "correct=male     guess=female   name=nealon                        \n",
      "correct=male     guess=female   name=niall                         \n",
      "correct=male     guess=female   name=patsy                         \n",
      "correct=male     guess=female   name=phil                          \n",
      "correct=male     guess=female   name=pierce                        \n",
      "correct=male     guess=female   name=pryce                         \n",
      "correct=male     guess=female   name=reggie                        \n",
      "correct=male     guess=female   name=rikki                         \n",
      "correct=male     guess=female   name=robbie                        \n",
      "correct=male     guess=female   name=sansone                       \n",
      "correct=male     guess=female   name=skippie                       \n",
      "correct=male     guess=female   name=stanleigh                     \n",
      "correct=male     guess=female   name=terrence                      \n",
      "correct=male     guess=female   name=thornie                       \n",
      "correct=male     guess=female   name=tye                           \n",
      "correct=male     guess=female   name=vinnie                        \n",
      "correct=male     guess=female   name=ware                          \n",
      "correct=male     guess=female   name=welbie                        \n",
      "correct=male     guess=female   name=yuri                          \n"
     ]
    }
   ],
   "source": [
    "for (tag,guess,name) in sorted(errors):\n",
    "    print('correct={:<8} guess={:<8s} name={:30}'.format(tag,guess,name))"
   ]
  },
  {
   "cell_type": "markdown",
   "metadata": {},
   "source": [
    "Print feature details for names actually female, incorrectly guess as male, then vice versa."
   ]
  },
  {
   "cell_type": "code",
   "execution_count": 240,
   "metadata": {},
   "outputs": [],
   "source": [
    "actually_female_guessed_incorrectly = []\n",
    "actually_male_guessed_incorrectly = []\n",
    "\n",
    "for (tag,guess,name) in sorted(errors):\n",
    "    if tag == \"female\":\n",
    "        actually_female_guessed_incorrectly.append(name)\n",
    "    if tag == \"male\":\n",
    "        actually_male_guessed_incorrectly.append(name)"
   ]
  },
  {
   "cell_type": "code",
   "execution_count": 241,
   "metadata": {},
   "outputs": [
    {
     "name": "stdout",
     "output_type": "stream",
     "text": [
      "First letter count errors, actually female then actually male:\n"
     ]
    },
    {
     "data": {
      "text/plain": [
       "Counter({'a': 4,\n",
       "         'b': 4,\n",
       "         'c': 3,\n",
       "         'd': 5,\n",
       "         'e': 2,\n",
       "         'f': 1,\n",
       "         'g': 4,\n",
       "         'h': 4,\n",
       "         'i': 1,\n",
       "         'j': 1,\n",
       "         'n': 2,\n",
       "         'o': 1,\n",
       "         'p': 1,\n",
       "         'r': 3,\n",
       "         't': 1,\n",
       "         'w': 1})"
      ]
     },
     "execution_count": 241,
     "metadata": {},
     "output_type": "execute_result"
    },
    {
     "data": {
      "text/plain": [
       "Counter({'a': 9,\n",
       "         'b': 1,\n",
       "         'c': 8,\n",
       "         'd': 1,\n",
       "         'e': 2,\n",
       "         'f': 1,\n",
       "         'g': 3,\n",
       "         'h': 3,\n",
       "         'i': 1,\n",
       "         'j': 4,\n",
       "         'k': 2,\n",
       "         'l': 5,\n",
       "         'm': 4,\n",
       "         'n': 2,\n",
       "         'p': 4,\n",
       "         'r': 3,\n",
       "         's': 3,\n",
       "         't': 3,\n",
       "         'v': 1,\n",
       "         'w': 2,\n",
       "         'y': 1})"
      ]
     },
     "execution_count": 241,
     "metadata": {},
     "output_type": "execute_result"
    },
    {
     "name": "stdout",
     "output_type": "stream",
     "text": [
      "First letter vowel count errors:\n"
     ]
    },
    {
     "data": {
      "text/plain": [
       "Counter({True: 8, False: 30})"
      ]
     },
     "execution_count": 241,
     "metadata": {},
     "output_type": "execute_result"
    },
    {
     "data": {
      "text/plain": [
       "Counter({True: 12, False: 51})"
      ]
     },
     "execution_count": 241,
     "metadata": {},
     "output_type": "execute_result"
    },
    {
     "name": "stdout",
     "output_type": "stream",
     "text": [
      "Last letter count errors:\n"
     ]
    },
    {
     "data": {
      "text/plain": [
       "Counter({'n': 9,\n",
       "         's': 3,\n",
       "         'y': 8,\n",
       "         'l': 2,\n",
       "         't': 3,\n",
       "         'o': 2,\n",
       "         'b': 2,\n",
       "         'w': 1,\n",
       "         'm': 1,\n",
       "         'e': 1,\n",
       "         'k': 1,\n",
       "         'r': 3,\n",
       "         'z': 1,\n",
       "         'h': 1})"
      ]
     },
     "execution_count": 241,
     "metadata": {},
     "output_type": "execute_result"
    },
    {
     "data": {
      "text/plain": [
       "Counter({'y': 10,\n",
       "         'o': 2,\n",
       "         'n': 8,\n",
       "         'e': 27,\n",
       "         'i': 4,\n",
       "         'l': 7,\n",
       "         'u': 1,\n",
       "         'h': 3,\n",
       "         's': 1})"
      ]
     },
     "execution_count": 241,
     "metadata": {},
     "output_type": "execute_result"
    },
    {
     "name": "stdout",
     "output_type": "stream",
     "text": [
      "Last letter vowel count errors:\n"
     ]
    },
    {
     "data": {
      "text/plain": [
       "Counter({False: 35, True: 3})"
      ]
     },
     "execution_count": 241,
     "metadata": {},
     "output_type": "execute_result"
    },
    {
     "data": {
      "text/plain": [
       "Counter({False: 29, True: 34})"
      ]
     },
     "execution_count": 241,
     "metadata": {},
     "output_type": "execute_result"
    },
    {
     "name": "stdout",
     "output_type": "stream",
     "text": [
      "List of vowels count errors:\n"
     ]
    },
    {
     "data": {
      "text/plain": [
       "Counter({'aiu': 1,\n",
       "         'ai': 1,\n",
       "         'ae': 3,\n",
       "         'aeu': 1,\n",
       "         'e': 14,\n",
       "         'i': 1,\n",
       "         '': 3,\n",
       "         'a': 3,\n",
       "         'ao': 2,\n",
       "         'io': 2,\n",
       "         'aio': 3,\n",
       "         'ei': 1,\n",
       "         'o': 2,\n",
       "         'u': 1})"
      ]
     },
     "execution_count": 241,
     "metadata": {},
     "output_type": "execute_result"
    },
    {
     "data": {
      "text/plain": [
       "Counter({'a': 7,\n",
       "         'aeo': 3,\n",
       "         'ao': 2,\n",
       "         'aei': 8,\n",
       "         'aeu': 2,\n",
       "         'aeiu': 2,\n",
       "         'ai': 5,\n",
       "         'ae': 2,\n",
       "         'eio': 5,\n",
       "         'eou': 1,\n",
       "         '': 1,\n",
       "         'eiu': 2,\n",
       "         'ei': 8,\n",
       "         'e': 9,\n",
       "         'aiu': 2,\n",
       "         'aio': 1,\n",
       "         'i': 2,\n",
       "         'iu': 1})"
      ]
     },
     "execution_count": 241,
     "metadata": {},
     "output_type": "execute_result"
    }
   ],
   "source": [
    "print(\"First letter count errors, actually female then actually male:\")\n",
    "Counter([name[0] for name in actually_female_guessed_incorrectly])\n",
    "Counter([name[0] for name in actually_male_guessed_incorrectly])\n",
    "print(\"First letter vowel count errors:\")\n",
    "Counter([name[0] in 'aeiou' for name in actually_female_guessed_incorrectly])\n",
    "Counter([name[0] in 'aeiou' for name in actually_male_guessed_incorrectly])\n",
    "print(\"Last letter count errors:\")\n",
    "Counter([name[-1] for name in actually_female_guessed_incorrectly])\n",
    "Counter([name[-1] for name in actually_male_guessed_incorrectly])\n",
    "print(\"Last letter vowel count errors:\")\n",
    "Counter([name[-1] in 'aeiou' for name in actually_female_guessed_incorrectly])\n",
    "Counter([name[-1] in 'aeiou' for name in actually_male_guessed_incorrectly])\n",
    "print(\"List of vowels count errors:\")\n",
    "Counter([\"\".join(sorted(list(set(re.sub(r'[^aeiou]', '', name))))) for name in actually_female_guessed_incorrectly])\n",
    "Counter([\"\".join(sorted(list(set(re.sub(r'[^aeiou]', '', name))))) for name in actually_male_guessed_incorrectly])"
   ]
  },
  {
   "cell_type": "markdown",
   "metadata": {},
   "source": [
    "Looks like we find that names that are actually male that were guessed incorrectly often end in \"e\".\n",
    "\n",
    "They are seem likely to contain an \"a\" and or \"e\"."
   ]
  },
  {
   "cell_type": "markdown",
   "metadata": {},
   "source": [
    "Check incidence of an a and/or e in the name in males vs. females in the training data."
   ]
  },
  {
   "cell_type": "code",
   "execution_count": 242,
   "metadata": {},
   "outputs": [
    {
     "data": {
      "text/plain": [
       "Counter({False: 1427, True: 2951})"
      ]
     },
     "execution_count": 242,
     "metadata": {},
     "output_type": "execute_result"
    },
    {
     "data": {
      "text/plain": [
       "Counter({False: 1272, True: 1294})"
      ]
     },
     "execution_count": 242,
     "metadata": {},
     "output_type": "execute_result"
    },
    {
     "data": {
      "text/plain": [
       "Counter({False: 1701, True: 2677})"
      ]
     },
     "execution_count": 242,
     "metadata": {},
     "output_type": "execute_result"
    },
    {
     "data": {
      "text/plain": [
       "Counter({False: 1167, True: 1399})"
      ]
     },
     "execution_count": 242,
     "metadata": {},
     "output_type": "execute_result"
    }
   ],
   "source": [
    "def vowels(name):\n",
    "    return \"\".join(sorted(list(set(re.sub(r'[^aeiou]', '', name)))))\n",
    "\n",
    "Counter([list(name).count('a') >= 1 for name,tag in training1 if tag == \"female\"])\n",
    "Counter([list(name).count('a') >= 1 for name,tag in training1 if tag == \"male\"])\n",
    "\n",
    "Counter([list(name).count('e') >= 1 for name,tag in training1 if tag == \"female\"])\n",
    "Counter([list(name).count('e') >= 1 for name,tag in training1 if tag == \"male\"])"
   ]
  },
  {
   "cell_type": "markdown",
   "metadata": {},
   "source": [
    "Females are much more likely to have an a and/or an e in their name than males.\n",
    "\n",
    "So it is not surprising that males with these vowels in their name are getting guessed as females.\n",
    "\n",
    "And no clear way to correct without decreasing accuracy for names that have a/e and are female, or that do not have it and are male."
   ]
  },
  {
   "cell_type": "markdown",
   "metadata": {},
   "source": [
    "Let's try adding a \"suffix2\" feature (last two letters) and see if that improves accuracy, like they did in the textbook."
   ]
  },
  {
   "cell_type": "code",
   "execution_count": 243,
   "metadata": {},
   "outputs": [],
   "source": [
    "def gender_features(name):\n",
    "    \n",
    "    # last letter, first letter, vowel last/first letter\n",
    "    first_letter = name[0]\n",
    "    vowel_first_letter = first_letter in 'aeiou'\n",
    "    last_letter = name[-1]\n",
    "    last_two_letters = name[-2:]\n",
    "    vowel_last_letter = last_letter in 'aeiou'\n",
    "    \n",
    "    # vowels/consonants\n",
    "    vowels = \"\".join(sorted(list(set(re.sub(r'[^aeiou]', '', name)))))\n",
    "    consonants = \"\".join(sorted(list(set(re.sub(r'[aeiou]', '', name)))))\n",
    "    \n",
    "    # bigrams/trigrams\n",
    "    bigrams = (ngrams(name, 2))\n",
    "    trigrams = (ngrams(name, 3))\n",
    "    \n",
    "    # syllables\n",
    "    syllables = len(SSP.tokenize(name))\n",
    "    \n",
    "    return {\n",
    "        'first_letter': first_letter,\n",
    "        'vowel_first_letter': vowel_first_letter,\n",
    "        'last_letter': last_letter,\n",
    "        'last_two_letters': last_two_letters,\n",
    "        'vowel_last_letter': vowel_last_letter,\n",
    "        'vowels': vowels,\n",
    "        'consonants': consonants,\n",
    "        'bigrams': bigrams,\n",
    "        'trigrams': trigrams,\n",
    "        'syllables': syllables\n",
    "    }"
   ]
  },
  {
   "cell_type": "code",
   "execution_count": 244,
   "metadata": {},
   "outputs": [],
   "source": [
    "dev_test_features1 = [(gender_features(name), gender) for name, gender in dev_test1]\n",
    "training_features1 = [(gender_features(name), gender) for name, gender in training1]\n",
    "\n",
    "dev_test_features2 = [(gender_features(name), gender) for name, gender in dev_test2]\n",
    "training_features2 = [(gender_features(name), gender) for name, gender in training2]\n",
    "\n",
    "dev_test_features3 = [(gender_features(name), gender) for name, gender in dev_test3]\n",
    "training_features3 = [(gender_features(name), gender) for name, gender in training3]\n",
    "\n",
    "dev_test_features4 = [(gender_features(name), gender) for name, gender in dev_test4]\n",
    "training_features4 = [(gender_features(name), gender) for name, gender in training4]\n",
    "\n",
    "dev_test_features5 = [(gender_features(name), gender) for name, gender in dev_test5]\n",
    "training_features5 = [(gender_features(name), gender) for name, gender in training5]"
   ]
  },
  {
   "cell_type": "code",
   "execution_count": 245,
   "metadata": {},
   "outputs": [
    {
     "name": "stdout",
     "output_type": "stream",
     "text": [
      "  ==> Training (100 iterations)\n",
      "  ==> Training (100 iterations)\n",
      "  ==> Training (100 iterations)\n",
      "  ==> Training (100 iterations)\n",
      "  ==> Training (100 iterations)\n"
     ]
    }
   ],
   "source": [
    "classifier1v2 = nltk.MaxentClassifier.train(training_features1,trace=1)\n",
    "classifier2v2 = nltk.MaxentClassifier.train(training_features2,trace=1)\n",
    "classifier3v2 = nltk.MaxentClassifier.train(training_features3,trace=1)\n",
    "classifier4v2 = nltk.MaxentClassifier.train(training_features4,trace=1)\n",
    "classifier5v2 = nltk.MaxentClassifier.train(training_features5,trace=1)"
   ]
  },
  {
   "cell_type": "code",
   "execution_count": 246,
   "metadata": {},
   "outputs": [
    {
     "data": {
      "text/plain": [
       "0.808"
      ]
     },
     "execution_count": 246,
     "metadata": {},
     "output_type": "execute_result"
    },
    {
     "data": {
      "text/plain": [
       "0.79"
      ]
     },
     "execution_count": 246,
     "metadata": {},
     "output_type": "execute_result"
    },
    {
     "data": {
      "text/plain": [
       "0.794"
      ]
     },
     "execution_count": 246,
     "metadata": {},
     "output_type": "execute_result"
    },
    {
     "data": {
      "text/plain": [
       "0.792"
      ]
     },
     "execution_count": 246,
     "metadata": {},
     "output_type": "execute_result"
    },
    {
     "data": {
      "text/plain": [
       "0.82"
      ]
     },
     "execution_count": 246,
     "metadata": {},
     "output_type": "execute_result"
    }
   ],
   "source": [
    "nltk.classify.accuracy(classifier1v2, dev_test_features1)\n",
    "nltk.classify.accuracy(classifier2v2, dev_test_features2)\n",
    "nltk.classify.accuracy(classifier3v2, dev_test_features3)\n",
    "nltk.classify.accuracy(classifier4v2, dev_test_features4)\n",
    "nltk.classify.accuracy(classifier5v2, dev_test_features5)"
   ]
  },
  {
   "cell_type": "markdown",
   "metadata": {},
   "source": [
    "In some cases we see an improvement, or worst case accuracy remains about the same.\n",
    "\n",
    "What if we include the second-to-last letter as a separate variable instead?"
   ]
  },
  {
   "cell_type": "code",
   "execution_count": 255,
   "metadata": {},
   "outputs": [],
   "source": [
    "def gender_features(name):\n",
    "    \n",
    "    # last letter, first letter, vowel last/first letter\n",
    "    first_letter = name[0]\n",
    "    vowel_first_letter = first_letter in 'aeiou'\n",
    "    last_letter = name[-1]\n",
    "    next_to_last_letter = name[-2]\n",
    "    vowel_last_letter = last_letter in 'aeiou'\n",
    "    \n",
    "    # vowels/consonants\n",
    "    vowels = \"\".join(sorted(list(set(re.sub(r'[^aeiou]', '', name)))))\n",
    "    consonants = \"\".join(sorted(list(set(re.sub(r'[aeiou]', '', name)))))\n",
    "    \n",
    "    # bigrams/trigrams\n",
    "    bigrams = (ngrams(name, 2))\n",
    "    trigrams = (ngrams(name, 3))\n",
    "    \n",
    "    # syllables\n",
    "    syllables = len(SSP.tokenize(name))\n",
    "    \n",
    "    return {\n",
    "        'first_letter': first_letter,\n",
    "        'vowel_first_letter': vowel_first_letter,\n",
    "        'last_letter': last_letter,\n",
    "        'next_to_last_letter': next_to_last_letter,\n",
    "        'vowel_last_letter': vowel_last_letter,\n",
    "        'vowels': vowels,\n",
    "        'consonants': consonants,\n",
    "        'bigrams': bigrams,\n",
    "        'trigrams': trigrams,\n",
    "        'syllables': syllables\n",
    "    }"
   ]
  },
  {
   "cell_type": "code",
   "execution_count": 256,
   "metadata": {},
   "outputs": [],
   "source": [
    "dev_test_features1 = [(gender_features(name), gender) for name, gender in dev_test1]\n",
    "training_features1 = [(gender_features(name), gender) for name, gender in training1]\n",
    "\n",
    "dev_test_features2 = [(gender_features(name), gender) for name, gender in dev_test2]\n",
    "training_features2 = [(gender_features(name), gender) for name, gender in training2]\n",
    "\n",
    "dev_test_features3 = [(gender_features(name), gender) for name, gender in dev_test3]\n",
    "training_features3 = [(gender_features(name), gender) for name, gender in training3]\n",
    "\n",
    "dev_test_features4 = [(gender_features(name), gender) for name, gender in dev_test4]\n",
    "training_features4 = [(gender_features(name), gender) for name, gender in training4]\n",
    "\n",
    "dev_test_features5 = [(gender_features(name), gender) for name, gender in dev_test5]\n",
    "training_features5 = [(gender_features(name), gender) for name, gender in training5]"
   ]
  },
  {
   "cell_type": "code",
   "execution_count": 257,
   "metadata": {},
   "outputs": [
    {
     "name": "stdout",
     "output_type": "stream",
     "text": [
      "  ==> Training (100 iterations)\n",
      "  ==> Training (100 iterations)\n",
      "  ==> Training (100 iterations)\n",
      "  ==> Training (100 iterations)\n",
      "  ==> Training (100 iterations)\n"
     ]
    }
   ],
   "source": [
    "classifier1v3 = nltk.MaxentClassifier.train(training_features1,trace=1)\n",
    "classifier2v3 = nltk.MaxentClassifier.train(training_features2,trace=1)\n",
    "classifier3v3 = nltk.MaxentClassifier.train(training_features3,trace=1)\n",
    "classifier4v3 = nltk.MaxentClassifier.train(training_features4,trace=1)\n",
    "classifier5v3 = nltk.MaxentClassifier.train(training_features5,trace=1)"
   ]
  },
  {
   "cell_type": "code",
   "execution_count": 258,
   "metadata": {},
   "outputs": [
    {
     "data": {
      "text/plain": [
       "0.804"
      ]
     },
     "execution_count": 258,
     "metadata": {},
     "output_type": "execute_result"
    },
    {
     "data": {
      "text/plain": [
       "0.78"
      ]
     },
     "execution_count": 258,
     "metadata": {},
     "output_type": "execute_result"
    },
    {
     "data": {
      "text/plain": [
       "0.786"
      ]
     },
     "execution_count": 258,
     "metadata": {},
     "output_type": "execute_result"
    },
    {
     "data": {
      "text/plain": [
       "0.794"
      ]
     },
     "execution_count": 258,
     "metadata": {},
     "output_type": "execute_result"
    },
    {
     "data": {
      "text/plain": [
       "0.808"
      ]
     },
     "execution_count": 258,
     "metadata": {},
     "output_type": "execute_result"
    }
   ],
   "source": [
    "nltk.classify.accuracy(classifier1v3, dev_test_features1)\n",
    "nltk.classify.accuracy(classifier2v3, dev_test_features2)\n",
    "nltk.classify.accuracy(classifier3v3, dev_test_features3)\n",
    "nltk.classify.accuracy(classifier4v3, dev_test_features4)\n",
    "nltk.classify.accuracy(classifier5v3, dev_test_features5)"
   ]
  },
  {
   "cell_type": "markdown",
   "metadata": {},
   "source": [
    "Similar to what we saw with the two-letter suffix, we sometimes see improvement in accuracy after adding the next-to-last letter feature, sometimes not."
   ]
  },
  {
   "cell_type": "markdown",
   "metadata": {},
   "source": [
    "### Final model evaluation"
   ]
  },
  {
   "cell_type": "markdown",
   "metadata": {},
   "source": [
    "#### Accuracy on final test data"
   ]
  },
  {
   "cell_type": "markdown",
   "metadata": {},
   "source": [
    "We are now ready to check model accuracy on the final test data."
   ]
  },
  {
   "cell_type": "markdown",
   "metadata": {},
   "source": [
    "Let's just use the model including all of our initially chosen variables, without the two-letter suffix or next-to-last letter features.\n",
    "\n",
    "Improvement in accuracy was not enough to justify making the model more complicated than it needs to be."
   ]
  },
  {
   "cell_type": "code",
   "execution_count": 259,
   "metadata": {},
   "outputs": [],
   "source": [
    "def gender_features(name):\n",
    "    \n",
    "    # last letter, first letter, vowel last/first letter\n",
    "    first_letter = name[0]\n",
    "    vowel_first_letter = first_letter in 'aeiou'\n",
    "    last_letter = name[-1]\n",
    "    vowel_last_letter = last_letter in 'aeiou'\n",
    "    \n",
    "    # vowels/consonants\n",
    "    vowels = \"\".join(sorted(list(set(re.sub(r'[^aeiou]', '', name)))))\n",
    "    consonants = \"\".join(sorted(list(set(re.sub(r'[aeiou]', '', name)))))\n",
    "    \n",
    "    # bigrams/trigrams\n",
    "    bigrams = (ngrams(name, 2))\n",
    "    trigrams = (ngrams(name, 3))\n",
    "    \n",
    "    # syllables\n",
    "    syllables = len(SSP.tokenize(name))\n",
    "    \n",
    "    return {\n",
    "        'first_letter': first_letter,\n",
    "        'vowel_first_letter': vowel_first_letter,\n",
    "        'last_letter': last_letter,\n",
    "        'vowel_last_letter': vowel_last_letter,\n",
    "        'vowels': vowels,\n",
    "        'consonants': consonants,\n",
    "        'bigrams': bigrams,\n",
    "        'trigrams': trigrams,\n",
    "        'syllables': syllables\n",
    "    }\n",
    "\n",
    "final_test_features = [(gender_features(name), gender) for name, gender in final_test]"
   ]
  },
  {
   "cell_type": "code",
   "execution_count": 260,
   "metadata": {},
   "outputs": [
    {
     "data": {
      "text/plain": [
       "0.8039647577092511"
      ]
     },
     "execution_count": 260,
     "metadata": {},
     "output_type": "execute_result"
    },
    {
     "data": {
      "text/plain": [
       "0.801762114537445"
      ]
     },
     "execution_count": 260,
     "metadata": {},
     "output_type": "execute_result"
    },
    {
     "data": {
      "text/plain": [
       "0.8105726872246696"
      ]
     },
     "execution_count": 260,
     "metadata": {},
     "output_type": "execute_result"
    },
    {
     "data": {
      "text/plain": [
       "0.8105726872246696"
      ]
     },
     "execution_count": 260,
     "metadata": {},
     "output_type": "execute_result"
    },
    {
     "data": {
      "text/plain": [
       "0.8171806167400881"
      ]
     },
     "execution_count": 260,
     "metadata": {},
     "output_type": "execute_result"
    }
   ],
   "source": [
    "nltk.classify.accuracy(classifier1v1, final_test_features)\n",
    "nltk.classify.accuracy(classifier2v1, final_test_features)\n",
    "nltk.classify.accuracy(classifier3v1, final_test_features)\n",
    "nltk.classify.accuracy(classifier4v1, final_test_features)\n",
    "nltk.classify.accuracy(classifier5v1, final_test_features)"
   ]
  },
  {
   "cell_type": "markdown",
   "metadata": {
    "pycharm": {
     "name": "#%% md\n"
    }
   },
   "source": [
    "Accuracy ranges from ~80-82% on the final test data using features of first letter, vowel first letter, last letter, vowel last letter, vowels, consonants, bigrams, and trigrams."
   ]
  },
  {
   "cell_type": "markdown",
   "source": [
    "## Youtube Link\n",
    "[Data 620 - Project 3](https://youtu.be/bWYYesVMXbs)"
   ],
   "metadata": {
    "collapsed": false,
    "pycharm": {
     "name": "#%% md\n"
    }
   }
  }
 ],
 "metadata": {
  "kernelspec": {
   "display_name": "Python 3",
   "language": "python",
   "name": "python3"
  },
  "language_info": {
   "codemirror_mode": {
    "name": "ipython",
    "version": 3
   },
   "file_extension": ".py",
   "mimetype": "text/x-python",
   "name": "python",
   "nbconvert_exporter": "python",
   "pygments_lexer": "ipython3",
   "version": "3.7.4"
  },
  "pycharm": {
   "stem_cell": {
    "cell_type": "raw",
    "source": [],
    "metadata": {
     "collapsed": false
    }
   }
  }
 },
 "nbformat": 4,
 "nbformat_minor": 1
}