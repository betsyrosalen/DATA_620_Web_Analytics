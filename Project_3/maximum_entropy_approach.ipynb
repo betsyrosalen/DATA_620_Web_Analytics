{
 "cells": [
  {
   "cell_type": "markdown",
   "metadata": {},
   "source": [
    "# Data 620 - Project 3"
   ]
  },
  {
   "cell_type": "markdown",
   "metadata": {},
   "source": [
    "Baron Curtin, Heather Geiger, Mikhail Groysman, Betsy Rosalen"
   ]
  },
  {
   "cell_type": "markdown",
   "metadata": {},
   "source": [
    "## Project description"
   ]
  },
  {
   "cell_type": "markdown",
   "metadata": {},
   "source": [
    "Using any of the three classifiers described in chapter 6 of Natural Language Processing with Python, and any features you can think of, build the best name gender classifier you can.\n",
    "\n",
    "Begin by splitting the Names Corpus into three subsets: 500 words for the test set, 500 words for the devtest set, and the remaining 6900 words for the training set. Then, starting with the example name gender classifier, make incremental improvements. Use the dev-test set to check your progress. Once you are satisfied with your classifier, check its final performance on the test set.\n",
    "\n",
    "How does the performance on the test set compare to the performance on the dev-test set? Is this what you'd expect?"
   ]
  },
  {
   "cell_type": "markdown",
   "metadata": {},
   "source": [
    "## Load libraries."
   ]
  },
  {
   "cell_type": "code",
   "execution_count": 1,
   "metadata": {},
   "outputs": [],
   "source": [
    "import random\n",
    "from collections import Counter\n",
    "import nltk\n",
    "from nltk import download\n",
    "from nltk.corpus import names\n",
    "from nltk.util import ngrams\n",
    "from nltk.tokenize.sonority_sequencing import SyllableTokenizer\n",
    "from nltk import NaiveBayesClassifier\n",
    "import matplotlib.pyplot as plt\n",
    "import seaborn as sns\n",
    "import string\n",
    "import re\n",
    "\n",
    "import pandas as pd\n",
    "import numpy as np\n",
    "\n",
    "# jupyter setup\n",
    "from IPython.core.interactiveshell import InteractiveShell\n",
    "InteractiveShell.ast_node_interactivity = \"all\""
   ]
  },
  {
   "cell_type": "markdown",
   "metadata": {},
   "source": [
    "## Data loading/preparation"
   ]
  },
  {
   "cell_type": "markdown",
   "metadata": {},
   "source": [
    "In the following cells, we will be loading the corpus into memory, labelling all of the names, and then randomizing the list of names for later use. Randomizing the names will ensure that our training/test sets will contain both genders from which we should be able to create numerous features from."
   ]
  },
  {
   "cell_type": "markdown",
   "metadata": {},
   "source": [
    "### Load and shuffle data."
   ]
  },
  {
   "cell_type": "code",
   "execution_count": 53,
   "metadata": {},
   "outputs": [
    {
     "name": "stderr",
     "output_type": "stream",
     "text": [
      "[nltk_data] Downloading package names to /Users/hmgeiger/nltk_data...\n",
      "[nltk_data]   Package names is already up-to-date!\n"
     ]
    },
    {
     "data": {
      "text/plain": [
       "True"
      ]
     },
     "execution_count": 53,
     "metadata": {},
     "output_type": "execute_result"
    },
    {
     "data": {
      "text/plain": [
       "[None,\n",
       " None,\n",
       " None,\n",
       " None,\n",
       " None,\n",
       " None,\n",
       " None,\n",
       " None,\n",
       " None,\n",
       " None,\n",
       " None,\n",
       " None,\n",
       " None,\n",
       " None,\n",
       " None,\n",
       " None,\n",
       " None,\n",
       " None,\n",
       " None,\n",
       " None,\n",
       " None,\n",
       " None,\n",
       " None,\n",
       " None,\n",
       " None,\n",
       " None,\n",
       " None,\n",
       " None,\n",
       " None,\n",
       " None,\n",
       " None,\n",
       " None,\n",
       " None,\n",
       " None,\n",
       " None,\n",
       " None,\n",
       " None,\n",
       " None,\n",
       " None,\n",
       " None,\n",
       " None,\n",
       " None,\n",
       " None,\n",
       " None,\n",
       " None,\n",
       " None,\n",
       " None,\n",
       " None,\n",
       " None,\n",
       " None,\n",
       " None,\n",
       " None,\n",
       " None,\n",
       " None,\n",
       " None,\n",
       " None,\n",
       " None,\n",
       " None,\n",
       " None,\n",
       " None,\n",
       " None,\n",
       " None,\n",
       " None,\n",
       " None,\n",
       " None,\n",
       " None,\n",
       " None,\n",
       " None,\n",
       " None,\n",
       " None,\n",
       " None,\n",
       " None,\n",
       " None,\n",
       " None,\n",
       " None,\n",
       " None,\n",
       " None,\n",
       " None,\n",
       " None,\n",
       " None,\n",
       " None,\n",
       " None,\n",
       " None,\n",
       " None,\n",
       " None,\n",
       " None,\n",
       " None,\n",
       " None,\n",
       " None,\n",
       " None,\n",
       " None,\n",
       " None,\n",
       " None,\n",
       " None,\n",
       " None,\n",
       " None,\n",
       " None,\n",
       " None,\n",
       " None,\n",
       " None,\n",
       " None,\n",
       " None,\n",
       " None,\n",
       " None,\n",
       " None,\n",
       " None,\n",
       " None,\n",
       " None,\n",
       " None,\n",
       " None,\n",
       " None,\n",
       " None,\n",
       " None,\n",
       " None,\n",
       " None,\n",
       " None,\n",
       " None,\n",
       " None,\n",
       " None,\n",
       " None,\n",
       " None,\n",
       " None,\n",
       " None,\n",
       " None,\n",
       " None,\n",
       " None,\n",
       " None,\n",
       " None,\n",
       " None,\n",
       " None,\n",
       " None,\n",
       " None,\n",
       " None,\n",
       " None,\n",
       " None,\n",
       " None,\n",
       " None,\n",
       " None,\n",
       " None,\n",
       " None,\n",
       " None,\n",
       " None,\n",
       " None,\n",
       " None,\n",
       " None,\n",
       " None,\n",
       " None,\n",
       " None,\n",
       " None,\n",
       " None,\n",
       " None,\n",
       " None,\n",
       " None,\n",
       " None,\n",
       " None,\n",
       " None,\n",
       " None,\n",
       " None,\n",
       " None,\n",
       " None,\n",
       " None,\n",
       " None,\n",
       " None,\n",
       " None,\n",
       " None,\n",
       " None,\n",
       " None,\n",
       " None,\n",
       " None,\n",
       " None,\n",
       " None,\n",
       " None,\n",
       " None,\n",
       " None,\n",
       " None,\n",
       " None,\n",
       " None,\n",
       " None,\n",
       " None,\n",
       " None,\n",
       " None,\n",
       " None,\n",
       " None,\n",
       " None,\n",
       " None,\n",
       " None,\n",
       " None,\n",
       " None,\n",
       " None,\n",
       " None,\n",
       " None,\n",
       " None,\n",
       " None,\n",
       " None,\n",
       " None,\n",
       " None,\n",
       " None,\n",
       " None,\n",
       " None,\n",
       " None,\n",
       " None,\n",
       " None,\n",
       " None,\n",
       " None,\n",
       " None,\n",
       " None,\n",
       " None,\n",
       " None,\n",
       " None,\n",
       " None,\n",
       " None,\n",
       " None,\n",
       " None,\n",
       " None,\n",
       " None,\n",
       " None,\n",
       " None,\n",
       " None,\n",
       " None,\n",
       " None,\n",
       " None,\n",
       " None,\n",
       " None,\n",
       " None,\n",
       " None,\n",
       " None,\n",
       " None,\n",
       " None,\n",
       " None,\n",
       " None,\n",
       " None,\n",
       " None,\n",
       " None,\n",
       " None,\n",
       " None,\n",
       " None,\n",
       " None,\n",
       " None,\n",
       " None,\n",
       " None,\n",
       " None,\n",
       " None,\n",
       " None,\n",
       " None,\n",
       " None,\n",
       " None,\n",
       " None,\n",
       " None,\n",
       " None,\n",
       " None,\n",
       " None,\n",
       " None,\n",
       " None,\n",
       " None,\n",
       " None,\n",
       " None,\n",
       " None,\n",
       " None,\n",
       " None,\n",
       " None,\n",
       " None,\n",
       " None,\n",
       " None,\n",
       " None,\n",
       " None,\n",
       " None,\n",
       " None,\n",
       " None,\n",
       " None,\n",
       " None,\n",
       " None,\n",
       " None,\n",
       " None,\n",
       " None,\n",
       " None,\n",
       " None,\n",
       " None,\n",
       " None,\n",
       " None,\n",
       " None,\n",
       " None,\n",
       " None,\n",
       " None,\n",
       " None,\n",
       " None,\n",
       " None,\n",
       " None,\n",
       " None,\n",
       " None,\n",
       " None,\n",
       " None,\n",
       " None,\n",
       " None,\n",
       " None,\n",
       " None,\n",
       " None,\n",
       " None,\n",
       " None,\n",
       " None,\n",
       " None,\n",
       " None,\n",
       " None,\n",
       " None,\n",
       " None,\n",
       " None,\n",
       " None,\n",
       " None,\n",
       " None,\n",
       " None,\n",
       " None,\n",
       " None,\n",
       " None,\n",
       " None,\n",
       " None,\n",
       " None,\n",
       " None,\n",
       " None,\n",
       " None,\n",
       " None,\n",
       " None,\n",
       " None,\n",
       " None,\n",
       " None,\n",
       " None,\n",
       " None,\n",
       " None,\n",
       " None,\n",
       " None,\n",
       " None,\n",
       " None,\n",
       " None,\n",
       " None,\n",
       " None,\n",
       " None,\n",
       " None,\n",
       " None,\n",
       " None,\n",
       " None,\n",
       " None,\n",
       " None,\n",
       " None,\n",
       " None,\n",
       " None,\n",
       " None,\n",
       " None,\n",
       " None,\n",
       " None,\n",
       " None,\n",
       " None,\n",
       " None,\n",
       " None,\n",
       " None,\n",
       " None,\n",
       " None,\n",
       " None,\n",
       " None,\n",
       " None,\n",
       " None,\n",
       " None,\n",
       " None,\n",
       " None,\n",
       " None,\n",
       " None,\n",
       " None,\n",
       " None]"
      ]
     },
     "execution_count": 53,
     "metadata": {},
     "output_type": "execute_result"
    },
    {
     "data": {
      "text/plain": [
       "[None,\n",
       " None,\n",
       " None,\n",
       " None,\n",
       " None,\n",
       " None,\n",
       " None,\n",
       " None,\n",
       " None,\n",
       " None,\n",
       " None,\n",
       " None,\n",
       " None,\n",
       " None,\n",
       " None,\n",
       " None,\n",
       " None,\n",
       " None,\n",
       " None,\n",
       " None,\n",
       " None,\n",
       " None,\n",
       " None,\n",
       " None,\n",
       " None,\n",
       " None,\n",
       " None,\n",
       " None,\n",
       " None,\n",
       " None,\n",
       " None,\n",
       " None,\n",
       " None,\n",
       " None,\n",
       " None,\n",
       " None,\n",
       " None,\n",
       " None,\n",
       " None,\n",
       " None,\n",
       " None,\n",
       " None,\n",
       " None,\n",
       " None,\n",
       " None,\n",
       " None,\n",
       " None,\n",
       " None,\n",
       " None,\n",
       " None,\n",
       " None,\n",
       " None,\n",
       " None,\n",
       " None,\n",
       " None,\n",
       " None,\n",
       " None,\n",
       " None,\n",
       " None,\n",
       " None,\n",
       " None,\n",
       " None,\n",
       " None,\n",
       " None,\n",
       " None,\n",
       " None,\n",
       " None,\n",
       " None,\n",
       " None,\n",
       " None,\n",
       " None,\n",
       " None,\n",
       " None,\n",
       " None,\n",
       " None,\n",
       " None,\n",
       " None,\n",
       " None,\n",
       " None,\n",
       " None,\n",
       " None,\n",
       " None,\n",
       " None,\n",
       " None,\n",
       " None,\n",
       " None,\n",
       " None,\n",
       " None,\n",
       " None,\n",
       " None,\n",
       " None,\n",
       " None,\n",
       " None,\n",
       " None,\n",
       " None,\n",
       " None,\n",
       " None,\n",
       " None,\n",
       " None,\n",
       " None,\n",
       " None,\n",
       " None,\n",
       " None,\n",
       " None,\n",
       " None,\n",
       " None,\n",
       " None,\n",
       " None,\n",
       " None,\n",
       " None,\n",
       " None,\n",
       " None,\n",
       " None,\n",
       " None,\n",
       " None,\n",
       " None,\n",
       " None,\n",
       " None,\n",
       " None,\n",
       " None,\n",
       " None,\n",
       " None,\n",
       " None,\n",
       " None,\n",
       " None,\n",
       " None,\n",
       " None,\n",
       " None,\n",
       " None,\n",
       " None,\n",
       " None,\n",
       " None,\n",
       " None,\n",
       " None,\n",
       " None,\n",
       " None,\n",
       " None,\n",
       " None,\n",
       " None,\n",
       " None,\n",
       " None,\n",
       " None,\n",
       " None,\n",
       " None,\n",
       " None,\n",
       " None,\n",
       " None,\n",
       " None,\n",
       " None,\n",
       " None,\n",
       " None,\n",
       " None,\n",
       " None,\n",
       " None,\n",
       " None,\n",
       " None,\n",
       " None,\n",
       " None,\n",
       " None,\n",
       " None,\n",
       " None,\n",
       " None,\n",
       " None,\n",
       " None,\n",
       " None,\n",
       " None,\n",
       " None,\n",
       " None,\n",
       " None,\n",
       " None,\n",
       " None,\n",
       " None,\n",
       " None,\n",
       " None,\n",
       " None,\n",
       " None,\n",
       " None,\n",
       " None,\n",
       " None,\n",
       " None,\n",
       " None,\n",
       " None,\n",
       " None,\n",
       " None,\n",
       " None,\n",
       " None,\n",
       " None,\n",
       " None,\n",
       " None,\n",
       " None,\n",
       " None,\n",
       " None,\n",
       " None,\n",
       " None,\n",
       " None,\n",
       " None,\n",
       " None,\n",
       " None,\n",
       " None,\n",
       " None,\n",
       " None,\n",
       " None,\n",
       " None,\n",
       " None,\n",
       " None,\n",
       " None,\n",
       " None,\n",
       " None,\n",
       " None,\n",
       " None,\n",
       " None,\n",
       " None,\n",
       " None,\n",
       " None,\n",
       " None,\n",
       " None,\n",
       " None,\n",
       " None,\n",
       " None,\n",
       " None,\n",
       " None,\n",
       " None,\n",
       " None,\n",
       " None,\n",
       " None,\n",
       " None,\n",
       " None,\n",
       " None,\n",
       " None,\n",
       " None,\n",
       " None,\n",
       " None,\n",
       " None,\n",
       " None,\n",
       " None,\n",
       " None,\n",
       " None,\n",
       " None,\n",
       " None,\n",
       " None,\n",
       " None,\n",
       " None,\n",
       " None,\n",
       " None,\n",
       " None,\n",
       " None,\n",
       " None,\n",
       " None,\n",
       " None,\n",
       " None,\n",
       " None,\n",
       " None,\n",
       " None,\n",
       " None,\n",
       " None,\n",
       " None,\n",
       " None,\n",
       " None,\n",
       " None,\n",
       " None,\n",
       " None,\n",
       " None,\n",
       " None,\n",
       " None,\n",
       " None,\n",
       " None,\n",
       " None,\n",
       " None,\n",
       " None,\n",
       " None,\n",
       " None,\n",
       " None,\n",
       " None,\n",
       " None,\n",
       " None,\n",
       " None,\n",
       " None,\n",
       " None,\n",
       " None,\n",
       " None,\n",
       " None,\n",
       " None,\n",
       " None,\n",
       " None,\n",
       " None,\n",
       " None,\n",
       " None,\n",
       " None,\n",
       " None,\n",
       " None,\n",
       " None,\n",
       " None,\n",
       " None,\n",
       " None,\n",
       " None,\n",
       " None,\n",
       " None,\n",
       " None,\n",
       " None,\n",
       " None,\n",
       " None,\n",
       " None,\n",
       " None,\n",
       " None,\n",
       " None,\n",
       " None,\n",
       " None,\n",
       " None,\n",
       " None,\n",
       " None,\n",
       " None,\n",
       " None,\n",
       " None,\n",
       " None,\n",
       " None,\n",
       " None,\n",
       " None,\n",
       " None,\n",
       " None,\n",
       " None,\n",
       " None,\n",
       " None,\n",
       " None,\n",
       " None,\n",
       " None,\n",
       " None,\n",
       " None,\n",
       " None,\n",
       " None,\n",
       " None,\n",
       " None,\n",
       " None,\n",
       " None,\n",
       " None,\n",
       " None,\n",
       " None,\n",
       " None,\n",
       " None,\n",
       " None,\n",
       " None,\n",
       " None,\n",
       " None,\n",
       " None,\n",
       " None,\n",
       " None,\n",
       " None,\n",
       " None,\n",
       " None,\n",
       " None,\n",
       " None,\n",
       " None,\n",
       " None,\n",
       " None,\n",
       " None,\n",
       " None,\n",
       " None,\n",
       " None,\n",
       " None,\n",
       " None,\n",
       " None,\n",
       " None,\n",
       " None,\n",
       " None,\n",
       " None,\n",
       " None]"
      ]
     },
     "execution_count": 53,
     "metadata": {},
     "output_type": "execute_result"
    }
   ],
   "source": [
    "# read in names from the files\n",
    "# names to be lowercase for easy recognition \n",
    "download('names')\n",
    "males = [name.lower().strip() for name in names.words('male.txt')]\n",
    "females = [name.lower().strip() for name in names.words('female.txt')]\n",
    "\n",
    "#Remove unisex names from each list.\n",
    "#Did not run this previously, but I think it is reasonable to do so.\n",
    "#Otherwise accuracy unfairly penalized if a unisex name is listed as one gender in training and another in test.\n",
    "#Will be marked as wrong even if the model is otherwise perfect.\n",
    "\n",
    "unisex = list(set(males) & set(females))\n",
    "[males.remove(name) for name in unisex]\n",
    "[females.remove(name) for name in unisex]\n",
    "\n",
    "#Add sex labels.\n",
    "males = [(name,'male') for name in males]\n",
    "females = [(name,'female') for name in females]\n",
    "\n",
    "# combine lists of names\n",
    "all_names = males + females\n",
    "\n",
    "# randomize the list\n",
    "random.seed(13)\n",
    "random.shuffle(all_names)"
   ]
  },
  {
   "cell_type": "markdown",
   "metadata": {},
   "source": [
    "### Feature creation"
   ]
  },
  {
   "cell_type": "markdown",
   "metadata": {},
   "source": [
    "Features are the most important part of what goes into a machine learning model. For that reason, it is critically important to try to come up with features that make the most sense in identifying gender differences in names. To make creation and analysis easier, we will put our data in a Pandas dataframe."
   ]
  },
  {
   "cell_type": "code",
   "execution_count": 3,
   "metadata": {},
   "outputs": [
    {
     "data": {
      "text/html": [
       "<div>\n",
       "<style scoped>\n",
       "    .dataframe tbody tr th:only-of-type {\n",
       "        vertical-align: middle;\n",
       "    }\n",
       "\n",
       "    .dataframe tbody tr th {\n",
       "        vertical-align: top;\n",
       "    }\n",
       "\n",
       "    .dataframe thead th {\n",
       "        text-align: right;\n",
       "    }\n",
       "</style>\n",
       "<table border=\"1\" class=\"dataframe\">\n",
       "  <thead>\n",
       "    <tr style=\"text-align: right;\">\n",
       "      <th></th>\n",
       "      <th>name</th>\n",
       "      <th>gender</th>\n",
       "    </tr>\n",
       "  </thead>\n",
       "  <tbody>\n",
       "    <tr>\n",
       "      <th>0</th>\n",
       "      <td>lester</td>\n",
       "      <td>male</td>\n",
       "    </tr>\n",
       "    <tr>\n",
       "      <th>1</th>\n",
       "      <td>ritch</td>\n",
       "      <td>male</td>\n",
       "    </tr>\n",
       "    <tr>\n",
       "      <th>2</th>\n",
       "      <td>joshua</td>\n",
       "      <td>male</td>\n",
       "    </tr>\n",
       "    <tr>\n",
       "      <th>3</th>\n",
       "      <td>skippie</td>\n",
       "      <td>male</td>\n",
       "    </tr>\n",
       "    <tr>\n",
       "      <th>4</th>\n",
       "      <td>peggy</td>\n",
       "      <td>female</td>\n",
       "    </tr>\n",
       "  </tbody>\n",
       "</table>\n",
       "</div>"
      ],
      "text/plain": [
       "      name  gender\n",
       "0   lester    male\n",
       "1    ritch    male\n",
       "2   joshua    male\n",
       "3  skippie    male\n",
       "4    peggy  female"
      ]
     },
     "execution_count": 3,
     "metadata": {},
     "output_type": "execute_result"
    }
   ],
   "source": [
    "# create dataframe\n",
    "data = pd.DataFrame.from_dict(dict(all_names), orient='index', columns=['gender']).reset_index()\n",
    "data.columns = ['name', 'gender']\n",
    "data.head()"
   ]
  },
  {
   "cell_type": "code",
   "execution_count": 4,
   "metadata": {},
   "outputs": [
    {
     "name": "stderr",
     "output_type": "stream",
     "text": [
      "/Users/hmgeiger/.local/lib/python3.7/site-packages/nltk/tokenize/sonority_sequencing.py:102: UserWarning: Character not defined in sonority_hierarchy, assigning as vowel: ' '\n",
      "  \" assigning as vowel: '{}'\".format(c))\n",
      "/Users/hmgeiger/.local/lib/python3.7/site-packages/nltk/tokenize/sonority_sequencing.py:102: UserWarning: Character not defined in sonority_hierarchy, assigning as vowel: ' '\n",
      "  \" assigning as vowel: '{}'\".format(c))\n",
      "/Users/hmgeiger/.local/lib/python3.7/site-packages/nltk/tokenize/sonority_sequencing.py:102: UserWarning: Character not defined in sonority_hierarchy, assigning as vowel: ' '\n",
      "  \" assigning as vowel: '{}'\".format(c))\n"
     ]
    },
    {
     "data": {
      "text/html": [
       "<div>\n",
       "<style scoped>\n",
       "    .dataframe tbody tr th:only-of-type {\n",
       "        vertical-align: middle;\n",
       "    }\n",
       "\n",
       "    .dataframe tbody tr th {\n",
       "        vertical-align: top;\n",
       "    }\n",
       "\n",
       "    .dataframe thead th {\n",
       "        text-align: right;\n",
       "    }\n",
       "</style>\n",
       "<table border=\"1\" class=\"dataframe\">\n",
       "  <thead>\n",
       "    <tr style=\"text-align: right;\">\n",
       "      <th></th>\n",
       "      <th>name</th>\n",
       "      <th>gender</th>\n",
       "      <th>length</th>\n",
       "      <th>first_letter</th>\n",
       "      <th>last_letter</th>\n",
       "      <th>vowel_last_letter</th>\n",
       "      <th>vowel_first_letter</th>\n",
       "      <th>vowels</th>\n",
       "      <th>consonants</th>\n",
       "      <th>vowel_count</th>\n",
       "      <th>consonant_count</th>\n",
       "      <th>bigrams</th>\n",
       "      <th>trigrams</th>\n",
       "      <th>syllables</th>\n",
       "    </tr>\n",
       "  </thead>\n",
       "  <tbody>\n",
       "    <tr>\n",
       "      <th>0</th>\n",
       "      <td>lester</td>\n",
       "      <td>male</td>\n",
       "      <td>6</td>\n",
       "      <td>l</td>\n",
       "      <td>r</td>\n",
       "      <td>False</td>\n",
       "      <td>False</td>\n",
       "      <td>ee</td>\n",
       "      <td>lstr</td>\n",
       "      <td>2</td>\n",
       "      <td>4</td>\n",
       "      <td>[(l, e), (e, s), (s, t), (t, e), (e, r)]</td>\n",
       "      <td>[(l, e, s), (e, s, t), (s, t, e), (t, e, r)]</td>\n",
       "      <td>2</td>\n",
       "    </tr>\n",
       "    <tr>\n",
       "      <th>1</th>\n",
       "      <td>ritch</td>\n",
       "      <td>male</td>\n",
       "      <td>5</td>\n",
       "      <td>r</td>\n",
       "      <td>h</td>\n",
       "      <td>False</td>\n",
       "      <td>False</td>\n",
       "      <td>i</td>\n",
       "      <td>rtch</td>\n",
       "      <td>1</td>\n",
       "      <td>4</td>\n",
       "      <td>[(r, i), (i, t), (t, c), (c, h)]</td>\n",
       "      <td>[(r, i, t), (i, t, c), (t, c, h)]</td>\n",
       "      <td>1</td>\n",
       "    </tr>\n",
       "    <tr>\n",
       "      <th>2</th>\n",
       "      <td>joshua</td>\n",
       "      <td>male</td>\n",
       "      <td>6</td>\n",
       "      <td>j</td>\n",
       "      <td>a</td>\n",
       "      <td>True</td>\n",
       "      <td>False</td>\n",
       "      <td>oua</td>\n",
       "      <td>jsh</td>\n",
       "      <td>3</td>\n",
       "      <td>3</td>\n",
       "      <td>[(j, o), (o, s), (s, h), (h, u), (u, a)]</td>\n",
       "      <td>[(j, o, s), (o, s, h), (s, h, u), (h, u, a)]</td>\n",
       "      <td>2</td>\n",
       "    </tr>\n",
       "    <tr>\n",
       "      <th>3</th>\n",
       "      <td>skippie</td>\n",
       "      <td>male</td>\n",
       "      <td>7</td>\n",
       "      <td>s</td>\n",
       "      <td>e</td>\n",
       "      <td>True</td>\n",
       "      <td>False</td>\n",
       "      <td>iie</td>\n",
       "      <td>skpp</td>\n",
       "      <td>3</td>\n",
       "      <td>4</td>\n",
       "      <td>[(s, k), (k, i), (i, p), (p, p), (p, i), (i, e)]</td>\n",
       "      <td>[(s, k, i), (k, i, p), (i, p, p), (p, p, i), (...</td>\n",
       "      <td>2</td>\n",
       "    </tr>\n",
       "    <tr>\n",
       "      <th>4</th>\n",
       "      <td>peggy</td>\n",
       "      <td>female</td>\n",
       "      <td>5</td>\n",
       "      <td>p</td>\n",
       "      <td>y</td>\n",
       "      <td>False</td>\n",
       "      <td>False</td>\n",
       "      <td>e</td>\n",
       "      <td>pggy</td>\n",
       "      <td>1</td>\n",
       "      <td>4</td>\n",
       "      <td>[(p, e), (e, g), (g, g), (g, y)]</td>\n",
       "      <td>[(p, e, g), (e, g, g), (g, g, y)]</td>\n",
       "      <td>2</td>\n",
       "    </tr>\n",
       "  </tbody>\n",
       "</table>\n",
       "</div>"
      ],
      "text/plain": [
       "      name  gender  length first_letter last_letter  vowel_last_letter  \\\n",
       "0   lester    male       6            l           r              False   \n",
       "1    ritch    male       5            r           h              False   \n",
       "2   joshua    male       6            j           a               True   \n",
       "3  skippie    male       7            s           e               True   \n",
       "4    peggy  female       5            p           y              False   \n",
       "\n",
       "   vowel_first_letter vowels consonants  vowel_count  consonant_count  \\\n",
       "0               False     ee       lstr            2                4   \n",
       "1               False      i       rtch            1                4   \n",
       "2               False    oua        jsh            3                3   \n",
       "3               False    iie       skpp            3                4   \n",
       "4               False      e       pggy            1                4   \n",
       "\n",
       "                                            bigrams  \\\n",
       "0          [(l, e), (e, s), (s, t), (t, e), (e, r)]   \n",
       "1                  [(r, i), (i, t), (t, c), (c, h)]   \n",
       "2          [(j, o), (o, s), (s, h), (h, u), (u, a)]   \n",
       "3  [(s, k), (k, i), (i, p), (p, p), (p, i), (i, e)]   \n",
       "4                  [(p, e), (e, g), (g, g), (g, y)]   \n",
       "\n",
       "                                            trigrams  syllables  \n",
       "0       [(l, e, s), (e, s, t), (s, t, e), (t, e, r)]          2  \n",
       "1                  [(r, i, t), (i, t, c), (t, c, h)]          1  \n",
       "2       [(j, o, s), (o, s, h), (s, h, u), (h, u, a)]          2  \n",
       "3  [(s, k, i), (k, i, p), (i, p, p), (p, p, i), (...          2  \n",
       "4                  [(p, e, g), (e, g, g), (g, g, y)]          2  "
      ]
     },
     "execution_count": 4,
     "metadata": {},
     "output_type": "execute_result"
    }
   ],
   "source": [
    "# instatiate syllable tokenize\n",
    "SSP = SyllableTokenizer()\n",
    "\n",
    "# create various feature columns for exploration\n",
    "data['length'] = data['name'].str.len()\n",
    "data['first_letter'] = data['name'].str[0]\n",
    "data['last_letter'] = data['name'].str[-1]\n",
    "data['vowel_last_letter'] = data['last_letter'].isin([*'aeiou'])\n",
    "data['vowel_first_letter'] = data['first_letter'].isin([*'aeiou'])\n",
    "data['vowels'] = data['name'].str.replace(r'[^aeiou]', '')\n",
    "data['consonants'] = data['name'].str.replace(r'[aeiou]', '')\n",
    "data['vowel_count'] = data['vowels'].str.len()\n",
    "data['consonant_count'] = data['consonants'].str.len()\n",
    "data['bigrams'] = data['name'].apply(lambda x: list(ngrams(x, 2)))\n",
    "data['trigrams'] = data['name'].apply(lambda x: list(ngrams(x, 3)))\n",
    "data['syllables'] = data['name'].apply(lambda x: len(SSP.tokenize(x)))\n",
    "\n",
    "# preview data\n",
    "data.head()"
   ]
  },
  {
   "cell_type": "code",
   "execution_count": 5,
   "metadata": {},
   "outputs": [
    {
     "data": {
      "text/html": [
       "<div>\n",
       "<style scoped>\n",
       "    .dataframe tbody tr th:only-of-type {\n",
       "        vertical-align: middle;\n",
       "    }\n",
       "\n",
       "    .dataframe tbody tr th {\n",
       "        vertical-align: top;\n",
       "    }\n",
       "\n",
       "    .dataframe thead th {\n",
       "        text-align: right;\n",
       "    }\n",
       "</style>\n",
       "<table border=\"1\" class=\"dataframe\">\n",
       "  <thead>\n",
       "    <tr style=\"text-align: right;\">\n",
       "      <th></th>\n",
       "      <th>bigrams</th>\n",
       "      <th>trigrams</th>\n",
       "      <th>bigrams_counter</th>\n",
       "      <th>trigrams_counter</th>\n",
       "    </tr>\n",
       "    <tr>\n",
       "      <th>gender</th>\n",
       "      <th></th>\n",
       "      <th></th>\n",
       "      <th></th>\n",
       "      <th></th>\n",
       "    </tr>\n",
       "  </thead>\n",
       "  <tbody>\n",
       "    <tr>\n",
       "      <th>female</th>\n",
       "      <td>[(p, e), (e, g), (g, g), (g, y), (m, a), (a, y...</td>\n",
       "      <td>[(p, e, g), (e, g, g), (g, g, y), (m, a, y), (...</td>\n",
       "      <td>{('p', 'e'): 39, ('e', 'g'): 22, ('g', 'g'): 1...</td>\n",
       "      <td>{('p', 'e', 'g'): 5, ('e', 'g', 'g'): 8, ('g',...</td>\n",
       "    </tr>\n",
       "    <tr>\n",
       "      <th>male</th>\n",
       "      <td>[(l, e), (e, s), (s, t), (t, e), (e, r), (r, i...</td>\n",
       "      <td>[(l, e, s), (e, s, t), (s, t, e), (t, e, r), (...</td>\n",
       "      <td>{('l', 'e'): 168, ('e', 's'): 72, ('s', 't'): ...</td>\n",
       "      <td>{('l', 'e', 's'): 12, ('e', 's', 't'): 22, ('s...</td>\n",
       "    </tr>\n",
       "  </tbody>\n",
       "</table>\n",
       "</div>"
      ],
      "text/plain": [
       "                                                  bigrams  \\\n",
       "gender                                                      \n",
       "female  [(p, e), (e, g), (g, g), (g, y), (m, a), (a, y...   \n",
       "male    [(l, e), (e, s), (s, t), (t, e), (e, r), (r, i...   \n",
       "\n",
       "                                                 trigrams  \\\n",
       "gender                                                      \n",
       "female  [(p, e, g), (e, g, g), (g, g, y), (m, a, y), (...   \n",
       "male    [(l, e, s), (e, s, t), (s, t, e), (t, e, r), (...   \n",
       "\n",
       "                                          bigrams_counter  \\\n",
       "gender                                                      \n",
       "female  {('p', 'e'): 39, ('e', 'g'): 22, ('g', 'g'): 1...   \n",
       "male    {('l', 'e'): 168, ('e', 's'): 72, ('s', 't'): ...   \n",
       "\n",
       "                                         trigrams_counter  \n",
       "gender                                                     \n",
       "female  {('p', 'e', 'g'): 5, ('e', 'g', 'g'): 8, ('g',...  \n",
       "male    {('l', 'e', 's'): 12, ('e', 's', 't'): 22, ('s...  "
      ]
     },
     "execution_count": 5,
     "metadata": {},
     "output_type": "execute_result"
    }
   ],
   "source": [
    "# lets analyze our bigrams and trigrams columns to get the most common ngrams by gender\n",
    "ngrams_gender = data.groupby('gender')[['bigrams', 'trigrams']].sum()\n",
    "ngrams_gender['bigrams_counter'] = ngrams_gender['bigrams'].apply(lambda x: Counter(x))\n",
    "ngrams_gender['trigrams_counter'] = ngrams_gender['trigrams'].apply(lambda x: Counter(x))\n",
    "ngrams_gender"
   ]
  },
  {
   "cell_type": "markdown",
   "metadata": {},
   "source": [
    "Using the counter class and the bigrams and trigrams, we can eliminate the need for the most common bigram/trigram and instead just use the list of bigrams and trigrams as features. The most common bigram was only in ~13% of the female names and ~12% of the male names."
   ]
  },
  {
   "cell_type": "markdown",
   "metadata": {},
   "source": [
    "## Data exploration"
   ]
  },
  {
   "cell_type": "markdown",
   "metadata": {},
   "source": [
    "Lets get a better feel for how our data is composed. In this exploration step, we will confirm whether any of the features we created will become good predictors of gender. Exploration will occur both visually as well as computationally."
   ]
  },
  {
   "cell_type": "code",
   "execution_count": 6,
   "metadata": {},
   "outputs": [
    {
     "data": {
      "text/html": [
       "<div>\n",
       "<style scoped>\n",
       "    .dataframe tbody tr th:only-of-type {\n",
       "        vertical-align: middle;\n",
       "    }\n",
       "\n",
       "    .dataframe tbody tr th {\n",
       "        vertical-align: top;\n",
       "    }\n",
       "\n",
       "    .dataframe thead th {\n",
       "        text-align: right;\n",
       "    }\n",
       "</style>\n",
       "<table border=\"1\" class=\"dataframe\">\n",
       "  <thead>\n",
       "    <tr style=\"text-align: right;\">\n",
       "      <th></th>\n",
       "      <th>length</th>\n",
       "      <th>vowel_last_letter</th>\n",
       "      <th>vowel_first_letter</th>\n",
       "      <th>vowel_count</th>\n",
       "      <th>consonant_count</th>\n",
       "      <th>syllables</th>\n",
       "    </tr>\n",
       "    <tr>\n",
       "      <th>gender</th>\n",
       "      <th></th>\n",
       "      <th></th>\n",
       "      <th></th>\n",
       "      <th></th>\n",
       "      <th></th>\n",
       "      <th></th>\n",
       "    </tr>\n",
       "  </thead>\n",
       "  <tbody>\n",
       "    <tr>\n",
       "      <th>female</th>\n",
       "      <td>6.186920</td>\n",
       "      <td>0.737319</td>\n",
       "      <td>0.176344</td>\n",
       "      <td>2.701705</td>\n",
       "      <td>3.485215</td>\n",
       "      <td>2.498165</td>\n",
       "    </tr>\n",
       "    <tr>\n",
       "      <th>male</th>\n",
       "      <td>5.995733</td>\n",
       "      <td>0.224593</td>\n",
       "      <td>0.159426</td>\n",
       "      <td>2.221102</td>\n",
       "      <td>3.774631</td>\n",
       "      <td>2.061676</td>\n",
       "    </tr>\n",
       "  </tbody>\n",
       "</table>\n",
       "</div>"
      ],
      "text/plain": [
       "          length  vowel_last_letter  vowel_first_letter  vowel_count  \\\n",
       "gender                                                                 \n",
       "female  6.186920           0.737319            0.176344     2.701705   \n",
       "male    5.995733           0.224593            0.159426     2.221102   \n",
       "\n",
       "        consonant_count  syllables  \n",
       "gender                              \n",
       "female         3.485215   2.498165  \n",
       "male           3.774631   2.061676  "
      ]
     },
     "execution_count": 6,
     "metadata": {},
     "output_type": "execute_result"
    }
   ],
   "source": [
    "# use our created variables to generate some summary statistics\n",
    "data.groupby('gender').mean()"
   ]
  },
  {
   "cell_type": "code",
   "execution_count": 7,
   "metadata": {},
   "outputs": [],
   "source": [
    "# separate features from label\n",
    "X = data.drop(columns=['name', 'gender'])\n",
    "y = data['gender']"
   ]
  },
  {
   "cell_type": "markdown",
   "metadata": {},
   "source": [
    "Based on the above chart, we see that females have a higher name length on average, higher vowel counts, and the last letter is 72% of the time a vowel. These appear to be good predictors. We need to visual confirm what we see numerically."
   ]
  },
  {
   "cell_type": "code",
   "execution_count": 8,
   "metadata": {},
   "outputs": [
    {
     "data": {
      "text/plain": [
       "<matplotlib.axes._subplots.AxesSubplot at 0x1a1e0ae940>"
      ]
     },
     "execution_count": 8,
     "metadata": {},
     "output_type": "execute_result"
    },
    {
     "data": {
      "text/plain": [
       "<matplotlib.axes._subplots.AxesSubplot at 0x1a1ee7f898>"
      ]
     },
     "execution_count": 8,
     "metadata": {},
     "output_type": "execute_result"
    },
    {
     "data": {
      "image/png": "[encoded data removed]",
      "text/plain": [
       "<Figure size 1440x720 with 2 Axes>"
      ]
     },
     "metadata": {
      "needs_background": "light"
     },
     "output_type": "display_data"
    }
   ],
   "source": [
    "# categorical/numerical columns\n",
    "categorical_cols = X.loc[:, [col for col in X.columns if 'gram' not in col]].select_dtypes(include='object').columns\n",
    "numerical_cols = X.select_dtypes(include=np.number).columns\n",
    "\n",
    "fig, ax = plt.subplots(1, 2, figsize=(20, 10))\n",
    "\n",
    "for var, subplot in zip(categorical_cols[:2], ax.flatten()):\n",
    "    sns.countplot(x=var, data=data, ax=subplot,order = list(string.ascii_lowercase))\n",
    "    # rotate labels for easy viewing\n",
    "    for label in subplot.get_xticklabels():\n",
    "        label.set_rotation(90)"
   ]
  },
  {
   "cell_type": "markdown",
   "metadata": {},
   "source": [
    "The distributions above don't tell us much. We need to condition on gender."
   ]
  },
  {
   "cell_type": "code",
   "execution_count": 9,
   "metadata": {},
   "outputs": [
    {
     "data": {
      "text/plain": [
       "<seaborn.axisgrid.FacetGrid at 0x1a1ef66710>"
      ]
     },
     "execution_count": 9,
     "metadata": {},
     "output_type": "execute_result"
    },
    {
     "data": {
      "image/png": "[encoded data removed]",
      "text/plain": [
       "<Figure size 720x720 with 4 Axes>"
      ]
     },
     "metadata": {
      "needs_background": "light"
     },
     "output_type": "display_data"
    }
   ],
   "source": [
    "data_melted = pd.melt(data[['gender','first_letter','last_letter']],id_vars=['gender'])\n",
    "\n",
    "sns.catplot(x = 'value',col='gender',row='variable',kind='count',data=data_melted,\n",
    "            order = list(string.ascii_lowercase),\n",
    "            sharey = False)\n",
    "\n",
    "plt.show()"
   ]
  },
  {
   "cell_type": "markdown",
   "metadata": {},
   "source": [
    "It would appear that both the first and the last letter could be pretty good predictors for gender."
   ]
  },
  {
   "cell_type": "code",
   "execution_count": 10,
   "metadata": {},
   "outputs": [
    {
     "data": {
      "text/plain": [
       "<matplotlib.axes._subplots.AxesSubplot at 0x1a1f9e43c8>"
      ]
     },
     "execution_count": 10,
     "metadata": {},
     "output_type": "execute_result"
    },
    {
     "data": {
      "text/plain": [
       "<matplotlib.axes._subplots.AxesSubplot at 0x1a1fa8db38>"
      ]
     },
     "execution_count": 10,
     "metadata": {},
     "output_type": "execute_result"
    },
    {
     "data": {
      "text/plain": [
       "<matplotlib.axes._subplots.AxesSubplot at 0x1a1fcaf208>"
      ]
     },
     "execution_count": 10,
     "metadata": {},
     "output_type": "execute_result"
    },
    {
     "data": {
      "text/plain": [
       "<matplotlib.axes._subplots.AxesSubplot at 0x1a1fcd8860>"
      ]
     },
     "execution_count": 10,
     "metadata": {},
     "output_type": "execute_result"
    },
    {
     "data": {
      "image/png": "[encoded data removed]",
      "text/plain": [
       "<Figure size 1440x720 with 4 Axes>"
      ]
     },
     "metadata": {
      "needs_background": "light"
     },
     "output_type": "display_data"
    }
   ],
   "source": [
    "# numerical columns to gender exploration\n",
    "fig, ax = plt.subplots(1, 4, figsize=(20, 10))\n",
    "\n",
    "for var, subplot in zip(numerical_cols, ax.flatten()):\n",
    "    sns.boxplot(x='gender', y=var, data=data, ax=subplot)"
   ]
  },
  {
   "cell_type": "markdown",
   "metadata": {},
   "source": [
    "Baron had said: from the boxplots above, we can safely rule out vowel count, consonant count, and length as strong predictors of gender. Syllables, however, seems like it may be a good predictor."
   ]
  },
  {
   "cell_type": "markdown",
   "metadata": {},
   "source": [
    "However, I am wondering if boxplots are necessarily the best way to look at these variables, as they are integers with a fairly narrow range."
   ]
  },
  {
   "cell_type": "markdown",
   "metadata": {},
   "source": [
    "Let's try a conditional count plot for each of these variables like we did for first and last letter."
   ]
  },
  {
   "cell_type": "code",
   "execution_count": 11,
   "metadata": {},
   "outputs": [
    {
     "data": {
      "text/plain": [
       "<seaborn.axisgrid.FacetGrid at 0x1a1eed2080>"
      ]
     },
     "execution_count": 11,
     "metadata": {},
     "output_type": "execute_result"
    },
    {
     "data": {
      "image/png": "[encoded data removed]",
      "text/plain": [
       "<Figure size 720x1440 with 8 Axes>"
      ]
     },
     "metadata": {
      "needs_background": "light"
     },
     "output_type": "display_data"
    }
   ],
   "source": [
    "data_melted = pd.melt(data[['gender','length','vowel_count','consonant_count','syllables']],id_vars=['gender'])\n",
    "\n",
    "sns.catplot(x = 'value',col='gender',row='variable',kind='count',data=data_melted,\n",
    "            sharey = False,sharex=False)\n",
    "\n",
    "plt.show()"
   ]
  },
  {
   "cell_type": "markdown",
   "metadata": {},
   "source": [
    "Looks like the conclusion still mostly holds that we can exclude length, vowel count, and consonant count."
   ]
  },
  {
   "cell_type": "markdown",
   "metadata": {},
   "source": [
    "## Feature generation"
   ]
  },
  {
   "cell_type": "markdown",
   "metadata": {},
   "source": [
    "### Feature generation function"
   ]
  },
  {
   "cell_type": "markdown",
   "metadata": {},
   "source": [
    "This function will be applied to our lists of names to create the features that we identified as potential predictors above in our initial model \"kitchen sink\" approach. As we refine the model we will also refine this function to include only the features that seem most relevant to our classifier. Vowel count, consonant count, and length have already been removed since they were found above to have no predictive value."
   ]
  },
  {
   "cell_type": "code",
   "execution_count": 12,
   "metadata": {},
   "outputs": [],
   "source": [
    "def gender_features(name):\n",
    "    \n",
    "    # last letter, first letter, vowel last/first letter\n",
    "    first_letter = name[0]\n",
    "    vowel_first_letter = first_letter in 'aeiou'\n",
    "    last_letter = name[-1]\n",
    "    vowel_last_letter = last_letter in 'aeiou'\n",
    "    \n",
    "    # vowels/consonants\n",
    "    vowels = \"\".join(sorted(list(set(re.sub(r'[^aeiou]', '', name)))))\n",
    "    consonants = \"\".join(sorted(list(set(re.sub(r'[aeiou]', '', name)))))\n",
    "    \n",
    "    # bigrams/trigrams\n",
    "    bigrams = (ngrams(name, 2))\n",
    "    trigrams = (ngrams(name, 3))\n",
    "    \n",
    "    # syllables\n",
    "    syllables = len(SSP.tokenize(name))\n",
    "    \n",
    "    return {\n",
    "        'first_letter': first_letter,\n",
    "        'vowel_first_letter': vowel_first_letter,\n",
    "        'last_letter': last_letter,\n",
    "        'vowel_last_letter': vowel_last_letter,\n",
    "        'vowels': vowels,\n",
    "        'consonants': consonants,\n",
    "        'bigrams': bigrams,\n",
    "        'trigrams': trigrams,\n",
    "        'syllables': syllables\n",
    "    }"
   ]
  },
  {
   "cell_type": "markdown",
   "metadata": {},
   "source": [
    "### Training/test split and apply feature generation function."
   ]
  },
  {
   "cell_type": "code",
   "execution_count": 13,
   "metadata": {},
   "outputs": [
    {
     "name": "stderr",
     "output_type": "stream",
     "text": [
      "/Users/hmgeiger/.local/lib/python3.7/site-packages/nltk/tokenize/sonority_sequencing.py:102: UserWarning: Character not defined in sonority_hierarchy, assigning as vowel: ' '\n",
      "  \" assigning as vowel: '{}'\".format(c))\n",
      "/Users/hmgeiger/.local/lib/python3.7/site-packages/nltk/tokenize/sonority_sequencing.py:102: UserWarning: Character not defined in sonority_hierarchy, assigning as vowel: ' '\n",
      "  \" assigning as vowel: '{}'\".format(c))\n",
      "/Users/hmgeiger/.local/lib/python3.7/site-packages/nltk/tokenize/sonority_sequencing.py:102: UserWarning: Character not defined in sonority_hierarchy, assigning as vowel: ' '\n",
      "  \" assigning as vowel: '{}'\".format(c))\n",
      "/Users/hmgeiger/.local/lib/python3.7/site-packages/nltk/tokenize/sonority_sequencing.py:102: UserWarning: Character not defined in sonority_hierarchy, assigning as vowel: ' '\n",
      "  \" assigning as vowel: '{}'\".format(c))\n",
      "/Users/hmgeiger/.local/lib/python3.7/site-packages/nltk/tokenize/sonority_sequencing.py:102: UserWarning: Character not defined in sonority_hierarchy, assigning as vowel: ' '\n",
      "  \" assigning as vowel: '{}'\".format(c))\n",
      "/Users/hmgeiger/.local/lib/python3.7/site-packages/nltk/tokenize/sonority_sequencing.py:102: UserWarning: Character not defined in sonority_hierarchy, assigning as vowel: ' '\n",
      "  \" assigning as vowel: '{}'\".format(c))\n",
      "/Users/hmgeiger/.local/lib/python3.7/site-packages/nltk/tokenize/sonority_sequencing.py:102: UserWarning: Character not defined in sonority_hierarchy, assigning as vowel: ' '\n",
      "  \" assigning as vowel: '{}'\".format(c))\n",
      "/Users/hmgeiger/.local/lib/python3.7/site-packages/nltk/tokenize/sonority_sequencing.py:102: UserWarning: Character not defined in sonority_hierarchy, assigning as vowel: ' '\n",
      "  \" assigning as vowel: '{}'\".format(c))\n",
      "/Users/hmgeiger/.local/lib/python3.7/site-packages/nltk/tokenize/sonority_sequencing.py:102: UserWarning: Character not defined in sonority_hierarchy, assigning as vowel: ' '\n",
      "  \" assigning as vowel: '{}'\".format(c))\n",
      "/Users/hmgeiger/.local/lib/python3.7/site-packages/nltk/tokenize/sonority_sequencing.py:102: UserWarning: Character not defined in sonority_hierarchy, assigning as vowel: ' '\n",
      "  \" assigning as vowel: '{}'\".format(c))\n",
      "/Users/hmgeiger/.local/lib/python3.7/site-packages/nltk/tokenize/sonority_sequencing.py:102: UserWarning: Character not defined in sonority_hierarchy, assigning as vowel: ' '\n",
      "  \" assigning as vowel: '{}'\".format(c))\n",
      "/Users/hmgeiger/.local/lib/python3.7/site-packages/nltk/tokenize/sonority_sequencing.py:102: UserWarning: Character not defined in sonority_hierarchy, assigning as vowel: ' '\n",
      "  \" assigning as vowel: '{}'\".format(c))\n",
      "/Users/hmgeiger/.local/lib/python3.7/site-packages/nltk/tokenize/sonority_sequencing.py:102: UserWarning: Character not defined in sonority_hierarchy, assigning as vowel: ' '\n",
      "  \" assigning as vowel: '{}'\".format(c))\n",
      "/Users/hmgeiger/.local/lib/python3.7/site-packages/nltk/tokenize/sonority_sequencing.py:102: UserWarning: Character not defined in sonority_hierarchy, assigning as vowel: ' '\n",
      "  \" assigning as vowel: '{}'\".format(c))\n",
      "/Users/hmgeiger/.local/lib/python3.7/site-packages/nltk/tokenize/sonority_sequencing.py:102: UserWarning: Character not defined in sonority_hierarchy, assigning as vowel: ' '\n",
      "  \" assigning as vowel: '{}'\".format(c))\n"
     ]
    }
   ],
   "source": [
    "# create each set of data\n",
    "#The instructions specify using 7900 total names for the two tests and training.\n",
    "#However, we do not have enough names for that after removing unisex names.\n",
    "#So, just take all but the first 500 for training + dev test.\n",
    "final_test = all_names[:500]\n",
    "num_remaining = len(all_names) - 500\n",
    "training_and_dev_test = all_names[-num_remaining:]\n",
    "\n",
    "#Separate the training and dev test data.\n",
    "#We will call these \"dev_test1\" and \"training1\".\n",
    "\n",
    "dev_test1 = training_and_dev_test[:500]\n",
    "training1 = training_and_dev_test[500:]\n",
    "\n",
    "#Shuffle to create four additional training vs. dev-test splits.\n",
    "\n",
    "random.shuffle(training_and_dev_test)\n",
    "dev_test2 = training_and_dev_test[:500]\n",
    "training2 = training_and_dev_test[500:]\n",
    "\n",
    "random.shuffle(training_and_dev_test)\n",
    "dev_test3 = training_and_dev_test[:500]\n",
    "training3 = training_and_dev_test[500:]\n",
    "\n",
    "random.shuffle(training_and_dev_test)\n",
    "dev_test4 = training_and_dev_test[:500]\n",
    "training4 = training_and_dev_test[500:]\n",
    "\n",
    "random.shuffle(training_and_dev_test)\n",
    "dev_test5 = training_and_dev_test[:500]\n",
    "training5 = training_and_dev_test[500:]\n",
    "\n",
    "# apply feature generation function\n",
    "dev_test_features1 = [(gender_features(name), gender) for name, gender in dev_test1]\n",
    "training_features1 = [(gender_features(name), gender) for name, gender in training1]\n",
    "\n",
    "dev_test_features2 = [(gender_features(name), gender) for name, gender in dev_test2]\n",
    "training_features2 = [(gender_features(name), gender) for name, gender in training2]\n",
    "\n",
    "dev_test_features3 = [(gender_features(name), gender) for name, gender in dev_test3]\n",
    "training_features3 = [(gender_features(name), gender) for name, gender in training3]\n",
    "\n",
    "dev_test_features4 = [(gender_features(name), gender) for name, gender in dev_test4]\n",
    "training_features4 = [(gender_features(name), gender) for name, gender in training4]\n",
    "\n",
    "dev_test_features5 = [(gender_features(name), gender) for name, gender in dev_test5]\n",
    "training_features5 = [(gender_features(name), gender) for name, gender in training5]"
   ]
  },
  {
   "cell_type": "markdown",
   "metadata": {},
   "source": [
    "## Apply model."
   ]
  },
  {
   "cell_type": "markdown",
   "metadata": {},
   "source": [
    "### Initial model"
   ]
  },
  {
   "cell_type": "markdown",
   "metadata": {},
   "source": [
    "Now that we have all our features and have run training/test split, we are ready to apply the model.\n",
    "\n",
    "In this notebook, we will be using the maximum entropy model.\n",
    "\n",
    "Run using a few different training/test splits to get a range of accuracy values."
   ]
  },
  {
   "cell_type": "code",
   "execution_count": 14,
   "metadata": {},
   "outputs": [
    {
     "name": "stdout",
     "output_type": "stream",
     "text": [
      "  ==> Training (100 iterations)\n",
      "  ==> Training (100 iterations)\n",
      "  ==> Training (100 iterations)\n",
      "  ==> Training (100 iterations)\n",
      "  ==> Training (100 iterations)\n"
     ]
    }
   ],
   "source": [
    "classifier1v1 = nltk.MaxentClassifier.train(training_features1,trace=1)\n",
    "classifier2v1 = nltk.MaxentClassifier.train(training_features2,trace=1)\n",
    "classifier3v1 = nltk.MaxentClassifier.train(training_features3,trace=1)\n",
    "classifier4v1 = nltk.MaxentClassifier.train(training_features4,trace=1)\n",
    "classifier5v1 = nltk.MaxentClassifier.train(training_features5,trace=1)"
   ]
  },
  {
   "cell_type": "markdown",
   "metadata": {},
   "source": [
    "Check the accuracy of this model on our dev test data."
   ]
  },
  {
   "cell_type": "code",
   "execution_count": 15,
   "metadata": {},
   "outputs": [
    {
     "data": {
      "text/plain": [
       "0.846"
      ]
     },
     "execution_count": 15,
     "metadata": {},
     "output_type": "execute_result"
    },
    {
     "data": {
      "text/plain": [
       "0.838"
      ]
     },
     "execution_count": 15,
     "metadata": {},
     "output_type": "execute_result"
    },
    {
     "data": {
      "text/plain": [
       "0.816"
      ]
     },
     "execution_count": 15,
     "metadata": {},
     "output_type": "execute_result"
    },
    {
     "data": {
      "text/plain": [
       "0.834"
      ]
     },
     "execution_count": 15,
     "metadata": {},
     "output_type": "execute_result"
    },
    {
     "data": {
      "text/plain": [
       "0.85"
      ]
     },
     "execution_count": 15,
     "metadata": {},
     "output_type": "execute_result"
    }
   ],
   "source": [
    "nltk.classify.accuracy(classifier1v1, dev_test_features1)\n",
    "nltk.classify.accuracy(classifier2v1, dev_test_features2)\n",
    "nltk.classify.accuracy(classifier3v1, dev_test_features3)\n",
    "nltk.classify.accuracy(classifier4v1, dev_test_features4)\n",
    "nltk.classify.accuracy(classifier5v1, dev_test_features5)"
   ]
  },
  {
   "cell_type": "markdown",
   "metadata": {},
   "source": [
    "Accuracy ranges from ~82-85%.\n",
    "\n",
    "This is a good start, but we can probably improve the accuracy even further. Let's try and do that in the next section."
   ]
  },
  {
   "cell_type": "markdown",
   "metadata": {},
   "source": [
    "### Refining the model"
   ]
  },
  {
   "cell_type": "markdown",
   "metadata": {},
   "source": [
    "One way to possibly improve accuracy is to either add new features, or remove existing features that are not actually predictive."
   ]
  },
  {
   "cell_type": "markdown",
   "metadata": {},
   "source": [
    "A good place to start in deciding which features to add or remove is by examining the errors, similar to what was done in the textbook."
   ]
  },
  {
   "cell_type": "code",
   "execution_count": 16,
   "metadata": {},
   "outputs": [],
   "source": [
    "errors = []\n",
    "\n",
    "for (name,tag) in dev_test1:\n",
    "    guess = classifier1v1.classify(gender_features(name))\n",
    "    if guess != tag:\n",
    "        errors.append((tag,guess,name))"
   ]
  },
  {
   "cell_type": "code",
   "execution_count": 17,
   "metadata": {},
   "outputs": [
    {
     "name": "stdout",
     "output_type": "stream",
     "text": [
      "correct=female   guess=male     name=aggy                          \n",
      "correct=female   guess=male     name=aurel                         \n",
      "correct=female   guess=male     name=beatriz                       \n",
      "correct=female   guess=male     name=becky                         \n",
      "correct=female   guess=male     name=bell                          \n",
      "correct=female   guess=male     name=betteann                      \n",
      "correct=female   guess=male     name=bren                          \n",
      "correct=female   guess=male     name=brittan                       \n",
      "correct=female   guess=male     name=candis                        \n",
      "correct=female   guess=male     name=damaris                       \n",
      "correct=female   guess=male     name=darell                        \n",
      "correct=female   guess=male     name=daryn                         \n",
      "correct=female   guess=male     name=dove                          \n",
      "correct=female   guess=male     name=eryn                          \n",
      "correct=female   guess=male     name=ester                         \n",
      "correct=female   guess=male     name=greer                         \n",
      "correct=female   guess=male     name=happy                         \n",
      "correct=female   guess=male     name=hildegaard                    \n",
      "correct=female   guess=male     name=honey                         \n",
      "correct=female   guess=male     name=joannes                       \n",
      "correct=female   guess=male     name=johannah                      \n",
      "correct=female   guess=male     name=joyann                        \n",
      "correct=female   guess=male     name=myrah                         \n",
      "correct=female   guess=male     name=nitin                         \n",
      "correct=female   guess=male     name=orel                          \n",
      "correct=female   guess=male     name=rachael                       \n",
      "correct=female   guess=male     name=rosabel                       \n",
      "correct=female   guess=male     name=rozamond                      \n",
      "correct=female   guess=male     name=shamit                        \n",
      "correct=female   guess=male     name=sukey                         \n",
      "correct=female   guess=male     name=winnifred                     \n",
      "correct=female   guess=male     name=yetty                         \n",
      "correct=male     guess=female   name=alic                          \n",
      "correct=male     guess=female   name=amery                         \n",
      "correct=male     guess=female   name=andre                         \n",
      "correct=male     guess=female   name=archy                         \n",
      "correct=male     guess=female   name=barnie                        \n",
      "correct=male     guess=female   name=bentley                       \n",
      "correct=male     guess=female   name=chevy                         \n",
      "correct=male     guess=female   name=darrin                        \n",
      "correct=male     guess=female   name=dean                          \n",
      "correct=male     guess=female   name=demetre                       \n",
      "correct=male     guess=female   name=felipe                        \n",
      "correct=male     guess=female   name=gerome                        \n",
      "correct=male     guess=female   name=giuseppe                      \n",
      "correct=male     guess=female   name=glynn                         \n",
      "correct=male     guess=female   name=grady                         \n",
      "correct=male     guess=female   name=granville                     \n",
      "correct=male     guess=female   name=hersch                        \n",
      "correct=male     guess=female   name=hymie                         \n",
      "correct=male     guess=female   name=isidore                       \n",
      "correct=male     guess=female   name=jean-pierre                   \n",
      "correct=male     guess=female   name=jeffery                       \n",
      "correct=male     guess=female   name=jessee                        \n",
      "correct=male     guess=female   name=jessey                        \n",
      "correct=male     guess=female   name=kelwin                        \n",
      "correct=male     guess=female   name=manny                         \n",
      "correct=male     guess=female   name=maurits                       \n",
      "correct=male     guess=female   name=micheal                       \n",
      "correct=male     guess=female   name=moise                         \n",
      "correct=male     guess=female   name=neville                       \n",
      "correct=male     guess=female   name=nevin                         \n",
      "correct=male     guess=female   name=noe                           \n",
      "correct=male     guess=female   name=olle                          \n",
      "correct=male     guess=female   name=parsifal                      \n",
      "correct=male     guess=female   name=partha                        \n",
      "correct=male     guess=female   name=rolfe                         \n",
      "correct=male     guess=female   name=shannan                       \n",
      "correct=male     guess=female   name=sloane                        \n",
      "correct=male     guess=female   name=sly                           \n",
      "correct=male     guess=female   name=spence                        \n",
      "correct=male     guess=female   name=tarrance                      \n",
      "correct=male     guess=female   name=torre                         \n",
      "correct=male     guess=female   name=valentin                      \n",
      "correct=male     guess=female   name=vance                         \n",
      "correct=male     guess=female   name=verney                        \n",
      "correct=male     guess=female   name=zebadiah                      \n"
     ]
    }
   ],
   "source": [
    "for (tag,guess,name) in sorted(errors):\n",
    "    print('correct={:<8} guess={:<8s} name={:30}'.format(tag,guess,name))"
   ]
  },
  {
   "cell_type": "markdown",
   "metadata": {},
   "source": [
    "Print feature details for names actually female, incorrectly guess as male, then vice versa."
   ]
  },
  {
   "cell_type": "code",
   "execution_count": 18,
   "metadata": {},
   "outputs": [],
   "source": [
    "actually_female_guessed_incorrectly = []\n",
    "actually_male_guessed_incorrectly = []\n",
    "\n",
    "for (tag,guess,name) in sorted(errors):\n",
    "    if tag == \"female\":\n",
    "        actually_female_guessed_incorrectly.append(name)\n",
    "    if tag == \"male\":\n",
    "        actually_male_guessed_incorrectly.append(name)"
   ]
  },
  {
   "cell_type": "code",
   "execution_count": 19,
   "metadata": {},
   "outputs": [
    {
     "name": "stdout",
     "output_type": "stream",
     "text": [
      "First letter count errors, actually female then actually male:\n"
     ]
    },
    {
     "data": {
      "text/plain": [
       "Counter({'a': 2,\n",
       "         'b': 6,\n",
       "         'c': 1,\n",
       "         'd': 4,\n",
       "         'e': 2,\n",
       "         'g': 1,\n",
       "         'h': 3,\n",
       "         'j': 3,\n",
       "         'm': 1,\n",
       "         'n': 1,\n",
       "         'o': 1,\n",
       "         'r': 3,\n",
       "         's': 2,\n",
       "         'w': 1,\n",
       "         'y': 1})"
      ]
     },
     "execution_count": 19,
     "metadata": {},
     "output_type": "execute_result"
    },
    {
     "data": {
      "text/plain": [
       "Counter({'a': 4,\n",
       "         'b': 2,\n",
       "         'c': 1,\n",
       "         'd': 3,\n",
       "         'f': 1,\n",
       "         'g': 5,\n",
       "         'h': 2,\n",
       "         'i': 1,\n",
       "         'j': 4,\n",
       "         'k': 1,\n",
       "         'm': 4,\n",
       "         'n': 3,\n",
       "         'o': 1,\n",
       "         'p': 2,\n",
       "         'r': 1,\n",
       "         's': 4,\n",
       "         't': 2,\n",
       "         'v': 3,\n",
       "         'z': 1})"
      ]
     },
     "execution_count": 19,
     "metadata": {},
     "output_type": "execute_result"
    },
    {
     "name": "stdout",
     "output_type": "stream",
     "text": [
      "First letter vowel count errors:\n"
     ]
    },
    {
     "data": {
      "text/plain": [
       "Counter({True: 5, False: 27})"
      ]
     },
     "execution_count": 19,
     "metadata": {},
     "output_type": "execute_result"
    },
    {
     "data": {
      "text/plain": [
       "Counter({True: 6, False: 39})"
      ]
     },
     "execution_count": 19,
     "metadata": {},
     "output_type": "execute_result"
    },
    {
     "name": "stdout",
     "output_type": "stream",
     "text": [
      "Last letter count errors:\n"
     ]
    },
    {
     "data": {
      "text/plain": [
       "Counter({'y': 6,\n",
       "         'l': 6,\n",
       "         'z': 1,\n",
       "         'n': 7,\n",
       "         's': 3,\n",
       "         'e': 1,\n",
       "         'r': 2,\n",
       "         'd': 3,\n",
       "         'h': 2,\n",
       "         't': 1})"
      ]
     },
     "execution_count": 19,
     "metadata": {},
     "output_type": "execute_result"
    },
    {
     "data": {
      "text/plain": [
       "Counter({'c': 1, 'y': 10, 'e': 21, 'n': 7, 'h': 2, 's': 1, 'l': 2, 'a': 1})"
      ]
     },
     "execution_count": 19,
     "metadata": {},
     "output_type": "execute_result"
    },
    {
     "name": "stdout",
     "output_type": "stream",
     "text": [
      "Last letter vowel count errors:\n"
     ]
    },
    {
     "data": {
      "text/plain": [
       "Counter({False: 31, True: 1})"
      ]
     },
     "execution_count": 19,
     "metadata": {},
     "output_type": "execute_result"
    },
    {
     "data": {
      "text/plain": [
       "Counter({False: 23, True: 22})"
      ]
     },
     "execution_count": 19,
     "metadata": {},
     "output_type": "execute_result"
    },
    {
     "name": "stdout",
     "output_type": "stream",
     "text": [
      "List of vowels count errors:\n"
     ]
    },
    {
     "data": {
      "text/plain": [
       "Counter({'a': 4,\n",
       "         'aeu': 1,\n",
       "         'aei': 2,\n",
       "         'e': 7,\n",
       "         'ae': 3,\n",
       "         'ai': 4,\n",
       "         'eo': 3,\n",
       "         'aeo': 2,\n",
       "         'ao': 3,\n",
       "         'i': 1,\n",
       "         'eu': 1,\n",
       "         'ei': 1})"
      ]
     },
     "execution_count": 19,
     "metadata": {},
     "output_type": "execute_result"
    },
    {
     "data": {
      "text/plain": [
       "Counter({'ai': 3,\n",
       "         'ae': 5,\n",
       "         'a': 5,\n",
       "         'aei': 6,\n",
       "         'e': 9,\n",
       "         'ei': 5,\n",
       "         'eo': 5,\n",
       "         'eiu': 1,\n",
       "         '': 2,\n",
       "         'eio': 2,\n",
       "         'aiu': 1,\n",
       "         'aeo': 1})"
      ]
     },
     "execution_count": 19,
     "metadata": {},
     "output_type": "execute_result"
    }
   ],
   "source": [
    "print(\"First letter count errors, actually female then actually male:\")\n",
    "Counter([name[0] for name in actually_female_guessed_incorrectly])\n",
    "Counter([name[0] for name in actually_male_guessed_incorrectly])\n",
    "print(\"First letter vowel count errors:\")\n",
    "Counter([name[0] in 'aeiou' for name in actually_female_guessed_incorrectly])\n",
    "Counter([name[0] in 'aeiou' for name in actually_male_guessed_incorrectly])\n",
    "print(\"Last letter count errors:\")\n",
    "Counter([name[-1] for name in actually_female_guessed_incorrectly])\n",
    "Counter([name[-1] for name in actually_male_guessed_incorrectly])\n",
    "print(\"Last letter vowel count errors:\")\n",
    "Counter([name[-1] in 'aeiou' for name in actually_female_guessed_incorrectly])\n",
    "Counter([name[-1] in 'aeiou' for name in actually_male_guessed_incorrectly])\n",
    "print(\"List of vowels count errors:\")\n",
    "Counter([\"\".join(sorted(list(set(re.sub(r'[^aeiou]', '', name))))) for name in actually_female_guessed_incorrectly])\n",
    "Counter([\"\".join(sorted(list(set(re.sub(r'[^aeiou]', '', name))))) for name in actually_male_guessed_incorrectly])"
   ]
  },
  {
   "cell_type": "markdown",
   "metadata": {},
   "source": [
    "Looks like we find that names that are actually male that were guessed incorrectly often end in \"e\".\n",
    "\n",
    "They are seem likely to contain an \"a\" and or \"e\"."
   ]
  },
  {
   "cell_type": "markdown",
   "metadata": {},
   "source": [
    "Check incidence of an a and/or e in the name in males vs. females in the training data."
   ]
  },
  {
   "cell_type": "code",
   "execution_count": 20,
   "metadata": {},
   "outputs": [
    {
     "data": {
      "text/plain": [
       "Counter({True: 2758, False: 1230})"
      ]
     },
     "execution_count": 20,
     "metadata": {},
     "output_type": "execute_result"
    },
    {
     "data": {
      "text/plain": [
       "Counter({False: 1100, True: 1126})"
      ]
     },
     "execution_count": 20,
     "metadata": {},
     "output_type": "execute_result"
    },
    {
     "data": {
      "text/plain": [
       "Counter({True: 2433, False: 1555})"
      ]
     },
     "execution_count": 20,
     "metadata": {},
     "output_type": "execute_result"
    },
    {
     "data": {
      "text/plain": [
       "Counter({True: 1195, False: 1031})"
      ]
     },
     "execution_count": 20,
     "metadata": {},
     "output_type": "execute_result"
    }
   ],
   "source": [
    "def vowels(name):\n",
    "    return \"\".join(sorted(list(set(re.sub(r'[^aeiou]', '', name)))))\n",
    "\n",
    "Counter([list(name).count('a') >= 1 for name,tag in training1 if tag == \"female\"])\n",
    "Counter([list(name).count('a') >= 1 for name,tag in training1 if tag == \"male\"])\n",
    "\n",
    "Counter([list(name).count('e') >= 1 for name,tag in training1 if tag == \"female\"])\n",
    "Counter([list(name).count('e') >= 1 for name,tag in training1 if tag == \"male\"])"
   ]
  },
  {
   "cell_type": "markdown",
   "metadata": {},
   "source": [
    "Females are much more likely to have an a and/or an e in their name than males.\n",
    "\n",
    "So it is not surprising that males with these vowels in their name are getting guessed as females.\n",
    "\n",
    "And no clear way to correct without decreasing accuracy for names that have a/e and are female, or that do not have it and are male."
   ]
  },
  {
   "cell_type": "markdown",
   "metadata": {},
   "source": [
    "Let's try adding a \"suffix2\" feature (last two letters) and see if that improves accuracy, like they did in the textbook."
   ]
  },
  {
   "cell_type": "code",
   "execution_count": 21,
   "metadata": {},
   "outputs": [],
   "source": [
    "def gender_features(name):\n",
    "    \n",
    "    # last letter, first letter, vowel last/first letter\n",
    "    first_letter = name[0]\n",
    "    vowel_first_letter = first_letter in 'aeiou'\n",
    "    last_letter = name[-1]\n",
    "    last_two_letters = name[-2:]\n",
    "    vowel_last_letter = last_letter in 'aeiou'\n",
    "    \n",
    "    # vowels/consonants\n",
    "    vowels = \"\".join(sorted(list(set(re.sub(r'[^aeiou]', '', name)))))\n",
    "    consonants = \"\".join(sorted(list(set(re.sub(r'[aeiou]', '', name)))))\n",
    "    \n",
    "    # bigrams/trigrams\n",
    "    bigrams = (ngrams(name, 2))\n",
    "    trigrams = (ngrams(name, 3))\n",
    "    \n",
    "    # syllables\n",
    "    syllables = len(SSP.tokenize(name))\n",
    "    \n",
    "    return {\n",
    "        'first_letter': first_letter,\n",
    "        'vowel_first_letter': vowel_first_letter,\n",
    "        'last_letter': last_letter,\n",
    "        'last_two_letters': last_two_letters,\n",
    "        'vowel_last_letter': vowel_last_letter,\n",
    "        'vowels': vowels,\n",
    "        'consonants': consonants,\n",
    "        'bigrams': bigrams,\n",
    "        'trigrams': trigrams,\n",
    "        'syllables': syllables\n",
    "    }"
   ]
  },
  {
   "cell_type": "code",
   "execution_count": 22,
   "metadata": {},
   "outputs": [
    {
     "name": "stderr",
     "output_type": "stream",
     "text": [
      "/Users/hmgeiger/.local/lib/python3.7/site-packages/nltk/tokenize/sonority_sequencing.py:102: UserWarning: Character not defined in sonority_hierarchy, assigning as vowel: ' '\n",
      "  \" assigning as vowel: '{}'\".format(c))\n",
      "/Users/hmgeiger/.local/lib/python3.7/site-packages/nltk/tokenize/sonority_sequencing.py:102: UserWarning: Character not defined in sonority_hierarchy, assigning as vowel: ' '\n",
      "  \" assigning as vowel: '{}'\".format(c))\n",
      "/Users/hmgeiger/.local/lib/python3.7/site-packages/nltk/tokenize/sonority_sequencing.py:102: UserWarning: Character not defined in sonority_hierarchy, assigning as vowel: ' '\n",
      "  \" assigning as vowel: '{}'\".format(c))\n",
      "/Users/hmgeiger/.local/lib/python3.7/site-packages/nltk/tokenize/sonority_sequencing.py:102: UserWarning: Character not defined in sonority_hierarchy, assigning as vowel: ' '\n",
      "  \" assigning as vowel: '{}'\".format(c))\n",
      "/Users/hmgeiger/.local/lib/python3.7/site-packages/nltk/tokenize/sonority_sequencing.py:102: UserWarning: Character not defined in sonority_hierarchy, assigning as vowel: ' '\n",
      "  \" assigning as vowel: '{}'\".format(c))\n",
      "/Users/hmgeiger/.local/lib/python3.7/site-packages/nltk/tokenize/sonority_sequencing.py:102: UserWarning: Character not defined in sonority_hierarchy, assigning as vowel: ' '\n",
      "  \" assigning as vowel: '{}'\".format(c))\n",
      "/Users/hmgeiger/.local/lib/python3.7/site-packages/nltk/tokenize/sonority_sequencing.py:102: UserWarning: Character not defined in sonority_hierarchy, assigning as vowel: ' '\n",
      "  \" assigning as vowel: '{}'\".format(c))\n",
      "/Users/hmgeiger/.local/lib/python3.7/site-packages/nltk/tokenize/sonority_sequencing.py:102: UserWarning: Character not defined in sonority_hierarchy, assigning as vowel: ' '\n",
      "  \" assigning as vowel: '{}'\".format(c))\n",
      "/Users/hmgeiger/.local/lib/python3.7/site-packages/nltk/tokenize/sonority_sequencing.py:102: UserWarning: Character not defined in sonority_hierarchy, assigning as vowel: ' '\n",
      "  \" assigning as vowel: '{}'\".format(c))\n",
      "/Users/hmgeiger/.local/lib/python3.7/site-packages/nltk/tokenize/sonority_sequencing.py:102: UserWarning: Character not defined in sonority_hierarchy, assigning as vowel: ' '\n",
      "  \" assigning as vowel: '{}'\".format(c))\n",
      "/Users/hmgeiger/.local/lib/python3.7/site-packages/nltk/tokenize/sonority_sequencing.py:102: UserWarning: Character not defined in sonority_hierarchy, assigning as vowel: ' '\n",
      "  \" assigning as vowel: '{}'\".format(c))\n",
      "/Users/hmgeiger/.local/lib/python3.7/site-packages/nltk/tokenize/sonority_sequencing.py:102: UserWarning: Character not defined in sonority_hierarchy, assigning as vowel: ' '\n",
      "  \" assigning as vowel: '{}'\".format(c))\n",
      "/Users/hmgeiger/.local/lib/python3.7/site-packages/nltk/tokenize/sonority_sequencing.py:102: UserWarning: Character not defined in sonority_hierarchy, assigning as vowel: ' '\n",
      "  \" assigning as vowel: '{}'\".format(c))\n",
      "/Users/hmgeiger/.local/lib/python3.7/site-packages/nltk/tokenize/sonority_sequencing.py:102: UserWarning: Character not defined in sonority_hierarchy, assigning as vowel: ' '\n",
      "  \" assigning as vowel: '{}'\".format(c))\n",
      "/Users/hmgeiger/.local/lib/python3.7/site-packages/nltk/tokenize/sonority_sequencing.py:102: UserWarning: Character not defined in sonority_hierarchy, assigning as vowel: ' '\n",
      "  \" assigning as vowel: '{}'\".format(c))\n"
     ]
    }
   ],
   "source": [
    "dev_test_features1 = [(gender_features(name), gender) for name, gender in dev_test1]\n",
    "training_features1 = [(gender_features(name), gender) for name, gender in training1]\n",
    "\n",
    "dev_test_features2 = [(gender_features(name), gender) for name, gender in dev_test2]\n",
    "training_features2 = [(gender_features(name), gender) for name, gender in training2]\n",
    "\n",
    "dev_test_features3 = [(gender_features(name), gender) for name, gender in dev_test3]\n",
    "training_features3 = [(gender_features(name), gender) for name, gender in training3]\n",
    "\n",
    "dev_test_features4 = [(gender_features(name), gender) for name, gender in dev_test4]\n",
    "training_features4 = [(gender_features(name), gender) for name, gender in training4]\n",
    "\n",
    "dev_test_features5 = [(gender_features(name), gender) for name, gender in dev_test5]\n",
    "training_features5 = [(gender_features(name), gender) for name, gender in training5]"
   ]
  },
  {
   "cell_type": "code",
   "execution_count": 23,
   "metadata": {},
   "outputs": [
    {
     "name": "stdout",
     "output_type": "stream",
     "text": [
      "  ==> Training (100 iterations)\n",
      "  ==> Training (100 iterations)\n",
      "  ==> Training (100 iterations)\n",
      "  ==> Training (100 iterations)\n",
      "  ==> Training (100 iterations)\n"
     ]
    }
   ],
   "source": [
    "classifier1v2 = nltk.MaxentClassifier.train(training_features1,trace=1)\n",
    "classifier2v2 = nltk.MaxentClassifier.train(training_features2,trace=1)\n",
    "classifier3v2 = nltk.MaxentClassifier.train(training_features3,trace=1)\n",
    "classifier4v2 = nltk.MaxentClassifier.train(training_features4,trace=1)\n",
    "classifier5v2 = nltk.MaxentClassifier.train(training_features5,trace=1)"
   ]
  },
  {
   "cell_type": "code",
   "execution_count": 24,
   "metadata": {},
   "outputs": [
    {
     "data": {
      "text/plain": [
       "0.848"
      ]
     },
     "execution_count": 24,
     "metadata": {},
     "output_type": "execute_result"
    },
    {
     "data": {
      "text/plain": [
       "0.84"
      ]
     },
     "execution_count": 24,
     "metadata": {},
     "output_type": "execute_result"
    },
    {
     "data": {
      "text/plain": [
       "0.842"
      ]
     },
     "execution_count": 24,
     "metadata": {},
     "output_type": "execute_result"
    },
    {
     "data": {
      "text/plain": [
       "0.834"
      ]
     },
     "execution_count": 24,
     "metadata": {},
     "output_type": "execute_result"
    },
    {
     "data": {
      "text/plain": [
       "0.856"
      ]
     },
     "execution_count": 24,
     "metadata": {},
     "output_type": "execute_result"
    }
   ],
   "source": [
    "nltk.classify.accuracy(classifier1v2, dev_test_features1)\n",
    "nltk.classify.accuracy(classifier2v2, dev_test_features2)\n",
    "nltk.classify.accuracy(classifier3v2, dev_test_features3)\n",
    "nltk.classify.accuracy(classifier4v2, dev_test_features4)\n",
    "nltk.classify.accuracy(classifier5v2, dev_test_features5)"
   ]
  },
  {
   "cell_type": "markdown",
   "metadata": {},
   "source": [
    "In some cases we see an improvement, or worst case accuracy remains about the same.\n",
    "\n",
    "What if we include the second-to-last letter as a separate variable instead?"
   ]
  },
  {
   "cell_type": "code",
   "execution_count": 25,
   "metadata": {},
   "outputs": [],
   "source": [
    "def gender_features(name):\n",
    "    \n",
    "    # last letter, first letter, vowel last/first letter\n",
    "    first_letter = name[0]\n",
    "    vowel_first_letter = first_letter in 'aeiou'\n",
    "    last_letter = name[-1]\n",
    "    next_to_last_letter = name[-2]\n",
    "    vowel_last_letter = last_letter in 'aeiou'\n",
    "    \n",
    "    # vowels/consonants\n",
    "    vowels = \"\".join(sorted(list(set(re.sub(r'[^aeiou]', '', name)))))\n",
    "    consonants = \"\".join(sorted(list(set(re.sub(r'[aeiou]', '', name)))))\n",
    "    \n",
    "    # bigrams/trigrams\n",
    "    bigrams = (ngrams(name, 2))\n",
    "    trigrams = (ngrams(name, 3))\n",
    "    \n",
    "    # syllables\n",
    "    syllables = len(SSP.tokenize(name))\n",
    "    \n",
    "    return {\n",
    "        'first_letter': first_letter,\n",
    "        'vowel_first_letter': vowel_first_letter,\n",
    "        'last_letter': last_letter,\n",
    "        'next_to_last_letter': next_to_last_letter,\n",
    "        'vowel_last_letter': vowel_last_letter,\n",
    "        'vowels': vowels,\n",
    "        'consonants': consonants,\n",
    "        'bigrams': bigrams,\n",
    "        'trigrams': trigrams,\n",
    "        'syllables': syllables\n",
    "    }"
   ]
  },
  {
   "cell_type": "code",
   "execution_count": 26,
   "metadata": {},
   "outputs": [
    {
     "name": "stderr",
     "output_type": "stream",
     "text": [
      "/Users/hmgeiger/.local/lib/python3.7/site-packages/nltk/tokenize/sonority_sequencing.py:102: UserWarning: Character not defined in sonority_hierarchy, assigning as vowel: ' '\n",
      "  \" assigning as vowel: '{}'\".format(c))\n",
      "/Users/hmgeiger/.local/lib/python3.7/site-packages/nltk/tokenize/sonority_sequencing.py:102: UserWarning: Character not defined in sonority_hierarchy, assigning as vowel: ' '\n",
      "  \" assigning as vowel: '{}'\".format(c))\n",
      "/Users/hmgeiger/.local/lib/python3.7/site-packages/nltk/tokenize/sonority_sequencing.py:102: UserWarning: Character not defined in sonority_hierarchy, assigning as vowel: ' '\n",
      "  \" assigning as vowel: '{}'\".format(c))\n",
      "/Users/hmgeiger/.local/lib/python3.7/site-packages/nltk/tokenize/sonority_sequencing.py:102: UserWarning: Character not defined in sonority_hierarchy, assigning as vowel: ' '\n",
      "  \" assigning as vowel: '{}'\".format(c))\n",
      "/Users/hmgeiger/.local/lib/python3.7/site-packages/nltk/tokenize/sonority_sequencing.py:102: UserWarning: Character not defined in sonority_hierarchy, assigning as vowel: ' '\n",
      "  \" assigning as vowel: '{}'\".format(c))\n",
      "/Users/hmgeiger/.local/lib/python3.7/site-packages/nltk/tokenize/sonority_sequencing.py:102: UserWarning: Character not defined in sonority_hierarchy, assigning as vowel: ' '\n",
      "  \" assigning as vowel: '{}'\".format(c))\n",
      "/Users/hmgeiger/.local/lib/python3.7/site-packages/nltk/tokenize/sonority_sequencing.py:102: UserWarning: Character not defined in sonority_hierarchy, assigning as vowel: ' '\n",
      "  \" assigning as vowel: '{}'\".format(c))\n",
      "/Users/hmgeiger/.local/lib/python3.7/site-packages/nltk/tokenize/sonority_sequencing.py:102: UserWarning: Character not defined in sonority_hierarchy, assigning as vowel: ' '\n",
      "  \" assigning as vowel: '{}'\".format(c))\n",
      "/Users/hmgeiger/.local/lib/python3.7/site-packages/nltk/tokenize/sonority_sequencing.py:102: UserWarning: Character not defined in sonority_hierarchy, assigning as vowel: ' '\n",
      "  \" assigning as vowel: '{}'\".format(c))\n",
      "/Users/hmgeiger/.local/lib/python3.7/site-packages/nltk/tokenize/sonority_sequencing.py:102: UserWarning: Character not defined in sonority_hierarchy, assigning as vowel: ' '\n",
      "  \" assigning as vowel: '{}'\".format(c))\n",
      "/Users/hmgeiger/.local/lib/python3.7/site-packages/nltk/tokenize/sonority_sequencing.py:102: UserWarning: Character not defined in sonority_hierarchy, assigning as vowel: ' '\n",
      "  \" assigning as vowel: '{}'\".format(c))\n",
      "/Users/hmgeiger/.local/lib/python3.7/site-packages/nltk/tokenize/sonority_sequencing.py:102: UserWarning: Character not defined in sonority_hierarchy, assigning as vowel: ' '\n",
      "  \" assigning as vowel: '{}'\".format(c))\n",
      "/Users/hmgeiger/.local/lib/python3.7/site-packages/nltk/tokenize/sonority_sequencing.py:102: UserWarning: Character not defined in sonority_hierarchy, assigning as vowel: ' '\n",
      "  \" assigning as vowel: '{}'\".format(c))\n",
      "/Users/hmgeiger/.local/lib/python3.7/site-packages/nltk/tokenize/sonority_sequencing.py:102: UserWarning: Character not defined in sonority_hierarchy, assigning as vowel: ' '\n",
      "  \" assigning as vowel: '{}'\".format(c))\n",
      "/Users/hmgeiger/.local/lib/python3.7/site-packages/nltk/tokenize/sonority_sequencing.py:102: UserWarning: Character not defined in sonority_hierarchy, assigning as vowel: ' '\n",
      "  \" assigning as vowel: '{}'\".format(c))\n"
     ]
    }
   ],
   "source": [
    "dev_test_features1 = [(gender_features(name), gender) for name, gender in dev_test1]\n",
    "training_features1 = [(gender_features(name), gender) for name, gender in training1]\n",
    "\n",
    "dev_test_features2 = [(gender_features(name), gender) for name, gender in dev_test2]\n",
    "training_features2 = [(gender_features(name), gender) for name, gender in training2]\n",
    "\n",
    "dev_test_features3 = [(gender_features(name), gender) for name, gender in dev_test3]\n",
    "training_features3 = [(gender_features(name), gender) for name, gender in training3]\n",
    "\n",
    "dev_test_features4 = [(gender_features(name), gender) for name, gender in dev_test4]\n",
    "training_features4 = [(gender_features(name), gender) for name, gender in training4]\n",
    "\n",
    "dev_test_features5 = [(gender_features(name), gender) for name, gender in dev_test5]\n",
    "training_features5 = [(gender_features(name), gender) for name, gender in training5]"
   ]
  },
  {
   "cell_type": "code",
   "execution_count": 27,
   "metadata": {},
   "outputs": [
    {
     "name": "stdout",
     "output_type": "stream",
     "text": [
      "  ==> Training (100 iterations)\n",
      "  ==> Training (100 iterations)\n",
      "  ==> Training (100 iterations)\n",
      "  ==> Training (100 iterations)\n",
      "  ==> Training (100 iterations)\n"
     ]
    }
   ],
   "source": [
    "classifier1v3 = nltk.MaxentClassifier.train(training_features1,trace=1)\n",
    "classifier2v3 = nltk.MaxentClassifier.train(training_features2,trace=1)\n",
    "classifier3v3 = nltk.MaxentClassifier.train(training_features3,trace=1)\n",
    "classifier4v3 = nltk.MaxentClassifier.train(training_features4,trace=1)\n",
    "classifier5v3 = nltk.MaxentClassifier.train(training_features5,trace=1)"
   ]
  },
  {
   "cell_type": "code",
   "execution_count": 28,
   "metadata": {},
   "outputs": [
    {
     "data": {
      "text/plain": [
       "0.862"
      ]
     },
     "execution_count": 28,
     "metadata": {},
     "output_type": "execute_result"
    },
    {
     "data": {
      "text/plain": [
       "0.844"
      ]
     },
     "execution_count": 28,
     "metadata": {},
     "output_type": "execute_result"
    },
    {
     "data": {
      "text/plain": [
       "0.83"
      ]
     },
     "execution_count": 28,
     "metadata": {},
     "output_type": "execute_result"
    },
    {
     "data": {
      "text/plain": [
       "0.838"
      ]
     },
     "execution_count": 28,
     "metadata": {},
     "output_type": "execute_result"
    },
    {
     "data": {
      "text/plain": [
       "0.852"
      ]
     },
     "execution_count": 28,
     "metadata": {},
     "output_type": "execute_result"
    }
   ],
   "source": [
    "nltk.classify.accuracy(classifier1v3, dev_test_features1)\n",
    "nltk.classify.accuracy(classifier2v3, dev_test_features2)\n",
    "nltk.classify.accuracy(classifier3v3, dev_test_features3)\n",
    "nltk.classify.accuracy(classifier4v3, dev_test_features4)\n",
    "nltk.classify.accuracy(classifier5v3, dev_test_features5)"
   ]
  },
  {
   "cell_type": "markdown",
   "metadata": {},
   "source": [
    "Similar to what we saw with the two-letter suffix, we sometimes see improvement in accuracy after adding the next-to-last letter feature, sometimes not."
   ]
  },
  {
   "cell_type": "markdown",
   "metadata": {},
   "source": [
    "## Final model evaluation"
   ]
  },
  {
   "cell_type": "markdown",
   "metadata": {},
   "source": [
    "### Accuracy on final test data"
   ]
  },
  {
   "cell_type": "markdown",
   "metadata": {},
   "source": [
    "We are now ready to check model accuracy on the final test data."
   ]
  },
  {
   "cell_type": "markdown",
   "metadata": {},
   "source": [
    "Let's just use the model including all of our initially chosen variables, without the two-letter suffix or next-to-last letter features.\n",
    "\n",
    "Improvement in accuracy was not enough to justify making the model more complicated than it needs to be."
   ]
  },
  {
   "cell_type": "code",
   "execution_count": 29,
   "metadata": {},
   "outputs": [],
   "source": [
    "def gender_features(name):\n",
    "    \n",
    "    # last letter, first letter, vowel last/first letter\n",
    "    first_letter = name[0]\n",
    "    vowel_first_letter = first_letter in 'aeiou'\n",
    "    last_letter = name[-1]\n",
    "    vowel_last_letter = last_letter in 'aeiou'\n",
    "    \n",
    "    # vowels/consonants\n",
    "    vowels = \"\".join(sorted(list(set(re.sub(r'[^aeiou]', '', name)))))\n",
    "    consonants = \"\".join(sorted(list(set(re.sub(r'[aeiou]', '', name)))))\n",
    "    \n",
    "    # bigrams/trigrams\n",
    "    bigrams = (ngrams(name, 2))\n",
    "    trigrams = (ngrams(name, 3))\n",
    "    \n",
    "    # syllables\n",
    "    syllables = len(SSP.tokenize(name))\n",
    "    \n",
    "    return {\n",
    "        'first_letter': first_letter,\n",
    "        'vowel_first_letter': vowel_first_letter,\n",
    "        'last_letter': last_letter,\n",
    "        'vowel_last_letter': vowel_last_letter,\n",
    "        'vowels': vowels,\n",
    "        'consonants': consonants,\n",
    "        'bigrams': bigrams,\n",
    "        'trigrams': trigrams,\n",
    "        'syllables': syllables\n",
    "    }\n",
    "\n",
    "final_test_features = [(gender_features(name), gender) for name, gender in final_test]"
   ]
  },
  {
   "cell_type": "code",
   "execution_count": 30,
   "metadata": {},
   "outputs": [
    {
     "data": {
      "text/plain": [
       "0.806"
      ]
     },
     "execution_count": 30,
     "metadata": {},
     "output_type": "execute_result"
    },
    {
     "data": {
      "text/plain": [
       "0.802"
      ]
     },
     "execution_count": 30,
     "metadata": {},
     "output_type": "execute_result"
    },
    {
     "data": {
      "text/plain": [
       "0.798"
      ]
     },
     "execution_count": 30,
     "metadata": {},
     "output_type": "execute_result"
    },
    {
     "data": {
      "text/plain": [
       "0.8"
      ]
     },
     "execution_count": 30,
     "metadata": {},
     "output_type": "execute_result"
    },
    {
     "data": {
      "text/plain": [
       "0.81"
      ]
     },
     "execution_count": 30,
     "metadata": {},
     "output_type": "execute_result"
    }
   ],
   "source": [
    "nltk.classify.accuracy(classifier1v1, final_test_features)\n",
    "nltk.classify.accuracy(classifier2v1, final_test_features)\n",
    "nltk.classify.accuracy(classifier3v1, final_test_features)\n",
    "nltk.classify.accuracy(classifier4v1, final_test_features)\n",
    "nltk.classify.accuracy(classifier5v1, final_test_features)"
   ]
  },
  {
   "cell_type": "markdown",
   "metadata": {},
   "source": [
    "Accuracy ranges from ~80-81% on the final test data using features of first letter, vowel first letter, last letter, vowel last letter, vowels, consonants, bigrams, and trigrams."
   ]
  },
  {
   "cell_type": "markdown",
   "metadata": {},
   "source": [
    "### Adjusting accuracy for if we had included unisex names"
   ]
  },
  {
   "cell_type": "markdown",
   "metadata": {},
   "source": [
    "I am assuming that many people included the unisex names as-is (listed as both male and female) when building their models."
   ]
  },
  {
   "cell_type": "markdown",
   "metadata": {},
   "source": [
    "Therefore my accuracy figures (excluding these names from both training and test) may be higher than others.\n",
    "\n",
    "Let's get what our accuracy would be if these names had been left in and were included in the final test set."
   ]
  },
  {
   "cell_type": "markdown",
   "metadata": {},
   "source": [
    "If we had left these names in, how many would be in our final test set?"
   ]
  },
  {
   "cell_type": "code",
   "execution_count": 33,
   "metadata": {},
   "outputs": [
    {
     "data": {
      "text/plain": [
       "454.0533736153072"
      ]
     },
     "execution_count": 33,
     "metadata": {},
     "output_type": "execute_result"
    },
    {
     "data": {
      "text/plain": [
       "45.94662638469285"
      ]
     },
     "execution_count": 33,
     "metadata": {},
     "output_type": "execute_result"
    }
   ],
   "source": [
    "((len(males) + len(females))/(len(males) + len(females) + len(unisex)*2))*500\n",
    "(len(unisex)*2/(len(males) + len(females) + len(unisex)*2))*500"
   ]
  },
  {
   "cell_type": "markdown",
   "metadata": {},
   "source": [
    "If we had left these in, our final test set would have close to 454 names that are unambiguously male or female.\n",
    "\n",
    "Then 46/2 = 23 names each for unisex names listed as male and unisex names listed as female."
   ]
  },
  {
   "cell_type": "markdown",
   "metadata": {},
   "source": [
    "Let's create a test set that meets these criteria."
   ]
  },
  {
   "cell_type": "code",
   "execution_count": 54,
   "metadata": {},
   "outputs": [],
   "source": [
    "random.shuffle(unisex)\n",
    "unisex_as_male = [(name,'male') for name in unisex[:23]]\n",
    "unisex_as_female = [(name,'female') for name in unisex[23:46]]\n",
    "final_test = final_test[:454] + unisex_as_male + unisex_as_female"
   ]
  },
  {
   "cell_type": "code",
   "execution_count": 55,
   "metadata": {},
   "outputs": [
    {
     "data": {
      "text/plain": [
       "0.79"
      ]
     },
     "execution_count": 55,
     "metadata": {},
     "output_type": "execute_result"
    },
    {
     "data": {
      "text/plain": [
       "0.79"
      ]
     },
     "execution_count": 55,
     "metadata": {},
     "output_type": "execute_result"
    },
    {
     "data": {
      "text/plain": [
       "0.784"
      ]
     },
     "execution_count": 55,
     "metadata": {},
     "output_type": "execute_result"
    },
    {
     "data": {
      "text/plain": [
       "0.79"
      ]
     },
     "execution_count": 55,
     "metadata": {},
     "output_type": "execute_result"
    },
    {
     "data": {
      "text/plain": [
       "0.796"
      ]
     },
     "execution_count": 55,
     "metadata": {},
     "output_type": "execute_result"
    }
   ],
   "source": [
    "final_test_features = [(gender_features(name), gender) for name, gender in final_test]\n",
    "\n",
    "nltk.classify.accuracy(classifier1v1, final_test_features)\n",
    "nltk.classify.accuracy(classifier2v1, final_test_features)\n",
    "nltk.classify.accuracy(classifier3v1, final_test_features)\n",
    "nltk.classify.accuracy(classifier4v1, final_test_features)\n",
    "nltk.classify.accuracy(classifier5v1, final_test_features)"
   ]
  },
  {
   "cell_type": "markdown",
   "metadata": {},
   "source": [
    "Accuracy decreases very slightly (to closer to ~78-80% instead of ~80-81%) when we included some unisex names listed as either male or female in the final test data."
   ]
  },
  {
   "cell_type": "markdown",
   "metadata": {},
   "source": [
    "Another quick thing to check is if the classifier has a bias toward classifying unisex names as male or female."
   ]
  },
  {
   "cell_type": "code",
   "execution_count": 57,
   "metadata": {},
   "outputs": [
    {
     "data": {
      "text/plain": [
       "0.3452054794520548"
      ]
     },
     "execution_count": 57,
     "metadata": {},
     "output_type": "execute_result"
    },
    {
     "data": {
      "text/plain": [
       "0.34794520547945207"
      ]
     },
     "execution_count": 57,
     "metadata": {},
     "output_type": "execute_result"
    },
    {
     "data": {
      "text/plain": [
       "0.3315068493150685"
      ]
     },
     "execution_count": 57,
     "metadata": {},
     "output_type": "execute_result"
    },
    {
     "data": {
      "text/plain": [
       "0.3452054794520548"
      ]
     },
     "execution_count": 57,
     "metadata": {},
     "output_type": "execute_result"
    },
    {
     "data": {
      "text/plain": [
       "0.3506849315068493"
      ]
     },
     "execution_count": 57,
     "metadata": {},
     "output_type": "execute_result"
    }
   ],
   "source": [
    "unisex_as_male_features = [(gender_features(name), 'male') for name in unisex]\n",
    "\n",
    "nltk.classify.accuracy(classifier1v1, unisex_as_male_features)\n",
    "nltk.classify.accuracy(classifier2v1, unisex_as_male_features)\n",
    "nltk.classify.accuracy(classifier3v1, unisex_as_male_features)\n",
    "nltk.classify.accuracy(classifier4v1, unisex_as_male_features)\n",
    "nltk.classify.accuracy(classifier5v1, unisex_as_male_features)"
   ]
  },
  {
   "cell_type": "markdown",
   "metadata": {},
   "source": [
    "Looks like our classifier classifies roughly 33-35% of the unisex names as male.\n",
    "\n",
    "How does this compare to the percent of males vs. females in the data?"
   ]
  },
  {
   "cell_type": "code",
   "execution_count": 58,
   "metadata": {},
   "outputs": [
    {
     "data": {
      "text/plain": [
       "Counter({'male': 2578, 'female': 4636})"
      ]
     },
     "execution_count": 58,
     "metadata": {},
     "output_type": "execute_result"
    }
   ],
   "source": [
    "Counter([gender for name,gender in all_names])"
   ]
  },
  {
   "cell_type": "code",
   "execution_count": 59,
   "metadata": {},
   "outputs": [
    {
     "data": {
      "text/plain": [
       "0.35736068755198225"
      ]
     },
     "execution_count": 59,
     "metadata": {},
     "output_type": "execute_result"
    }
   ],
   "source": [
    "2578/(2578 + 4636)"
   ]
  },
  {
   "cell_type": "markdown",
   "metadata": {},
   "source": [
    "Our classifier classifies unisex names as either male or female at rates roughly equal the proportion of each gender in the overall data."
   ]
  }
 ],
 "metadata": {
  "kernelspec": {
   "display_name": "Python 3",
   "language": "python",
   "name": "python3"
  },
  "language_info": {
   "codemirror_mode": {
    "name": "ipython",
    "version": 3
   },
   "file_extension": ".py",
   "mimetype": "text/x-python",
   "name": "python",
   "nbconvert_exporter": "python",
   "pygments_lexer": "ipython3",
   "version": "3.7.0"
  }
 },
 "nbformat": 4,
 "nbformat_minor": 2
}
